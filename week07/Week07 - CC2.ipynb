{
 "cells": [
  {
   "cell_type": "markdown",
   "metadata": {},
   "source": [
    "# Forwards Model"
   ]
  },
  {
   "cell_type": "code",
   "execution_count": 68,
   "metadata": {},
   "outputs": [],
   "source": [
    "import numpy as np\n",
    "import pandas as pd\n",
    "\n",
    "from sklearn.preprocessing import StandardScaler\n",
    "from sklearn.linear_model import LinearRegression\n",
    "\n",
    "from sklearn.metrics import mean_squared_error as mse\n",
    "from sklearn.metrics import r2_score"
   ]
  },
  {
   "cell_type": "code",
   "execution_count": 69,
   "metadata": {},
   "outputs": [],
   "source": [
    "claremont = pd.read_csv('claremont.csv')\n",
    "claremont_test = pd.read_csv('claremont_test.csv')"
   ]
  },
  {
   "cell_type": "code",
   "execution_count": 70,
   "metadata": {},
   "outputs": [],
   "source": [
    "features = ['floor_area', 'latitude', 'bedrooms', 'garage', 'bathrooms', 'nearest_stn_dist', 'build_year']\n",
    "\n",
    "X_train = claremont[features].to_numpy()\n",
    "y_train = claremont['price'].to_numpy()\n",
    "\n",
    "X_test = claremont_test[features].to_numpy()\n",
    "y_test = claremont_test['price'].to_numpy()\n",
    "\n",
    "scaler = StandardScaler()\n",
    "scaler.fit(X_train)\n",
    "\n",
    "X_train = scaler.transform(X_train)\n",
    "X_test = scaler.transform(X_test)"
   ]
  },
  {
   "cell_type": "code",
   "execution_count": 71,
   "metadata": {},
   "outputs": [
    {
     "name": "stdout",
     "output_type": "stream",
     "text": [
      "RMSE: 110137.77\n",
      "R^2: 0.8746\n"
     ]
    }
   ],
   "source": [
    "forward_linear_reg = LinearRegression()\n",
    "forward_linear_reg.fit(X_train, y_train)\n",
    "\n",
    "y_pred = forward_linear_reg.predict(X_test)\n",
    "\n",
    "print('RMSE: {:.2f}'.format(mse(y_test, y_pred, squared=False)))\n",
    "print('R^2: {:.4f}'.format(r2_score(y_test, y_pred)))"
   ]
  },
  {
   "cell_type": "markdown",
   "metadata": {},
   "source": [
    "# OLS"
   ]
  },
  {
   "cell_type": "code",
   "execution_count": 72,
   "metadata": {},
   "outputs": [],
   "source": [
    "features = ['floor_area', 'latitude', 'bedrooms', 'garage', 'bathrooms', 'nearest_stn_dist', 'build_year', \n",
    "            'longitude', 'nearest_sch_rank', 'nearest_sch_dist', 'cbd_dist', 'land_area']\n",
    "\n",
    "X_train = claremont[features].to_numpy()\n",
    "y_train = claremont['price'].to_numpy()\n",
    "\n",
    "X_test = claremont_test[features].to_numpy()\n",
    "y_test = claremont_test['price'].to_numpy()\n",
    "\n",
    "scaler = StandardScaler()\n",
    "scaler.fit(X_train)\n",
    "\n",
    "X_train = scaler.transform(X_train)\n",
    "X_test = scaler.transform(X_test)"
   ]
  },
  {
   "cell_type": "code",
   "execution_count": 73,
   "metadata": {},
   "outputs": [
    {
     "name": "stdout",
     "output_type": "stream",
     "text": [
      "RMSE: 138945.54\n",
      "R^2: 0.8005\n"
     ]
    }
   ],
   "source": [
    "forward_linear_reg = LinearRegression()\n",
    "forward_linear_reg.fit(X_train, y_train)\n",
    "\n",
    "y_pred = forward_linear_reg.predict(X_test)\n",
    "\n",
    "print('RMSE: {:.2f}'.format(mse(y_test, y_pred, squared=False)))\n",
    "print('R^2: {:.4f}'.format(r2_score(y_test, y_pred)))"
   ]
  },
  {
   "cell_type": "markdown",
   "metadata": {},
   "source": [
    "# Lasso"
   ]
  },
  {
   "cell_type": "code",
   "execution_count": 74,
   "metadata": {},
   "outputs": [],
   "source": [
    "import matplotlib.pyplot as plt\n",
    "\n",
    "from sklearn.linear_model import Lasso\n",
    "from sklearn.model_selection import cross_val_score"
   ]
  },
  {
   "cell_type": "code",
   "execution_count": 75,
   "metadata": {},
   "outputs": [
    {
     "name": "stdout",
     "output_type": "stream",
     "text": [
      "277361.7386973024\n"
     ]
    }
   ],
   "source": [
    "model = LinearRegression()\n",
    "scores = cross_val_score(model, X_train, y_train, cv=5, scoring=\"neg_mean_squared_error\")\n",
    "\n",
    "mse_ = np.mean(-scores)\n",
    "print(np.sqrt(mse_))"
   ]
  },
  {
   "cell_type": "code",
   "execution_count": 76,
   "metadata": {},
   "outputs": [
    {
     "name": "stdout",
     "output_type": "stream",
     "text": [
      "251032.6084490382\n"
     ]
    }
   ],
   "source": [
    "alpha = 10000\n",
    "\n",
    "lasso_model = Lasso(alpha=alpha)\n",
    "scores = cross_val_score(lasso_model, X_train, y_train, cv=5, scoring=\"neg_mean_squared_error\")\n",
    "\n",
    "mse_ = np.mean(-scores)\n",
    "rmse = np.sqrt(mse_)\n",
    "\n",
    "print(rmse)"
   ]
  },
  {
   "cell_type": "code",
   "execution_count": 77,
   "metadata": {
    "scrolled": true
   },
   "outputs": [
    {
     "name": "stdout",
     "output_type": "stream",
     "text": [
      "256994.07522835786\n"
     ]
    }
   ],
   "source": [
    "alpha = 50_000\n",
    "\n",
    "lasso_model = Lasso(alpha=alpha)\n",
    "scores = cross_val_score(lasso_model, X_train, y_train, cv=5, scoring=\"neg_mean_squared_error\")\n",
    "\n",
    "mse_ = np.mean(-scores)\n",
    "rmse = np.sqrt(mse_)\n",
    "\n",
    "print(rmse)"
   ]
  },
  {
   "cell_type": "code",
   "execution_count": 78,
   "metadata": {
    "scrolled": true
   },
   "outputs": [
    {
     "name": "stderr",
     "output_type": "stream",
     "text": [
      "/Users/jameschok/anaconda3/lib/python3.7/site-packages/sklearn/model_selection/_validation.py:681: UserWarning: With alpha=0, this algorithm does not converge well. You are advised to use the LinearRegression estimator\n",
      "  estimator.fit(X_train, y_train, **fit_params)\n",
      "/Users/jameschok/anaconda3/lib/python3.7/site-packages/sklearn/linear_model/_coordinate_descent.py:648: UserWarning: Coordinate descent with no regularization may lead to unexpected results and is discouraged.\n",
      "  coef_, l1_reg, l2_reg, X, y, max_iter, tol, rng, random, positive\n",
      "/Users/jameschok/anaconda3/lib/python3.7/site-packages/sklearn/linear_model/_coordinate_descent.py:648: ConvergenceWarning: Objective did not converge. You might want to increase the number of iterations, check the scale of the features or consider increasing regularisation. Duality gap: 5.485e+11, tolerance: 6.999e+08 Linear regression models with null weight for the l1 regularization term are more efficiently fitted using one of the solvers implemented in sklearn.linear_model.Ridge/RidgeCV instead.\n",
      "  coef_, l1_reg, l2_reg, X, y, max_iter, tol, rng, random, positive\n",
      "/Users/jameschok/anaconda3/lib/python3.7/site-packages/sklearn/model_selection/_validation.py:681: UserWarning: With alpha=0, this algorithm does not converge well. You are advised to use the LinearRegression estimator\n",
      "  estimator.fit(X_train, y_train, **fit_params)\n",
      "/Users/jameschok/anaconda3/lib/python3.7/site-packages/sklearn/linear_model/_coordinate_descent.py:648: UserWarning: Coordinate descent with no regularization may lead to unexpected results and is discouraged.\n",
      "  coef_, l1_reg, l2_reg, X, y, max_iter, tol, rng, random, positive\n",
      "/Users/jameschok/anaconda3/lib/python3.7/site-packages/sklearn/linear_model/_coordinate_descent.py:648: ConvergenceWarning: Objective did not converge. You might want to increase the number of iterations, check the scale of the features or consider increasing regularisation. Duality gap: 4.190e+11, tolerance: 6.960e+08 Linear regression models with null weight for the l1 regularization term are more efficiently fitted using one of the solvers implemented in sklearn.linear_model.Ridge/RidgeCV instead.\n",
      "  coef_, l1_reg, l2_reg, X, y, max_iter, tol, rng, random, positive\n",
      "/Users/jameschok/anaconda3/lib/python3.7/site-packages/sklearn/model_selection/_validation.py:681: UserWarning: With alpha=0, this algorithm does not converge well. You are advised to use the LinearRegression estimator\n",
      "  estimator.fit(X_train, y_train, **fit_params)\n",
      "/Users/jameschok/anaconda3/lib/python3.7/site-packages/sklearn/linear_model/_coordinate_descent.py:648: UserWarning: Coordinate descent with no regularization may lead to unexpected results and is discouraged.\n",
      "  coef_, l1_reg, l2_reg, X, y, max_iter, tol, rng, random, positive\n",
      "/Users/jameschok/anaconda3/lib/python3.7/site-packages/sklearn/linear_model/_coordinate_descent.py:648: ConvergenceWarning: Objective did not converge. You might want to increase the number of iterations, check the scale of the features or consider increasing regularisation. Duality gap: 7.136e+11, tolerance: 6.498e+08 Linear regression models with null weight for the l1 regularization term are more efficiently fitted using one of the solvers implemented in sklearn.linear_model.Ridge/RidgeCV instead.\n",
      "  coef_, l1_reg, l2_reg, X, y, max_iter, tol, rng, random, positive\n",
      "/Users/jameschok/anaconda3/lib/python3.7/site-packages/sklearn/model_selection/_validation.py:681: UserWarning: With alpha=0, this algorithm does not converge well. You are advised to use the LinearRegression estimator\n",
      "  estimator.fit(X_train, y_train, **fit_params)\n",
      "/Users/jameschok/anaconda3/lib/python3.7/site-packages/sklearn/linear_model/_coordinate_descent.py:648: UserWarning: Coordinate descent with no regularization may lead to unexpected results and is discouraged.\n",
      "  coef_, l1_reg, l2_reg, X, y, max_iter, tol, rng, random, positive\n",
      "/Users/jameschok/anaconda3/lib/python3.7/site-packages/sklearn/linear_model/_coordinate_descent.py:648: ConvergenceWarning: Objective did not converge. You might want to increase the number of iterations, check the scale of the features or consider increasing regularisation. Duality gap: 6.312e+11, tolerance: 6.734e+08 Linear regression models with null weight for the l1 regularization term are more efficiently fitted using one of the solvers implemented in sklearn.linear_model.Ridge/RidgeCV instead.\n",
      "  coef_, l1_reg, l2_reg, X, y, max_iter, tol, rng, random, positive\n",
      "/Users/jameschok/anaconda3/lib/python3.7/site-packages/sklearn/model_selection/_validation.py:681: UserWarning: With alpha=0, this algorithm does not converge well. You are advised to use the LinearRegression estimator\n",
      "  estimator.fit(X_train, y_train, **fit_params)\n",
      "/Users/jameschok/anaconda3/lib/python3.7/site-packages/sklearn/linear_model/_coordinate_descent.py:648: UserWarning: Coordinate descent with no regularization may lead to unexpected results and is discouraged.\n",
      "  coef_, l1_reg, l2_reg, X, y, max_iter, tol, rng, random, positive\n",
      "/Users/jameschok/anaconda3/lib/python3.7/site-packages/sklearn/linear_model/_coordinate_descent.py:648: ConvergenceWarning: Objective did not converge. You might want to increase the number of iterations, check the scale of the features or consider increasing regularisation. Duality gap: 6.391e+11, tolerance: 7.245e+08 Linear regression models with null weight for the l1 regularization term are more efficiently fitted using one of the solvers implemented in sklearn.linear_model.Ridge/RidgeCV instead.\n",
      "  coef_, l1_reg, l2_reg, X, y, max_iter, tol, rng, random, positive\n",
      "/Users/jameschok/anaconda3/lib/python3.7/site-packages/sklearn/linear_model/_coordinate_descent.py:648: ConvergenceWarning: Objective did not converge. You might want to increase the number of iterations, check the scale of the features or consider increasing regularisation. Duality gap: 5.918e+10, tolerance: 6.960e+08\n",
      "  coef_, l1_reg, l2_reg, X, y, max_iter, tol, rng, random, positive\n"
     ]
    }
   ],
   "source": [
    "alphas = np.linspace(0, 50_000, 100)\n",
    "\n",
    "scores = []\n",
    "\n",
    "for alpha in alphas:\n",
    "    lasso_model = Lasso(alpha=alpha)\n",
    "    cv_scores = cross_val_score(lasso_model, X_train, y_train, cv=5, scoring=\"neg_mean_squared_error\")\n",
    "\n",
    "    mse_ = np.mean(-cv_scores)\n",
    "    rmse = np.sqrt(mse_)\n",
    "\n",
    "    scores.append(mse_)"
   ]
  },
  {
   "cell_type": "code",
   "execution_count": 79,
   "metadata": {},
   "outputs": [
    {
     "data": {
      "text/plain": [
       "45"
      ]
     },
     "execution_count": 79,
     "metadata": {},
     "output_type": "execute_result"
    }
   ],
   "source": [
    "len(X_train)"
   ]
  },
  {
   "cell_type": "code",
   "execution_count": null,
   "metadata": {},
   "outputs": [],
   "source": []
  },
  {
   "cell_type": "code",
   "execution_count": 80,
   "metadata": {},
   "outputs": [
    {
     "data": {
      "image/png": "[encoded data removed]",
      "text/plain": [
       "<Figure size 720x360 with 1 Axes>"
      ]
     },
     "metadata": {
      "needs_background": "light"
     },
     "output_type": "display_data"
    }
   ],
   "source": [
    "plt.figure(figsize=(10, 5))\n",
    "plt.plot(alphas, scores)\n",
    "\n",
    "plt.ylabel(\"RMSE\")\n",
    "plt.xlabel(\"Regularization Strength\");"
   ]
  },
  {
   "cell_type": "code",
   "execution_count": 81,
   "metadata": {},
   "outputs": [
    {
     "name": "stdout",
     "output_type": "stream",
     "text": [
      "Alpha: 26767.68\n",
      "RMSE: 127652.40\n",
      "R^2: 0.8316\n"
     ]
    }
   ],
   "source": [
    "arg_with_min_score = np.argmin(scores)\n",
    "best_alpha = alphas[arg_with_min_score]\n",
    "\n",
    "lasso_model = Lasso(alpha=best_alpha)\n",
    "lasso_model.fit(X_train, y_train)\n",
    "\n",
    "y_pred = lasso_model.predict(X_test)\n",
    "\n",
    "print('Alpha: {:.2f}'.format(best_alpha))\n",
    "print('RMSE: {:.2f}'.format(mse(y_test, y_pred, squared = False)))\n",
    "print('R^2: {:.4f}'.format(r2_score(y_test, y_pred)))"
   ]
  },
  {
   "cell_type": "code",
   "execution_count": 85,
   "metadata": {},
   "outputs": [
    {
     "data": {
      "text/plain": [
       "[('floor_area', 140900.12583737916),\n",
       " ('latitude', -113777.66667522468),\n",
       " ('bedrooms', 166672.15976171923),\n",
       " ('garage', 47198.548716181576),\n",
       " ('bathrooms', -0.0),\n",
       " ('nearest_stn_dist', 41213.45125841991),\n",
       " ('build_year', -0.0),\n",
       " ('longitude', 0.0),\n",
       " ('nearest_sch_rank', -0.0),\n",
       " ('nearest_sch_dist', -0.0),\n",
       " ('cbd_dist', 0.0),\n",
       " ('land_area', 0.0)]"
      ]
     },
     "execution_count": 85,
     "metadata": {},
     "output_type": "execute_result"
    }
   ],
   "source": [
    "list(zip(features, lasso_model.coef_))"
   ]
  },
  {
   "cell_type": "code",
   "execution_count": 88,
   "metadata": {},
   "outputs": [
    {
     "data": {
      "text/plain": [
       "['floor_area', 'latitude', 'bedrooms', 'garage', 'nearest_stn_dist']"
      ]
     },
     "execution_count": 88,
     "metadata": {},
     "output_type": "execute_result"
    }
   ],
   "source": [
    "non_zero_features = [feature for feature, coef in zip(features, lasso_model.coef_) if abs(coef) > 1e-6]\n",
    "non_zero_features"
   ]
  },
  {
   "cell_type": "code",
   "execution_count": 89,
   "metadata": {},
   "outputs": [],
   "source": [
    "X_train = claremont[non_zero_features].to_numpy()\n",
    "y_train = claremont['price'].to_numpy()\n",
    "\n",
    "X_test = claremont_test[non_zero_features].to_numpy()\n",
    "y_test = claremont_test['price'].to_numpy()\n",
    "\n",
    "scaler = StandardScaler()\n",
    "scaler.fit(X_train)\n",
    "\n",
    "X_train = scaler.transform(X_train)\n",
    "X_test = scaler.transform(X_test)"
   ]
  },
  {
   "cell_type": "code",
   "execution_count": 91,
   "metadata": {},
   "outputs": [
    {
     "name": "stdout",
     "output_type": "stream",
     "text": [
      "Alpha: 26767.68\n",
      "RMSE: 148685.00\n",
      "R^2: 0.7715\n"
     ]
    }
   ],
   "source": [
    "model = LinearRegression()\n",
    "model.fit(X_train, y_train)\n",
    "\n",
    "y_pred = model.predict(X_test)\n",
    "\n",
    "print('Alpha: {:.2f}'.format(best_alpha))\n",
    "print('RMSE: {:.2f}'.format(mse(y_test, y_pred, squared = False)))\n",
    "print('R^2: {:.4f}'.format(r2_score(y_test, y_pred)))"
   ]
  },
  {
   "cell_type": "markdown",
   "metadata": {},
   "source": [
    "# Ridge"
   ]
  },
  {
   "cell_type": "code",
   "execution_count": 92,
   "metadata": {},
   "outputs": [],
   "source": [
    "from sklearn.linear_model import Ridge"
   ]
  },
  {
   "cell_type": "code",
   "execution_count": 122,
   "metadata": {},
   "outputs": [],
   "source": [
    "X_train = claremont[features].to_numpy()\n",
    "y_train = claremont['price'].to_numpy()\n",
    "\n",
    "X_test = claremont_test[features].to_numpy()\n",
    "y_test = claremont_test['price'].to_numpy()\n",
    "\n",
    "scaler = StandardScaler()\n",
    "scaler.fit(X_train)\n",
    "\n",
    "X_train = scaler.transform(X_train)\n",
    "X_test = scaler.transform(X_test)"
   ]
  },
  {
   "cell_type": "code",
   "execution_count": 123,
   "metadata": {},
   "outputs": [
    {
     "name": "stdout",
     "output_type": "stream",
     "text": [
      "277361.7386973024\n"
     ]
    }
   ],
   "source": [
    "model = LinearRegression()\n",
    "scores = cross_val_score(model, X_train, y_train, cv=5, scoring=\"neg_mean_squared_error\")\n",
    "\n",
    "mse_ = np.mean(-scores)\n",
    "print(np.sqrt(mse_))"
   ]
  },
  {
   "cell_type": "code",
   "execution_count": 124,
   "metadata": {},
   "outputs": [
    {
     "name": "stdout",
     "output_type": "stream",
     "text": [
      "251686.98376466564\n"
     ]
    }
   ],
   "source": [
    "alpha = 1\n",
    "model = Ridge(alpha=alpha)\n",
    "scores = cross_val_score(model, X_train, y_train, cv=5, scoring=\"neg_mean_squared_error\")\n",
    "\n",
    "mse_ = np.mean(-scores)\n",
    "print(np.sqrt(mse_))"
   ]
  },
  {
   "cell_type": "code",
   "execution_count": 125,
   "metadata": {},
   "outputs": [
    {
     "name": "stdout",
     "output_type": "stream",
     "text": [
      "256774.1251655458\n"
     ]
    }
   ],
   "source": [
    "alpha = 10\n",
    "model = Ridge(alpha=alpha)\n",
    "scores = cross_val_score(model, X_train, y_train, cv=5, scoring=\"neg_mean_squared_error\")\n",
    "\n",
    "mse_ = np.mean(-scores)\n",
    "print(np.sqrt(mse_))"
   ]
  },
  {
   "cell_type": "code",
   "execution_count": 129,
   "metadata": {},
   "outputs": [],
   "source": [
    "# alphas = np.linspace(0, 10, 100)\n",
    "alphas = np.logspace(-6, 6, 100)\n",
    "\n",
    "scores = []\n",
    "\n",
    "for alpha in alphas:\n",
    "    ridge_model = Ridge(alpha=alpha)\n",
    "    cv_scores = cross_val_score(ridge_model, X_train, y_train, cv=5, scoring=\"neg_mean_squared_error\")\n",
    "\n",
    "    mse_ = np.mean(-cv_scores)\n",
    "\n",
    "    scores.append(mse_)"
   ]
  },
  {
   "cell_type": "code",
   "execution_count": 130,
   "metadata": {},
   "outputs": [
    {
     "data": {
      "image/png": "[encoded data removed]",
      "text/plain": [
       "<Figure size 720x360 with 1 Axes>"
      ]
     },
     "metadata": {
      "needs_background": "light"
     },
     "output_type": "display_data"
    }
   ],
   "source": [
    "plt.figure(figsize=(10, 5))\n",
    "plt.plot(alphas, scores)\n",
    "plt.ylabel(\"RMSE\")\n",
    "plt.xlabel(\"Regularization Strength\");"
   ]
  },
  {
   "cell_type": "code",
   "execution_count": 131,
   "metadata": {},
   "outputs": [
    {
     "name": "stdout",
     "output_type": "stream",
     "text": [
      "Alpha: 2.66\n",
      "RMSE: 116742.03\n",
      "R^2: 0.8592\n"
     ]
    }
   ],
   "source": [
    "arg_with_min_score = np.argmin(scores)\n",
    "best_alpha = alphas[arg_with_min_score]\n",
    "\n",
    "ridge_model = Ridge(alpha=best_alpha)\n",
    "ridge_model.fit(X_train, y_train)\n",
    "\n",
    "y_pred = ridge_model.predict(X_test)\n",
    "\n",
    "print('Alpha: {:.2f}'.format(best_alpha))\n",
    "print('RMSE: {:.2f}'.format(mse(y_test, y_pred, squared = False)))\n",
    "print('R^2: {:.4f}'.format(r2_score(y_test, y_pred)))"
   ]
  },
  {
   "cell_type": "code",
   "execution_count": null,
   "metadata": {},
   "outputs": [],
   "source": []
  },
  {
   "cell_type": "code",
   "execution_count": null,
   "metadata": {},
   "outputs": [],
   "source": []
  },
  {
   "cell_type": "code",
   "execution_count": 117,
   "metadata": {},
   "outputs": [
    {
     "data": {
      "text/plain": [
       "array([1.00000000e-06, 1.32194115e-06, 1.74752840e-06, 2.31012970e-06,\n",
       "       3.05385551e-06, 4.03701726e-06, 5.33669923e-06, 7.05480231e-06,\n",
       "       9.32603347e-06, 1.23284674e-05, 1.62975083e-05, 2.15443469e-05,\n",
       "       2.84803587e-05, 3.76493581e-05, 4.97702356e-05, 6.57933225e-05,\n",
       "       8.69749003e-05, 1.14975700e-04, 1.51991108e-04, 2.00923300e-04,\n",
       "       2.65608778e-04, 3.51119173e-04, 4.64158883e-04, 6.13590727e-04,\n",
       "       8.11130831e-04, 1.07226722e-03, 1.41747416e-03, 1.87381742e-03,\n",
       "       2.47707636e-03, 3.27454916e-03, 4.32876128e-03, 5.72236766e-03,\n",
       "       7.56463328e-03, 1.00000000e-02, 1.32194115e-02, 1.74752840e-02,\n",
       "       2.31012970e-02, 3.05385551e-02, 4.03701726e-02, 5.33669923e-02,\n",
       "       7.05480231e-02, 9.32603347e-02, 1.23284674e-01, 1.62975083e-01,\n",
       "       2.15443469e-01, 2.84803587e-01, 3.76493581e-01, 4.97702356e-01,\n",
       "       6.57933225e-01, 8.69749003e-01, 1.14975700e+00, 1.51991108e+00,\n",
       "       2.00923300e+00, 2.65608778e+00, 3.51119173e+00, 4.64158883e+00,\n",
       "       6.13590727e+00, 8.11130831e+00, 1.07226722e+01, 1.41747416e+01,\n",
       "       1.87381742e+01, 2.47707636e+01, 3.27454916e+01, 4.32876128e+01,\n",
       "       5.72236766e+01, 7.56463328e+01, 1.00000000e+02, 1.32194115e+02,\n",
       "       1.74752840e+02, 2.31012970e+02, 3.05385551e+02, 4.03701726e+02,\n",
       "       5.33669923e+02, 7.05480231e+02, 9.32603347e+02, 1.23284674e+03,\n",
       "       1.62975083e+03, 2.15443469e+03, 2.84803587e+03, 3.76493581e+03,\n",
       "       4.97702356e+03, 6.57933225e+03, 8.69749003e+03, 1.14975700e+04,\n",
       "       1.51991108e+04, 2.00923300e+04, 2.65608778e+04, 3.51119173e+04,\n",
       "       4.64158883e+04, 6.13590727e+04, 8.11130831e+04, 1.07226722e+05,\n",
       "       1.41747416e+05, 1.87381742e+05, 2.47707636e+05, 3.27454916e+05,\n",
       "       4.32876128e+05, 5.72236766e+05, 7.56463328e+05, 1.00000000e+06])"
      ]
     },
     "execution_count": 117,
     "metadata": {},
     "output_type": "execute_result"
    }
   ],
   "source": [
    "alphas = np.logspace(-6, 6, 100)\n",
    "alphas"
   ]
  },
  {
   "cell_type": "markdown",
   "metadata": {},
   "source": [
    "# Enet"
   ]
  },
  {
   "cell_type": "code",
   "execution_count": 132,
   "metadata": {},
   "outputs": [],
   "source": [
    "from sklearn.linear_model import ElasticNetCV"
   ]
  },
  {
   "cell_type": "code",
   "execution_count": 133,
   "metadata": {},
   "outputs": [],
   "source": [
    "features = ['floor_area', 'latitude', 'bedrooms', 'garage', 'bathrooms', 'nearest_stn_dist', 'build_year', \n",
    "            'longitude', 'nearest_sch_rank', 'nearest_sch_dist', 'cbd_dist', 'land_area']\n",
    "\n",
    "X_train = claremont[features].to_numpy()\n",
    "y_train = claremont['price'].to_numpy()\n",
    "\n",
    "X_test = claremont_test[features].to_numpy()\n",
    "y_test = claremont_test['price'].to_numpy()\n",
    "\n",
    "scaler = StandardScaler()\n",
    "scaler.fit(X_train)\n",
    "\n",
    "X_train = scaler.transform(X_train)\n",
    "X_test = scaler.transform(X_test)"
   ]
  },
  {
   "cell_type": "code",
   "execution_count": null,
   "metadata": {},
   "outputs": [],
   "source": [
    "alphas = np.logspace(-4, 0, 100)\n",
    "ratios = np.linspace(0, 1, 20)\n",
    "\n",
    "enet_model = ElasticNetCV(alphas=alphas, l1_ratio=ratios, cv=5)\n",
    "enet_model.fit(X_train, y_train)"
   ]
  },
  {
   "cell_type": "code",
   "execution_count": 135,
   "metadata": {},
   "outputs": [
    {
     "name": "stdout",
     "output_type": "stream",
     "text": [
      "l1 ratio: 0.68\n",
      "Alpha: 0.25\n",
      "RMSE: 115224.52\n",
      "R^2: 0.8628\n"
     ]
    }
   ],
   "source": [
    "y_pred = enet_model.predict(X_test)\n",
    "\n",
    "print('l1 ratio: {:.2f}'.format(enet_model.l1_ratio_))\n",
    "print('Alpha: {:.2f}'.format(enet_model.alpha_))\n",
    "\n",
    "print('RMSE: {:.2f}'.format(mse(y_test, y_pred, squared = False)))\n",
    "print('R^2: {:.4f}'.format(r2_score(y_test, y_pred)))"
   ]
  },
  {
   "cell_type": "code",
   "execution_count": null,
   "metadata": {},
   "outputs": [],
   "source": []
  }
 ],
 "metadata": {
  "kernelspec": {
   "display_name": "Python 3",
   "language": "python",
   "name": "python3"
  },
  "language_info": {
   "codemirror_mode": {
    "name": "ipython",
    "version": 3
   },
   "file_extension": ".py",
   "mimetype": "text/x-python",
   "name": "python",
   "nbconvert_exporter": "python",
   "pygments_lexer": "ipython3",
   "version": "3.7.6"
  }
 },
 "nbformat": 4,
 "nbformat_minor": 4
}
