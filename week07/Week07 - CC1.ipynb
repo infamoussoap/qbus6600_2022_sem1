{
 "cells": [
  {
   "cell_type": "markdown",
   "metadata": {},
   "source": [
    "# Forward Regression Model"
   ]
  },
  {
   "cell_type": "code",
   "execution_count": 43,
   "metadata": {},
   "outputs": [],
   "source": [
    "import numpy as np\n",
    "import pandas as pd\n",
    "\n",
    "from sklearn.preprocessing import StandardScaler\n",
    "from sklearn.linear_model import LinearRegression\n",
    "\n",
    "from sklearn.metrics import mean_squared_error as mse\n",
    "from sklearn.metrics import r2_score"
   ]
  },
  {
   "cell_type": "code",
   "execution_count": 44,
   "metadata": {},
   "outputs": [],
   "source": [
    "claremont = pd.read_csv('claremont.csv')\n",
    "claremont_test = pd.read_csv('claremont_test.csv')\n",
    "\n",
    "claremont[\"price\"] = claremont[\"price\"]\n",
    "claremont_test[\"price\"] = claremont_test[\"price\"]"
   ]
  },
  {
   "cell_type": "code",
   "execution_count": 45,
   "metadata": {},
   "outputs": [],
   "source": [
    "features = ['floor_area', 'latitude', 'bedrooms', 'garage', 'bathrooms', 'nearest_stn_dist', 'build_year']\n",
    "\n",
    "X_train = claremont[features].to_numpy()\n",
    "y_train = claremont['price'].to_numpy()\n",
    "\n",
    "X_test = claremont_test[features].to_numpy()\n",
    "y_test = claremont_test['price'].to_numpy()\n",
    "\n",
    "scaler = StandardScaler()\n",
    "scaler.fit(X_train)\n",
    "\n",
    "X_train = scaler.transform(X_train)\n",
    "X_test = scaler.transform(X_test)"
   ]
  },
  {
   "cell_type": "code",
   "execution_count": 47,
   "metadata": {},
   "outputs": [
    {
     "name": "stdout",
     "output_type": "stream",
     "text": [
      "RMSE: 110137.77\n",
      "R^2: 0.8746\n"
     ]
    }
   ],
   "source": [
    "forward_linear_reg = LinearRegression()\n",
    "forward_linear_reg.fit(X_train, y_train)\n",
    "\n",
    "y_pred = forward_linear_reg.predict(X_test)\n",
    "\n",
    "print('RMSE: {:.2f}'.format(mse(y_test, y_pred, squared=False)))\n",
    "print('R^2: {:.4f}'.format(r2_score(y_test, y_pred)))"
   ]
  },
  {
   "cell_type": "markdown",
   "metadata": {},
   "source": [
    "# OLS Model"
   ]
  },
  {
   "cell_type": "code",
   "execution_count": 48,
   "metadata": {},
   "outputs": [],
   "source": [
    "features = ['floor_area', 'latitude', 'bedrooms', 'garage', 'bathrooms', 'nearest_stn_dist', \n",
    "            'build_year', 'longitude', 'nearest_sch_rank', 'nearest_sch_dist', 'cbd_dist', 'land_area']"
   ]
  },
  {
   "cell_type": "code",
   "execution_count": 87,
   "metadata": {},
   "outputs": [
    {
     "name": "stdout",
     "output_type": "stream",
     "text": [
      "RMSE: 138,945.54\n",
      "R^2: 0.8005\n"
     ]
    }
   ],
   "source": [
    "X_train = claremont[features].to_numpy()\n",
    "y_train = claremont['price'].to_numpy()\n",
    "\n",
    "X_test = claremont_test[features].to_numpy()\n",
    "y_test = claremont_test['price'].to_numpy()\n",
    "\n",
    "scaler = StandardScaler()\n",
    "scaler.fit(X_train)\n",
    "\n",
    "X_train = scaler.transform(X_train)\n",
    "X_test = scaler.transform(X_test)\n",
    "\n",
    "forward_linear_reg = LinearRegression()\n",
    "forward_linear_reg.fit(X_train, y_train)\n",
    "\n",
    "y_pred = forward_linear_reg.predict(X_test)\n",
    "\n",
    "print('RMSE: {:,.2f}'.format(mse(y_test, y_pred, squared=False)))\n",
    "print('R^2: {:.4f}'.format(r2_score(y_test, y_pred)))"
   ]
  },
  {
   "cell_type": "markdown",
   "metadata": {},
   "source": [
    "# Lasso"
   ]
  },
  {
   "cell_type": "code",
   "execution_count": 52,
   "metadata": {},
   "outputs": [],
   "source": [
    "import matplotlib.pyplot as plt\n",
    "\n",
    "from sklearn.linear_model import Lasso\n",
    "from sklearn.model_selection import cross_val_score"
   ]
  },
  {
   "cell_type": "code",
   "execution_count": 53,
   "metadata": {},
   "outputs": [],
   "source": [
    "features = ['floor_area', 'latitude', 'bedrooms', 'garage', 'bathrooms', 'nearest_stn_dist', 'build_year', \n",
    "            'longitude', 'nearest_sch_rank', 'nearest_sch_dist', 'cbd_dist', 'land_area']\n",
    "X_train = claremont[features].to_numpy()\n",
    "y_train = claremont['price'].to_numpy()\n",
    "\n",
    "X_test = claremont_test[features].to_numpy()\n",
    "y_test = claremont_test['price'].to_numpy()\n",
    "\n",
    "scaler = StandardScaler()\n",
    "scaler.fit(X_train)\n",
    "\n",
    "X_train = scaler.transform(X_train)\n",
    "X_test = scaler.transform(X_test)"
   ]
  },
  {
   "cell_type": "code",
   "execution_count": 81,
   "metadata": {},
   "outputs": [],
   "source": [
    "alphas = np.linspace(0, 50000, 100)[1:]"
   ]
  },
  {
   "cell_type": "code",
   "execution_count": 82,
   "metadata": {},
   "outputs": [
    {
     "name": "stderr",
     "output_type": "stream",
     "text": [
      "/Users/jameschok/anaconda3/lib/python3.7/site-packages/sklearn/linear_model/_coordinate_descent.py:648: ConvergenceWarning: Objective did not converge. You might want to increase the number of iterations, check the scale of the features or consider increasing regularisation. Duality gap: 5.918e+10, tolerance: 6.960e+08\n",
      "  coef_, l1_reg, l2_reg, X, y, max_iter, tol, rng, random, positive\n"
     ]
    }
   ],
   "source": [
    "scores = []\n",
    "\n",
    "for alpha in alphas:\n",
    "    model = Lasso(alpha=alpha)\n",
    "    \n",
    "    scores_mse = cross_val_score(model, X_train, y_train, cv=5, scoring='neg_mean_squared_error')\n",
    "    scores.append(-np.mean(scores_mse))"
   ]
  },
  {
   "cell_type": "code",
   "execution_count": 83,
   "metadata": {},
   "outputs": [
    {
     "data": {
      "image/png": "[encoded data removed]",
      "text/plain": [
       "<Figure size 432x288 with 1 Axes>"
      ]
     },
     "metadata": {
      "needs_background": "light"
     },
     "output_type": "display_data"
    }
   ],
   "source": [
    "plt.plot(alphas, np.array(scores))\n",
    "plt.ylabel(\"MSE\")\n",
    "plt.xlabel(\"Regularization Strength\");"
   ]
  },
  {
   "cell_type": "code",
   "execution_count": 74,
   "metadata": {},
   "outputs": [
    {
     "name": "stdout",
     "output_type": "stream",
     "text": [
      "RMSE: 127652.40\n",
      "R^2: 0.8316\n"
     ]
    }
   ],
   "source": [
    "arg_with_min_score = np.argmin(scores)\n",
    "best_alpha = alphas[arg_with_min_score]\n",
    "\n",
    "lasso_model = Lasso(alpha=best_alpha)\n",
    "lasso_model.fit(X_train, y_train)\n",
    "\n",
    "y_pred = lasso_model.predict(X_test)\n",
    "print('RMSE: {:.2f}'.format(mse(y_test, y_pred, squared = False)))\n",
    "print('R^2: {:.4f}'.format(r2_score(y_test, y_pred)))"
   ]
  },
  {
   "cell_type": "code",
   "execution_count": 76,
   "metadata": {},
   "outputs": [
    {
     "data": {
      "text/plain": [
       "26767.676767676767"
      ]
     },
     "execution_count": 76,
     "metadata": {},
     "output_type": "execute_result"
    }
   ],
   "source": [
    "best_alpha"
   ]
  },
  {
   "cell_type": "code",
   "execution_count": null,
   "metadata": {},
   "outputs": [],
   "source": []
  },
  {
   "cell_type": "code",
   "execution_count": 93,
   "metadata": {},
   "outputs": [
    {
     "name": "stdout",
     "output_type": "stream",
     "text": [
      "270,670.79\n"
     ]
    }
   ],
   "source": [
    "ols_model = LinearRegression()\n",
    "scores_mse = cross_val_score(ols_model, X_train, y_train, cv=5, scoring='neg_mean_squared_error')\n",
    "print(format(np.mean(np.sqrt(-scores_mse)), \",.2f\"))"
   ]
  },
  {
   "cell_type": "code",
   "execution_count": 101,
   "metadata": {
    "scrolled": true
   },
   "outputs": [
    {
     "name": "stdout",
     "output_type": "stream",
     "text": [
      "249,033.51\n"
     ]
    }
   ],
   "source": [
    "alpha = 5000\n",
    "\n",
    "lasso_model = Lasso(alpha=alpha)\n",
    "scores_mse = cross_val_score(lasso_model, X_train, y_train, cv=5, scoring='neg_mean_squared_error')\n",
    "np.mean(np.sqrt(-scores_mse))\n",
    "print(format(np.mean(np.sqrt(-scores_mse)), \",.2f\"))"
   ]
  },
  {
   "cell_type": "code",
   "execution_count": 102,
   "metadata": {},
   "outputs": [
    {
     "name": "stdout",
     "output_type": "stream",
     "text": [
      "251,426.08\n"
     ]
    }
   ],
   "source": [
    "alpha = 50_000\n",
    "\n",
    "lasso_model = Lasso(alpha=alpha)\n",
    "scores_mse = cross_val_score(lasso_model, X_train, y_train, cv=5, scoring='neg_mean_squared_error')\n",
    "np.mean(np.sqrt(-scores_mse))\n",
    "print(format(np.mean(np.sqrt(-scores_mse)), \",.2f\"))"
   ]
  },
  {
   "cell_type": "code",
   "execution_count": null,
   "metadata": {},
   "outputs": [],
   "source": []
  },
  {
   "cell_type": "markdown",
   "metadata": {},
   "source": [
    "# Ridge"
   ]
  },
  {
   "cell_type": "code",
   "execution_count": 104,
   "metadata": {},
   "outputs": [],
   "source": [
    "from sklearn.linear_model import Ridge"
   ]
  },
  {
   "cell_type": "code",
   "execution_count": 103,
   "metadata": {},
   "outputs": [
    {
     "name": "stdout",
     "output_type": "stream",
     "text": [
      "270,670.79\n"
     ]
    }
   ],
   "source": [
    "ols_model = LinearRegression()\n",
    "scores_mse = cross_val_score(ols_model, X_train, y_train, cv=5, scoring='neg_mean_squared_error')\n",
    "print(format(np.mean(np.sqrt(-scores_mse)), \",.2f\"))"
   ]
  },
  {
   "cell_type": "code",
   "execution_count": 123,
   "metadata": {},
   "outputs": [
    {
     "name": "stdout",
     "output_type": "stream",
     "text": [
      "246,241.36\n"
     ]
    }
   ],
   "source": [
    "alpha = 1\n",
    "\n",
    "ridge_model = Ridge(alpha=alpha)\n",
    "scores_mse = cross_val_score(ridge_model, X_train, y_train, cv=5, scoring='neg_mean_squared_error')\n",
    "np.mean(np.sqrt(-scores_mse))\n",
    "print(format(np.mean(np.sqrt(-scores_mse)), \",.2f\"))"
   ]
  },
  {
   "cell_type": "code",
   "execution_count": 110,
   "metadata": {},
   "outputs": [
    {
     "name": "stdout",
     "output_type": "stream",
     "text": [
      "239,271.57\n"
     ]
    }
   ],
   "source": [
    "alpha = 4\n",
    "\n",
    "ridge_model = Ridge(alpha=alpha)\n",
    "scores_mse = cross_val_score(ridge_model, X_train, y_train, cv=5, scoring='neg_mean_squared_error')\n",
    "np.mean(np.sqrt(-scores_mse))\n",
    "print(format(np.mean(np.sqrt(-scores_mse)), \",.2f\"))"
   ]
  },
  {
   "cell_type": "code",
   "execution_count": 111,
   "metadata": {},
   "outputs": [
    {
     "name": "stdout",
     "output_type": "stream",
     "text": [
      "248,373.03\n"
     ]
    }
   ],
   "source": [
    "alpha = 10\n",
    "\n",
    "ridge_model = Ridge(alpha=alpha)\n",
    "scores_mse = cross_val_score(ridge_model, X_train, y_train, cv=5, scoring='neg_mean_squared_error')\n",
    "np.mean(np.sqrt(-scores_mse))\n",
    "print(format(np.mean(np.sqrt(-scores_mse)), \",.2f\"))"
   ]
  },
  {
   "cell_type": "code",
   "execution_count": 135,
   "metadata": {},
   "outputs": [],
   "source": [
    "alphas = np.linspace(0, 10, 100)[1:]"
   ]
  },
  {
   "cell_type": "code",
   "execution_count": 136,
   "metadata": {},
   "outputs": [],
   "source": [
    "scores = []\n",
    "\n",
    "for alpha in alphas:\n",
    "    model = Ridge(alpha=alpha)\n",
    "    \n",
    "    scores_mse = cross_val_score(model, X_train, y_train, cv=5, scoring='neg_mean_squared_error')\n",
    "    scores.append(-np.mean(scores_mse))"
   ]
  },
  {
   "cell_type": "code",
   "execution_count": 137,
   "metadata": {},
   "outputs": [
    {
     "name": "stdout",
     "output_type": "stream",
     "text": [
      "RMSE: 116353.15\n",
      "R^2: 0.8601\n"
     ]
    }
   ],
   "source": [
    "arg_with_min_score = np.argmin(scores)\n",
    "best_alpha = alphas[arg_with_min_score]\n",
    "\n",
    "ridge_model = Ridge(alpha=best_alpha)\n",
    "ridge_model.fit(X_train, y_train)\n",
    "\n",
    "y_pred = ridge_model.predict(X_test)\n",
    "print('RMSE: {:.2f}'.format(mse(y_test, y_pred, squared = False)))\n",
    "print('R^2: {:.4f}'.format(r2_score(y_test, y_pred)))"
   ]
  },
  {
   "cell_type": "code",
   "execution_count": 138,
   "metadata": {},
   "outputs": [
    {
     "data": {
      "text/plain": [
       "2.8282828282828283"
      ]
     },
     "execution_count": 138,
     "metadata": {},
     "output_type": "execute_result"
    }
   ],
   "source": [
    "best_alpha"
   ]
  },
  {
   "cell_type": "code",
   "execution_count": 139,
   "metadata": {},
   "outputs": [
    {
     "data": {
      "text/plain": [
       "[<matplotlib.lines.Line2D at 0x7fc65093a2d0>]"
      ]
     },
     "execution_count": 139,
     "metadata": {},
     "output_type": "execute_result"
    },
    {
     "data": {
      "image/png": "[encoded data removed]",
      "text/plain": [
       "<Figure size 432x288 with 1 Axes>"
      ]
     },
     "metadata": {
      "needs_background": "light"
     },
     "output_type": "display_data"
    }
   ],
   "source": [
    "plt.plot(alphas, scores)"
   ]
  },
  {
   "cell_type": "code",
   "execution_count": null,
   "metadata": {},
   "outputs": [],
   "source": []
  },
  {
   "cell_type": "markdown",
   "metadata": {},
   "source": [
    "# Enet Model"
   ]
  },
  {
   "cell_type": "code",
   "execution_count": 141,
   "metadata": {},
   "outputs": [],
   "source": [
    "from sklearn.linear_model import ElasticNetCV"
   ]
  },
  {
   "cell_type": "code",
   "execution_count": 142,
   "metadata": {},
   "outputs": [],
   "source": [
    "features = ['floor_area', 'latitude', 'bedrooms', 'garage', 'bathrooms', 'nearest_stn_dist', 'build_year', \n",
    "            'longitude', 'nearest_sch_rank', 'nearest_sch_dist', 'cbd_dist', 'land_area']\n",
    "\n",
    "X_train = claremont[features].to_numpy()\n",
    "y_train = claremont['price'].to_numpy()\n",
    "\n",
    "X_test = claremont_test[features].to_numpy()\n",
    "y_test = claremont_test['price'].to_numpy()\n",
    "\n",
    "scaler = StandardScaler()\n",
    "scaler.fit(X_train)\n",
    "\n",
    "X_train = scaler.transform(X_train)\n",
    "X_test = scaler.transform(X_test)"
   ]
  },
  {
   "cell_type": "code",
   "execution_count": null,
   "metadata": {},
   "outputs": [],
   "source": [
    "alphas = np.logspace(-4, 0, 100)\n",
    "ratios = np.linspace(0, 1, 20)\n",
    "\n",
    "enet_model = ElasticNetCV(alphas = alphas, l1_ratio = ratios, cv=5)\n",
    "enet_model.fit(X_train, y_train)"
   ]
  },
  {
   "cell_type": "code",
   "execution_count": 145,
   "metadata": {},
   "outputs": [
    {
     "name": "stdout",
     "output_type": "stream",
     "text": [
      "l1 ratio: 0.68\n",
      "Alpha: 0.25\n",
      "RMSE: 115224.52\n",
      "R^2: 0.8628\n"
     ]
    }
   ],
   "source": [
    "y_pred = enet_model.predict(X_test)\n",
    "\n",
    "print('l1 ratio: {:.2f}'.format(enet_model.l1_ratio_))\n",
    "print('Alpha: {:.2f}'.format(enet_model.alpha_))\n",
    "\n",
    "print('RMSE: {:.2f}'.format(mse(y_test, y_pred, squared = False)))\n",
    "print('R^2: {:.4f}'.format(r2_score(y_test, y_pred)))"
   ]
  },
  {
   "cell_type": "code",
   "execution_count": null,
   "metadata": {},
   "outputs": [],
   "source": []
  }
 ],
 "metadata": {
  "kernelspec": {
   "display_name": "Python 3",
   "language": "python",
   "name": "python3"
  },
  "language_info": {
   "codemirror_mode": {
    "name": "ipython",
    "version": 3
   },
   "file_extension": ".py",
   "mimetype": "text/x-python",
   "name": "python",
   "nbconvert_exporter": "python",
   "pygments_lexer": "ipython3",
   "version": "3.7.6"
  }
 },
 "nbformat": 4,
 "nbformat_minor": 4
}
