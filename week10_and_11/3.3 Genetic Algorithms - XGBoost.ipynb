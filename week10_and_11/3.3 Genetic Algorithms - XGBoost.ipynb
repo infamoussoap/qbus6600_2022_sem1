{
 "cells": [
  {
   "cell_type": "code",
   "execution_count": null,
   "metadata": {
    "id": "oipeHdNByXCg"
   },
   "outputs": [],
   "source": [
    "import pandas as pd\n",
    "import numpy as np\n",
    "\n",
    "from xgboost import XGBRegressor\n",
    "from sklearn.ensemble import RandomForestRegressor\n",
    "\n",
    "from sklearn.model_selection import train_test_split"
   ]
  },
  {
   "cell_type": "code",
   "execution_count": null,
   "metadata": {
    "id": "HfL33UZDzOvD"
   },
   "outputs": [],
   "source": [
    "perth = pd.read_csv('perth_clean.csv')\n",
    "perth = pd.get_dummies(perth, columns=['suburb'])\n",
    "\n",
    "train_indices, test_indices = train_test_split(perth.index, test_size=0.2, random_state=0)\n",
    "\n",
    "perth_train = perth.loc[train_indices].copy()\n",
    "perth_test = perth.loc[test_indices].copy()"
   ]
  },
  {
   "cell_type": "code",
   "execution_count": null,
   "metadata": {
    "colab": {
     "base_uri": "https://localhost:8080/"
    },
    "id": "5U6o_F8XzQMA",
    "outputId": "833908a7-7f63-41ca-e108-fd11ff025922"
   },
   "outputs": [
    {
     "name": "stdout",
     "output_type": "stream",
     "text": [
      "Sampled set length 5384\n"
     ]
    }
   ],
   "source": [
    "indices = list(perth_train.index.copy())\n",
    "# np.random.seed(5)\n",
    "np.random.shuffle(indices)\n",
    "\n",
    "sampled_indices = indices[:int(len(indices) * 0.2)]\n",
    "sampled_perth = perth_train.loc[sampled_indices, :].copy()\n",
    "\n",
    "print(\"Sampled set length\", len(sampled_indices))"
   ]
  },
  {
   "cell_type": "code",
   "execution_count": null,
   "metadata": {
    "id": "TYFzhXGWzQXJ"
   },
   "outputs": [],
   "source": [
    "n = len(sampled_perth)\n",
    "sampled_train_indices, sampled_valid_indices = train_test_split(np.arange(n), test_size=0.2, random_state=0)\n",
    "\n",
    "\n",
    "sampled_x_train = sampled_perth.iloc[sampled_train_indices].drop('log10_price', axis=1)\n",
    "sampled_y_train = sampled_perth.iloc[sampled_train_indices]['log10_price'].copy()\n",
    "\n",
    "sampled_x_valid = sampled_perth.iloc[sampled_valid_indices].drop('log10_price', axis=1)\n",
    "sampled_y_valid = sampled_perth.iloc[sampled_valid_indices]['log10_price'].copy()"
   ]
  },
  {
   "cell_type": "code",
   "execution_count": null,
   "metadata": {
    "id": "mPB3ve_XzRC5"
   },
   "outputs": [],
   "source": [
    "train_data = (sampled_x_train, sampled_y_train)\n",
    "valid_data = (sampled_x_valid, sampled_y_valid)"
   ]
  },
  {
   "cell_type": "code",
   "execution_count": null,
   "metadata": {
    "colab": {
     "base_uri": "https://localhost:8080/"
    },
    "id": "Z5-uQrZZzRw-",
    "outputId": "c6d773fc-5828-4f93-e117-6e50e95fc4f9"
   },
   "outputs": [
    {
     "name": "stdout",
     "output_type": "stream",
     "text": [
      "Training length of sampled data 4307\n",
      "Validiation length of sampled data 1077\n"
     ]
    }
   ],
   "source": [
    "print(\"Training length of sampled data\", len(sampled_x_train))\n",
    "print(\"Validiation length of sampled data\", len(sampled_x_valid))"
   ]
  },
  {
   "cell_type": "markdown",
   "metadata": {},
   "source": [
    "Here we will use the trick that I said where we are not going to optimize `n_estimators` and `learning_rate` together. Rather we will fix `n_estimators=200` and optimize learning rate by itself."
   ]
  },
  {
   "cell_type": "code",
   "execution_count": null,
   "metadata": {
    "id": "a7KpsCFXzSms"
   },
   "outputs": [],
   "source": [
    "# Notice how we fix `n_estimators` here\n",
    "def score_population(population, train_data, valid_data):\n",
    "    \"\"\" Scores the population on the given dataset \"\"\"\n",
    "    population_scores = []\n",
    "    n = len(population)\n",
    "    for i, person in enumerate(population):\n",
    "        base_model = XGBRegressor(objective='reg:squarederror', random_state=0, n_estimators=200, **person)\n",
    "        score = score_model(base_model, train_data, valid_data)\n",
    "        population_scores.append(score)\n",
    "        \n",
    "        print(f\"{i + 1} of {n}: DNA {person} has score {score}\")\n",
    "    \n",
    "    return population_scores\n",
    "\n",
    "def score_model(model, train_data, valid_data):\n",
    "    x_train, y_train = train_data\n",
    "    x_valid, y_valid = valid_data\n",
    "    \n",
    "    model.fit(x_train, y_train)\n",
    "    \n",
    "    y_pred = model.predict(x_valid)\n",
    "    return np.sqrt(np.mean((y_valid - y_pred) ** 2))"
   ]
  },
  {
   "cell_type": "code",
   "execution_count": null,
   "metadata": {
    "id": "JJT60HjJzU3C"
   },
   "outputs": [],
   "source": [
    "def make_children_from_population(population, population_scores, n_children, mutation=0.5):\n",
    "    children = []\n",
    "    for i in range(n_children):\n",
    "        parent1, parent2 = np.random.choice(population, 2, replace=False)\n",
    "        \n",
    "        child = generate_child(parent1, parent2)\n",
    "        child = mutate_child(child, mutation=mutation)\n",
    "\n",
    "        children.append(child)\n",
    "        \n",
    "    return children\n",
    "\n",
    "def generate_child(person1, person2, p=0.5):\n",
    "    child = {}\n",
    "    for key in person1.keys():\n",
    "        rand = np.random.rand()\n",
    "        if rand < p:\n",
    "            child[key] = person1[key]\n",
    "        else:\n",
    "            child[key] = person2[key]\n",
    "            \n",
    "    return child\n",
    "\n",
    "def mutate_child(child, mutation=0.5):\n",
    "    child = child.copy()\n",
    "    for key in child.keys():\n",
    "        rand = np.random.rand()\n",
    "        if rand < mutation:\n",
    "            child[key] = np.random.choice(parameter_grid[key])\n",
    "            \n",
    "    return child"
   ]
  },
  {
   "cell_type": "code",
   "execution_count": null,
   "metadata": {
    "id": "KeHzAn4SzYN7"
   },
   "outputs": [],
   "source": [
    "def generate_next_population(current_population, train_data, valid_data, n_children=10, mutation=0.5):\n",
    "    print(\"Scoring Population\")\n",
    "    population_scores = score_population(current_population, train_data, valid_data)\n",
    "\n",
    "    sorted_population, sorted_scores = sort_population_by_scores(current_population, population_scores)\n",
    "\n",
    "    n = len(sorted_population) // 2\n",
    "    top_population = sorted_population[:n]\n",
    "    top_scores = sorted_scores[:n]\n",
    "\n",
    "    next_population = make_children_from_population(top_population, top_scores, n_children-1, mutation=mutation)\n",
    "    next_population.append(sorted_population[0])  # Elitism\n",
    "    \n",
    "    print(f\"Current Population Best Score {sorted_scores[0]}, with DNA {sorted_population[0]}\")\n",
    "    return next_population\n",
    "\n",
    "def sort_population_by_scores(population, population_scores):\n",
    "    sorted_population_with_scores = sorted(list(zip(population_scores, population)), key=lambda x: x[0])\n",
    "    \n",
    "    sorted_population = [person for score, person in sorted_population_with_scores]\n",
    "    sorted_scores = [score for score, person in sorted_population_with_scores]\n",
    "\n",
    "    return sorted_population, sorted_scores"
   ]
  },
  {
   "cell_type": "code",
   "execution_count": null,
   "metadata": {
    "id": "SntyfCZ43RvH"
   },
   "outputs": [],
   "source": [
    "parameter_grid = {'learning_rate': np.linspace(0.01, 0.10, 10),\n",
    "                  'max_depth': np.arange(1, 100 + 1, 10),\n",
    "                  'subsample': np.linspace(0.1, 1.0, 10)}"
   ]
  },
  {
   "cell_type": "code",
   "execution_count": null,
   "metadata": {
    "id": "KtxWMrL34yzK"
   },
   "outputs": [],
   "source": [
    "initial_population = [{key: np.random.choice(val) for key, val in parameter_grid.items()}\n",
    "                      for _ in range(20)]"
   ]
  },
  {
   "cell_type": "code",
   "execution_count": null,
   "metadata": {
    "colab": {
     "base_uri": "https://localhost:8080/"
    },
    "id": "J5LT0kcz42NW",
    "outputId": "e6428aa8-309f-4840-e065-3c956877d4fd"
   },
   "outputs": [
    {
     "name": "stdout",
     "output_type": "stream",
     "text": [
      "Scoring Population\n",
      "1 of 20: DNA {'learning_rate': 0.01, 'max_depth': 61, 'subsample': 1.0} has score 0.7201481637298258\n",
      "2 of 20: DNA {'learning_rate': 0.01, 'max_depth': 71, 'subsample': 0.6} has score 0.7214479650478723\n",
      "3 of 20: DNA {'learning_rate': 0.06000000000000001, 'max_depth': 1, 'subsample': 0.6} has score 0.11537296530008394\n",
      "4 of 20: DNA {'learning_rate': 0.04000000000000001, 'max_depth': 31, 'subsample': 0.7000000000000001} has score 0.09282861050285945\n",
      "5 of 20: DNA {'learning_rate': 0.07, 'max_depth': 41, 'subsample': 0.5} has score 0.09178697948141408\n",
      "6 of 20: DNA {'learning_rate': 0.07, 'max_depth': 81, 'subsample': 0.2} has score 0.0938800576177339\n",
      "7 of 20: DNA {'learning_rate': 0.09000000000000001, 'max_depth': 11, 'subsample': 0.30000000000000004} has score 0.0938354276404361\n",
      "8 of 20: DNA {'learning_rate': 0.06000000000000001, 'max_depth': 81, 'subsample': 0.5} has score 0.09138679506902327\n",
      "9 of 20: DNA {'learning_rate': 0.01, 'max_depth': 31, 'subsample': 1.0} has score 0.7201481637298258\n",
      "10 of 20: DNA {'learning_rate': 0.030000000000000006, 'max_depth': 31, 'subsample': 0.1} has score 0.09886079948824911\n",
      "11 of 20: DNA {'learning_rate': 0.09000000000000001, 'max_depth': 31, 'subsample': 0.2} has score 0.0946598645691735\n",
      "12 of 20: DNA {'learning_rate': 0.08, 'max_depth': 31, 'subsample': 0.30000000000000004} has score 0.09402126195527993\n",
      "13 of 20: DNA {'learning_rate': 0.04000000000000001, 'max_depth': 91, 'subsample': 0.1} has score 0.09224404553919113\n",
      "14 of 20: DNA {'learning_rate': 0.09000000000000001, 'max_depth': 61, 'subsample': 0.8} has score 0.09405648387073065\n",
      "15 of 20: DNA {'learning_rate': 0.06000000000000001, 'max_depth': 81, 'subsample': 0.6} has score 0.092728207930811\n",
      "16 of 20: DNA {'learning_rate': 0.04000000000000001, 'max_depth': 81, 'subsample': 0.1} has score 0.09224404553919113\n",
      "17 of 20: DNA {'learning_rate': 0.020000000000000004, 'max_depth': 31, 'subsample': 0.30000000000000004} has score 0.14034610491984076\n",
      "18 of 20: DNA {'learning_rate': 0.01, 'max_depth': 41, 'subsample': 0.6} has score 0.7214479650478723\n",
      "19 of 20: DNA {'learning_rate': 0.020000000000000004, 'max_depth': 51, 'subsample': 0.8} has score 0.1392479123030284\n",
      "20 of 20: DNA {'learning_rate': 0.06000000000000001, 'max_depth': 51, 'subsample': 0.8} has score 0.09233212995206895\n",
      "[0.7201481637298258, 0.7214479650478723, 0.11537296530008394, 0.09282861050285945, 0.09178697948141408, 0.0938800576177339, 0.0938354276404361, 0.09138679506902327, 0.7201481637298258, 0.09886079948824911, 0.0946598645691735, 0.09402126195527993, 0.09224404553919113, 0.09405648387073065, 0.092728207930811, 0.09224404553919113, 0.14034610491984076, 0.7214479650478723, 0.1392479123030284, 0.09233212995206895]\n",
      "Current Population Best Score 0.09138679506902327, with DNA {'learning_rate': 0.06000000000000001, 'max_depth': 81, 'subsample': 0.5}\n"
     ]
    }
   ],
   "source": [
    "generation1 = generate_next_population(initial_population, train_data, valid_data, n_children=20, mutation=0.5)"
   ]
  },
  {
   "cell_type": "code",
   "execution_count": null,
   "metadata": {
    "colab": {
     "background_save": true,
     "base_uri": "https://localhost:8080/"
    },
    "id": "WwK1VwRs44tH",
    "outputId": "2bfbb8ef-dc6d-455d-9d36-de60c4de4fe5"
   },
   "outputs": [
    {
     "name": "stdout",
     "output_type": "stream",
     "text": [
      "Scoring Population\n",
      "1 of 20: DNA {'learning_rate': 0.06000000000000001, 'max_depth': 81, 'subsample': 0.4} has score 0.09296876809485832\n",
      "2 of 20: DNA {'learning_rate': 0.08, 'max_depth': 31, 'subsample': 0.4} has score 0.09328076916730711\n",
      "3 of 20: DNA {'learning_rate': 0.06000000000000001, 'max_depth': 51, 'subsample': 0.2} has score 0.09517230489528206\n",
      "4 of 20: DNA {'learning_rate': 0.01, 'max_depth': 81, 'subsample': 0.5} has score 0.7218440411153014\n",
      "5 of 20: DNA {'learning_rate': 0.04000000000000001, 'max_depth': 61, 'subsample': 0.1} has score 0.09224404553919113\n",
      "6 of 20: DNA {'learning_rate': 0.08, 'max_depth': 91, 'subsample': 0.9} has score 0.09328348685064124\n",
      "7 of 20: DNA {'learning_rate': 0.06000000000000001, 'max_depth': 51, 'subsample': 0.8} has score 0.09233212995206895\n",
      "8 of 20: DNA {'learning_rate': 0.04000000000000001, 'max_depth': 81, 'subsample': 0.1} has score 0.09224404553919113\n",
      "9 of 20: DNA {'learning_rate': 0.06000000000000001, 'max_depth': 81, 'subsample': 0.30000000000000004} has score 0.09044596148869932\n",
      "10 of 20: DNA {'learning_rate': 0.04000000000000001, 'max_depth': 21, 'subsample': 0.8} has score 0.09187847571686579\n",
      "11 of 20: DNA {'learning_rate': 0.08, 'max_depth': 51, 'subsample': 0.4} has score 0.09378454554743858\n",
      "12 of 20: DNA {'learning_rate': 0.08, 'max_depth': 51, 'subsample': 0.2} has score 0.09469330386963856\n",
      "13 of 20: DNA {'learning_rate': 0.07, 'max_depth': 11, 'subsample': 0.6} has score 0.09050727186262755\n",
      "14 of 20: DNA {'learning_rate': 0.06000000000000001, 'max_depth': 51, 'subsample': 0.5} has score 0.0920652458035094\n",
      "15 of 20: DNA {'learning_rate': 0.1, 'max_depth': 81, 'subsample': 0.8} has score 0.09298859832630417\n",
      "16 of 20: DNA {'learning_rate': 0.030000000000000006, 'max_depth': 11, 'subsample': 0.5} has score 0.09117395109099266\n",
      "17 of 20: DNA {'learning_rate': 0.06000000000000001, 'max_depth': 81, 'subsample': 0.2} has score 0.09412301455300627\n",
      "18 of 20: DNA {'learning_rate': 0.06000000000000001, 'max_depth': 31, 'subsample': 0.7000000000000001} has score 0.09062938835308261\n",
      "19 of 20: DNA {'learning_rate': 0.1, 'max_depth': 81, 'subsample': 0.8} has score 0.09298859832630417\n",
      "20 of 20: DNA {'learning_rate': 0.06000000000000001, 'max_depth': 81, 'subsample': 0.5} has score 0.09138679506902327\n",
      "[0.09296876809485832, 0.09328076916730711, 0.09517230489528206, 0.7218440411153014, 0.09224404553919113, 0.09328348685064124, 0.09233212995206895, 0.09224404553919113, 0.09044596148869932, 0.09187847571686579, 0.09378454554743858, 0.09469330386963856, 0.09050727186262755, 0.0920652458035094, 0.09298859832630417, 0.09117395109099266, 0.09412301455300627, 0.09062938835308261, 0.09298859832630417, 0.09138679506902327]\n",
      "Current Population Best Score 0.09044596148869932, with DNA {'learning_rate': 0.06000000000000001, 'max_depth': 81, 'subsample': 0.30000000000000004}\n"
     ]
    }
   ],
   "source": [
    "generation2 = generate_next_population(generation1, train_data, valid_data, n_children=20, mutation=0.2)"
   ]
  },
  {
   "cell_type": "code",
   "execution_count": null,
   "metadata": {
    "colab": {
     "background_save": true,
     "base_uri": "https://localhost:8080/"
    },
    "id": "gyBP0Shp9FcN",
    "outputId": "16b1e77e-c519-449b-8d1b-030a9062cd75"
   },
   "outputs": [
    {
     "name": "stdout",
     "output_type": "stream",
     "text": [
      "Scoring Population\n",
      "1 of 20: DNA {'learning_rate': 0.06000000000000001, 'max_depth': 11, 'subsample': 0.5} has score 0.09149892777963936\n",
      "2 of 20: DNA {'learning_rate': 0.06000000000000001, 'max_depth': 81, 'subsample': 0.2} has score 0.09412301455300627\n",
      "3 of 20: DNA {'learning_rate': 0.06000000000000001, 'max_depth': 21, 'subsample': 1.0} has score 0.0950909032128807\n",
      "4 of 20: DNA {'learning_rate': 0.020000000000000004, 'max_depth': 71, 'subsample': 0.2} has score 0.1434825485143911\n",
      "5 of 20: DNA {'learning_rate': 0.06000000000000001, 'max_depth': 81, 'subsample': 0.5} has score 0.09138679506902327\n",
      "6 of 20: DNA {'learning_rate': 0.020000000000000004, 'max_depth': 61, 'subsample': 0.6} has score 0.13934085847349692\n",
      "7 of 20: DNA {'learning_rate': 0.04000000000000001, 'max_depth': 31, 'subsample': 0.7000000000000001} has score 0.09282861050285945\n",
      "8 of 20: DNA {'learning_rate': 0.06000000000000001, 'max_depth': 51, 'subsample': 0.7000000000000001} has score 0.09104498351661133\n",
      "9 of 20: DNA {'learning_rate': 0.06000000000000001, 'max_depth': 31, 'subsample': 0.7000000000000001} has score 0.09062938835308261\n",
      "10 of 20: DNA {'learning_rate': 0.06000000000000001, 'max_depth': 51, 'subsample': 0.5} has score 0.0920652458035094\n",
      "11 of 20: DNA {'learning_rate': 0.06000000000000001, 'max_depth': 81, 'subsample': 0.5} has score 0.09138679506902327\n",
      "12 of 20: DNA {'learning_rate': 0.04000000000000001, 'max_depth': 21, 'subsample': 0.5} has score 0.09228855005630333\n",
      "13 of 20: DNA {'learning_rate': 0.07, 'max_depth': 21, 'subsample': 0.8} has score 0.09180950627979415\n",
      "14 of 20: DNA {'learning_rate': 0.04000000000000001, 'max_depth': 51, 'subsample': 0.6} has score 0.09134994706016678\n",
      "15 of 20: DNA {'learning_rate': 0.04000000000000001, 'max_depth': 81, 'subsample': 0.5} has score 0.09255522530789481\n",
      "16 of 20: DNA {'learning_rate': 0.030000000000000006, 'max_depth': 11, 'subsample': 0.7000000000000001} has score 0.09232605343630088\n",
      "17 of 20: DNA {'learning_rate': 0.04000000000000001, 'max_depth': 21, 'subsample': 0.8} has score 0.09187847571686579\n",
      "18 of 20: DNA {'learning_rate': 0.05000000000000001, 'max_depth': 81, 'subsample': 0.5} has score 0.09150340793283983\n",
      "19 of 20: DNA {'learning_rate': 0.01, 'max_depth': 51, 'subsample': 0.8} has score 0.7206724865581686\n",
      "20 of 20: DNA {'learning_rate': 0.06000000000000001, 'max_depth': 81, 'subsample': 0.30000000000000004} has score 0.09044596148869932\n",
      "[0.09149892777963936, 0.09412301455300627, 0.0950909032128807, 0.1434825485143911, 0.09138679506902327, 0.13934085847349692, 0.09282861050285945, 0.09104498351661133, 0.09062938835308261, 0.0920652458035094, 0.09138679506902327, 0.09228855005630333, 0.09180950627979415, 0.09134994706016678, 0.09255522530789481, 0.09232605343630088, 0.09187847571686579, 0.09150340793283983, 0.7206724865581686, 0.09044596148869932]\n",
      "Current Population Best Score 0.09044596148869932, with DNA {'learning_rate': 0.06000000000000001, 'max_depth': 81, 'subsample': 0.30000000000000004}\n"
     ]
    }
   ],
   "source": [
    "generation3 = generate_next_population(generation2, train_data, valid_data, n_children=20, mutation=0.2)"
   ]
  },
  {
   "cell_type": "code",
   "execution_count": null,
   "metadata": {
    "colab": {
     "background_save": true,
     "base_uri": "https://localhost:8080/"
    },
    "id": "2QFDDlitKYtw",
    "outputId": "f866bfb0-def0-41ac-ac85-b5e7cf106ccd"
   },
   "outputs": [
    {
     "name": "stdout",
     "output_type": "stream",
     "text": [
      "Scoring Population\n",
      "1 of 20: DNA {'learning_rate': 0.06000000000000001, 'max_depth': 31, 'subsample': 0.9} has score 0.0918065757203164\n",
      "2 of 20: DNA {'learning_rate': 0.05000000000000001, 'max_depth': 81, 'subsample': 0.5} has score 0.09150340793283983\n",
      "3 of 20: DNA {'learning_rate': 0.01, 'max_depth': 21, 'subsample': 0.8} has score 0.7206724865581686\n",
      "4 of 20: DNA {'learning_rate': 0.05000000000000001, 'max_depth': 41, 'subsample': 0.4} has score 0.09085954641563716\n",
      "5 of 20: DNA {'learning_rate': 0.030000000000000006, 'max_depth': 21, 'subsample': 0.8} has score 0.09421761785437727\n",
      "6 of 20: DNA {'learning_rate': 0.01, 'max_depth': 81, 'subsample': 0.30000000000000004} has score 0.7242967554004879\n",
      "7 of 20: DNA {'learning_rate': 0.06000000000000001, 'max_depth': 1, 'subsample': 0.5} has score 0.11438636194738296\n",
      "8 of 20: DNA {'learning_rate': 0.06000000000000001, 'max_depth': 81, 'subsample': 0.5} has score 0.09138679506902327\n",
      "9 of 20: DNA {'learning_rate': 0.04000000000000001, 'max_depth': 21, 'subsample': 0.8} has score 0.09187847571686579\n",
      "10 of 20: DNA {'learning_rate': 0.04000000000000001, 'max_depth': 51, 'subsample': 0.8} has score 0.09158205854057024\n",
      "11 of 20: DNA {'learning_rate': 0.06000000000000001, 'max_depth': 91, 'subsample': 0.2} has score 0.09412301455300627\n",
      "12 of 20: DNA {'learning_rate': 0.06000000000000001, 'max_depth': 11, 'subsample': 0.7000000000000001} has score 0.08944083975656782\n",
      "13 of 20: DNA {'learning_rate': 0.06000000000000001, 'max_depth': 81, 'subsample': 0.7000000000000001} has score 0.09120032628472051\n",
      "14 of 20: DNA {'learning_rate': 0.01, 'max_depth': 11, 'subsample': 0.5} has score 0.7218440411153014\n",
      "15 of 20: DNA {'learning_rate': 0.05000000000000001, 'max_depth': 81, 'subsample': 0.5} has score 0.09150340793283983\n",
      "16 of 20: DNA {'learning_rate': 0.06000000000000001, 'max_depth': 81, 'subsample': 0.5} has score 0.09138679506902327\n",
      "17 of 20: DNA {'learning_rate': 0.05000000000000001, 'max_depth': 81, 'subsample': 0.5} has score 0.09150340793283983\n",
      "18 of 20: DNA {'learning_rate': 0.06000000000000001, 'max_depth': 51, 'subsample': 0.1} has score 0.09325182601971407\n",
      "19 of 20: DNA {'learning_rate': 0.07, 'max_depth': 81, 'subsample': 0.5} has score 0.09141323435133396\n",
      "20 of 20: DNA {'learning_rate': 0.06000000000000001, 'max_depth': 81, 'subsample': 0.30000000000000004} has score 0.09044596148869932\n",
      "[0.0918065757203164, 0.09150340793283983, 0.7206724865581686, 0.09085954641563716, 0.09421761785437727, 0.7242967554004879, 0.11438636194738296, 0.09138679506902327, 0.09187847571686579, 0.09158205854057024, 0.09412301455300627, 0.08944083975656782, 0.09120032628472051, 0.7218440411153014, 0.09150340793283983, 0.09138679506902327, 0.09150340793283983, 0.09325182601971407, 0.09141323435133396, 0.09044596148869932]\n",
      "Current Population Best Score 0.08944083975656782, with DNA {'learning_rate': 0.06000000000000001, 'max_depth': 11, 'subsample': 0.7000000000000001}\n"
     ]
    }
   ],
   "source": [
    "generation4 = generate_next_population(generation3, train_data, valid_data, n_children=20, mutation=0.1)"
   ]
  },
  {
   "cell_type": "code",
   "execution_count": 22,
   "metadata": {
    "colab": {
     "base_uri": "https://localhost:8080/"
    },
    "id": "J-sFqubKEi2Y",
    "outputId": "76f6460b-e4a9-4902-c152-dd3562d1f151"
   },
   "outputs": [
    {
     "name": "stdout",
     "output_type": "stream",
     "text": [
      "Scoring Population\n",
      "1 of 20: DNA {'learning_rate': 0.05000000000000001, 'max_depth': 81, 'subsample': 0.5} has score 0.09150340793283983\n",
      "2 of 20: DNA {'learning_rate': 0.05000000000000001, 'max_depth': 81, 'subsample': 0.5} has score 0.09150340793283983\n",
      "3 of 20: DNA {'learning_rate': 0.06000000000000001, 'max_depth': 81, 'subsample': 0.5} has score 0.09138679506902327\n",
      "4 of 20: DNA {'learning_rate': 0.06000000000000001, 'max_depth': 81, 'subsample': 0.5} has score 0.09138679506902327\n",
      "5 of 20: DNA {'learning_rate': 0.05000000000000001, 'max_depth': 81, 'subsample': 0.7000000000000001} has score 0.09023588206159663\n",
      "6 of 20: DNA {'learning_rate': 0.07, 'max_depth': 81, 'subsample': 0.5} has score 0.09141323435133396\n",
      "7 of 20: DNA {'learning_rate': 0.07, 'max_depth': 81, 'subsample': 0.5} has score 0.09141323435133396\n",
      "8 of 20: DNA {'learning_rate': 0.06000000000000001, 'max_depth': 81, 'subsample': 0.9} has score 0.09219880973739603\n",
      "9 of 20: DNA {'learning_rate': 0.06000000000000001, 'max_depth': 81, 'subsample': 0.5} has score 0.09138679506902327\n",
      "10 of 20: DNA {'learning_rate': 0.06000000000000001, 'max_depth': 81, 'subsample': 0.30000000000000004} has score 0.09044596148869932\n",
      "11 of 20: DNA {'learning_rate': 0.09000000000000001, 'max_depth': 81, 'subsample': 0.5} has score 0.09403380266740502\n",
      "12 of 20: DNA {'learning_rate': 0.06000000000000001, 'max_depth': 81, 'subsample': 0.30000000000000004} has score 0.09044596148869932\n",
      "13 of 20: DNA {'learning_rate': 0.07, 'max_depth': 11, 'subsample': 0.7000000000000001} has score 0.09188610625789961\n",
      "14 of 20: DNA {'learning_rate': 0.06000000000000001, 'max_depth': 81, 'subsample': 0.4} has score 0.09296876809485832\n",
      "15 of 20: DNA {'learning_rate': 0.05000000000000001, 'max_depth': 41, 'subsample': 0.4} has score 0.09085954641563716\n",
      "16 of 20: DNA {'learning_rate': 0.05000000000000001, 'max_depth': 41, 'subsample': 0.4} has score 0.09085954641563716\n",
      "17 of 20: DNA {'learning_rate': 0.05000000000000001, 'max_depth': 81, 'subsample': 0.5} has score 0.09150340793283983\n",
      "18 of 20: DNA {'learning_rate': 0.06000000000000001, 'max_depth': 81, 'subsample': 0.7000000000000001} has score 0.09120032628472051\n",
      "19 of 20: DNA {'learning_rate': 0.06000000000000001, 'max_depth': 11, 'subsample': 0.7000000000000001} has score 0.08944083975656782\n",
      "20 of 20: DNA {'learning_rate': 0.06000000000000001, 'max_depth': 11, 'subsample': 0.7000000000000001} has score 0.08944083975656782\n",
      "[0.09150340793283983, 0.09150340793283983, 0.09138679506902327, 0.09138679506902327, 0.09023588206159663, 0.09141323435133396, 0.09141323435133396, 0.09219880973739603, 0.09138679506902327, 0.09044596148869932, 0.09403380266740502, 0.09044596148869932, 0.09188610625789961, 0.09296876809485832, 0.09085954641563716, 0.09085954641563716, 0.09150340793283983, 0.09120032628472051, 0.08944083975656782, 0.08944083975656782]\n",
      "Current Population Best Score 0.08944083975656782, with DNA {'learning_rate': 0.06000000000000001, 'max_depth': 11, 'subsample': 0.7000000000000001}\n"
     ]
    }
   ],
   "source": [
    "generation5 = generate_next_population(generation4, train_data, valid_data, n_children=20, mutation=0.1)"
   ]
  },
  {
   "cell_type": "markdown",
   "metadata": {
    "id": "KQb9pKRI0aCk"
   },
   "source": [
    "The comparison here is not as fair for coordinate descent and random search because we fix `n_estimators` here. So it might be good to rerun coordinate descent and random search, but keep `n_estimators` fixed. Regardless, we can indeed see that GA does indeed give better results than coordinate descent and random search."
   ]
  },
  {
   "cell_type": "code",
   "execution_count": 23,
   "metadata": {
    "colab": {
     "base_uri": "https://localhost:8080/"
    },
    "id": "zYGkUATV6VeM",
    "outputId": "5d29e7b7-a12c-4c08-fb8b-3e8579bfd3fe"
   },
   "outputs": [
    {
     "name": "stdout",
     "output_type": "stream",
     "text": [
      "0.00724586724861683\n",
      "CPU times: user 2min 43s, sys: 384 ms, total: 2min 44s\n",
      "Wall time: 2min 43s\n"
     ]
    }
   ],
   "source": [
    "%%time\n",
    "# Best parameters by genetic algorithm - 5 generations each with 20 population size (100 total)\n",
    "\n",
    "best_parameters = {'learning_rate': 0.06000000000000001, 'max_depth': 11, 'subsample': 0.7000000000000001}\n",
    "\n",
    "final_model = XGBRegressor(objective='reg:squarederror', random_state=0, n_estimators=200, **best_parameters)\n",
    "final_model.fit(perth_train.drop('log10_price', axis=1), perth_train['log10_price'])\n",
    "\n",
    "y = perth_test['log10_price']\n",
    "y_pred = final_model.predict(perth_test.drop('log10_price', axis=1))\n",
    "\n",
    "print(np.mean((y - y_pred) ** 2))"
   ]
  },
  {
   "cell_type": "code",
   "execution_count": 25,
   "metadata": {
    "colab": {
     "base_uri": "https://localhost:8080/"
    },
    "id": "RJE_RyR18nO4",
    "outputId": "d29321ec-fddb-4f68-e63e-a5001a6ed1ef"
   },
   "outputs": [
    {
     "name": "stdout",
     "output_type": "stream",
     "text": [
      "0.007313312056798277\n",
      "CPU times: user 2min 8s, sys: 242 ms, total: 2min 8s\n",
      "Wall time: 2min 8s\n"
     ]
    }
   ],
   "source": [
    "%%time\n",
    "# Best parameters by coordinate descent - 153 different models sampled\n",
    "\n",
    "best_parameters = {'learning_rate': 0.09, 'max_depth': 11, 'n_estimators': 170, 'subsample': 0.8}\n",
    "\n",
    "final_model = XGBRegressor(objective='reg:squarederror', random_state=0, **best_parameters)\n",
    "final_model.fit(perth_train.drop('log10_price', axis=1), perth_train['log10_price'])\n",
    "\n",
    "y = perth_test['log10_price']\n",
    "y_pred = final_model.predict(perth_test.drop('log10_price', axis=1))\n",
    "\n",
    "print(np.mean((y - y_pred) ** 2))"
   ]
  },
  {
   "cell_type": "code",
   "execution_count": 27,
   "metadata": {
    "colab": {
     "base_uri": "https://localhost:8080/"
    },
    "id": "7f-vm52U0QOP",
    "outputId": "68b47167-52d2-4a51-eeba-a8debcc07ac9"
   },
   "outputs": [
    {
     "name": "stdout",
     "output_type": "stream",
     "text": [
      "0.007533777469334824\n",
      "CPU times: user 4min 14s, sys: 358 ms, total: 4min 15s\n",
      "Wall time: 4min 13s\n"
     ]
    }
   ],
   "source": [
    "%%time\n",
    "# Best parameters by random search (75 models sampled)\n",
    "\n",
    "best_parameters = {'learning_rate': 0.08, 'max_depth': 21, 'n_estimators': 160, 'subsample': 0.5}\n",
    "\n",
    "final_model = XGBRegressor(objective='reg:squarederror', random_state=0, **best_parameters)\n",
    "final_model.fit(perth_train.drop('log10_price', axis=1), perth_train['log10_price'])\n",
    "\n",
    "y = perth_test['log10_price']\n",
    "y_pred = final_model.predict(perth_test.drop('log10_price', axis=1))\n",
    "\n",
    "print(np.mean((y - y_pred) ** 2))"
   ]
  },
  {
   "cell_type": "code",
   "execution_count": null,
   "metadata": {
    "id": "aSJqCl3W0hg1"
   },
   "outputs": [],
   "source": []
  }
 ],
 "metadata": {
  "colab": {
   "collapsed_sections": [],
   "name": "Genetic Algorithm.ipynb",
   "provenance": []
  },
  "kernelspec": {
   "display_name": "Python 3",
   "language": "python",
   "name": "python3"
  },
  "language_info": {
   "codemirror_mode": {
    "name": "ipython",
    "version": 3
   },
   "file_extension": ".py",
   "mimetype": "text/x-python",
   "name": "python",
   "nbconvert_exporter": "python",
   "pygments_lexer": "ipython3",
   "version": "3.7.6"
  }
 },
 "nbformat": 4,
 "nbformat_minor": 1
}
