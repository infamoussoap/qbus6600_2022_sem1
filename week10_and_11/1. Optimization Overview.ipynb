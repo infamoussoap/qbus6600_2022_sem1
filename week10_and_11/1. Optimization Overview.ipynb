{
 "cells": [
  {
   "cell_type": "markdown",
   "metadata": {},
   "source": [
    "# Introduction\n",
    "\n",
    "Optimzation is an incredibly diverse field that goes from very theoretical math to very applied applications. But they all rest on the same beginning. The idea with optimization is that we have some goal, call it $G$ and we want to try to find the optimal value $x$ that minimizes (or maximizes) that goal. This is typically written as such\n",
    "$$\\arg\\min_x\\ G(x)$$\n",
    "\n",
    "Importantly, this goal can be anything, for example one important use of optimization is how to get from point A to point B as fast as you can. In this case $x$ will be the different routes that one can take from A to B, and $G$ will be the time taken. So\n",
    "$$G(x) = \\textrm{Time taken to go from Point A to Point B using the route}\\ x$$\n",
    "Now this problem is known as the \"Shortest path problem\" and has been solved in many ways: Dijkstra's algorithm, Bellman-Ford, A*, etc.\n",
    "\n",
    "\n",
    "Really what interests us is where $x$ is the parameters of the model and $G$ is the validation (or CV) error\n",
    "$$G(x) = \\textrm{Validation error of a model with the parameters}\\ x$$"
   ]
  },
  {
   "cell_type": "markdown",
   "metadata": {},
   "source": [
    "# Continous Problems\n",
    "\n",
    "One of the most simpliest optimization problems to slove is when $G(x)$ is continuous, and therefore it's derivative $G'(x)$ exists. \n",
    "\n",
    "### Simple Example - Classic 1st Year Calculus Example\n",
    "\n",
    "Find the dimensions of a rectangle such that it has the maximum area with a given perimeter of 10cm. In this case \n",
    "$$G(l, w) = \\textrm{Area of the rectangle that has a width of}\\ w\\ \\textrm{and height of}\\ l$$\n",
    "$$\\textrm{On the condition that}\\ 2l+2w=10$$\n",
    "\n",
    "Optimizing this is simple, since $2l+2w=10\\implies l+w=5\\implies w=5-l$\n",
    "$$G=lw=l(5-l)=5l-l^2$$\n",
    "Which is continuous and we can take the derivative of this:\n",
    "$$G'=5-2l=0\\implies l=\\frac{5}{2}=2.5$$\n",
    "Therefore the optimal length and width is $l=2.5$, and $w=2.5$"
   ]
  },
  {
   "cell_type": "markdown",
   "metadata": {},
   "source": [
    "### Quick Aside\n",
    "\n",
    "Just to give some background, I have an undergraduate in applied mathematics so I have taken courses on \"optimization\". Time after time I am always disappointed by these courses, because while they do teach you optimization, it is always optimization on the most contrived, non-realistic examples that no-one will ever use in the real world.\n",
    "\n",
    "So the question I gave you before typically is shown as a a farmer who has 10km of fencing and they want to make an area as big as they can. BUT WHO CARES. Or they will give you an incredibly non-realistic example that will only exist in fantasy.\n",
    "\n",
    "The big issue that these problems all have is that the loss function is continuous and the derivative is easy to solve. But there are many situations, and even very simply situations, where you have a continuous function but the derivative is not so easy to solve. So what do you do then?"
   ]
  },
  {
   "cell_type": "markdown",
   "metadata": {},
   "source": [
    "### More Complex Example - Portfolio Optimization\n",
    "\n",
    "Let us consider portfolio optimization (Note that if you really care about portfolio optimization then what I'm doing here is very very inefficient. You should look at the Efficient Frountier if you really care about portfolio optimization).\n",
    "\n",
    "The aim of portfolio optimization is to maximize the returns of our portfolio, while minimizing the volatility. In math terms we can write this as\n",
    "\n",
    "$$G=\\mu - \\alpha \\sigma^2$$\n",
    "where $\\mu$ is the average returns of the portfolio and $\\sigma^2$ is the variance of the portfolio. And we want to maximize $G$. $\\alpha$ can be thought of as the risk tolerance (and regularization of sorts). If $\\alpha=0$ then all we care about is $G=\\mu$ and therefore we only care about maximizing the returns.\n",
    "\n",
    "If we think back to regularization, when $\\alpha=0$ (i.e. the regularization strentgh = 0) then the model is overfitting. In portfolio optimization overfitting is maximizing returns. When $\\alpha$ gets bigger, (i.e. the regularization strength increase) we expect models to underfit. In the same sense, we should expect the portfolio returns to be smaller, but the volatility is also smaller as well.\n",
    "\n",
    "Now when $\\alpha>0$ it means that we want to care about the volatility, and so we want to find the optimal returns at a given level of volatility. So $\\alpha$ can be thought of as the risk tolerance, when $\\alpha$ is small we have a high risk tolerance (we only care about returns), but when $\\alpha$ is big we have a very low risk tolerance. \n",
    "\n",
    "But the main goal in portfolio optimization is to say, given a risk tolerance $\\alpha$ what is the optimal returns of my portfolio."
   ]
  },
  {
   "cell_type": "markdown",
   "metadata": {},
   "source": [
    "Keeping it simple, consider my portfolio consisted of only 2 stocks, where $r_1^t$ is the returns of asset 1 at time $t$ and $r_2^t$ is the returns of asset 2 at time $t$. Let $w\\in[0,1]$ be the weighting of asset 1, and therefore $1-w$ is the weighting of asset 2. (For example if $w=0.2$ then the portfolio consists of $20\\%$ asset 1 and $80\\%$ asset 2."
   ]
  },
  {
   "cell_type": "markdown",
   "metadata": {},
   "source": [
    "Then the portfolio returns at time $t$\n",
    "$$R_t=wr_1^t + (1-w)r_2^t$$\n",
    "\n",
    "So we want to maximize\n",
    "$$G = \\mu - \\alpha \\sigma^2$$\n",
    "Where \n",
    "$$\\mu=\\frac{1}{T}\\sum_{t=1}^TR_t \\quad \\sigma^2=\\frac{1}{T}\\sum_{t=1}^T (R_t-\\mu)^2$$"
   ]
  },
  {
   "cell_type": "markdown",
   "metadata": {},
   "source": [
    "Following from before, we can just take the derivative of $G$ with respect to the weight $w$."
   ]
  },
  {
   "cell_type": "markdown",
   "metadata": {},
   "source": [
    "$$\\frac{\\partial G}{\\partial w}=\\frac{\\partial \\mu}{\\partial w}-\\alpha\\frac{\\partial \\sigma^2}{\\partial w}$$\n",
    "\n",
    "\n",
    "Now \n",
    "$$\\frac{\\partial \\mu}{\\partial w}=\\frac{1}{T}\\sum_t\\frac{\\partial R_t}{\\partial w}=\\frac{1}{T}\\sum_t(r_1^t-r_2^t)$$\n",
    "\n",
    "Likewise, by using the chain rule\n",
    "$$\\frac{\\partial \\sigma^2}{\\partial w}=\\frac{2}{T}\\sum_t(R_t - \\mu)\\bigg(\\frac{\\partial R_t}{\\partial w} - \\frac{\\partial \\mu}{\\partial w}\\bigg)=\\frac{2}{T}\\sum_t (R_t-\\mu)(r_1^t-r_2^t-\\frac{\\partial \\mu}{\\partial w})$$"
   ]
  },
  {
   "cell_type": "markdown",
   "metadata": {},
   "source": [
    "So in total\n",
    "\n",
    "$$\\frac{\\partial G}{\\partial w} = \\frac{1}{T}\\sum_t(r_1^t-r_2^t) - \\alpha \\bigg[\\frac{2}{T}\\sum_t (R_t-\\mu)(r_1^t-r_2^t-\\frac{\\partial \\mu}{\\partial w})\\bigg]$$"
   ]
  },
  {
   "cell_type": "markdown",
   "metadata": {},
   "source": [
    "This is a horrible expression to try and I dare you to try and solve it equal to 0. So we do something else instead."
   ]
  },
  {
   "cell_type": "markdown",
   "metadata": {},
   "source": [
    "Just to recap, here we have a problem where we can take the derivative with respect to the inputs. But the problem is that solving\n",
    "$$\\frac{\\partial G}{\\partial w}=0$$\n",
    "is just too difficult. So this is a situation where the gradients exists, but too diffcult to solve. So instead we do something different, we will use gradient descent.\n",
    "\n",
    "As an aside, I use TensorFlow because that was what was popular when I started machine learning like 6 years ago. But now people like to use PyTorch, so don't use TensorFlow, use PyTorch. Don't be like me."
   ]
  },
  {
   "cell_type": "code",
   "execution_count": 1,
   "metadata": {},
   "outputs": [],
   "source": [
    "import numpy as np\n",
    "import tensorflow as tf\n",
    "\n",
    "import matplotlib.pyplot as plt\n",
    "\n",
    "import yfinance as yf\n",
    "import datetime"
   ]
  },
  {
   "cell_type": "code",
   "execution_count": 2,
   "metadata": {},
   "outputs": [
    {
     "name": "stdout",
     "output_type": "stream",
     "text": [
      "[*********************100%***********************]  2 of 2 completed\n"
     ]
    }
   ],
   "source": [
    "start = datetime.date(2020, 1, 1)\n",
    "end = datetime.date(2021, 1, 1)\n",
    "\n",
    "ticker = yf.Tickers(\"MSFT AAPL\")\n",
    "close_history = ticker.history(start=start, end=end)[\"Close\"]\n",
    "\n",
    "returns = np.log(close_history).diff().dropna(axis=0)"
   ]
  },
  {
   "cell_type": "code",
   "execution_count": 3,
   "metadata": {},
   "outputs": [
    {
     "data": {
      "text/html": [
       "<div>\n",
       "<style scoped>\n",
       "    .dataframe tbody tr th:only-of-type {\n",
       "        vertical-align: middle;\n",
       "    }\n",
       "\n",
       "    .dataframe tbody tr th {\n",
       "        vertical-align: top;\n",
       "    }\n",
       "\n",
       "    .dataframe thead th {\n",
       "        text-align: right;\n",
       "    }\n",
       "</style>\n",
       "<table border=\"1\" class=\"dataframe\">\n",
       "  <thead>\n",
       "    <tr style=\"text-align: right;\">\n",
       "      <th></th>\n",
       "      <th>AAPL</th>\n",
       "      <th>MSFT</th>\n",
       "    </tr>\n",
       "    <tr>\n",
       "      <th>Date</th>\n",
       "      <th></th>\n",
       "      <th></th>\n",
       "    </tr>\n",
       "  </thead>\n",
       "  <tbody>\n",
       "    <tr>\n",
       "      <th>2020-01-02</th>\n",
       "      <td>0.022560</td>\n",
       "      <td>0.018347</td>\n",
       "    </tr>\n",
       "    <tr>\n",
       "      <th>2020-01-03</th>\n",
       "      <td>-0.009770</td>\n",
       "      <td>-0.012530</td>\n",
       "    </tr>\n",
       "    <tr>\n",
       "      <th>2020-01-06</th>\n",
       "      <td>0.007937</td>\n",
       "      <td>0.002581</td>\n",
       "    </tr>\n",
       "    <tr>\n",
       "      <th>2020-01-07</th>\n",
       "      <td>-0.004714</td>\n",
       "      <td>-0.009160</td>\n",
       "    </tr>\n",
       "    <tr>\n",
       "      <th>2020-01-08</th>\n",
       "      <td>0.015958</td>\n",
       "      <td>0.015803</td>\n",
       "    </tr>\n",
       "  </tbody>\n",
       "</table>\n",
       "</div>"
      ],
      "text/plain": [
       "                AAPL      MSFT\n",
       "Date                          \n",
       "2020-01-02  0.022560  0.018347\n",
       "2020-01-03 -0.009770 -0.012530\n",
       "2020-01-06  0.007937  0.002581\n",
       "2020-01-07 -0.004714 -0.009160\n",
       "2020-01-08  0.015958  0.015803"
      ]
     },
     "execution_count": 3,
     "metadata": {},
     "output_type": "execute_result"
    }
   ],
   "source": [
    "returns.head()"
   ]
  },
  {
   "cell_type": "markdown",
   "metadata": {},
   "source": [
    "This is how you compute gradients using tensorflow."
   ]
  },
  {
   "cell_type": "code",
   "execution_count": 4,
   "metadata": {},
   "outputs": [
    {
     "data": {
      "text/plain": [
       "<tf.Tensor: shape=(), dtype=float32, numpy=0.002503505>"
      ]
     },
     "execution_count": 4,
     "metadata": {},
     "output_type": "execute_result"
    }
   ],
   "source": [
    "alpha = 10\n",
    "w = tf.constant(0.0)\n",
    "with tf.GradientTape() as g:\n",
    "    g.watch(w)\n",
    "    \n",
    "    R_t = w * returns[\"MSFT\"] + (1 - w) * returns[\"AAPL\"]\n",
    "    mu = tf.reduce_mean(R_t)\n",
    "    std = tf.reduce_mean((R_t - mu) ** 2)\n",
    "    \n",
    "    G = mu - alpha * std\n",
    "    \n",
    "dG_dw = g.gradient(G, w)\n",
    "dG_dw"
   ]
  },
  {
   "cell_type": "code",
   "execution_count": 5,
   "metadata": {},
   "outputs": [],
   "source": [
    "alpha = 10\n",
    "learning_rate = 100\n",
    "\n",
    "w = tf.constant(0.0)\n",
    "history = []\n",
    "\n",
    "for _ in range(1000):\n",
    "    with tf.GradientTape() as g:\n",
    "        g.watch(w)\n",
    "                \n",
    "        R_t = w * returns[\"MSFT\"] + (1 - w) * returns[\"AAPL\"]\n",
    "        mu = tf.reduce_mean(R_t)\n",
    "        std = tf.reduce_mean((R_t - mu) ** 2)\n",
    "\n",
    "        G = mu - alpha * std\n",
    "\n",
    "    dG_dw = g.gradient(G, w)\n",
    "    \n",
    "    # Note that we want to maximize G here, not minimize. \n",
    "    # -= will minimize the loss function while += will maximize\n",
    "    w += learning_rate * dG_dw\n",
    "    history.append(w.numpy())"
   ]
  },
  {
   "cell_type": "code",
   "execution_count": 6,
   "metadata": {},
   "outputs": [
    {
     "data": {
      "image/png": "[encoded data removed]",
      "text/plain": [
       "<Figure size 432x288 with 1 Axes>"
      ]
     },
     "metadata": {
      "needs_background": "light"
     },
     "output_type": "display_data"
    }
   ],
   "source": [
    "plt.plot(history);"
   ]
  },
  {
   "cell_type": "code",
   "execution_count": 7,
   "metadata": {},
   "outputs": [
    {
     "data": {
      "text/plain": [
       "0.48860517"
      ]
     },
     "execution_count": 7,
     "metadata": {},
     "output_type": "execute_result"
    }
   ],
   "source": [
    "history[-1]"
   ]
  },
  {
   "cell_type": "markdown",
   "metadata": {},
   "source": [
    "So this is saying that the optimal weight for our portfolio is $w=0.488$, and this weight is the weight that will give the highest returns for the risk tolerance $\\alpha=10$! How cool! We didn't even need to do complex math."
   ]
  },
  {
   "cell_type": "code",
   "execution_count": 8,
   "metadata": {},
   "outputs": [],
   "source": [
    "alpha = 1\n",
    "learning_rate = 100\n",
    "\n",
    "w = tf.constant(0.0)\n",
    "history = []\n",
    "\n",
    "for _ in range(1000):\n",
    "    with tf.GradientTape() as g:\n",
    "        g.watch(w)\n",
    "                \n",
    "        R_t = w * returns[\"MSFT\"] + (1 - w) * returns[\"AAPL\"]\n",
    "        mu = tf.reduce_mean(R_t)\n",
    "        std = tf.reduce_mean((R_t - mu) ** 2)\n",
    "\n",
    "        G = mu - alpha * std\n",
    "\n",
    "    dG_dw = g.gradient(G, w)\n",
    "    \n",
    "    w += learning_rate * dG_dw\n",
    "    history.append(w.numpy())"
   ]
  },
  {
   "cell_type": "code",
   "execution_count": 9,
   "metadata": {},
   "outputs": [
    {
     "data": {
      "image/png": "[encoded data removed]",
      "text/plain": [
       "<Figure size 432x288 with 1 Axes>"
      ]
     },
     "metadata": {
      "needs_background": "light"
     },
     "output_type": "display_data"
    }
   ],
   "source": [
    "plt.plot(history)\n",
    "plt.title(f\"Alpha = {alpha}\");"
   ]
  },
  {
   "cell_type": "code",
   "execution_count": 10,
   "metadata": {},
   "outputs": [
    {
     "data": {
      "text/plain": [
       "-1.30398"
      ]
     },
     "execution_count": 10,
     "metadata": {},
     "output_type": "execute_result"
    }
   ],
   "source": [
    "history[-1]"
   ]
  },
  {
   "cell_type": "markdown",
   "metadata": {},
   "source": [
    "Interesting, this is now saying that the optimal weight for the risk tolerance $\\alpha=1$ is $w=-1.30$. Let's see why"
   ]
  },
  {
   "cell_type": "code",
   "execution_count": 11,
   "metadata": {},
   "outputs": [
    {
     "name": "stdout",
     "output_type": "stream",
     "text": [
      "Mean: 0.0038\n",
      "Var : 0.0018\n"
     ]
    }
   ],
   "source": [
    "# Optimal w for alpha=1\n",
    "w = -1.3532923\n",
    "\n",
    "mu = np.mean(w * returns[\"MSFT\"] + (1 - w) * returns[\"AAPL\"])\n",
    "var = np.var(w * returns[\"MSFT\"] + (1 - w) * returns[\"AAPL\"])\n",
    "\n",
    "print(\"Mean:\", round(mu, 4))\n",
    "print(\"Var :\", round(var, 4))"
   ]
  },
  {
   "cell_type": "code",
   "execution_count": 12,
   "metadata": {},
   "outputs": [
    {
     "name": "stdout",
     "output_type": "stream",
     "text": [
      "Mean: 0.0019\n",
      "Var : 0.0008\n"
     ]
    }
   ],
   "source": [
    "# Optimal w for alpha=10\n",
    "w = 0.48860407\n",
    "\n",
    "mu = np.mean(w * returns[\"MSFT\"] + (1 - w) * returns[\"AAPL\"])\n",
    "var = np.var(w * returns[\"MSFT\"] + (1 - w) * returns[\"AAPL\"])\n",
    "\n",
    "print(\"Mean:\", round(mu, 4))\n",
    "print(\"Var :\", round(var, 4))"
   ]
  },
  {
   "cell_type": "markdown",
   "metadata": {},
   "source": [
    "Well first we can see that our optimization works as expected. When $\\alpha$ increases (i.e. the risk tolerance) the variance of the portfolio decreases, but the returns also decrease as well.\n",
    "\n",
    "But a negative weight basically means that we allow our portfolio to have short positions, which further increases the riskyness of the portfolio. But this can be fixed easily by re-writing the optimization problem as follows"
   ]
  },
  {
   "cell_type": "markdown",
   "metadata": {},
   "source": [
    "Then the portfolio returns at time $t$\n",
    "$$R_t=r_1^t + (1-w)r_2^t, \\quad \\textrm{where}\\ w = \\textrm{Sigmoid}(\\theta).$$\n",
    "\n",
    "So we want to maximize\n",
    "$$G = \\mu - \\alpha \\sigma^2$$\n",
    "Where \n",
    "$$\\mu=\\frac{1}{T}\\sum_{t=1}^TR_t \\quad \\sigma^2=\\frac{1}{T}\\sum_{t=1}^T (R_t-\\mu)^2$$\n",
    "\n",
    "Notice we just simply place an intermediate step $w=\\textrm{Sigmoid}(\\theta)$. But this intermediate step ensures that $w\\in(0,1)$ and is not negative. But the important thing here is that rather than taking the derivative with respect to $w$ we take the derivative with respect to $\\theta$."
   ]
  },
  {
   "cell_type": "code",
   "execution_count": 13,
   "metadata": {},
   "outputs": [],
   "source": [
    "alpha = 10\n",
    "learning_rate = 100\n",
    "\n",
    "𝜃 = tf.constant(0.1)\n",
    "history = []\n",
    "\n",
    "for _ in range(1000):\n",
    "    with tf.GradientTape() as g:\n",
    "        g.watch(𝜃)\n",
    "        \n",
    "        w = tf.math.sigmoid(𝜃)\n",
    "                \n",
    "        R_t = w * returns[\"MSFT\"] + (1 - w) * returns[\"AAPL\"]\n",
    "        mu = tf.reduce_mean(R_t)\n",
    "        std = tf.reduce_mean((R_t - mu) ** 2)\n",
    "\n",
    "        G = mu - alpha * std\n",
    "\n",
    "    dG_d𝜃 = g.gradient(G, 𝜃)\n",
    "    \n",
    "    𝜃 += learning_rate * dG_d𝜃\n",
    "    history.append(tf.math.sigmoid(𝜃).numpy())"
   ]
  },
  {
   "cell_type": "code",
   "execution_count": 14,
   "metadata": {},
   "outputs": [
    {
     "data": {
      "image/png": "[encoded data removed]",
      "text/plain": [
       "<Figure size 432x288 with 1 Axes>"
      ]
     },
     "metadata": {
      "needs_background": "light"
     },
     "output_type": "display_data"
    }
   ],
   "source": [
    "plt.plot(history);"
   ]
  },
  {
   "cell_type": "code",
   "execution_count": 15,
   "metadata": {},
   "outputs": [
    {
     "data": {
      "text/plain": [
       "0.48860553"
      ]
     },
     "execution_count": 15,
     "metadata": {},
     "output_type": "execute_result"
    }
   ],
   "source": [
    "history[-1]"
   ]
  },
  {
   "cell_type": "markdown",
   "metadata": {},
   "source": [
    "This is good, because 0.488 was the exact same value as what we got before we did the intermediate step"
   ]
  },
  {
   "cell_type": "code",
   "execution_count": 16,
   "metadata": {},
   "outputs": [],
   "source": [
    "alpha = 1\n",
    "learning_rate = 300\n",
    "\n",
    "𝜃 = tf.constant(0.1)\n",
    "history = []\n",
    "\n",
    "for _ in range(4000):\n",
    "    with tf.GradientTape() as g:\n",
    "        g.watch(𝜃)\n",
    "        \n",
    "        w = tf.math.sigmoid(𝜃)\n",
    "                \n",
    "        R_t = w * returns[\"MSFT\"] + (1 - w) * returns[\"AAPL\"]\n",
    "        mu = tf.reduce_mean(R_t)\n",
    "        std = tf.reduce_mean((R_t - mu) ** 2)\n",
    "\n",
    "        G = mu - alpha * std\n",
    "\n",
    "    dG_d𝜃 = g.gradient(G, 𝜃)\n",
    "    \n",
    "    𝜃 += learning_rate * dG_d𝜃\n",
    "    history.append(tf.math.sigmoid(𝜃).numpy())"
   ]
  },
  {
   "cell_type": "code",
   "execution_count": 17,
   "metadata": {},
   "outputs": [
    {
     "data": {
      "image/png": "[encoded data removed]",
      "text/plain": [
       "<Figure size 432x288 with 1 Axes>"
      ]
     },
     "metadata": {
      "needs_background": "light"
     },
     "output_type": "display_data"
    }
   ],
   "source": [
    "plt.plot(history);"
   ]
  },
  {
   "cell_type": "code",
   "execution_count": 18,
   "metadata": {},
   "outputs": [
    {
     "data": {
      "text/plain": [
       "0.0012576878"
      ]
     },
     "execution_count": 18,
     "metadata": {},
     "output_type": "execute_result"
    }
   ],
   "source": [
    "history[-1]"
   ]
  },
  {
   "cell_type": "markdown",
   "metadata": {},
   "source": [
    "Basically this is saying that $w=0$, and so we only want asset 2 (AAPL) in our portfolio."
   ]
  },
  {
   "cell_type": "markdown",
   "metadata": {},
   "source": [
    "### Recap\n",
    "\n",
    "So that is basically it for continuous optimization. There is a bit more I can talk about, like the differences between (stochastic) gradient descent vs. RMSProp vs. ADAM, as well as Newton's method. But that basically completes continuous optimization.\n",
    "\n",
    "But just to quickly review what just happened. Let's say that we have a optimization problem $G(x)$ and we are lucky enough that $G$ has derivatives. Then\n",
    "1. If we can solve $\\partial G/\\partial x=0$ then this is good. We have gauranted optimal solution.\n",
    "2. However, as shown here, there are a lot of problems where this equation ($\\partial G/\\partial x=0$) cannot be solved. But since it's gradients exist we can use gradient descent to solve it. Of course, gradient descent has it's own problems, but I won't get into that here."
   ]
  },
  {
   "cell_type": "markdown",
   "metadata": {},
   "source": [
    "# Non-Continuous Problems\n",
    "\n",
    "That's good and all, but what happens if the problem that I have has no derivatives. Going back to the introduction where the goal is to go from Point A to Point B as quick as you can, there is no way you can take the derivative with respect to the different paths. Another example is trying to find the best move in a Chess game, or a game like LOL. There is simply no way that these problems are continuous. \n",
    "\n",
    "So how do I solve this?\n",
    "\n",
    "### The Key to Optimization\n",
    "The key to all optimization is to exploit any information about the problem you have at hand. \n",
    "\n",
    "- In the case of continuous problems, we are going to exploit the fact that we can compute the derivatives. We will then use the derivatives to find the optimal solution\n",
    "- In the case of the Shortest Path Problem, and optimal Chess/LOL move, you can exploit the fact that these can be modeled as graphs. Since these exists on a graph you can use things like Bellman-Ford, A*, etc. But that's not relevant to us here.\n",
    "\n",
    "However, for this course we really are interested in find the hyper-parameters that give the best validation or CV error. The hyper-parameters are definetely not differentiable, nor do they exist on a graph. Really there is no information to exploit.\n",
    "\n",
    "So the question is now, how do we optimize something where there is no information to exploit about them. To solve this we will look at meta-heuristic algorithms. Meta-heuristic algorithms simply try to optimize your loss function, but the key is that the make very little assumptions about the problem you are trying to solve. \n",
    "\n",
    "Because they make so little assumptions they can be used on a wide variety of problems. However, there is **no gaurantee** that the optimum solution can be found. As such, in theory, one can use meta-heuristics algorithms on continuous problems or even on the shortest path problem, but there is no gaurantee that the optimum solution can or will be found. In contrast, when we exploit the fact that gradients exist, or that the problem exists on a graph we can gaurantees on finding the optimum solution."
   ]
  },
  {
   "cell_type": "markdown",
   "metadata": {},
   "source": [
    "Regardless, taking from Wikipedia\n",
    "\n",
    "    Metaheuristics sample a subset of solutions which is otherwise too large to be completely enumerated or otherwise explored.\n",
    "    \n",
    "    [M]etaheuristics can often find good solutions with less computational effort than optimization algorithms, iterative methods, or simple heuristics. As such, they are useful approaches for optimization problems\n",
    "    \n",
    "Just giving some examples of the algorithms they are comparing to\n",
    "- Optimization Algorithms: Grid Search/Randomized Search\n",
    "- Iterative Methods: Coordinate descent\n",
    "- Simple Heuristics: Greedy search\n",
    "\n",
    "Again from Wikipedia\n",
    "\n",
    "    These are properties that characterize most metaheuristics:[3]\n",
    "        - Metaheuristics are strategies that guide the search process.\n",
    "        - The goal is to efficiently explore the search space in order to find near–optimal solutions.\n",
    "        - Metaheuristic algorithms are approximate and usually non-deterministic.\n",
    "        - Metaheuristics are not problem-specific.\n",
    "\n",
    "The important point to highlight is that metaheuristic algorithms are non-deterministic. Meaning that when everytime you run the algorithm you may actually get different results. This is because, at least for the algoithms that we will look at, there is a level of randomness that is inherent to these algorithms.\n",
    "\n",
    "Regardless, we will be looking at three of the most popular meta-heuristic algorithms (1) Genetic Algorithms and (2) Simulated Annealing and (if we have time) (3) Particle Swarm"
   ]
  }
 ],
 "metadata": {
  "kernelspec": {
   "display_name": "Python 3",
   "language": "python",
   "name": "python3"
  },
  "language_info": {
   "codemirror_mode": {
    "name": "ipython",
    "version": 3
   },
   "file_extension": ".py",
   "mimetype": "text/x-python",
   "name": "python",
   "nbconvert_exporter": "python",
   "pygments_lexer": "ipython3",
   "version": "3.7.6"
  }
 },
 "nbformat": 4,
 "nbformat_minor": 4
}
