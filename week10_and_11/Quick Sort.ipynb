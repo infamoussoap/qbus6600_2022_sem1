{
 "cells": [
  {
   "cell_type": "code",
   "execution_count": 1,
   "metadata": {},
   "outputs": [],
   "source": [
    "import numpy as np"
   ]
  },
  {
   "cell_type": "code",
   "execution_count": 6,
   "metadata": {},
   "outputs": [],
   "source": [
    "np.random.seed(0)\n",
    "x = list(np.random.rand(100))"
   ]
  },
  {
   "cell_type": "code",
   "execution_count": 9,
   "metadata": {},
   "outputs": [],
   "source": [
    "def quick_sort(x):\n",
    "    if len(x) == 1:\n",
    "        return x\n",
    "    elif len(x) == 0:\n",
    "        return []\n",
    "\n",
    "    pivot = x.pop()\n",
    "    \n",
    "    left_of_pivot = []\n",
    "    right_of_pivot = []\n",
    "    for y in x:\n",
    "        if y < pivot:\n",
    "            left_of_pivot.append(y)\n",
    "        else:\n",
    "            right_of_pivot.append(y)\n",
    "            \n",
    "    return quick_sort(left_of_pivot) + [pivot] + quick_sort(right_of_pivot)"
   ]
  },
  {
   "cell_type": "code",
   "execution_count": null,
   "metadata": {},
   "outputs": [],
   "source": []
  },
  {
   "cell_type": "code",
   "execution_count": null,
   "metadata": {},
   "outputs": [],
   "source": []
  }
 ],
 "metadata": {
  "kernelspec": {
   "display_name": "Python 3",
   "language": "python",
   "name": "python3"
  },
  "language_info": {
   "codemirror_mode": {
    "name": "ipython",
    "version": 3
   },
   "file_extension": ".py",
   "mimetype": "text/x-python",
   "name": "python",
   "nbconvert_exporter": "python",
   "pygments_lexer": "ipython3",
   "version": "3.7.6"
  }
 },
 "nbformat": 4,
 "nbformat_minor": 4
}
