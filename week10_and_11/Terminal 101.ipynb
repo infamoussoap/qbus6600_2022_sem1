{
 "cells": [
  {
   "cell_type": "markdown",
   "metadata": {},
   "source": [
    "# Most Important Comands\n",
    "\n",
    "If you know these commands you basically know 80% of the useful terminal commands.\n",
    "\n",
    "- `cd` - Change Directory\n",
    "- `cd ..` - Move to previous directory\n",
    "- `mkdir` - Make directory\n",
    "- `rm` - Remove File\n",
    "- `rm -r` - Remove Folder\n",
    "- `ls` - List files in current directory\n",
    "- `open` - Only on mac, open file/filder (or `xdg-open` on linux)\n",
    "- `clear` - Clears the terminal\n",
    "- Press `Tab` - Auto complete \n",
    "- `..` means previous directory while `.` means current directory. So `open ..` will open the previous directory while `open .` will open the current directory you are in\n",
    "\n",
    "### More Advanced Comands\n",
    "- `vim` - Text editor on terminal\n",
    "- `screen` - Splits the terminal window in half, so you can have two terminal windows at once. Very useful when you are on a terminal only server. Needs to be installed first\n",
    "- `git` - Creates a git repository\n",
    "- `sudo` - `sudo` followed by a command (like `sudo rm`) performs actions in adminstrator mode\n",
    "- `rm -rf` - Force remove a folder (be careful when using this)\n",
    "- `pwd` - Prints the current working directory"
   ]
  },
  {
   "cell_type": "code",
   "execution_count": 1,
   "metadata": {},
   "outputs": [],
   "source": [
    "import os"
   ]
  },
  {
   "cell_type": "code",
   "execution_count": 5,
   "metadata": {},
   "outputs": [
    {
     "data": {
      "text/plain": [
       "0"
      ]
     },
     "execution_count": 5,
     "metadata": {},
     "output_type": "execute_result"
    }
   ],
   "source": [
    "os.system('open .')"
   ]
  },
  {
   "cell_type": "code",
   "execution_count": null,
   "metadata": {},
   "outputs": [],
   "source": []
  }
 ],
 "metadata": {
  "kernelspec": {
   "display_name": "Python 3",
   "language": "python",
   "name": "python3"
  },
  "language_info": {
   "codemirror_mode": {
    "name": "ipython",
    "version": 3
   },
   "file_extension": ".py",
   "mimetype": "text/x-python",
   "name": "python",
   "nbconvert_exporter": "python",
   "pygments_lexer": "ipython3",
   "version": "3.7.6"
  }
 },
 "nbformat": 4,
 "nbformat_minor": 4
}
