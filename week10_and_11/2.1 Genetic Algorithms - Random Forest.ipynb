{
 "cells": [
  {
   "cell_type": "code",
   "execution_count": null,
   "metadata": {
    "id": "oipeHdNByXCg"
   },
   "outputs": [],
   "source": [
    "import pandas as pd\n",
    "import numpy as np\n",
    "\n",
    "from xgboost import XGBRegressor\n",
    "from sklearn.ensemble import RandomForestRegressor\n",
    "\n",
    "from sklearn.model_selection import train_test_split"
   ]
  },
  {
   "cell_type": "code",
   "execution_count": null,
   "metadata": {
    "id": "HfL33UZDzOvD"
   },
   "outputs": [],
   "source": [
    "perth = pd.read_csv('perth_clean.csv')\n",
    "perth = pd.get_dummies(perth, columns=['suburb'])\n",
    "\n",
    "train_indices, test_indices = train_test_split(perth.index, test_size=0.2, random_state=0)\n",
    "\n",
    "perth_train = perth.loc[train_indices].copy()\n",
    "perth_test = perth.loc[test_indices].copy()"
   ]
  },
  {
   "cell_type": "code",
   "execution_count": null,
   "metadata": {
    "colab": {
     "base_uri": "https://localhost:8080/"
    },
    "id": "5U6o_F8XzQMA",
    "outputId": "7cccff08-8a78-4c0a-8930-45e312b0c7eb"
   },
   "outputs": [
    {
     "name": "stdout",
     "output_type": "stream",
     "text": [
      "Sampled set length 5384\n"
     ]
    }
   ],
   "source": [
    "indices = list(perth_train.index.copy())\n",
    "# np.random.seed(5)\n",
    "np.random.shuffle(indices)\n",
    "\n",
    "sampled_indices = indices[:int(len(indices) * 0.2)]\n",
    "sampled_perth = perth_train.loc[sampled_indices, :].copy()\n",
    "\n",
    "print(\"Sampled set length\", len(sampled_indices))"
   ]
  },
  {
   "cell_type": "code",
   "execution_count": null,
   "metadata": {
    "id": "TYFzhXGWzQXJ"
   },
   "outputs": [],
   "source": [
    "n = len(sampled_perth)\n",
    "sampled_train_indices, sampled_valid_indices = train_test_split(np.arange(n), test_size=0.2, random_state=0)\n",
    "\n",
    "\n",
    "sampled_x_train = sampled_perth.iloc[sampled_train_indices].drop('log10_price', axis=1)\n",
    "sampled_y_train = sampled_perth.iloc[sampled_train_indices]['log10_price'].copy()\n",
    "\n",
    "sampled_x_valid = sampled_perth.iloc[sampled_valid_indices].drop('log10_price', axis=1)\n",
    "sampled_y_valid = sampled_perth.iloc[sampled_valid_indices]['log10_price'].copy()"
   ]
  },
  {
   "cell_type": "code",
   "execution_count": null,
   "metadata": {
    "id": "mPB3ve_XzRC5"
   },
   "outputs": [],
   "source": [
    "train_data = (sampled_x_train, sampled_y_train)\n",
    "valid_data = (sampled_x_valid, sampled_y_valid)"
   ]
  },
  {
   "cell_type": "code",
   "execution_count": null,
   "metadata": {
    "colab": {
     "base_uri": "https://localhost:8080/"
    },
    "id": "Z5-uQrZZzRw-",
    "outputId": "6438c337-26a4-409e-9f78-8855de4b13c3"
   },
   "outputs": [
    {
     "name": "stdout",
     "output_type": "stream",
     "text": [
      "Training length of sampled data 4307\n",
      "Validiation length of sampled data 1077\n"
     ]
    }
   ],
   "source": [
    "print(\"Training length of sampled data\", len(sampled_x_train))\n",
    "print(\"Validiation length of sampled data\", len(sampled_x_valid))"
   ]
  },
  {
   "cell_type": "code",
   "execution_count": null,
   "metadata": {
    "id": "a7KpsCFXzSms"
   },
   "outputs": [],
   "source": [
    "def score_population(population, train_data, valid_data):\n",
    "    \"\"\" Scores the population on the given dataset \"\"\"\n",
    "    population_scores = []\n",
    "    n = len(population)\n",
    "    for i, person in enumerate(population):\n",
    "        base_model = RandomForestRegressor(criterion='squared_error', random_state=0, **person)\n",
    "        score = score_model(base_model, train_data, valid_data)\n",
    "        population_scores.append(score)\n",
    "        \n",
    "        print(f\"{i + 1} of {n}: DNA {person} has score {score}\")\n",
    "    \n",
    "    return population_scores\n",
    "\n",
    "def score_model(model, train_data, valid_data):\n",
    "    x_train, y_train = train_data\n",
    "    x_valid, y_valid = valid_data\n",
    "    \n",
    "    model.fit(x_train, y_train)\n",
    "    \n",
    "    y_pred = model.predict(x_valid)\n",
    "    return np.sqrt(np.mean((y_valid - y_pred) ** 2))"
   ]
  },
  {
   "cell_type": "code",
   "execution_count": null,
   "metadata": {
    "id": "JJT60HjJzU3C"
   },
   "outputs": [],
   "source": [
    "def make_children_from_population(population, population_scores, n_children, mutation=0.5):\n",
    "    children = []\n",
    "    for i in range(n_children):\n",
    "        parent1, parent2 = np.random.choice(population, 2, replace=False)\n",
    "        \n",
    "        child = generate_child(parent1, parent2)\n",
    "        child = mutate_child(child, mutation=mutation)\n",
    "\n",
    "        children.append(child)\n",
    "        \n",
    "    return children\n",
    "\n",
    "def generate_child(person1, person2, p=0.5):\n",
    "    child = {}\n",
    "    for key in person1.keys():\n",
    "        rand = np.random.rand()\n",
    "        if rand < p:\n",
    "            child[key] = person1[key]\n",
    "        else:\n",
    "            child[key] = person2[key]\n",
    "            \n",
    "    return child\n",
    "\n",
    "def mutate_child(child, mutation=0.5):\n",
    "    child = child.copy()\n",
    "    for key in child.keys():\n",
    "        rand = np.random.rand()\n",
    "        if rand < mutation:\n",
    "            child[key] = np.random.choice(parameter_grid[key])\n",
    "            \n",
    "    return child"
   ]
  },
  {
   "cell_type": "code",
   "execution_count": null,
   "metadata": {
    "id": "KeHzAn4SzYN7"
   },
   "outputs": [],
   "source": [
    "def generate_next_population(current_population, train_data, valid_data, n_children=10, mutation=0.5):\n",
    "    print(\"Scoring Population\")\n",
    "    population_scores = score_population(current_population, train_data, valid_data)\n",
    "\n",
    "    sorted_population, sorted_scores = sort_population_by_scores(current_population, population_scores)\n",
    "\n",
    "    n = len(sorted_population) // 2\n",
    "    top_population = sorted_population[:n]\n",
    "    top_scores = sorted_scores[:n]\n",
    "\n",
    "    next_population = make_children_from_population(top_population, top_scores, n_children-1, mutation=mutation)\n",
    "    next_population.append(sorted_population[0])  # Elitism\n",
    "    \n",
    "    print(f\"Current Population Best Score {sorted_scores[0]}, with DNA {sorted_population[0]}\")\n",
    "    return next_population\n",
    "\n",
    "def sort_population_by_scores(population, population_scores):\n",
    "    sorted_population_with_scores = sorted(zip(population_scores, population))\n",
    "    \n",
    "    sorted_population = [person for score, person in sorted_population_with_scores]\n",
    "    sorted_scores = [score for score, person in sorted_population_with_scores]\n",
    "\n",
    "    return sorted_population, sorted_scores"
   ]
  },
  {
   "cell_type": "code",
   "execution_count": null,
   "metadata": {
    "id": "Aj259iYvzcjQ"
   },
   "outputs": [],
   "source": [
    "parameter_grid = {'min_samples_leaf': np.arange(1, 100 + 1),\n",
    "                  'max_features': np.arange(1, len(perth_train.columns) - 1, 5)}"
   ]
  },
  {
   "cell_type": "code",
   "execution_count": null,
   "metadata": {
    "id": "-WQY40S0zfPr"
   },
   "outputs": [],
   "source": [
    "initial_population = [{key: np.random.choice(val) for key, val in parameter_grid.items()}\n",
    "                      for _ in range(20)]"
   ]
  },
  {
   "cell_type": "markdown",
   "metadata": {
    "id": "ZNjmAVl7YHRp"
   },
   "source": [
    "Here I intentionally started of with an inital population where the `min_sample_leaf` is all very high. But, based on what we know of random forests, we should know that we want `min_sample_leaf` to be small. So lets see if genetic algorithms can actually find this."
   ]
  },
  {
   "cell_type": "code",
   "execution_count": null,
   "metadata": {
    "colab": {
     "base_uri": "https://localhost:8080/"
    },
    "id": "6giUbZOlzf0M",
    "outputId": "4e845e1e-133e-4f13-a871-3e271bbbce8d"
   },
   "outputs": [
    {
     "name": "stdout",
     "output_type": "stream",
     "text": [
      "Scoring Population\n",
      "1 of 20: DNA {'min_samples_leaf': 21, 'max_features': 151} has score 0.11538892000627582\n",
      "2 of 20: DNA {'min_samples_leaf': 50, 'max_features': 246} has score 0.12891387539840599\n",
      "3 of 20: DNA {'min_samples_leaf': 60, 'max_features': 276} has score 0.13272264547129287\n",
      "4 of 20: DNA {'min_samples_leaf': 13, 'max_features': 271} has score 0.10981016146979641\n",
      "5 of 20: DNA {'min_samples_leaf': 15, 'max_features': 116} has score 0.11360288593478063\n",
      "6 of 20: DNA {'min_samples_leaf': 90, 'max_features': 121} has score 0.13804981290326476\n",
      "7 of 20: DNA {'min_samples_leaf': 59, 'max_features': 236} has score 0.13185571519911496\n",
      "8 of 20: DNA {'min_samples_leaf': 70, 'max_features': 131} has score 0.1349720843575971\n",
      "9 of 20: DNA {'min_samples_leaf': 24, 'max_features': 196} has score 0.11696525912713024\n",
      "10 of 20: DNA {'min_samples_leaf': 11, 'max_features': 116} has score 0.10999899715307844\n",
      "11 of 20: DNA {'min_samples_leaf': 90, 'max_features': 131} has score 0.1383872030694755\n",
      "12 of 20: DNA {'min_samples_leaf': 98, 'max_features': 226} has score 0.1397785362464365\n",
      "13 of 20: DNA {'min_samples_leaf': 12, 'max_features': 1} has score 0.2170432856335283\n",
      "14 of 20: DNA {'min_samples_leaf': 77, 'max_features': 181} has score 0.13589261846925635\n",
      "15 of 20: DNA {'min_samples_leaf': 26, 'max_features': 71} has score 0.12612850409016071\n",
      "16 of 20: DNA {'min_samples_leaf': 15, 'max_features': 176} has score 0.11208595892865655\n",
      "17 of 20: DNA {'min_samples_leaf': 22, 'max_features': 51} has score 0.1388863605975001\n",
      "18 of 20: DNA {'min_samples_leaf': 49, 'max_features': 266} has score 0.13024105426353075\n",
      "19 of 20: DNA {'min_samples_leaf': 97, 'max_features': 301} has score 0.14072186792751604\n",
      "20 of 20: DNA {'min_samples_leaf': 37, 'max_features': 316} has score 0.12423993494045166\n",
      "Current Population Best Score 0.10981016146979641, with DNA {'min_samples_leaf': 13, 'max_features': 271}\n"
     ]
    }
   ],
   "source": [
    "generation1 = generate_next_population(initial_population, train_data, valid_data, n_children=20, mutation=0.5)"
   ]
  },
  {
   "cell_type": "code",
   "execution_count": null,
   "metadata": {
    "colab": {
     "base_uri": "https://localhost:8080/"
    },
    "id": "ogSWCGboziLl",
    "outputId": "34629203-c1c2-4d53-ebfb-dd82257f4546"
   },
   "outputs": [
    {
     "name": "stdout",
     "output_type": "stream",
     "text": [
      "Scoring Population\n",
      "1 of 20: DNA {'min_samples_leaf': 37, 'max_features': 211} has score 0.12397019457926041\n",
      "2 of 20: DNA {'min_samples_leaf': 49, 'max_features': 266} has score 0.13024105426353075\n",
      "3 of 20: DNA {'min_samples_leaf': 4, 'max_features': 266} has score 0.1034871133408857\n",
      "4 of 20: DNA {'min_samples_leaf': 21, 'max_features': 151} has score 0.11538892000627582\n",
      "5 of 20: DNA {'min_samples_leaf': 50, 'max_features': 246} has score 0.12891387539840599\n",
      "6 of 20: DNA {'min_samples_leaf': 95, 'max_features': 246} has score 0.1397793346952394\n",
      "7 of 20: DNA {'min_samples_leaf': 16, 'max_features': 196} has score 0.11210459663541276\n",
      "8 of 20: DNA {'min_samples_leaf': 72, 'max_features': 116} has score 0.13543117903324753\n",
      "9 of 20: DNA {'min_samples_leaf': 69, 'max_features': 31} has score 0.18036857577079077\n",
      "10 of 20: DNA {'min_samples_leaf': 37, 'max_features': 266} has score 0.1241478037430166\n",
      "11 of 20: DNA {'min_samples_leaf': 49, 'max_features': 26} has score 0.18187221737660067\n",
      "12 of 20: DNA {'min_samples_leaf': 37, 'max_features': 266} has score 0.1241478037430166\n",
      "13 of 20: DNA {'min_samples_leaf': 11, 'max_features': 176} has score 0.10938265805238902\n",
      "14 of 20: DNA {'min_samples_leaf': 37, 'max_features': 221} has score 0.12408155472552641\n",
      "15 of 20: DNA {'min_samples_leaf': 26, 'max_features': 181} has score 0.11845698748859514\n",
      "16 of 20: DNA {'min_samples_leaf': 49, 'max_features': 156} has score 0.12932968647580045\n",
      "17 of 20: DNA {'min_samples_leaf': 21, 'max_features': 266} has score 0.11470663381634992\n",
      "18 of 20: DNA {'min_samples_leaf': 56, 'max_features': 196} has score 0.13125356807586241\n",
      "19 of 20: DNA {'min_samples_leaf': 26, 'max_features': 266} has score 0.11818852404011145\n",
      "20 of 20: DNA {'min_samples_leaf': 13, 'max_features': 271} has score 0.10981016146979641\n",
      "Current Population Best Score 0.1034871133408857, with DNA {'min_samples_leaf': 4, 'max_features': 266}\n"
     ]
    }
   ],
   "source": [
    "generation2 = generate_next_population(generation1, train_data, valid_data, n_children=20, mutation=0.5)"
   ]
  },
  {
   "cell_type": "code",
   "execution_count": null,
   "metadata": {
    "colab": {
     "base_uri": "https://localhost:8080/"
    },
    "id": "ry1Q2gQLzn4D",
    "outputId": "c2c940a3-ba70-4801-c683-f20cbfa64a58"
   },
   "outputs": [
    {
     "name": "stdout",
     "output_type": "stream",
     "text": [
      "Scoring Population\n",
      "1 of 20: DNA {'min_samples_leaf': 58, 'max_features': 151} has score 0.13059337464275864\n",
      "2 of 20: DNA {'min_samples_leaf': 26, 'max_features': 101} has score 0.12117516382749478\n",
      "3 of 20: DNA {'min_samples_leaf': 4, 'max_features': 271} has score 0.10395497080216104\n",
      "4 of 20: DNA {'min_samples_leaf': 35, 'max_features': 176} has score 0.1219392934481044\n",
      "5 of 20: DNA {'min_samples_leaf': 86, 'max_features': 266} has score 0.13860797602538297\n",
      "6 of 20: DNA {'min_samples_leaf': 21, 'max_features': 151} has score 0.11538892000627582\n",
      "7 of 20: DNA {'min_samples_leaf': 77, 'max_features': 51} has score 0.15297115205966091\n",
      "8 of 20: DNA {'min_samples_leaf': 26, 'max_features': 181} has score 0.11845698748859514\n",
      "9 of 20: DNA {'min_samples_leaf': 72, 'max_features': 271} has score 0.13560644104105357\n",
      "10 of 20: DNA {'min_samples_leaf': 89, 'max_features': 71} has score 0.14579861317730688\n",
      "11 of 20: DNA {'min_samples_leaf': 37, 'max_features': 211} has score 0.12397019457926041\n",
      "12 of 20: DNA {'min_samples_leaf': 74, 'max_features': 266} has score 0.13572009147734287\n",
      "13 of 20: DNA {'min_samples_leaf': 37, 'max_features': 96} has score 0.12621597343026958\n",
      "14 of 20: DNA {'min_samples_leaf': 100, 'max_features': 311} has score 0.14133799794537533\n",
      "15 of 20: DNA {'min_samples_leaf': 37, 'max_features': 181} has score 0.12416452866673497\n",
      "16 of 20: DNA {'min_samples_leaf': 13, 'max_features': 266} has score 0.1100631825562891\n",
      "17 of 20: DNA {'min_samples_leaf': 36, 'max_features': 271} has score 0.12343741080081441\n",
      "18 of 20: DNA {'min_samples_leaf': 26, 'max_features': 176} has score 0.11856559920674889\n",
      "19 of 20: DNA {'min_samples_leaf': 16, 'max_features': 196} has score 0.11210459663541276\n",
      "20 of 20: DNA {'min_samples_leaf': 4, 'max_features': 266} has score 0.1034871133408857\n",
      "Current Population Best Score 0.1034871133408857, with DNA {'min_samples_leaf': 4, 'max_features': 266}\n"
     ]
    }
   ],
   "source": [
    "generation3 = generate_next_population(generation2, train_data, valid_data, n_children=20, mutation=0.5)"
   ]
  },
  {
   "cell_type": "markdown",
   "metadata": {
    "id": "Yl0s5jEIYcy9"
   },
   "source": [
    "Very cool, in 3 generations we now have 3 people with low `min_samples_leaf`. So now we are at a point where we want the algorithm to exploit this new information it found. But because the mutation rate is so high, it is likely that `min_sample_leaf` will mutate to something bigger."
   ]
  },
  {
   "cell_type": "code",
   "execution_count": null,
   "metadata": {
    "colab": {
     "base_uri": "https://localhost:8080/"
    },
    "id": "CwT8CT27zquD",
    "outputId": "8eba59aa-ea12-4a7f-c9d5-b65de9c2e17c"
   },
   "outputs": [
    {
     "name": "stdout",
     "output_type": "stream",
     "text": [
      "Scoring Population\n",
      "1 of 20: DNA {'min_samples_leaf': 57, 'max_features': 101} has score 0.13196686441543531\n",
      "2 of 20: DNA {'min_samples_leaf': 36, 'max_features': 271} has score 0.12343741080081441\n",
      "3 of 20: DNA {'min_samples_leaf': 47, 'max_features': 116} has score 0.12787457591718618\n",
      "4 of 20: DNA {'min_samples_leaf': 1, 'max_features': 271} has score 0.10260411007269372\n",
      "5 of 20: DNA {'min_samples_leaf': 4, 'max_features': 176} has score 0.10313711470499154\n",
      "6 of 20: DNA {'min_samples_leaf': 36, 'max_features': 181} has score 0.12383760174700248\n",
      "7 of 20: DNA {'min_samples_leaf': 4, 'max_features': 271} has score 0.10395497080216104\n",
      "8 of 20: DNA {'min_samples_leaf': 26, 'max_features': 266} has score 0.11818852404011145\n",
      "9 of 20: DNA {'min_samples_leaf': 4, 'max_features': 146} has score 0.10336221724165372\n",
      "10 of 20: DNA {'min_samples_leaf': 19, 'max_features': 266} has score 0.11344773150806396\n",
      "11 of 20: DNA {'min_samples_leaf': 77, 'max_features': 271} has score 0.13644383622135833\n",
      "12 of 20: DNA {'min_samples_leaf': 15, 'max_features': 271} has score 0.1111275363614617\n",
      "13 of 20: DNA {'min_samples_leaf': 16, 'max_features': 196} has score 0.11210459663541276\n",
      "14 of 20: DNA {'min_samples_leaf': 26, 'max_features': 161} has score 0.11814359876896055\n",
      "15 of 20: DNA {'min_samples_leaf': 26, 'max_features': 31} has score 0.17474330447712677\n",
      "16 of 20: DNA {'min_samples_leaf': 98, 'max_features': 266} has score 0.14047089701329557\n",
      "17 of 20: DNA {'min_samples_leaf': 4, 'max_features': 1} has score 0.20877393983965253\n",
      "18 of 20: DNA {'min_samples_leaf': 43, 'max_features': 221} has score 0.12676360020279953\n",
      "19 of 20: DNA {'min_samples_leaf': 35, 'max_features': 141} has score 0.1237546610590755\n",
      "20 of 20: DNA {'min_samples_leaf': 4, 'max_features': 266} has score 0.1034871133408857\n",
      "Current Population Best Score 0.10260411007269372, with DNA {'min_samples_leaf': 1, 'max_features': 271}\n"
     ]
    }
   ],
   "source": [
    "generation4_high_mutation = generate_next_population(generation3, train_data, valid_data, n_children=20, mutation=0.5)"
   ]
  },
  {
   "cell_type": "code",
   "execution_count": null,
   "metadata": {
    "colab": {
     "base_uri": "https://localhost:8080/"
    },
    "id": "wV5Y4bI9eGg1",
    "outputId": "f3db7d6a-bf4e-41c2-84de-cf3d450fab8e"
   },
   "outputs": [
    {
     "name": "stdout",
     "output_type": "stream",
     "text": [
      "{'min_samples_leaf': 26, 'max_features': 266}\n",
      "{'min_samples_leaf': 42, 'max_features': 136}\n",
      "{'min_samples_leaf': 92, 'max_features': 161}\n",
      "{'min_samples_leaf': 26, 'max_features': 161}\n",
      "{'min_samples_leaf': 26, 'max_features': 36}\n",
      "{'min_samples_leaf': 97, 'max_features': 266}\n",
      "{'min_samples_leaf': 89, 'max_features': 271}\n",
      "{'min_samples_leaf': 4, 'max_features': 146}\n",
      "{'min_samples_leaf': 26, 'max_features': 211}\n",
      "{'min_samples_leaf': 93, 'max_features': 266}\n",
      "{'min_samples_leaf': 19, 'max_features': 266}\n",
      "{'min_samples_leaf': 1, 'max_features': 26}\n",
      "{'min_samples_leaf': 6, 'max_features': 266}\n",
      "{'min_samples_leaf': 26, 'max_features': 266}\n",
      "{'min_samples_leaf': 4, 'max_features': 111}\n",
      "{'min_samples_leaf': 41, 'max_features': 271}\n",
      "{'min_samples_leaf': 65, 'max_features': 266}\n",
      "{'min_samples_leaf': 4, 'max_features': 146}\n",
      "{'min_samples_leaf': 89, 'max_features': 271}\n",
      "{'min_samples_leaf': 1, 'max_features': 271}\n"
     ]
    }
   ],
   "source": [
    "for x in generation4_high_mutation:\n",
    "    print(x)"
   ]
  },
  {
   "cell_type": "code",
   "execution_count": null,
   "metadata": {
    "colab": {
     "base_uri": "https://localhost:8080/"
    },
    "id": "E23WlQK8akvn",
    "outputId": "1397276c-7dd2-432f-db39-8a281ecd129c"
   },
   "outputs": [
    {
     "name": "stdout",
     "output_type": "stream",
     "text": [
      "Scoring Population\n",
      "1 of 20: DNA {'min_samples_leaf': 57, 'max_features': 101} has score 0.13196686441543531\n",
      "2 of 20: DNA {'min_samples_leaf': 36, 'max_features': 271} has score 0.12343741080081441\n",
      "3 of 20: DNA {'min_samples_leaf': 47, 'max_features': 116} has score 0.12787457591718618\n",
      "4 of 20: DNA {'min_samples_leaf': 1, 'max_features': 271} has score 0.10260411007269372\n",
      "5 of 20: DNA {'min_samples_leaf': 4, 'max_features': 176} has score 0.10313711470499154\n",
      "6 of 20: DNA {'min_samples_leaf': 36, 'max_features': 181} has score 0.12383760174700248\n",
      "7 of 20: DNA {'min_samples_leaf': 4, 'max_features': 271} has score 0.10395497080216104\n",
      "8 of 20: DNA {'min_samples_leaf': 26, 'max_features': 266} has score 0.11818852404011145\n",
      "9 of 20: DNA {'min_samples_leaf': 4, 'max_features': 146} has score 0.10336221724165372\n",
      "10 of 20: DNA {'min_samples_leaf': 19, 'max_features': 266} has score 0.11344773150806396\n",
      "11 of 20: DNA {'min_samples_leaf': 77, 'max_features': 271} has score 0.13644383622135833\n",
      "12 of 20: DNA {'min_samples_leaf': 15, 'max_features': 271} has score 0.1111275363614617\n",
      "13 of 20: DNA {'min_samples_leaf': 16, 'max_features': 196} has score 0.11210459663541276\n",
      "14 of 20: DNA {'min_samples_leaf': 26, 'max_features': 161} has score 0.11814359876896055\n",
      "15 of 20: DNA {'min_samples_leaf': 26, 'max_features': 31} has score 0.17474330447712677\n",
      "16 of 20: DNA {'min_samples_leaf': 98, 'max_features': 266} has score 0.14047089701329557\n",
      "17 of 20: DNA {'min_samples_leaf': 4, 'max_features': 1} has score 0.20877393983965253\n",
      "18 of 20: DNA {'min_samples_leaf': 43, 'max_features': 221} has score 0.12676360020279953\n",
      "19 of 20: DNA {'min_samples_leaf': 35, 'max_features': 141} has score 0.1237546610590755\n",
      "20 of 20: DNA {'min_samples_leaf': 4, 'max_features': 266} has score 0.1034871133408857\n",
      "Current Population Best Score 0.10260411007269372, with DNA {'min_samples_leaf': 1, 'max_features': 271}\n"
     ]
    }
   ],
   "source": [
    "generation4_low_mutation = generate_next_population(generation3, train_data, valid_data, n_children=20, mutation=0.1)"
   ]
  },
  {
   "cell_type": "code",
   "execution_count": null,
   "metadata": {
    "colab": {
     "base_uri": "https://localhost:8080/"
    },
    "id": "hTfNdC9td1_D",
    "outputId": "a75d1476-7591-44c9-b8d1-9d2b3ae5a87a"
   },
   "outputs": [
    {
     "name": "stdout",
     "output_type": "stream",
     "text": [
      "{'min_samples_leaf': 4, 'max_features': 271}\n",
      "{'min_samples_leaf': 44, 'max_features': 271}\n",
      "{'min_samples_leaf': 4, 'max_features': 146}\n",
      "{'min_samples_leaf': 4, 'max_features': 271}\n",
      "{'min_samples_leaf': 15, 'max_features': 271}\n",
      "{'min_samples_leaf': 1, 'max_features': 271}\n",
      "{'min_samples_leaf': 1, 'max_features': 266}\n",
      "{'min_samples_leaf': 16, 'max_features': 271}\n",
      "{'min_samples_leaf': 16, 'max_features': 196}\n",
      "{'min_samples_leaf': 4, 'max_features': 266}\n",
      "{'min_samples_leaf': 1, 'max_features': 271}\n",
      "{'min_samples_leaf': 1, 'max_features': 271}\n",
      "{'min_samples_leaf': 16, 'max_features': 196}\n",
      "{'min_samples_leaf': 19, 'max_features': 161}\n",
      "{'min_samples_leaf': 16, 'max_features': 146}\n",
      "{'min_samples_leaf': 15, 'max_features': 176}\n",
      "{'min_samples_leaf': 16, 'max_features': 266}\n",
      "{'min_samples_leaf': 26, 'max_features': 266}\n",
      "{'min_samples_leaf': 26, 'max_features': 161}\n",
      "{'min_samples_leaf': 1, 'max_features': 271}\n"
     ]
    }
   ],
   "source": [
    "for x in generation4_low_mutation:\n",
    "    print(x)"
   ]
  },
  {
   "cell_type": "code",
   "execution_count": null,
   "metadata": {
    "colab": {
     "base_uri": "https://localhost:8080/"
    },
    "id": "UElmQnptWy2F",
    "outputId": "60270704-2aa3-48b9-868e-8bbe80139a9b"
   },
   "outputs": [
    {
     "name": "stdout",
     "output_type": "stream",
     "text": [
      "Scoring Population\n",
      "1 of 20: DNA {'min_samples_leaf': 4, 'max_features': 271} has score 0.10395497080216104\n",
      "2 of 20: DNA {'min_samples_leaf': 44, 'max_features': 271} has score 0.12714005659568547\n",
      "3 of 20: DNA {'min_samples_leaf': 4, 'max_features': 146} has score 0.10336221724165372\n",
      "4 of 20: DNA {'min_samples_leaf': 4, 'max_features': 271} has score 0.10395497080216104\n",
      "5 of 20: DNA {'min_samples_leaf': 15, 'max_features': 271} has score 0.1111275363614617\n",
      "6 of 20: DNA {'min_samples_leaf': 1, 'max_features': 271} has score 0.10260411007269372\n",
      "7 of 20: DNA {'min_samples_leaf': 1, 'max_features': 266} has score 0.10309294850322123\n",
      "8 of 20: DNA {'min_samples_leaf': 16, 'max_features': 271} has score 0.11190263569393659\n",
      "9 of 20: DNA {'min_samples_leaf': 16, 'max_features': 196} has score 0.11210459663541276\n",
      "10 of 20: DNA {'min_samples_leaf': 4, 'max_features': 266} has score 0.1034871133408857\n",
      "11 of 20: DNA {'min_samples_leaf': 1, 'max_features': 271} has score 0.10260411007269372\n",
      "12 of 20: DNA {'min_samples_leaf': 1, 'max_features': 271} has score 0.10260411007269372\n",
      "13 of 20: DNA {'min_samples_leaf': 16, 'max_features': 196} has score 0.11210459663541276\n",
      "14 of 20: DNA {'min_samples_leaf': 19, 'max_features': 161} has score 0.11426758898313193\n",
      "15 of 20: DNA {'min_samples_leaf': 16, 'max_features': 146} has score 0.11295868151450245\n",
      "16 of 20: DNA {'min_samples_leaf': 15, 'max_features': 176} has score 0.11208595892865655\n",
      "17 of 20: DNA {'min_samples_leaf': 16, 'max_features': 266} has score 0.11204524471099822\n",
      "18 of 20: DNA {'min_samples_leaf': 26, 'max_features': 266} has score 0.11818852404011145\n",
      "19 of 20: DNA {'min_samples_leaf': 26, 'max_features': 161} has score 0.11814359876896055\n",
      "20 of 20: DNA {'min_samples_leaf': 1, 'max_features': 271} has score 0.10260411007269372\n",
      "Current Population Best Score 0.10260411007269372, with DNA {'min_samples_leaf': 1, 'max_features': 271}\n"
     ]
    }
   ],
   "source": [
    "generation5 = generate_next_population(generation4_low_mutation, train_data, valid_data, n_children=20, mutation=0.1)"
   ]
  },
  {
   "cell_type": "markdown",
   "metadata": {
    "id": "ZGs2eQ3AfrpA"
   },
   "source": [
    "Note here that we only used 5 generations here, with 20 models each time. So a total of 100 models sampled. So lets compare this to what we did in preivous weeks where we sampled 159 models"
   ]
  },
  {
   "cell_type": "code",
   "execution_count": null,
   "metadata": {
    "colab": {
     "base_uri": "https://localhost:8080/"
    },
    "id": "Kws9whtAz1KC",
    "outputId": "6024dc07-88d4-4af2-bbba-f804a82dacf5"
   },
   "outputs": [
    {
     "name": "stdout",
     "output_type": "stream",
     "text": [
      "0.007931673841989126\n",
      "CPU times: user 56.6 s, sys: 76.6 ms, total: 56.6 s\n",
      "Wall time: 56.7 s\n"
     ]
    }
   ],
   "source": [
    "%%time\n",
    "best_parameters = {'min_samples_leaf': 1, 'max_features': 271}\n",
    "\n",
    "final_model = RandomForestRegressor(criterion='squared_error', random_state=0, **best_parameters)\n",
    "final_model.fit(perth_train.drop('log10_price', axis=1), perth_train['log10_price'])\n",
    "\n",
    "y = perth_test['log10_price']\n",
    "y_pred = final_model.predict(perth_test.drop('log10_price', axis=1))\n",
    "\n",
    "print(np.mean((y - y_pred) ** 2))"
   ]
  },
  {
   "cell_type": "code",
   "execution_count": null,
   "metadata": {
    "colab": {
     "base_uri": "https://localhost:8080/"
    },
    "id": "Y8ABA-Ctgm90",
    "outputId": "132320b7-01f3-4cd2-b9f9-b76223996146"
   },
   "outputs": [
    {
     "name": "stdout",
     "output_type": "stream",
     "text": [
      "0.007857488928888677\n"
     ]
    }
   ],
   "source": [
    "# Random Search\n",
    "best_parameters = {'min_samples_leaf': 1, 'max_features': 191}\n",
    "\n",
    "final_model = RandomForestRegressor(criterion='squared_error', random_state=0, **best_parameters)\n",
    "final_model.fit(perth_train.drop('log10_price', axis=1), perth_train['log10_price'])\n",
    "\n",
    "y = perth_test['log10_price']\n",
    "y_pred = final_model.predict(perth_test.drop('log10_price', axis=1))\n",
    "\n",
    "print(np.mean((y - y_pred) ** 2))"
   ]
  },
  {
   "cell_type": "code",
   "execution_count": null,
   "metadata": {
    "colab": {
     "base_uri": "https://localhost:8080/"
    },
    "id": "mhAY9M3Fgso3",
    "outputId": "0855b151-fbf5-42ca-f1e9-67aa6c59a984"
   },
   "outputs": [
    {
     "name": "stdout",
     "output_type": "stream",
     "text": [
      "0.00781962457241284\n"
     ]
    }
   ],
   "source": [
    "# Coordinate Descent\n",
    "base_parameters = {'min_samples_leaf': 1, 'max_features': 106}\n",
    "\n",
    "final_model = RandomForestRegressor(criterion='squared_error', random_state=0, **base_parameters)\n",
    "final_model.fit(perth_train.drop('log10_price', axis=1), perth_train['log10_price'])\n",
    "\n",
    "y = perth_test['log10_price']\n",
    "y_pred = final_model.predict(perth_test.drop('log10_price', axis=1))\n",
    "print(np.mean((y - y_pred) ** 2))\n"
   ]
  },
  {
   "cell_type": "code",
   "execution_count": null,
   "metadata": {
    "id": "RJE_RyR18nO4"
   },
   "outputs": [],
   "source": []
  }
 ],
 "metadata": {
  "colab": {
   "name": "Genetic Algorithm.ipynb",
   "provenance": []
  },
  "kernelspec": {
   "display_name": "Python 3",
   "language": "python",
   "name": "python3"
  },
  "language_info": {
   "codemirror_mode": {
    "name": "ipython",
    "version": 3
   },
   "file_extension": ".py",
   "mimetype": "text/x-python",
   "name": "python",
   "nbconvert_exporter": "python",
   "pygments_lexer": "ipython3",
   "version": "3.7.6"
  }
 },
 "nbformat": 4,
 "nbformat_minor": 1
}
