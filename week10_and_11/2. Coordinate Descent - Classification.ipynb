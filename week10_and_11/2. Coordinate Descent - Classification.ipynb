{
 "cells": [
  {
   "cell_type": "code",
   "execution_count": null,
   "metadata": {
    "id": "eG4aras6KyMK"
   },
   "outputs": [],
   "source": [
    "import numpy as np\n",
    "import pandas as pd\n",
    "\n",
    "from sklearn.model_selection import train_test_split, RandomizedSearchCV, GridSearchCV\n",
    "from sklearn.metrics import f1_score"
   ]
  },
  {
   "cell_type": "code",
   "execution_count": null,
   "metadata": {
    "id": "HEMcXGQJLRtR"
   },
   "outputs": [],
   "source": [
    "wage = pd.read_csv('Wage.csv')\n",
    "\n",
    "wage['high_earner'] = wage['wage'] > 250\n",
    "wage.drop(columns='wage', inplace=True)\n",
    "\n",
    "wage = pd.get_dummies(wage)"
   ]
  },
  {
   "cell_type": "code",
   "execution_count": null,
   "metadata": {
    "colab": {
     "base_uri": "https://localhost:8080/"
    },
    "id": "x75TSLfbMjN4",
    "outputId": "9043ffc9-03e3-46f8-da17-aea9d962bdb7"
   },
   "outputs": [
    {
     "data": {
      "text/plain": [
       "(3000, 23)"
      ]
     },
     "execution_count": 39,
     "metadata": {},
     "output_type": "execute_result"
    }
   ],
   "source": [
    "wage.shape"
   ]
  },
  {
   "cell_type": "code",
   "execution_count": null,
   "metadata": {
    "id": "Mv4-dIfDLRw0"
   },
   "outputs": [],
   "source": [
    "train_valid_indices, test_indices = train_test_split(np.array(wage.index), test_size=0.2, stratify=wage['high_earner'], random_state=0)\n",
    "\n",
    "train_valid_wage = wage.loc[train_valid_indices].copy()\n",
    "test_wage = wage.loc[test_indices].copy()"
   ]
  },
  {
   "cell_type": "code",
   "execution_count": null,
   "metadata": {
    "id": "Fn2iLlHWM6ag"
   },
   "outputs": [],
   "source": [
    "train_indices, valid_indices = train_test_split(np.arange(len(train_valid_wage)), test_size=0.2, stratify=train_valid_wage['high_earner'], random_state=0)"
   ]
  },
  {
   "cell_type": "code",
   "execution_count": null,
   "metadata": {
    "colab": {
     "base_uri": "https://localhost:8080/"
    },
    "id": "TD-81uAyM6fs",
    "outputId": "2f4caac8-21dd-4c05-ca58-700413f5fd3e"
   },
   "outputs": [
    {
     "name": "stdout",
     "output_type": "stream",
     "text": [
      "Train Length: 1920\n",
      "Valid Length: 480\n",
      "Test Length: 600\n"
     ]
    }
   ],
   "source": [
    "print(\"Train Length:\", len(train_indices))\n",
    "print(\"Valid Length:\", len(valid_indices))\n",
    "print(\"Test Length:\", len(test_indices))"
   ]
  },
  {
   "cell_type": "code",
   "execution_count": null,
   "metadata": {
    "id": "Bpn1MHVvNlai"
   },
   "outputs": [],
   "source": [
    "x_train_valid = wage.drop('high_earner', axis=1).loc[train_valid_indices]\n",
    "x_test = wage.drop('high_earner', axis=1).loc[test_indices]\n",
    "\n",
    "y_train_valid = wage.loc[train_valid_indices, 'high_earner'].copy()\n",
    "y_test = wage.loc[test_indices, 'high_earner'].copy()"
   ]
  },
  {
   "cell_type": "markdown",
   "metadata": {
    "id": "KB39bh17Pcu0"
   },
   "source": [
    "As a note, since this dataset is so small it might be a good idea to use CV when scoring the models. But I'm going to use validation split anyways"
   ]
  },
  {
   "cell_type": "markdown",
   "metadata": {
    "id": "YKK2hS7cNgKC"
   },
   "source": [
    "# Random Forests\n",
    "\n",
    "### Tutorial Solutions"
   ]
  },
  {
   "cell_type": "code",
   "execution_count": null,
   "metadata": {
    "id": "8DzRWMoULPwU"
   },
   "outputs": [],
   "source": [
    "from sklearn.ensemble import RandomForestClassifier"
   ]
  },
  {
   "cell_type": "code",
   "execution_count": null,
   "metadata": {
    "id": "peFf5zr_QP9f"
   },
   "outputs": [],
   "source": [
    "wage_tutorial = pd.read_csv('Wage.csv')\n",
    "wage_tutorial['high_earner'] = wage_tutorial['wage'] > 250\n",
    "wage_tutorial.drop(columns='wage', inplace=True)\n",
    "\n",
    "wage_tutorial = pd.get_dummies(wage_tutorial)\n",
    "\n",
    "train_indices_tutorial, test_indices_tutorial = train_test_split(np.array(wage_tutorial.index), test_size=0.2, \n",
    "                                                                 stratify=wage_tutorial['high_earner'], random_state=0)\n",
    "\n",
    "wage_tutorial_train = wage_tutorial.loc[train_indices_tutorial].copy()\n",
    "wage_tutorial_test = wage_tutorial.loc[test_indices_tutorial].copy()"
   ]
  },
  {
   "cell_type": "code",
   "execution_count": null,
   "metadata": {
    "colab": {
     "base_uri": "https://localhost:8080/"
    },
    "id": "xR1mXYatQgnx",
    "outputId": "a5e6c981-cbb6-4982-e2cf-82cfe116d74a"
   },
   "outputs": [
    {
     "name": "stdout",
     "output_type": "stream",
     "text": [
      "{'min_samples_leaf': 44, 'max_features': 5}\n",
      "CPU times: user 22.4 s, sys: 122 ms, total: 22.5 s\n",
      "Wall time: 22.5 s\n"
     ]
    }
   ],
   "source": [
    "%%time\n",
    "\n",
    "parameters = {'min_samples_leaf': np.arange(1, 50),\n",
    "              'max_features': np.arange(1, len(wage_tutorial_train.columns))} # We subtract 1 as it still contains high_earner\n",
    "\n",
    "random_search = RandomizedSearchCV(RandomForestClassifier(criterion='entropy', random_state=0),\n",
    "                                   parameters, n_iter=20, cv=5,\n",
    "                                   scoring='f1', random_state=0)\n",
    "\n",
    "model = random_search.fit(wage_tutorial_train.drop(columns='high_earner'), wage_tutorial_train['high_earner'])\n",
    "\n",
    "print(random_search.best_params_)"
   ]
  },
  {
   "cell_type": "markdown",
   "metadata": {
    "id": "q37yNPH8ROzY"
   },
   "source": [
    "### Using Coordinate Descent"
   ]
  },
  {
   "cell_type": "code",
   "execution_count": null,
   "metadata": {
    "colab": {
     "base_uri": "https://localhost:8080/"
    },
    "id": "MfnRv9KWM6hm",
    "outputId": "bdf2fff3-cc91-4815-bc0b-67c09e728a0f"
   },
   "outputs": [
    {
     "name": "stdout",
     "output_type": "stream",
     "text": [
      "{'min_samples_leaf': 32, 'max_features': 19}\n"
     ]
    }
   ],
   "source": [
    "parameter_grid = {'min_samples_leaf': np.arange(1, 50),\n",
    "                  'max_features': np.arange(1, len(x_train_valid.columns))}\n",
    "\n",
    "base_parameters = {key: np.random.choice(val) for key, val in parameter_grid.items()}\n",
    "print(base_parameters)"
   ]
  },
  {
   "cell_type": "code",
   "execution_count": null,
   "metadata": {
    "colab": {
     "base_uri": "https://localhost:8080/"
    },
    "id": "xBbhRAdFLRzK",
    "outputId": "8073dec2-9a3e-4c01-da66-c25e2821a593"
   },
   "outputs": [
    {
     "name": "stdout",
     "output_type": "stream",
     "text": [
      "{'min_samples_leaf': 32, 'max_features': 19}\n",
      "Fitting 1 folds for each of 49 candidates, totalling 49 fits\n",
      "[CV 1/1] END ................min_samples_leaf=1;, score=0.133 total time=   0.3s\n",
      "[CV 1/1] END ................min_samples_leaf=2;, score=0.000 total time=   0.3s\n",
      "[CV 1/1] END ................min_samples_leaf=3;, score=0.000 total time=   0.3s\n",
      "[CV 1/1] END ................min_samples_leaf=4;, score=0.000 total time=   0.3s\n",
      "[CV 1/1] END ................min_samples_leaf=5;, score=0.000 total time=   0.3s\n",
      "[CV 1/1] END ................min_samples_leaf=6;, score=0.000 total time=   0.3s\n",
      "[CV 1/1] END ................min_samples_leaf=7;, score=0.000 total time=   0.3s\n",
      "[CV 1/1] END ................min_samples_leaf=8;, score=0.000 total time=   0.3s\n",
      "[CV 1/1] END ................min_samples_leaf=9;, score=0.000 total time=   0.3s\n",
      "[CV 1/1] END ...............min_samples_leaf=10;, score=0.000 total time=   0.3s\n",
      "[CV 1/1] END ...............min_samples_leaf=11;, score=0.000 total time=   0.3s\n",
      "[CV 1/1] END ...............min_samples_leaf=12;, score=0.000 total time=   0.3s\n",
      "[CV 1/1] END ...............min_samples_leaf=13;, score=0.000 total time=   0.3s\n",
      "[CV 1/1] END ...............min_samples_leaf=14;, score=0.000 total time=   0.3s\n",
      "[CV 1/1] END ...............min_samples_leaf=15;, score=0.000 total time=   0.3s\n",
      "[CV 1/1] END ...............min_samples_leaf=16;, score=0.000 total time=   0.3s\n",
      "[CV 1/1] END ...............min_samples_leaf=17;, score=0.000 total time=   0.3s\n",
      "[CV 1/1] END ...............min_samples_leaf=18;, score=0.000 total time=   0.3s\n",
      "[CV 1/1] END ...............min_samples_leaf=19;, score=0.000 total time=   0.3s\n",
      "[CV 1/1] END ...............min_samples_leaf=20;, score=0.000 total time=   0.3s\n",
      "[CV 1/1] END ...............min_samples_leaf=21;, score=0.000 total time=   0.3s\n",
      "[CV 1/1] END ...............min_samples_leaf=22;, score=0.000 total time=   0.3s\n",
      "[CV 1/1] END ...............min_samples_leaf=23;, score=0.000 total time=   0.3s\n",
      "[CV 1/1] END ...............min_samples_leaf=24;, score=0.000 total time=   0.3s\n",
      "[CV 1/1] END ...............min_samples_leaf=25;, score=0.000 total time=   0.3s\n",
      "[CV 1/1] END ...............min_samples_leaf=26;, score=0.000 total time=   0.3s\n",
      "[CV 1/1] END ...............min_samples_leaf=27;, score=0.000 total time=   0.3s\n",
      "[CV 1/1] END ...............min_samples_leaf=28;, score=0.000 total time=   0.3s\n",
      "[CV 1/1] END ...............min_samples_leaf=29;, score=0.000 total time=   0.3s\n",
      "[CV 1/1] END ...............min_samples_leaf=30;, score=0.000 total time=   0.3s\n",
      "[CV 1/1] END ...............min_samples_leaf=31;, score=0.000 total time=   0.3s\n",
      "[CV 1/1] END ...............min_samples_leaf=32;, score=0.000 total time=   0.3s\n",
      "[CV 1/1] END ...............min_samples_leaf=33;, score=0.000 total time=   0.3s\n",
      "[CV 1/1] END ...............min_samples_leaf=34;, score=0.000 total time=   0.3s\n",
      "[CV 1/1] END ...............min_samples_leaf=35;, score=0.000 total time=   0.3s\n",
      "[CV 1/1] END ...............min_samples_leaf=36;, score=0.000 total time=   0.3s\n",
      "[CV 1/1] END ...............min_samples_leaf=37;, score=0.000 total time=   0.3s\n",
      "[CV 1/1] END ...............min_samples_leaf=38;, score=0.000 total time=   0.3s\n",
      "[CV 1/1] END ...............min_samples_leaf=39;, score=0.000 total time=   0.3s\n",
      "[CV 1/1] END ...............min_samples_leaf=40;, score=0.000 total time=   0.3s\n",
      "[CV 1/1] END ...............min_samples_leaf=41;, score=0.000 total time=   0.3s\n",
      "[CV 1/1] END ...............min_samples_leaf=42;, score=0.000 total time=   0.3s\n",
      "[CV 1/1] END ...............min_samples_leaf=43;, score=0.000 total time=   0.3s\n",
      "[CV 1/1] END ...............min_samples_leaf=44;, score=0.000 total time=   0.3s\n",
      "[CV 1/1] END ...............min_samples_leaf=45;, score=0.000 total time=   0.3s\n",
      "[CV 1/1] END ...............min_samples_leaf=46;, score=0.000 total time=   0.3s\n",
      "[CV 1/1] END ...............min_samples_leaf=47;, score=0.000 total time=   0.3s\n",
      "[CV 1/1] END ...............min_samples_leaf=48;, score=0.000 total time=   0.3s\n",
      "[CV 1/1] END ...............min_samples_leaf=49;, score=0.000 total time=   0.3s\n",
      "{'min_samples_leaf': 1, 'max_features': 19}\n",
      "Fitting 1 folds for each of 21 candidates, totalling 21 fits\n",
      "[CV 1/1] END ....................max_features=1;, score=0.235 total time=   0.2s\n",
      "[CV 1/1] END ....................max_features=2;, score=0.125 total time=   0.2s\n",
      "[CV 1/1] END ....................max_features=3;, score=0.125 total time=   0.2s\n",
      "[CV 1/1] END ....................max_features=4;, score=0.125 total time=   0.2s\n",
      "[CV 1/1] END ....................max_features=5;, score=0.125 total time=   0.2s\n",
      "[CV 1/1] END ....................max_features=6;, score=0.125 total time=   0.2s\n",
      "[CV 1/1] END ....................max_features=7;, score=0.125 total time=   0.2s\n",
      "[CV 1/1] END ....................max_features=8;, score=0.125 total time=   0.3s\n",
      "[CV 1/1] END ....................max_features=9;, score=0.125 total time=   0.2s\n",
      "[CV 1/1] END ...................max_features=10;, score=0.125 total time=   0.3s\n",
      "[CV 1/1] END ...................max_features=11;, score=0.125 total time=   0.3s\n",
      "[CV 1/1] END ...................max_features=12;, score=0.125 total time=   0.3s\n",
      "[CV 1/1] END ...................max_features=13;, score=0.125 total time=   0.3s\n",
      "[CV 1/1] END ...................max_features=14;, score=0.125 total time=   0.3s\n",
      "[CV 1/1] END ...................max_features=15;, score=0.125 total time=   0.3s\n",
      "[CV 1/1] END ...................max_features=16;, score=0.125 total time=   0.3s\n",
      "[CV 1/1] END ...................max_features=17;, score=0.125 total time=   0.3s\n",
      "[CV 1/1] END ...................max_features=18;, score=0.125 total time=   0.3s\n",
      "[CV 1/1] END ...................max_features=19;, score=0.133 total time=   0.3s\n",
      "[CV 1/1] END ...................max_features=20;, score=0.133 total time=   0.3s\n",
      "[CV 1/1] END ...................max_features=21;, score=0.133 total time=   0.3s\n",
      "{'min_samples_leaf': 1, 'max_features': 1}\n",
      "CPU times: user 19.4 s, sys: 146 ms, total: 19.5 s\n",
      "Wall time: 19.5 s\n"
     ]
    }
   ],
   "source": [
    "%%time\n",
    "\n",
    "print(base_parameters)\n",
    "for parameter, grid in parameter_grid.items():\n",
    "    base_model = RandomForestClassifier(criterion='entropy', random_state=0, **base_parameters)\n",
    "    \n",
    "    parameter_sub_grid = {parameter: grid}\n",
    "    search = GridSearchCV(base_model, parameter_sub_grid, \n",
    "                          cv=[(train_indices, valid_indices)], \n",
    "                          scoring=\"f1\", verbose=3, refit=False)\n",
    "    \n",
    "    search.fit(x_train_valid, y_train_valid)\n",
    "    \n",
    "    base_parameters.update(search.best_params_)\n",
    "    print(base_parameters)"
   ]
  },
  {
   "cell_type": "code",
   "execution_count": null,
   "metadata": {
    "colab": {
     "base_uri": "https://localhost:8080/"
    },
    "id": "vPjjbVOuOnec",
    "outputId": "4ccc0b0a-601b-4807-a4b1-9d755fa0ab4e"
   },
   "outputs": [
    {
     "name": "stdout",
     "output_type": "stream",
     "text": [
      "{'min_samples_leaf': 1, 'max_features': 1}\n",
      "Fitting 1 folds for each of 49 candidates, totalling 49 fits\n",
      "[CV 1/1] END ................min_samples_leaf=1;, score=0.235 total time=   0.2s\n",
      "[CV 1/1] END ................min_samples_leaf=2;, score=0.000 total time=   0.2s\n",
      "[CV 1/1] END ................min_samples_leaf=3;, score=0.000 total time=   0.2s\n",
      "[CV 1/1] END ................min_samples_leaf=4;, score=0.000 total time=   0.2s\n",
      "[CV 1/1] END ................min_samples_leaf=5;, score=0.000 total time=   0.2s\n",
      "[CV 1/1] END ................min_samples_leaf=6;, score=0.000 total time=   0.2s\n",
      "[CV 1/1] END ................min_samples_leaf=7;, score=0.000 total time=   0.2s\n",
      "[CV 1/1] END ................min_samples_leaf=8;, score=0.000 total time=   0.2s\n",
      "[CV 1/1] END ................min_samples_leaf=9;, score=0.000 total time=   0.2s\n",
      "[CV 1/1] END ...............min_samples_leaf=10;, score=0.000 total time=   0.2s\n",
      "[CV 1/1] END ...............min_samples_leaf=11;, score=0.000 total time=   0.2s\n",
      "[CV 1/1] END ...............min_samples_leaf=12;, score=0.000 total time=   0.2s\n",
      "[CV 1/1] END ...............min_samples_leaf=13;, score=0.000 total time=   0.2s\n",
      "[CV 1/1] END ...............min_samples_leaf=14;, score=0.000 total time=   0.2s\n",
      "[CV 1/1] END ...............min_samples_leaf=15;, score=0.000 total time=   0.2s\n",
      "[CV 1/1] END ...............min_samples_leaf=16;, score=0.000 total time=   0.2s\n",
      "[CV 1/1] END ...............min_samples_leaf=17;, score=0.000 total time=   0.2s\n",
      "[CV 1/1] END ...............min_samples_leaf=18;, score=0.000 total time=   0.2s\n",
      "[CV 1/1] END ...............min_samples_leaf=19;, score=0.000 total time=   0.2s\n",
      "[CV 1/1] END ...............min_samples_leaf=20;, score=0.000 total time=   0.2s\n",
      "[CV 1/1] END ...............min_samples_leaf=21;, score=0.000 total time=   0.2s\n",
      "[CV 1/1] END ...............min_samples_leaf=22;, score=0.000 total time=   0.2s\n",
      "[CV 1/1] END ...............min_samples_leaf=23;, score=0.000 total time=   0.2s\n",
      "[CV 1/1] END ...............min_samples_leaf=24;, score=0.000 total time=   0.2s\n",
      "[CV 1/1] END ...............min_samples_leaf=25;, score=0.000 total time=   0.2s\n",
      "[CV 1/1] END ...............min_samples_leaf=26;, score=0.000 total time=   0.2s\n",
      "[CV 1/1] END ...............min_samples_leaf=27;, score=0.000 total time=   0.2s\n",
      "[CV 1/1] END ...............min_samples_leaf=28;, score=0.000 total time=   0.2s\n",
      "[CV 1/1] END ...............min_samples_leaf=29;, score=0.000 total time=   0.2s\n",
      "[CV 1/1] END ...............min_samples_leaf=30;, score=0.000 total time=   0.2s\n",
      "[CV 1/1] END ...............min_samples_leaf=31;, score=0.000 total time=   0.2s\n",
      "[CV 1/1] END ...............min_samples_leaf=32;, score=0.000 total time=   0.2s\n",
      "[CV 1/1] END ...............min_samples_leaf=33;, score=0.000 total time=   0.2s\n",
      "[CV 1/1] END ...............min_samples_leaf=34;, score=0.000 total time=   0.2s\n",
      "[CV 1/1] END ...............min_samples_leaf=35;, score=0.000 total time=   0.2s\n",
      "[CV 1/1] END ...............min_samples_leaf=36;, score=0.000 total time=   0.2s\n",
      "[CV 1/1] END ...............min_samples_leaf=37;, score=0.000 total time=   0.2s\n",
      "[CV 1/1] END ...............min_samples_leaf=38;, score=0.000 total time=   0.2s\n",
      "[CV 1/1] END ...............min_samples_leaf=39;, score=0.000 total time=   0.2s\n",
      "[CV 1/1] END ...............min_samples_leaf=40;, score=0.000 total time=   0.2s\n",
      "[CV 1/1] END ...............min_samples_leaf=41;, score=0.000 total time=   0.2s\n",
      "[CV 1/1] END ...............min_samples_leaf=42;, score=0.000 total time=   0.2s\n",
      "[CV 1/1] END ...............min_samples_leaf=43;, score=0.000 total time=   0.2s\n",
      "[CV 1/1] END ...............min_samples_leaf=44;, score=0.000 total time=   0.2s\n",
      "[CV 1/1] END ...............min_samples_leaf=45;, score=0.000 total time=   0.2s\n",
      "[CV 1/1] END ...............min_samples_leaf=46;, score=0.000 total time=   0.2s\n",
      "[CV 1/1] END ...............min_samples_leaf=47;, score=0.000 total time=   0.2s\n",
      "[CV 1/1] END ...............min_samples_leaf=48;, score=0.000 total time=   0.2s\n",
      "[CV 1/1] END ...............min_samples_leaf=49;, score=0.000 total time=   0.2s\n",
      "{'min_samples_leaf': 1, 'max_features': 1}\n",
      "Fitting 1 folds for each of 21 candidates, totalling 21 fits\n",
      "[CV 1/1] END ....................max_features=1;, score=0.235 total time=   0.2s\n",
      "[CV 1/1] END ....................max_features=2;, score=0.125 total time=   0.2s\n",
      "[CV 1/1] END ....................max_features=3;, score=0.125 total time=   0.2s\n",
      "[CV 1/1] END ....................max_features=4;, score=0.125 total time=   0.2s\n",
      "[CV 1/1] END ....................max_features=5;, score=0.125 total time=   0.2s\n",
      "[CV 1/1] END ....................max_features=6;, score=0.125 total time=   0.2s\n",
      "[CV 1/1] END ....................max_features=7;, score=0.125 total time=   0.2s\n",
      "[CV 1/1] END ....................max_features=8;, score=0.125 total time=   0.2s\n",
      "[CV 1/1] END ....................max_features=9;, score=0.125 total time=   0.3s\n",
      "[CV 1/1] END ...................max_features=10;, score=0.125 total time=   0.3s\n",
      "[CV 1/1] END ...................max_features=11;, score=0.125 total time=   0.3s\n",
      "[CV 1/1] END ...................max_features=12;, score=0.125 total time=   0.3s\n",
      "[CV 1/1] END ...................max_features=13;, score=0.125 total time=   0.3s\n",
      "[CV 1/1] END ...................max_features=14;, score=0.125 total time=   0.3s\n",
      "[CV 1/1] END ...................max_features=15;, score=0.125 total time=   0.3s\n",
      "[CV 1/1] END ...................max_features=16;, score=0.125 total time=   0.3s\n",
      "[CV 1/1] END ...................max_features=17;, score=0.125 total time=   0.3s\n",
      "[CV 1/1] END ...................max_features=18;, score=0.125 total time=   0.3s\n",
      "[CV 1/1] END ...................max_features=19;, score=0.133 total time=   0.3s\n",
      "[CV 1/1] END ...................max_features=20;, score=0.133 total time=   0.3s\n",
      "[CV 1/1] END ...................max_features=21;, score=0.133 total time=   0.3s\n",
      "{'min_samples_leaf': 1, 'max_features': 1}\n",
      "CPU times: user 14.1 s, sys: 109 ms, total: 14.2 s\n",
      "Wall time: 14.2 s\n"
     ]
    }
   ],
   "source": [
    "%%time \n",
    "\n",
    "print(base_parameters)\n",
    "for parameter, grid in parameter_grid.items():\n",
    "    base_model = RandomForestClassifier(criterion='entropy', random_state=0, **base_parameters)\n",
    "    \n",
    "    parameter_sub_grid = {parameter: grid}\n",
    "    search = GridSearchCV(base_model, parameter_sub_grid, \n",
    "                          cv=[(train_indices, valid_indices)], \n",
    "                          scoring=\"f1\", verbose=3, refit=False)\n",
    "    \n",
    "    search.fit(x_train_valid, y_train_valid)\n",
    "    \n",
    "    base_parameters.update(search.best_params_)\n",
    "    print(base_parameters)"
   ]
  },
  {
   "cell_type": "markdown",
   "metadata": {
    "id": "QUEVLUbWPCU9"
   },
   "source": [
    "### Compare with GridSearch over all params"
   ]
  },
  {
   "cell_type": "code",
   "execution_count": null,
   "metadata": {
    "colab": {
     "base_uri": "https://localhost:8080/"
    },
    "id": "1wNYrAJpO39W",
    "outputId": "4d06208a-3e71-4730-95be-9b97b6d063e0"
   },
   "outputs": [
    {
     "name": "stdout",
     "output_type": "stream",
     "text": [
      "CPU times: user 3min 56s, sys: 1.25 s, total: 3min 58s\n",
      "Wall time: 3min 57s\n"
     ]
    }
   ],
   "source": [
    "%%time\n",
    "\n",
    "base_model = RandomForestClassifier(criterion='entropy', random_state=0)\n",
    "\n",
    "search = GridSearchCV(base_model, parameter_grid, \n",
    "                      cv=[(train_indices, valid_indices)], \n",
    "                      scoring=\"f1\", verbose=0, refit=False)\n",
    "\n",
    "search.fit(x_train_valid, y_train_valid)"
   ]
  },
  {
   "cell_type": "code",
   "execution_count": null,
   "metadata": {
    "colab": {
     "base_uri": "https://localhost:8080/"
    },
    "id": "qHweE8PhPNmE",
    "outputId": "f96dc6f5-00dd-4301-9ca7-939e42e39c8b"
   },
   "outputs": [
    {
     "name": "stdout",
     "output_type": "stream",
     "text": [
      "Best Parameters as found via Grid Search\n",
      "{'max_features': 1, 'min_samples_leaf': 1}\n"
     ]
    }
   ],
   "source": [
    "print(\"Best Parameters as found via Grid Search\")\n",
    "print(search.best_params_)"
   ]
  },
  {
   "cell_type": "markdown",
   "metadata": {
    "id": "Ua4RvwIeQbLQ"
   },
   "source": [
    "Amazing, the exact same!\n",
    "\n",
    "# RandomForest with `class_weight`"
   ]
  },
  {
   "cell_type": "code",
   "execution_count": null,
   "metadata": {
    "colab": {
     "base_uri": "https://localhost:8080/"
    },
    "id": "OfHhxbpQQmki",
    "outputId": "78f871b5-8a1b-434c-e2e8-1f863e886108"
   },
   "outputs": [
    {
     "name": "stdout",
     "output_type": "stream",
     "text": [
      "{'min_samples_leaf': 37, 'max_features': 14, 'class_weight': 'balanced_subsample'}\n"
     ]
    }
   ],
   "source": [
    "parameter_grid = {'min_samples_leaf': np.arange(1, 50),\n",
    "                  'max_features': np.arange(1, len(x_train_valid.columns)),\n",
    "                  'class_weight': ['balanced', 'balanced_subsample']}\n",
    "\n",
    "base_parameters = {key: np.random.choice(val) for key, val in parameter_grid.items()}\n",
    "print(base_parameters)"
   ]
  },
  {
   "cell_type": "code",
   "execution_count": null,
   "metadata": {
    "colab": {
     "base_uri": "https://localhost:8080/"
    },
    "id": "iIwuaEfASqhA",
    "outputId": "9c7786a3-ae76-41b0-ecf8-a0fda1d137f0"
   },
   "outputs": [
    {
     "name": "stdout",
     "output_type": "stream",
     "text": [
      "{'min_samples_leaf': 37, 'max_features': 14, 'class_weight': 'balanced_subsample'}\n",
      "Fitting 1 folds for each of 49 candidates, totalling 49 fits\n",
      "[CV 1/1] END ................min_samples_leaf=1;, score=0.118 total time=   0.4s\n",
      "[CV 1/1] END ................min_samples_leaf=2;, score=0.174 total time=   0.4s\n",
      "[CV 1/1] END ................min_samples_leaf=3;, score=0.267 total time=   0.4s\n",
      "[CV 1/1] END ................min_samples_leaf=4;, score=0.316 total time=   0.4s\n",
      "[CV 1/1] END ................min_samples_leaf=5;, score=0.279 total time=   0.3s\n",
      "[CV 1/1] END ................min_samples_leaf=6;, score=0.267 total time=   0.3s\n",
      "[CV 1/1] END ................min_samples_leaf=7;, score=0.286 total time=   0.3s\n",
      "[CV 1/1] END ................min_samples_leaf=8;, score=0.231 total time=   0.3s\n",
      "[CV 1/1] END ................min_samples_leaf=9;, score=0.212 total time=   0.3s\n",
      "[CV 1/1] END ...............min_samples_leaf=10;, score=0.194 total time=   0.3s\n",
      "[CV 1/1] END ...............min_samples_leaf=11;, score=0.187 total time=   0.3s\n",
      "[CV 1/1] END ...............min_samples_leaf=12;, score=0.171 total time=   0.3s\n",
      "[CV 1/1] END ...............min_samples_leaf=13;, score=0.165 total time=   0.3s\n",
      "[CV 1/1] END ...............min_samples_leaf=14;, score=0.178 total time=   0.3s\n",
      "[CV 1/1] END ...............min_samples_leaf=15;, score=0.180 total time=   0.3s\n",
      "[CV 1/1] END ...............min_samples_leaf=16;, score=0.176 total time=   0.3s\n",
      "[CV 1/1] END ...............min_samples_leaf=17;, score=0.187 total time=   0.3s\n",
      "[CV 1/1] END ...............min_samples_leaf=18;, score=0.189 total time=   0.3s\n",
      "[CV 1/1] END ...............min_samples_leaf=19;, score=0.186 total time=   0.3s\n",
      "[CV 1/1] END ...............min_samples_leaf=20;, score=0.182 total time=   0.3s\n",
      "[CV 1/1] END ...............min_samples_leaf=21;, score=0.182 total time=   0.3s\n",
      "[CV 1/1] END ...............min_samples_leaf=22;, score=0.173 total time=   0.3s\n",
      "[CV 1/1] END ...............min_samples_leaf=23;, score=0.171 total time=   0.3s\n",
      "[CV 1/1] END ...............min_samples_leaf=24;, score=0.173 total time=   0.3s\n",
      "[CV 1/1] END ...............min_samples_leaf=25;, score=0.171 total time=   0.3s\n",
      "[CV 1/1] END ...............min_samples_leaf=26;, score=0.170 total time=   0.3s\n",
      "[CV 1/1] END ...............min_samples_leaf=27;, score=0.167 total time=   0.3s\n",
      "[CV 1/1] END ...............min_samples_leaf=28;, score=0.165 total time=   0.3s\n",
      "[CV 1/1] END ...............min_samples_leaf=29;, score=0.162 total time=   0.3s\n",
      "[CV 1/1] END ...............min_samples_leaf=30;, score=0.162 total time=   0.3s\n",
      "[CV 1/1] END ...............min_samples_leaf=31;, score=0.164 total time=   0.3s\n",
      "[CV 1/1] END ...............min_samples_leaf=32;, score=0.164 total time=   0.3s\n",
      "[CV 1/1] END ...............min_samples_leaf=33;, score=0.162 total time=   0.3s\n",
      "[CV 1/1] END ...............min_samples_leaf=34;, score=0.162 total time=   0.3s\n",
      "[CV 1/1] END ...............min_samples_leaf=35;, score=0.162 total time=   0.3s\n",
      "[CV 1/1] END ...............min_samples_leaf=36;, score=0.159 total time=   0.3s\n",
      "[CV 1/1] END ...............min_samples_leaf=37;, score=0.159 total time=   0.3s\n",
      "[CV 1/1] END ...............min_samples_leaf=38;, score=0.157 total time=   0.3s\n",
      "[CV 1/1] END ...............min_samples_leaf=39;, score=0.158 total time=   0.3s\n",
      "[CV 1/1] END ...............min_samples_leaf=40;, score=0.154 total time=   0.3s\n",
      "[CV 1/1] END ...............min_samples_leaf=41;, score=0.151 total time=   0.3s\n",
      "[CV 1/1] END ...............min_samples_leaf=42;, score=0.153 total time=   0.3s\n",
      "[CV 1/1] END ...............min_samples_leaf=43;, score=0.154 total time=   0.3s\n",
      "[CV 1/1] END ...............min_samples_leaf=44;, score=0.150 total time=   0.3s\n",
      "[CV 1/1] END ...............min_samples_leaf=45;, score=0.148 total time=   0.3s\n",
      "[CV 1/1] END ...............min_samples_leaf=46;, score=0.146 total time=   0.3s\n",
      "[CV 1/1] END ...............min_samples_leaf=47;, score=0.146 total time=   0.3s\n",
      "[CV 1/1] END ...............min_samples_leaf=48;, score=0.144 total time=   0.3s\n",
      "[CV 1/1] END ...............min_samples_leaf=49;, score=0.145 total time=   0.3s\n",
      "{'min_samples_leaf': 4, 'max_features': 14, 'class_weight': 'balanced_subsample'}\n",
      "Fitting 1 folds for each of 21 candidates, totalling 21 fits\n",
      "[CV 1/1] END ....................max_features=1;, score=0.222 total time=   0.3s\n",
      "[CV 1/1] END ....................max_features=2;, score=0.246 total time=   0.3s\n",
      "[CV 1/1] END ....................max_features=3;, score=0.241 total time=   0.3s\n",
      "[CV 1/1] END ....................max_features=4;, score=0.250 total time=   0.3s\n",
      "[CV 1/1] END ....................max_features=5;, score=0.275 total time=   0.3s\n",
      "[CV 1/1] END ....................max_features=6;, score=0.286 total time=   0.3s\n",
      "[CV 1/1] END ....................max_features=7;, score=0.304 total time=   0.3s\n",
      "[CV 1/1] END ....................max_features=8;, score=0.304 total time=   0.3s\n",
      "[CV 1/1] END ....................max_features=9;, score=0.293 total time=   0.3s\n",
      "[CV 1/1] END ...................max_features=10;, score=0.333 total time=   0.3s\n",
      "[CV 1/1] END ...................max_features=11;, score=0.293 total time=   0.3s\n",
      "[CV 1/1] END ...................max_features=12;, score=0.324 total time=   0.3s\n",
      "[CV 1/1] END ...................max_features=13;, score=0.293 total time=   0.4s\n",
      "[CV 1/1] END ...................max_features=14;, score=0.316 total time=   0.3s\n",
      "[CV 1/1] END ...................max_features=15;, score=0.343 total time=   0.4s\n",
      "[CV 1/1] END ...................max_features=16;, score=0.333 total time=   0.4s\n",
      "[CV 1/1] END ...................max_features=17;, score=0.353 total time=   0.4s\n",
      "[CV 1/1] END ...................max_features=18;, score=0.294 total time=   0.4s\n",
      "[CV 1/1] END ...................max_features=19;, score=0.294 total time=   0.4s\n",
      "[CV 1/1] END ...................max_features=20;, score=0.353 total time=   0.4s\n",
      "[CV 1/1] END ...................max_features=21;, score=0.303 total time=   0.4s\n",
      "{'min_samples_leaf': 4, 'max_features': 17, 'class_weight': 'balanced_subsample'}\n",
      "Fitting 1 folds for each of 2 candidates, totalling 2 fits\n",
      "[CV 1/1] END .............class_weight=balanced;, score=0.303 total time=   0.3s\n",
      "[CV 1/1] END ...class_weight=balanced_subsample;, score=0.353 total time=   0.4s\n",
      "{'min_samples_leaf': 4, 'max_features': 17, 'class_weight': 'balanced_subsample'}\n",
      "CPU times: user 23.3 s, sys: 161 ms, total: 23.5 s\n",
      "Wall time: 23.4 s\n"
     ]
    }
   ],
   "source": [
    "%%time\n",
    "\n",
    "print(base_parameters)\n",
    "for parameter, grid in parameter_grid.items():\n",
    "    base_model = RandomForestClassifier(criterion='entropy', random_state=0, **base_parameters)\n",
    "    \n",
    "    parameter_sub_grid = {parameter: grid}\n",
    "    search = GridSearchCV(base_model, parameter_sub_grid, \n",
    "                          cv=[(train_indices, valid_indices)], \n",
    "                          scoring=\"f1\", verbose=3, refit=False)\n",
    "    \n",
    "    search.fit(x_train_valid, y_train_valid)\n",
    "    \n",
    "    base_parameters.update(search.best_params_)\n",
    "    print(base_parameters)"
   ]
  },
  {
   "cell_type": "code",
   "execution_count": null,
   "metadata": {
    "colab": {
     "base_uri": "https://localhost:8080/"
    },
    "id": "eTYwi1XQS5yv",
    "outputId": "c4970be3-8cf9-4a98-8e02-e2bd1a18e5c2"
   },
   "outputs": [
    {
     "name": "stdout",
     "output_type": "stream",
     "text": [
      "{'min_samples_leaf': 4, 'max_features': 17, 'class_weight': 'balanced_subsample'}\n",
      "Fitting 1 folds for each of 49 candidates, totalling 49 fits\n",
      "[CV 1/1] END ................min_samples_leaf=1;, score=0.118 total time=   0.4s\n",
      "[CV 1/1] END ................min_samples_leaf=2;, score=0.182 total time=   0.4s\n",
      "[CV 1/1] END ................min_samples_leaf=3;, score=0.286 total time=   0.4s\n",
      "[CV 1/1] END ................min_samples_leaf=4;, score=0.353 total time=   0.4s\n",
      "[CV 1/1] END ................min_samples_leaf=5;, score=0.300 total time=   0.4s\n",
      "[CV 1/1] END ................min_samples_leaf=6;, score=0.279 total time=   0.4s\n",
      "[CV 1/1] END ................min_samples_leaf=7;, score=0.250 total time=   0.4s\n",
      "[CV 1/1] END ................min_samples_leaf=8;, score=0.250 total time=   0.4s\n",
      "[CV 1/1] END ................min_samples_leaf=9;, score=0.241 total time=   0.4s\n",
      "[CV 1/1] END ...............min_samples_leaf=10;, score=0.206 total time=   0.4s\n",
      "[CV 1/1] END ...............min_samples_leaf=11;, score=0.189 total time=   0.4s\n",
      "[CV 1/1] END ...............min_samples_leaf=12;, score=0.173 total time=   0.4s\n",
      "[CV 1/1] END ...............min_samples_leaf=13;, score=0.165 total time=   0.3s\n",
      "[CV 1/1] END ...............min_samples_leaf=14;, score=0.186 total time=   0.3s\n",
      "[CV 1/1] END ...............min_samples_leaf=15;, score=0.180 total time=   0.3s\n",
      "[CV 1/1] END ...............min_samples_leaf=16;, score=0.178 total time=   0.3s\n",
      "[CV 1/1] END ...............min_samples_leaf=17;, score=0.187 total time=   0.3s\n",
      "[CV 1/1] END ...............min_samples_leaf=18;, score=0.186 total time=   0.3s\n",
      "[CV 1/1] END ...............min_samples_leaf=19;, score=0.187 total time=   0.3s\n",
      "[CV 1/1] END ...............min_samples_leaf=20;, score=0.184 total time=   0.3s\n",
      "[CV 1/1] END ...............min_samples_leaf=21;, score=0.184 total time=   0.3s\n",
      "[CV 1/1] END ...............min_samples_leaf=22;, score=0.182 total time=   0.3s\n",
      "[CV 1/1] END ...............min_samples_leaf=23;, score=0.178 total time=   0.3s\n",
      "[CV 1/1] END ...............min_samples_leaf=24;, score=0.180 total time=   0.3s\n",
      "[CV 1/1] END ...............min_samples_leaf=25;, score=0.173 total time=   0.4s\n",
      "[CV 1/1] END ...............min_samples_leaf=26;, score=0.170 total time=   0.3s\n",
      "[CV 1/1] END ...............min_samples_leaf=27;, score=0.167 total time=   0.3s\n",
      "[CV 1/1] END ...............min_samples_leaf=28;, score=0.161 total time=   0.3s\n",
      "[CV 1/1] END ...............min_samples_leaf=29;, score=0.159 total time=   0.3s\n",
      "[CV 1/1] END ...............min_samples_leaf=30;, score=0.162 total time=   0.3s\n",
      "[CV 1/1] END ...............min_samples_leaf=31;, score=0.159 total time=   0.3s\n",
      "[CV 1/1] END ...............min_samples_leaf=32;, score=0.153 total time=   0.3s\n",
      "[CV 1/1] END ...............min_samples_leaf=33;, score=0.153 total time=   0.3s\n",
      "[CV 1/1] END ...............min_samples_leaf=34;, score=0.153 total time=   0.3s\n",
      "[CV 1/1] END ...............min_samples_leaf=35;, score=0.151 total time=   0.3s\n",
      "[CV 1/1] END ...............min_samples_leaf=36;, score=0.149 total time=   0.3s\n",
      "[CV 1/1] END ...............min_samples_leaf=37;, score=0.149 total time=   0.3s\n",
      "[CV 1/1] END ...............min_samples_leaf=38;, score=0.146 total time=   0.3s\n",
      "[CV 1/1] END ...............min_samples_leaf=39;, score=0.145 total time=   0.3s\n",
      "[CV 1/1] END ...............min_samples_leaf=40;, score=0.145 total time=   0.3s\n",
      "[CV 1/1] END ...............min_samples_leaf=41;, score=0.145 total time=   0.3s\n",
      "[CV 1/1] END ...............min_samples_leaf=42;, score=0.145 total time=   0.3s\n",
      "[CV 1/1] END ...............min_samples_leaf=43;, score=0.145 total time=   0.3s\n",
      "[CV 1/1] END ...............min_samples_leaf=44;, score=0.145 total time=   0.3s\n",
      "[CV 1/1] END ...............min_samples_leaf=45;, score=0.145 total time=   0.3s\n",
      "[CV 1/1] END ...............min_samples_leaf=46;, score=0.145 total time=   0.3s\n",
      "[CV 1/1] END ...............min_samples_leaf=47;, score=0.145 total time=   0.3s\n",
      "[CV 1/1] END ...............min_samples_leaf=48;, score=0.145 total time=   0.3s\n",
      "[CV 1/1] END ...............min_samples_leaf=49;, score=0.145 total time=   0.3s\n",
      "{'min_samples_leaf': 4, 'max_features': 17, 'class_weight': 'balanced_subsample'}\n",
      "Fitting 1 folds for each of 21 candidates, totalling 21 fits\n",
      "[CV 1/1] END ....................max_features=1;, score=0.222 total time=   0.3s\n",
      "[CV 1/1] END ....................max_features=2;, score=0.246 total time=   0.3s\n",
      "[CV 1/1] END ....................max_features=3;, score=0.241 total time=   0.3s\n",
      "[CV 1/1] END ....................max_features=4;, score=0.250 total time=   0.3s\n",
      "[CV 1/1] END ....................max_features=5;, score=0.275 total time=   0.3s\n",
      "[CV 1/1] END ....................max_features=6;, score=0.286 total time=   0.3s\n",
      "[CV 1/1] END ....................max_features=7;, score=0.304 total time=   0.3s\n",
      "[CV 1/1] END ....................max_features=8;, score=0.304 total time=   0.3s\n",
      "[CV 1/1] END ....................max_features=9;, score=0.293 total time=   0.3s\n",
      "[CV 1/1] END ...................max_features=10;, score=0.333 total time=   0.3s\n",
      "[CV 1/1] END ...................max_features=11;, score=0.293 total time=   0.3s\n",
      "[CV 1/1] END ...................max_features=12;, score=0.324 total time=   0.3s\n",
      "[CV 1/1] END ...................max_features=13;, score=0.293 total time=   0.4s\n",
      "[CV 1/1] END ...................max_features=14;, score=0.316 total time=   0.4s\n",
      "[CV 1/1] END ...................max_features=15;, score=0.343 total time=   0.3s\n",
      "[CV 1/1] END ...................max_features=16;, score=0.333 total time=   0.4s\n",
      "[CV 1/1] END ...................max_features=17;, score=0.353 total time=   0.4s\n",
      "[CV 1/1] END ...................max_features=18;, score=0.294 total time=   0.4s\n",
      "[CV 1/1] END ...................max_features=19;, score=0.294 total time=   0.4s\n",
      "[CV 1/1] END ...................max_features=20;, score=0.353 total time=   0.4s\n",
      "[CV 1/1] END ...................max_features=21;, score=0.303 total time=   0.4s\n",
      "{'min_samples_leaf': 4, 'max_features': 17, 'class_weight': 'balanced_subsample'}\n",
      "Fitting 1 folds for each of 2 candidates, totalling 2 fits\n",
      "[CV 1/1] END .............class_weight=balanced;, score=0.303 total time=   0.3s\n",
      "[CV 1/1] END ...class_weight=balanced_subsample;, score=0.353 total time=   0.4s\n",
      "{'min_samples_leaf': 4, 'max_features': 17, 'class_weight': 'balanced_subsample'}\n",
      "CPU times: user 24.1 s, sys: 185 ms, total: 24.2 s\n",
      "Wall time: 24.2 s\n"
     ]
    }
   ],
   "source": [
    "%%time\n",
    "\n",
    "print(base_parameters)\n",
    "for parameter, grid in parameter_grid.items():\n",
    "    base_model = RandomForestClassifier(criterion='entropy', random_state=0, **base_parameters)\n",
    "    \n",
    "    parameter_sub_grid = {parameter: grid}\n",
    "    search = GridSearchCV(base_model, parameter_sub_grid, \n",
    "                          cv=[(train_indices, valid_indices)], \n",
    "                          scoring=\"f1\", verbose=3, refit=False)\n",
    "    \n",
    "    search.fit(x_train_valid, y_train_valid)\n",
    "    \n",
    "    base_parameters.update(search.best_params_)\n",
    "    print(base_parameters)"
   ]
  },
  {
   "cell_type": "markdown",
   "metadata": {
    "id": "Qj_yFRv3TMwH"
   },
   "source": [
    "### Compare with GridSearch"
   ]
  },
  {
   "cell_type": "code",
   "execution_count": null,
   "metadata": {
    "colab": {
     "base_uri": "https://localhost:8080/"
    },
    "id": "o8q67HmKTBx0",
    "outputId": "3b45008f-d680-400c-a742-88e63e655447"
   },
   "outputs": [
    {
     "name": "stdout",
     "output_type": "stream",
     "text": [
      "CPU times: user 9min, sys: 3 s, total: 9min 3s\n",
      "Wall time: 9min 3s\n"
     ]
    }
   ],
   "source": [
    "%%time\n",
    "\n",
    "base_model = RandomForestClassifier(criterion='entropy', random_state=0)\n",
    "\n",
    "search = GridSearchCV(base_model, parameter_grid, \n",
    "                      cv=[(train_indices, valid_indices)], \n",
    "                      scoring=\"f1\", verbose=0, refit=False)\n",
    "\n",
    "search.fit(x_train_valid, y_train_valid)"
   ]
  },
  {
   "cell_type": "code",
   "execution_count": null,
   "metadata": {
    "colab": {
     "base_uri": "https://localhost:8080/"
    },
    "id": "paNP94VhVYgI",
    "outputId": "709999cc-6009-4606-ffb2-deda109f2f8b"
   },
   "outputs": [
    {
     "name": "stdout",
     "output_type": "stream",
     "text": [
      "{'class_weight': 'balanced_subsample', 'max_features': 8, 'min_samples_leaf': 3}\n"
     ]
    }
   ],
   "source": [
    "print(search.best_params_)"
   ]
  },
  {
   "cell_type": "markdown",
   "metadata": {
    "id": "yldR1EkfVd8k"
   },
   "source": [
    "So not the same, but pretty close."
   ]
  },
  {
   "cell_type": "markdown",
   "metadata": {
    "id": "swWvUUpRU5XJ"
   },
   "source": [
    "# Gradient Boosting\n",
    "\n",
    "I never really understood why they did this, but it is a horrible idea to use low number of estimators when doing gradient boosting. Gradient boosting is basically the exact same as gradient descent. As we know from gradient descent, it is a good idea to be using multiple steps, not just one. \n",
    "\n",
    "This is the original parameter grid they suggest\n",
    "```\n",
    "parameter_grid = {'loss': ['deviance', 'exponential'],\n",
    "                  'n_estimators': np.arange(1, 200),\n",
    "                  'learning_rate': np.linspace(0.1, 1, 10),\n",
    "                  'max_depth': np.arange(1, 100),\n",
    "                  'subsample': np.linspace(0.5, 1.0, 6)}\n",
    "```\n",
    "\n",
    "Instead we will do this\n",
    "```\n",
    "parameter_grid = {'loss': ['deviance', 'exponential'],\n",
    "                  'n_estimators': np.arange(100, 200 + 1, 20),\n",
    "                  'learning_rate': np.linspace(0.1, 1, 10),\n",
    "                  'max_depth': np.arange(1, 100, 5),\n",
    "                  'subsample': np.linspace(0.1, 1.0, 10)}\n",
    "```\n",
    "Importantly, we reduce the number of parameters we search through"
   ]
  },
  {
   "cell_type": "code",
   "execution_count": null,
   "metadata": {
    "id": "AUbgByJcWHz_"
   },
   "outputs": [],
   "source": [
    "from sklearn.ensemble import GradientBoostingClassifier"
   ]
  },
  {
   "cell_type": "code",
   "execution_count": null,
   "metadata": {
    "colab": {
     "base_uri": "https://localhost:8080/"
    },
    "id": "f8NRvtE7TShp",
    "outputId": "fc46d109-d035-4dbd-bc52-9794076d3f80"
   },
   "outputs": [
    {
     "name": "stdout",
     "output_type": "stream",
     "text": [
      "{'loss': 'deviance', 'n_estimators': 140, 'learning_rate': 0.7000000000000001, 'max_depth': 31, 'subsample': 0.4}\n"
     ]
    }
   ],
   "source": [
    "parameter_grid = {'loss': ['deviance', 'exponential'],\n",
    "                  'n_estimators': np.arange(100, 200 + 1, 20),\n",
    "                  'learning_rate': np.linspace(0.1, 1, 10),\n",
    "                  'max_depth': np.arange(1, 100, 5),\n",
    "                  'subsample': np.linspace(0.1, 1.0, 10)}\n",
    "\n",
    "base_parameters = {key: np.random.choice(val) for key, val in parameter_grid.items()}\n",
    "print(base_parameters)"
   ]
  },
  {
   "cell_type": "code",
   "execution_count": null,
   "metadata": {
    "colab": {
     "base_uri": "https://localhost:8080/"
    },
    "id": "q-oiEZjBWCJC",
    "outputId": "51b21699-9882-486a-c838-5cd2386e489e"
   },
   "outputs": [
    {
     "name": "stdout",
     "output_type": "stream",
     "text": [
      "{'loss': 'deviance', 'n_estimators': 140, 'learning_rate': 0.7000000000000001, 'max_depth': 31, 'subsample': 0.4}\n",
      "Fitting 1 folds for each of 2 candidates, totalling 2 fits\n",
      "[CV 1/1] END .....................loss=deviance;, score=0.207 total time=   0.6s\n",
      "[CV 1/1] END ..................loss=exponential;, score=0.143 total time=   0.6s\n",
      "{'loss': 'deviance', 'n_estimators': 140, 'learning_rate': 0.7000000000000001, 'max_depth': 31, 'subsample': 0.4}\n",
      "Fitting 1 folds for each of 6 candidates, totalling 6 fits\n",
      "[CV 1/1] END ..................n_estimators=100;, score=0.171 total time=   0.5s\n",
      "[CV 1/1] END ..................n_estimators=120;, score=0.200 total time=   0.5s\n",
      "[CV 1/1] END ..................n_estimators=140;, score=0.207 total time=   0.6s\n",
      "[CV 1/1] END ..................n_estimators=160;, score=0.207 total time=   0.7s\n",
      "[CV 1/1] END ..................n_estimators=180;, score=0.207 total time=   0.7s\n",
      "[CV 1/1] END ..................n_estimators=200;, score=0.222 total time=   0.8s\n",
      "{'loss': 'deviance', 'n_estimators': 200, 'learning_rate': 0.7000000000000001, 'max_depth': 31, 'subsample': 0.4}\n",
      "Fitting 1 folds for each of 10 candidates, totalling 10 fits\n",
      "[CV 1/1] END .................learning_rate=0.1;, score=0.125 total time=   2.3s\n",
      "[CV 1/1] END .................learning_rate=0.2;, score=0.118 total time=   1.3s\n",
      "[CV 1/1] END .learning_rate=0.30000000000000004;, score=0.100 total time=   1.2s\n",
      "[CV 1/1] END .................learning_rate=0.4;, score=0.160 total time=   0.9s\n",
      "[CV 1/1] END .................learning_rate=0.5;, score=0.231 total time=   0.8s\n",
      "[CV 1/1] END .................learning_rate=0.6;, score=0.174 total time=   0.9s\n",
      "[CV 1/1] END ..learning_rate=0.7000000000000001;, score=0.222 total time=   0.8s\n",
      "[CV 1/1] END .................learning_rate=0.8;, score=0.129 total time=   0.8s\n",
      "[CV 1/1] END .................learning_rate=0.9;, score=0.167 total time=   0.8s\n",
      "[CV 1/1] END .................learning_rate=1.0;, score=0.140 total time=   0.8s\n",
      "{'loss': 'deviance', 'n_estimators': 200, 'learning_rate': 0.5, 'max_depth': 31, 'subsample': 0.4}\n",
      "Fitting 1 folds for each of 20 candidates, totalling 20 fits\n",
      "[CV 1/1] END .......................max_depth=1;, score=0.000 total time=   0.2s\n",
      "[CV 1/1] END .......................max_depth=6;, score=0.069 total time=   0.7s\n",
      "[CV 1/1] END ......................max_depth=11;, score=0.037 total time=   1.1s\n",
      "[CV 1/1] END ......................max_depth=16;, score=0.138 total time=   0.8s\n",
      "[CV 1/1] END ......................max_depth=21;, score=0.214 total time=   0.9s\n",
      "[CV 1/1] END ......................max_depth=26;, score=0.231 total time=   0.8s\n",
      "[CV 1/1] END ......................max_depth=31;, score=0.231 total time=   0.8s\n",
      "[CV 1/1] END ......................max_depth=36;, score=0.231 total time=   0.8s\n",
      "[CV 1/1] END ......................max_depth=41;, score=0.231 total time=   0.8s\n",
      "[CV 1/1] END ......................max_depth=46;, score=0.231 total time=   0.8s\n",
      "[CV 1/1] END ......................max_depth=51;, score=0.231 total time=   0.8s\n",
      "[CV 1/1] END ......................max_depth=56;, score=0.231 total time=   0.8s\n",
      "[CV 1/1] END ......................max_depth=61;, score=0.231 total time=   0.8s\n",
      "[CV 1/1] END ......................max_depth=66;, score=0.231 total time=   0.8s\n",
      "[CV 1/1] END ......................max_depth=71;, score=0.231 total time=   0.8s\n",
      "[CV 1/1] END ......................max_depth=76;, score=0.231 total time=   0.8s\n",
      "[CV 1/1] END ......................max_depth=81;, score=0.231 total time=   0.9s\n",
      "[CV 1/1] END ......................max_depth=86;, score=0.231 total time=   0.8s\n",
      "[CV 1/1] END ......................max_depth=91;, score=0.231 total time=   0.8s\n",
      "[CV 1/1] END ......................max_depth=96;, score=0.231 total time=   0.8s\n",
      "{'loss': 'deviance', 'n_estimators': 200, 'learning_rate': 0.5, 'max_depth': 26, 'subsample': 0.4}\n",
      "Fitting 1 folds for each of 10 candidates, totalling 10 fits\n",
      "[CV 1/1] END .....................subsample=0.1;, score=0.111 total time=   0.5s\n",
      "[CV 1/1] END .....................subsample=0.2;, score=0.160 total time=   0.6s\n",
      "[CV 1/1] END .....subsample=0.30000000000000004;, score=0.250 total time=   0.8s\n",
      "[CV 1/1] END .....................subsample=0.4;, score=0.231 total time=   0.8s\n",
      "[CV 1/1] END .....................subsample=0.5;, score=0.160 total time=   0.9s\n",
      "[CV 1/1] END .....................subsample=0.6;, score=0.154 total time=   0.8s\n",
      "[CV 1/1] END ......subsample=0.7000000000000001;, score=0.200 total time=   0.9s\n",
      "[CV 1/1] END .....................subsample=0.8;, score=0.222 total time=   0.8s\n",
      "[CV 1/1] END .....................subsample=0.9;, score=0.174 total time=   0.8s\n",
      "[CV 1/1] END .....................subsample=1.0;, score=0.167 total time=   0.8s\n",
      "{'loss': 'deviance', 'n_estimators': 200, 'learning_rate': 0.5, 'max_depth': 26, 'subsample': 0.30000000000000004}\n",
      "CPU times: user 39.7 s, sys: 143 ms, total: 39.9 s\n",
      "Wall time: 39.8 s\n"
     ]
    }
   ],
   "source": [
    "%%time\n",
    "\n",
    "print(base_parameters)\n",
    "for parameter, grid in parameter_grid.items():\n",
    "    base_model = GradientBoostingClassifier(random_state=0, **base_parameters)\n",
    "    \n",
    "    parameter_sub_grid = {parameter: grid}\n",
    "    search = GridSearchCV(base_model, parameter_sub_grid, \n",
    "                          cv=[(train_indices, valid_indices)], \n",
    "                          scoring=\"f1\", verbose=3, refit=False)\n",
    "    \n",
    "    search.fit(x_train_valid, y_train_valid)\n",
    "    \n",
    "    base_parameters.update(search.best_params_)\n",
    "    print(base_parameters)"
   ]
  },
  {
   "cell_type": "code",
   "execution_count": null,
   "metadata": {
    "colab": {
     "base_uri": "https://localhost:8080/"
    },
    "id": "u_WRAZUkWNU9",
    "outputId": "531b791a-7746-47da-e246-9061845fa3d8"
   },
   "outputs": [
    {
     "name": "stdout",
     "output_type": "stream",
     "text": [
      "{'loss': 'deviance', 'n_estimators': 200, 'learning_rate': 0.5, 'max_depth': 26, 'subsample': 0.30000000000000004}\n",
      "Fitting 1 folds for each of 2 candidates, totalling 2 fits\n",
      "[CV 1/1] END .....................loss=deviance;, score=0.250 total time=   0.8s\n",
      "[CV 1/1] END ..................loss=exponential;, score=0.000 total time=   0.7s\n",
      "{'loss': 'deviance', 'n_estimators': 200, 'learning_rate': 0.5, 'max_depth': 26, 'subsample': 0.30000000000000004}\n",
      "Fitting 1 folds for each of 6 candidates, totalling 6 fits\n",
      "[CV 1/1] END ..................n_estimators=100;, score=0.231 total time=   0.5s\n",
      "[CV 1/1] END ..................n_estimators=120;, score=0.240 total time=   0.5s\n",
      "[CV 1/1] END ..................n_estimators=140;, score=0.250 total time=   0.6s\n",
      "[CV 1/1] END ..................n_estimators=160;, score=0.250 total time=   0.7s\n",
      "[CV 1/1] END ..................n_estimators=180;, score=0.250 total time=   0.7s\n",
      "[CV 1/1] END ..................n_estimators=200;, score=0.250 total time=   0.8s\n",
      "{'loss': 'deviance', 'n_estimators': 140, 'learning_rate': 0.5, 'max_depth': 26, 'subsample': 0.30000000000000004}\n",
      "Fitting 1 folds for each of 10 candidates, totalling 10 fits\n",
      "[CV 1/1] END .................learning_rate=0.1;, score=0.111 total time=   1.7s\n",
      "[CV 1/1] END .................learning_rate=0.2;, score=0.160 total time=   1.0s\n",
      "[CV 1/1] END .learning_rate=0.30000000000000004;, score=0.105 total time=   0.8s\n",
      "[CV 1/1] END .................learning_rate=0.4;, score=0.190 total time=   0.7s\n",
      "[CV 1/1] END .................learning_rate=0.5;, score=0.250 total time=   0.6s\n",
      "[CV 1/1] END .................learning_rate=0.6;, score=0.154 total time=   0.6s\n",
      "[CV 1/1] END ..learning_rate=0.7000000000000001;, score=0.222 total time=   0.5s\n",
      "[CV 1/1] END .................learning_rate=0.8;, score=0.154 total time=   0.5s\n",
      "[CV 1/1] END .................learning_rate=0.9;, score=0.121 total time=   0.5s\n",
      "[CV 1/1] END .................learning_rate=1.0;, score=0.087 total time=   0.5s\n",
      "{'loss': 'deviance', 'n_estimators': 140, 'learning_rate': 0.5, 'max_depth': 26, 'subsample': 0.30000000000000004}\n",
      "Fitting 1 folds for each of 20 candidates, totalling 20 fits\n",
      "[CV 1/1] END .......................max_depth=1;, score=0.000 total time=   0.1s\n",
      "[CV 1/1] END .......................max_depth=6;, score=0.034 total time=   0.4s\n",
      "[CV 1/1] END ......................max_depth=11;, score=0.125 total time=   0.6s\n",
      "[CV 1/1] END ......................max_depth=16;, score=0.250 total time=   0.6s\n",
      "[CV 1/1] END ......................max_depth=21;, score=0.250 total time=   0.6s\n",
      "[CV 1/1] END ......................max_depth=26;, score=0.250 total time=   0.6s\n",
      "[CV 1/1] END ......................max_depth=31;, score=0.250 total time=   0.6s\n",
      "[CV 1/1] END ......................max_depth=36;, score=0.250 total time=   0.6s\n",
      "[CV 1/1] END ......................max_depth=41;, score=0.250 total time=   0.6s\n",
      "[CV 1/1] END ......................max_depth=46;, score=0.250 total time=   0.6s\n",
      "[CV 1/1] END ......................max_depth=51;, score=0.250 total time=   0.6s\n",
      "[CV 1/1] END ......................max_depth=56;, score=0.250 total time=   0.6s\n",
      "[CV 1/1] END ......................max_depth=61;, score=0.250 total time=   0.6s\n",
      "[CV 1/1] END ......................max_depth=66;, score=0.250 total time=   0.6s\n",
      "[CV 1/1] END ......................max_depth=71;, score=0.250 total time=   0.6s\n",
      "[CV 1/1] END ......................max_depth=76;, score=0.250 total time=   0.6s\n",
      "[CV 1/1] END ......................max_depth=81;, score=0.250 total time=   0.6s\n",
      "[CV 1/1] END ......................max_depth=86;, score=0.250 total time=   0.6s\n",
      "[CV 1/1] END ......................max_depth=91;, score=0.250 total time=   0.6s\n",
      "[CV 1/1] END ......................max_depth=96;, score=0.250 total time=   0.6s\n",
      "{'loss': 'deviance', 'n_estimators': 140, 'learning_rate': 0.5, 'max_depth': 16, 'subsample': 0.30000000000000004}\n",
      "Fitting 1 folds for each of 10 candidates, totalling 10 fits\n",
      "[CV 1/1] END .....................subsample=0.1;, score=0.140 total time=   0.4s\n",
      "[CV 1/1] END .....................subsample=0.2;, score=0.129 total time=   0.5s\n",
      "[CV 1/1] END .....subsample=0.30000000000000004;, score=0.250 total time=   0.6s\n",
      "[CV 1/1] END .....................subsample=0.4;, score=0.133 total time=   0.6s\n",
      "[CV 1/1] END .....................subsample=0.5;, score=0.148 total time=   0.7s\n",
      "[CV 1/1] END .....................subsample=0.6;, score=0.160 total time=   0.7s\n",
      "[CV 1/1] END ......subsample=0.7000000000000001;, score=0.148 total time=   0.7s\n",
      "[CV 1/1] END .....................subsample=0.8;, score=0.174 total time=   0.7s\n",
      "[CV 1/1] END .....................subsample=0.9;, score=0.087 total time=   0.7s\n",
      "[CV 1/1] END .....................subsample=1.0;, score=0.182 total time=   0.7s\n",
      "{'loss': 'deviance', 'n_estimators': 140, 'learning_rate': 0.5, 'max_depth': 16, 'subsample': 0.30000000000000004}\n",
      "CPU times: user 30.2 s, sys: 129 ms, total: 30.3 s\n",
      "Wall time: 30.2 s\n"
     ]
    }
   ],
   "source": [
    "%%time\n",
    "\n",
    "print(base_parameters)\n",
    "for parameter, grid in parameter_grid.items():\n",
    "    base_model = GradientBoostingClassifier(random_state=0, **base_parameters)\n",
    "    \n",
    "    parameter_sub_grid = {parameter: grid}\n",
    "    search = GridSearchCV(base_model, parameter_sub_grid, \n",
    "                          cv=[(train_indices, valid_indices)], \n",
    "                          scoring=\"f1\", verbose=3, refit=False)\n",
    "    \n",
    "    search.fit(x_train_valid, y_train_valid)\n",
    "    \n",
    "    base_parameters.update(search.best_params_)\n",
    "    print(base_parameters)"
   ]
  },
  {
   "cell_type": "markdown",
   "metadata": {
    "id": "1cJcxf0_W96W"
   },
   "source": [
    "# XGBoost"
   ]
  },
  {
   "cell_type": "code",
   "execution_count": null,
   "metadata": {
    "id": "jIDCb_-dXQtV"
   },
   "outputs": [],
   "source": [
    "from xgboost import XGBClassifier"
   ]
  },
  {
   "cell_type": "code",
   "execution_count": null,
   "metadata": {
    "colab": {
     "base_uri": "https://localhost:8080/"
    },
    "id": "iJfzeYF-Wnbk",
    "outputId": "81a537b9-be29-4909-ee4f-f75b96e5ca68"
   },
   "outputs": [
    {
     "name": "stdout",
     "output_type": "stream",
     "text": [
      "{'n_estimators': 160, 'learning_rate': 0.5, 'max_depth': 11, 'subsample': 0.7, 'scale_pos_weight': 305.3855508833416}\n"
     ]
    }
   ],
   "source": [
    "parameter_grid = {'n_estimators': np.arange(100, 200 + 1, 20),\n",
    "                  'learning_rate': np.linspace(0.1, 1, 10),\n",
    "                  'max_depth': np.arange(1, 100, 5),\n",
    "                  'subsample': np.linspace(0.5, 1.0, 6),\n",
    "                  'scale_pos_weight': np.logspace(1, 2.5, 100)}\n",
    "\n",
    "base_parameters = {key: np.random.choice(val) for key, val in parameter_grid.items()}\n",
    "print(base_parameters)"
   ]
  },
  {
   "cell_type": "code",
   "execution_count": null,
   "metadata": {
    "id": "rPqW_Tv3Y5bh"
   },
   "outputs": [],
   "source": [
    "x_train_valid_cleaned = x_train_valid.copy()"
   ]
  },
  {
   "cell_type": "code",
   "execution_count": null,
   "metadata": {
    "id": "hXj1KrNDYVGF"
   },
   "outputs": [],
   "source": [
    "# I just need this, otherwise the code won't work\n",
    "x_train_valid_cleaned.columns = [x.replace(\"<\", \"\") for x in x_train_valid_cleaned.columns]"
   ]
  },
  {
   "cell_type": "code",
   "execution_count": null,
   "metadata": {
    "colab": {
     "base_uri": "https://localhost:8080/"
    },
    "id": "aPh7mcFUXKc0",
    "outputId": "a39d6adb-e2ad-42a4-8769-21bfc3032462"
   },
   "outputs": [
    {
     "name": "stdout",
     "output_type": "stream",
     "text": [
      "{'n_estimators': 140, 'learning_rate': 0.4, 'max_depth': 11, 'subsample': 0.5, 'scale_pos_weight': 305.3855508833416}\n",
      "Fitting 5 folds for each of 6 candidates, totalling 30 fits\n",
      "{'n_estimators': 120, 'learning_rate': 0.4, 'max_depth': 11, 'subsample': 0.5, 'scale_pos_weight': 305.3855508833416}\n",
      "Fitting 5 folds for each of 10 candidates, totalling 50 fits\n",
      "{'n_estimators': 120, 'learning_rate': 0.4, 'max_depth': 11, 'subsample': 0.5, 'scale_pos_weight': 305.3855508833416}\n",
      "Fitting 5 folds for each of 20 candidates, totalling 100 fits\n",
      "{'n_estimators': 120, 'learning_rate': 0.4, 'max_depth': 6, 'subsample': 0.5, 'scale_pos_weight': 305.3855508833416}\n",
      "Fitting 5 folds for each of 6 candidates, totalling 30 fits\n",
      "{'n_estimators': 120, 'learning_rate': 0.4, 'max_depth': 6, 'subsample': 0.8, 'scale_pos_weight': 305.3855508833416}\n",
      "Fitting 5 folds for each of 100 candidates, totalling 500 fits\n",
      "{'n_estimators': 120, 'learning_rate': 0.4, 'max_depth': 6, 'subsample': 0.8, 'scale_pos_weight': 305.3855508833416}\n",
      "CPU times: user 4min 29s, sys: 1.69 s, total: 4min 30s\n",
      "Wall time: 4min 29s\n"
     ]
    }
   ],
   "source": [
    "%%time\n",
    "\n",
    "print(base_parameters)\n",
    "for parameter, grid in parameter_grid.items():\n",
    "    base_model = XGBClassifier(random_state=0, eval_metric='logloss', **base_parameters)\n",
    "    \n",
    "    parameter_sub_grid = {parameter: grid}\n",
    "    search = GridSearchCV(base_model, parameter_sub_grid, \n",
    "                          cv=5, \n",
    "                          scoring=\"f1\", verbose=1, refit=False)\n",
    "    \n",
    "    search.fit(x_train_valid_cleaned, y_train_valid)\n",
    "    \n",
    "    base_parameters.update(search.best_params_)\n",
    "    print(base_parameters)"
   ]
  },
  {
   "cell_type": "code",
   "execution_count": null,
   "metadata": {
    "colab": {
     "base_uri": "https://localhost:8080/"
    },
    "id": "cU62rt0-XOme",
    "outputId": "fb1a926c-0b91-4b98-a16e-8c90363fbaa7"
   },
   "outputs": [
    {
     "name": "stdout",
     "output_type": "stream",
     "text": [
      "{'n_estimators': 120, 'learning_rate': 0.4, 'max_depth': 6, 'subsample': 0.8, 'scale_pos_weight': 305.3855508833416}\n",
      "Fitting 5 folds for each of 6 candidates, totalling 30 fits\n",
      "{'n_estimators': 120, 'learning_rate': 0.4, 'max_depth': 6, 'subsample': 0.8, 'scale_pos_weight': 305.3855508833416}\n",
      "Fitting 5 folds for each of 10 candidates, totalling 50 fits\n",
      "{'n_estimators': 120, 'learning_rate': 0.4, 'max_depth': 6, 'subsample': 0.8, 'scale_pos_weight': 305.3855508833416}\n",
      "Fitting 5 folds for each of 20 candidates, totalling 100 fits\n",
      "{'n_estimators': 120, 'learning_rate': 0.4, 'max_depth': 6, 'subsample': 0.8, 'scale_pos_weight': 305.3855508833416}\n",
      "Fitting 5 folds for each of 6 candidates, totalling 30 fits\n",
      "{'n_estimators': 120, 'learning_rate': 0.4, 'max_depth': 6, 'subsample': 0.8, 'scale_pos_weight': 305.3855508833416}\n",
      "Fitting 5 folds for each of 100 candidates, totalling 500 fits\n",
      "{'n_estimators': 120, 'learning_rate': 0.4, 'max_depth': 6, 'subsample': 0.8, 'scale_pos_weight': 305.3855508833416}\n",
      "CPU times: user 4min 29s, sys: 1.66 s, total: 4min 31s\n",
      "Wall time: 4min 30s\n"
     ]
    }
   ],
   "source": [
    "%%time\n",
    "\n",
    "print(base_parameters)\n",
    "for parameter, grid in parameter_grid.items():\n",
    "    base_model = XGBClassifier(random_state=0, eval_metric='logloss', **base_parameters)\n",
    "    \n",
    "    parameter_sub_grid = {parameter: grid}\n",
    "    search = GridSearchCV(base_model, parameter_sub_grid, \n",
    "                          cv=5, \n",
    "                          scoring=\"f1\", verbose=1, refit=False)\n",
    "    \n",
    "    search.fit(x_train_valid_cleaned, y_train_valid)\n",
    "    \n",
    "    base_parameters.update(search.best_params_)\n",
    "    print(base_parameters)"
   ]
  },
  {
   "cell_type": "markdown",
   "metadata": {
    "id": "HIiSs3kNczPD"
   },
   "source": [
    "# Comparing The Models\n",
    "\n",
    "The results here are really interesting, and should serve as a warning if you want to use coordinate descent, and other optimization methods that I will teach later. You can see that sometimes, as in the case with the first random forests, that coordiante descent actually gives the optimum value when compared to grid search, and 10 times quicker! But when it was performed on XGBoost and gradient boosting, it is actually horrible. Probably doing random search on these would give better performance.\n",
    "\n",
    "One thing that is very suspicious is how different the validation/CV error is from the test error. For example, in the 2nd random forest classifier where we optimized 3 parameters, the validation f1 score was 0.353 while the test error was 0.25. Dramatically different. So something is very suspicous about the valid and test datasets, and it would be a good idea to do a bit of exploration into the train and test sets to see if you can find something interesting.\n",
    "\n",
    "But, the reason why coordinate descent failed here, I think, is due to two reasons:\n",
    "1. Degenerate Starting Points: Taking this from wikipedia, \"In mathematics, a degenerate case is a limiting case of a class of objects which appears to be qualitatively different from (and usually simpler than) the rest of the class ... For example, the angles and the side lengths of a triangle are supposed to be positive. The limiting cases, where one or several of these inequalities become equalities, are degeneracies. In the case of triangles, one has a degenerate triangle if at least one side length or angle is zero. Equivalently, it becomes a \"line segment\".\". \n",
    "\n",
    "    The issue with degenerative cases is that the search space no longer becomes representative of the entire loss function. So imagine your starting position was the degenerate case where one angle of the triangle was 0. In this case you are no longer optimizing triangles, but you are optimizing lines.\n",
    "\n",
    "    Why this is important to us is simple. Gradient boosting and gradient descent operate on the same principle. You have the learning rate and the number of steps or, in gradient boosting, the number of estimators. In general, we should expect that a small learning rate will lead to large number of steps, and a larger learning rate will lead to small number of steps, and vice versa. Furthermore, we should also expect that the optimal solution will have a small learning rate and high number of steps.\n",
    "\n",
    "    So, let us imagine we are using coordinate descent and we start at a point with a high learning rate. Since we fix the high learning rate, the result must be that the optimal number of steps will be low. But this is an issue, because we want a high number of steps. Regardless, the \"optimal\" number of steps is low. Fixing this and optimizing the learning rate must also give us a high learning rate.\n",
    "\n",
    "    This process pretty much will repeat itself. A low number of steps is found, resulting in a high learning rate, which will result in low number of steps, resulting in high learning rate, etc. We are stuck in a degenerative case. Note that the same thing will also be true if you started off with a small learning rate.\n",
    "\n",
    "    The fix is actually pretty simple. The issue is that there is an infinite feedback loop between the learning rate and the number of steps, and once you have fixed one of the parameters you have basically locked in the result for the second parameter. If the learning rate is small then the number of steps is big, if the learning rate is big then the number of steps is small.\n",
    "\n",
    "    The issue is that the initialization of these parameters was randomly selected, so it's highly unlikely that any one of the parameters will be optimal. Instead, if you fix the number of steps to be big (say 50-500) then all you will need to do is find the optimum learning rate. No feedback look will be had. \n",
    "\n",
    "2. Highly Important Parameters: These are parameters that are very similar to denerative cases, but the idea is that these parameters change the models so fundamentally that you should consider them separate rather than together.\n",
    "\n",
    "    Number of steps is one of those situations. When you set a number of steps to be high you are saying that the model must take lots of steps. But if the steps are too big (i.e. a high learning rate) you will skip the global optimum. As such the model MUST use a small learning rate.\n",
    "\n",
    "    Going back to the random forest where we introduced a new variable `'class_weight': ['balanced', 'balanced_subsample']`, you can see how dramatically it changes the resulting validation error. So it would be better to fix `class_weight = 'balanced'` and perform coordinate descent on that, and then fix `class_weight = 'balanced_subsample'`. Afterwards, you would compare the result of both."
   ]
  },
  {
   "cell_type": "markdown",
   "metadata": {
    "id": "58Ni-tpkxH1t"
   },
   "source": [
    "# Final Words\n",
    "\n",
    "If you didn't understand what I just said then thats good. Coordinate descent is not easy and there is a lot of tricks to get it working well. Moreover, as you can see here, the results of coordinate descent isn't any better, and in fact worse, than what randomized search gives.\n",
    "\n",
    "Making coordinate descent work well requires a lot of thought to work well. The same is true for the other models. Moreover, as you can see here, such effort may not even give you better results. **So use the methods you see before you at your own risk.**"
   ]
  },
  {
   "cell_type": "code",
   "execution_count": null,
   "metadata": {
    "colab": {
     "base_uri": "https://localhost:8080/"
    },
    "id": "gZkIpN8rfWkZ",
    "outputId": "017dc20a-8fbd-433c-ef51-726a93a3050b"
   },
   "outputs": [
    {
     "data": {
      "text/plain": [
       "(0.9716666666666667, 0.10526315789473684)"
      ]
     },
     "execution_count": 136,
     "metadata": {},
     "output_type": "execute_result"
    }
   ],
   "source": [
    "best_params = {'min_samples_leaf': 1, 'max_features': 1}\n",
    "\n",
    "base_model = RandomForestClassifier(criterion='entropy', random_state=0, **best_params)\n",
    "base_model.fit(x_train_valid, y_train_valid)\n",
    "\n",
    "y_pred = base_model.predict(x_test)\n",
    "np.mean(y_test == y_pred), f1_score(y_test, y_pred)"
   ]
  },
  {
   "cell_type": "code",
   "execution_count": null,
   "metadata": {
    "colab": {
     "base_uri": "https://localhost:8080/"
    },
    "id": "aT2h1sjKc_n2",
    "outputId": "461a146f-fa60-4e37-b7eb-e0c7ea86b11d"
   },
   "outputs": [
    {
     "data": {
      "text/plain": [
       "(0.96, 0.25)"
      ]
     },
     "execution_count": 137,
     "metadata": {},
     "output_type": "execute_result"
    }
   ],
   "source": [
    "# Random Forest - via Coordinate Descent \n",
    "best_params = {'min_samples_leaf': 4, 'max_features': 17, 'class_weight': 'balanced_subsample'}\n",
    "\n",
    "base_model = RandomForestClassifier(criterion='entropy', random_state=0, **best_params)\n",
    "base_model.fit(x_train_valid, y_train_valid)\n",
    "\n",
    "y_pred = base_model.predict(x_test)\n",
    "np.mean(y_test == y_pred), f1_score(y_test, y_pred)"
   ]
  },
  {
   "cell_type": "code",
   "execution_count": null,
   "metadata": {
    "colab": {
     "base_uri": "https://localhost:8080/"
    },
    "id": "uAzJesZAc5Hd",
    "outputId": "fe7ac112-1ea5-4c06-ce0d-dfebfe3ecef0"
   },
   "outputs": [
    {
     "data": {
      "text/plain": [
       "(0.94, 0.0)"
      ]
     },
     "execution_count": 138,
     "metadata": {},
     "output_type": "execute_result"
    }
   ],
   "source": [
    "# Gradient Boosting\n",
    "best_params = {'loss': 'deviance', 'n_estimators': 140, 'learning_rate': 0.5, 'max_depth': 16, 'subsample': 0.30000000000000004}\n",
    "\n",
    "base_model = GradientBoostingClassifier(random_state=0, **best_params)\n",
    "base_model.fit(x_train_valid, y_train_valid)\n",
    "\n",
    "y_pred = base_model.predict(x_test)\n",
    "np.mean(y_test == y_pred), f1_score(y_test, y_pred)"
   ]
  },
  {
   "cell_type": "code",
   "execution_count": null,
   "metadata": {
    "id": "EO4iuIe8dwdu"
   },
   "outputs": [],
   "source": [
    "x_train_valid_cleaned = x_train_valid.copy()\n",
    "x_train_valid_cleaned.columns = [x.replace(\"<\", \"\") for x in x_train_valid_cleaned.columns]\n",
    "\n",
    "x_test_cleaned = x_test.copy()\n",
    "x_test_cleaned.columns = [x.replace(\"<\", \"\") for x in x_test_cleaned.columns]"
   ]
  },
  {
   "cell_type": "code",
   "execution_count": null,
   "metadata": {
    "colab": {
     "base_uri": "https://localhost:8080/"
    },
    "id": "GDZmE0TDc0xP",
    "outputId": "44a68050-452f-494d-d814-567bada60f7c"
   },
   "outputs": [
    {
     "data": {
      "text/plain": [
       "(0.9466666666666667, 0.15789473684210525)"
      ]
     },
     "execution_count": 140,
     "metadata": {},
     "output_type": "execute_result"
    }
   ],
   "source": [
    "# XGBoost\n",
    "best_params = {'n_estimators': 120, 'learning_rate': 0.4, 'max_depth': 6, 'subsample': 0.8, 'scale_pos_weight': 305.3855508833416}\n",
    "base_model = XGBClassifier(random_state=0, eval_metric='logloss', **best_params)\n",
    "\n",
    "base_model.fit(x_train_valid_cleaned, y_train_valid)\n",
    "\n",
    "y_pred = base_model.predict(x_test_cleaned)\n",
    "np.mean(y_test == y_pred), f1_score(y_test, y_pred)"
   ]
  },
  {
   "cell_type": "markdown",
   "metadata": {
    "id": "G1rxDUywjp6v"
   },
   "source": [
    "# Some EDA"
   ]
  },
  {
   "cell_type": "code",
   "execution_count": null,
   "metadata": {
    "id": "__VrKYvojG4p"
   },
   "outputs": [],
   "source": [
    "import matplotlib.pyplot as plt"
   ]
  },
  {
   "cell_type": "code",
   "execution_count": null,
   "metadata": {
    "id": "ZBxyNEV2dl6I"
   },
   "outputs": [],
   "source": [
    "x_valid = x_train_valid.iloc[valid_indices]\n",
    "y_valid = y_train_valid.iloc[valid_indices]"
   ]
  },
  {
   "cell_type": "code",
   "execution_count": null,
   "metadata": {
    "colab": {
     "base_uri": "https://localhost:8080/"
    },
    "id": "DZ7ZY1u-jtyT",
    "outputId": "25a7b66b-3920-4833-c572-ace837a91e1d"
   },
   "outputs": [
    {
     "data": {
      "text/plain": [
       "(0.027083333333333334, 0.02666666666666667)"
      ]
     },
     "execution_count": 120,
     "metadata": {},
     "output_type": "execute_result"
    }
   ],
   "source": [
    "np.mean(y_valid), np.mean(y_test)"
   ]
  },
  {
   "cell_type": "code",
   "execution_count": null,
   "metadata": {
    "colab": {
     "base_uri": "https://localhost:8080/",
     "height": 595
    },
    "id": "t5XyPgbsi41l",
    "outputId": "a39a03c8-1436-4345-ba84-fd02b00e3503"
   },
   "outputs": [
    {
     "data": {
      "image/png": "[encoded data removed]",
      "text/plain": [
       "<Figure size 1080x720 with 2 Axes>"
      ]
     },
     "metadata": {
      "needs_background": "light"
     },
     "output_type": "display_data"
    }
   ],
   "source": [
    "fig, axs = plt.subplots(1, 2, figsize=(15, 10))\n",
    "x_train_valid.describe().loc[\"mean\"].plot.barh(ax=axs[0])\n",
    "x_test.describe().loc[\"mean\"].plot.barh(ax=axs[1])\n",
    "\n",
    "axs[0].set_xscale('symlog')\n",
    "axs[1].set_xscale('symlog')"
   ]
  },
  {
   "cell_type": "code",
   "execution_count": null,
   "metadata": {
    "colab": {
     "base_uri": "https://localhost:8080/",
     "height": 335
    },
    "id": "9Gl7EeGIjK3G",
    "outputId": "cddbdcde-b52e-4523-bbc7-d227219f0624"
   },
   "outputs": [
    {
     "data": {
      "image/png": "[encoded data removed]",
      "text/plain": [
       "<Figure size 1008x360 with 2 Axes>"
      ]
     },
     "metadata": {
      "needs_background": "light"
     },
     "output_type": "display_data"
    }
   ],
   "source": [
    "# This might be a little suspicous\n",
    "# Especially because year is quite important for gradient boosting (as you can see in the tutorial)\n",
    "fig, axs = plt.subplots(1, 2, figsize=(14, 5))\n",
    "\n",
    "x_train_valid['year'].value_counts(normalize=True).sort_index().plot.bar(ax=axs[0])\n",
    "x_test['year'].value_counts(normalize=True).sort_index().plot.bar(ax=axs[1]);"
   ]
  },
  {
   "cell_type": "code",
   "execution_count": null,
   "metadata": {
    "colab": {
     "base_uri": "https://localhost:8080/",
     "height": 320
    },
    "id": "OWmD-A8fkNs4",
    "outputId": "4b8af96d-6659-4467-9dea-5906d61fa246"
   },
   "outputs": [
    {
     "data": {
      "image/png": "[encoded data removed]",
      "text/plain": [
       "<Figure size 1008x360 with 2 Axes>"
      ]
     },
     "metadata": {
      "needs_background": "light"
     },
     "output_type": "display_data"
    }
   ],
   "source": [
    "fig, axs = plt.subplots(1, 2, figsize=(14, 5))\n",
    "\n",
    "x_train_valid['age'].plot.hist(bins=30, ax=axs[0])\n",
    "x_test['age'].plot.hist(bins=30, ax=axs[1]);"
   ]
  },
  {
   "cell_type": "code",
   "execution_count": null,
   "metadata": {
    "id": "UkCzPlDskPIY"
   },
   "outputs": [],
   "source": []
  }
 ],
 "metadata": {
  "colab": {
   "name": "Coordinate Descent - Classification",
   "provenance": []
  },
  "kernelspec": {
   "display_name": "Python 3",
   "language": "python",
   "name": "python3"
  },
  "language_info": {
   "codemirror_mode": {
    "name": "ipython",
    "version": 3
   },
   "file_extension": ".py",
   "mimetype": "text/x-python",
   "name": "python",
   "nbconvert_exporter": "python",
   "pygments_lexer": "ipython3",
   "version": "3.7.6"
  }
 },
 "nbformat": 4,
 "nbformat_minor": 1
}
