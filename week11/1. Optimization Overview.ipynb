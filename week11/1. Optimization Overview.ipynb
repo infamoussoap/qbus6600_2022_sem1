{
 "cells": [
  {
   "cell_type": "markdown",
   "metadata": {},
   "source": [
    "# Introduction\n",
    "\n",
    "Optimzation is an incredibly diverse field that goes from very theoretical math to very applied applications. But they all rest on the same beginning. The idea with optimization is that we have some goal, call it $G$ and we want to try to find the optimal value $x$ that minimizes (or maximizes) that goal. This is typically written as such\n",
    "$$\\arg\\min_x\\ G(x)$$\n",
    "\n",
    "Importantly, this goal can be anything, for example one important use of optimization is how to get from point A to point B as fast as you can. In this case $x$ will be the different routes that one can take from A to B, and $G$ will be the time taken. So\n",
    "$$G(x) = \\textrm{Time taken to go from Point A to Point B using the route}\\ x$$\n",
    "Now this problem is known as the \"Shortest path problem\" and has been solved in many ways: Dijkstra's algorithm, Bellman-Ford, A*, etc.\n",
    "\n",
    "Really what interests us is where $x$ is the parameters of the model and $G$ is the validation (or CV) error\n",
    "$$G(x) = \\textrm{Validation error of a model with the parameters}\\ x$$"
   ]
  },
  {
   "cell_type": "markdown",
   "metadata": {},
   "source": [
    "# Continous Problems\n",
    "\n",
    "One of the most simpliest optimization problems to slove is when $G(x)$ is continuous, and therefore it's derivative $G'(x)$ exists. \n",
    "\n",
    "### Simple Example\n",
    "Find the dimensions of a rectangle such that it has the maximum area with a given perimeter of 10cm. In this case \n",
    "$$G(l, w) = \\textrm{Area of the rectangle that has a width of}\\ w\\ \\textrm{and height of}\\ l$$\n",
    "$$\\textrm{On the condition that}\\ 2l+2w=10$$\n",
    "\n",
    "Optimizing this is simple, since $2l+2w=10\\implies l+w=5\\implies w=5-l$\n",
    "$$G=lw=l(5-l)=5l-l^2$$\n",
    "Which is continuous and we can take the derivative of this:\n",
    "$$G'=5-2l=0\\implies l=\\frac{5}{2}=2.5$$\n",
    "Therefore the optimal length and width is $l=2.5$, and $w=2.5$"
   ]
  },
  {
   "cell_type": "markdown",
   "metadata": {},
   "source": [
    "### More Complex Example\n",
    "\n",
    "Consider a new problem"
   ]
  },
  {
   "cell_type": "code",
   "execution_count": null,
   "metadata": {},
   "outputs": [],
   "source": []
  }
 ],
 "metadata": {
  "kernelspec": {
   "display_name": "Python 3",
   "language": "python",
   "name": "python3"
  },
  "language_info": {
   "codemirror_mode": {
    "name": "ipython",
    "version": 3
   },
   "file_extension": ".py",
   "mimetype": "text/x-python",
   "name": "python",
   "nbconvert_exporter": "python",
   "pygments_lexer": "ipython3",
   "version": "3.7.6"
  }
 },
 "nbformat": 4,
 "nbformat_minor": 4
}
