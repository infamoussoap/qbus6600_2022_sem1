{
 "cells": [
  {
   "cell_type": "code",
   "execution_count": 106,
   "metadata": {},
   "outputs": [],
   "source": [
    "import pandas as pd\n",
    "import matplotlib.pyplot as plt\n",
    "import numpy as np\n",
    "\n",
    "from sklearn.model_selection import train_test_split\n",
    "from sklearn.metrics import f1_score, confusion_matrix"
   ]
  },
  {
   "cell_type": "code",
   "execution_count": 4,
   "metadata": {},
   "outputs": [],
   "source": [
    "german = pd.read_csv('german_credit.csv')\n",
    "\n",
    "train_indices, test_indices = train_test_split(np.array(german.index), test_size=0.2, random_state=0)\n",
    "\n",
    "german_train = german.loc[train_indices].copy()\n",
    "german_test = german.loc[test_indices].copy() "
   ]
  },
  {
   "cell_type": "code",
   "execution_count": 5,
   "metadata": {},
   "outputs": [
    {
     "data": {
      "text/html": [
       "<div>\n",
       "<style scoped>\n",
       "    .dataframe tbody tr th:only-of-type {\n",
       "        vertical-align: middle;\n",
       "    }\n",
       "\n",
       "    .dataframe tbody tr th {\n",
       "        vertical-align: top;\n",
       "    }\n",
       "\n",
       "    .dataframe thead th {\n",
       "        text-align: right;\n",
       "    }\n",
       "</style>\n",
       "<table border=\"1\" class=\"dataframe\">\n",
       "  <thead>\n",
       "    <tr style=\"text-align: right;\">\n",
       "      <th></th>\n",
       "      <th>status</th>\n",
       "      <th>duration</th>\n",
       "      <th>history</th>\n",
       "      <th>purpose</th>\n",
       "      <th>amount</th>\n",
       "      <th>savings</th>\n",
       "      <th>employment</th>\n",
       "      <th>installment_rate</th>\n",
       "      <th>personal</th>\n",
       "      <th>other_debtors</th>\n",
       "      <th>...</th>\n",
       "      <th>property</th>\n",
       "      <th>age</th>\n",
       "      <th>other_installment_plans</th>\n",
       "      <th>housing</th>\n",
       "      <th>existing_credits</th>\n",
       "      <th>job</th>\n",
       "      <th>people_under_maintenance</th>\n",
       "      <th>telephone</th>\n",
       "      <th>foreign_worker</th>\n",
       "      <th>default</th>\n",
       "    </tr>\n",
       "  </thead>\n",
       "  <tbody>\n",
       "    <tr>\n",
       "      <th>687</th>\n",
       "      <td>A12</td>\n",
       "      <td>36</td>\n",
       "      <td>A33</td>\n",
       "      <td>A40</td>\n",
       "      <td>2862</td>\n",
       "      <td>A62</td>\n",
       "      <td>A75</td>\n",
       "      <td>4</td>\n",
       "      <td>A93</td>\n",
       "      <td>A101</td>\n",
       "      <td>...</td>\n",
       "      <td>A124</td>\n",
       "      <td>30</td>\n",
       "      <td>A143</td>\n",
       "      <td>A153</td>\n",
       "      <td>1</td>\n",
       "      <td>A173</td>\n",
       "      <td>1</td>\n",
       "      <td>0</td>\n",
       "      <td>1</td>\n",
       "      <td>0</td>\n",
       "    </tr>\n",
       "    <tr>\n",
       "      <th>500</th>\n",
       "      <td>A11</td>\n",
       "      <td>24</td>\n",
       "      <td>A32</td>\n",
       "      <td>A40</td>\n",
       "      <td>3123</td>\n",
       "      <td>A61</td>\n",
       "      <td>A72</td>\n",
       "      <td>4</td>\n",
       "      <td>A92</td>\n",
       "      <td>A101</td>\n",
       "      <td>...</td>\n",
       "      <td>A122</td>\n",
       "      <td>27</td>\n",
       "      <td>A143</td>\n",
       "      <td>A152</td>\n",
       "      <td>1</td>\n",
       "      <td>A173</td>\n",
       "      <td>1</td>\n",
       "      <td>0</td>\n",
       "      <td>1</td>\n",
       "      <td>1</td>\n",
       "    </tr>\n",
       "    <tr>\n",
       "      <th>332</th>\n",
       "      <td>A12</td>\n",
       "      <td>60</td>\n",
       "      <td>A32</td>\n",
       "      <td>A40</td>\n",
       "      <td>7408</td>\n",
       "      <td>A62</td>\n",
       "      <td>A72</td>\n",
       "      <td>4</td>\n",
       "      <td>A92</td>\n",
       "      <td>A101</td>\n",
       "      <td>...</td>\n",
       "      <td>A122</td>\n",
       "      <td>24</td>\n",
       "      <td>A143</td>\n",
       "      <td>A152</td>\n",
       "      <td>1</td>\n",
       "      <td>A174</td>\n",
       "      <td>1</td>\n",
       "      <td>0</td>\n",
       "      <td>1</td>\n",
       "      <td>1</td>\n",
       "    </tr>\n",
       "    <tr>\n",
       "      <th>979</th>\n",
       "      <td>A12</td>\n",
       "      <td>15</td>\n",
       "      <td>A31</td>\n",
       "      <td>A40</td>\n",
       "      <td>1264</td>\n",
       "      <td>A62</td>\n",
       "      <td>A73</td>\n",
       "      <td>2</td>\n",
       "      <td>A94</td>\n",
       "      <td>A101</td>\n",
       "      <td>...</td>\n",
       "      <td>A122</td>\n",
       "      <td>25</td>\n",
       "      <td>A143</td>\n",
       "      <td>A151</td>\n",
       "      <td>1</td>\n",
       "      <td>A173</td>\n",
       "      <td>1</td>\n",
       "      <td>0</td>\n",
       "      <td>1</td>\n",
       "      <td>1</td>\n",
       "    </tr>\n",
       "    <tr>\n",
       "      <th>817</th>\n",
       "      <td>A14</td>\n",
       "      <td>6</td>\n",
       "      <td>A34</td>\n",
       "      <td>A43</td>\n",
       "      <td>1554</td>\n",
       "      <td>A61</td>\n",
       "      <td>A74</td>\n",
       "      <td>1</td>\n",
       "      <td>A92</td>\n",
       "      <td>A101</td>\n",
       "      <td>...</td>\n",
       "      <td>A123</td>\n",
       "      <td>24</td>\n",
       "      <td>A143</td>\n",
       "      <td>A151</td>\n",
       "      <td>2</td>\n",
       "      <td>A173</td>\n",
       "      <td>1</td>\n",
       "      <td>1</td>\n",
       "      <td>1</td>\n",
       "      <td>0</td>\n",
       "    </tr>\n",
       "  </tbody>\n",
       "</table>\n",
       "<p>5 rows × 21 columns</p>\n",
       "</div>"
      ],
      "text/plain": [
       "    status  duration history purpose  amount savings employment  \\\n",
       "687    A12        36     A33     A40    2862     A62        A75   \n",
       "500    A11        24     A32     A40    3123     A61        A72   \n",
       "332    A12        60     A32     A40    7408     A62        A72   \n",
       "979    A12        15     A31     A40    1264     A62        A73   \n",
       "817    A14         6     A34     A43    1554     A61        A74   \n",
       "\n",
       "     installment_rate personal other_debtors  ...  property age  \\\n",
       "687                 4      A93          A101  ...      A124  30   \n",
       "500                 4      A92          A101  ...      A122  27   \n",
       "332                 4      A92          A101  ...      A122  24   \n",
       "979                 2      A94          A101  ...      A122  25   \n",
       "817                 1      A92          A101  ...      A123  24   \n",
       "\n",
       "     other_installment_plans housing existing_credits   job  \\\n",
       "687                     A143    A153                1  A173   \n",
       "500                     A143    A152                1  A173   \n",
       "332                     A143    A152                1  A174   \n",
       "979                     A143    A151                1  A173   \n",
       "817                     A143    A151                2  A173   \n",
       "\n",
       "    people_under_maintenance  telephone  foreign_worker  default  \n",
       "687                        1          0               1        0  \n",
       "500                        1          0               1        1  \n",
       "332                        1          0               1        1  \n",
       "979                        1          0               1        1  \n",
       "817                        1          1               1        0  \n",
       "\n",
       "[5 rows x 21 columns]"
      ]
     },
     "execution_count": 5,
     "metadata": {},
     "output_type": "execute_result"
    }
   ],
   "source": [
    "german_train.head()"
   ]
  },
  {
   "cell_type": "code",
   "execution_count": 7,
   "metadata": {},
   "outputs": [
    {
     "data": {
      "image/png": "[encoded data removed]",
      "text/plain": [
       "<Figure size 432x288 with 1 Axes>"
      ]
     },
     "metadata": {
      "needs_background": "light"
     },
     "output_type": "display_data"
    }
   ],
   "source": [
    "german_train.boxplot(\"duration\", \"default\");"
   ]
  },
  {
   "cell_type": "code",
   "execution_count": 17,
   "metadata": {},
   "outputs": [
    {
     "data": {
      "image/png": "[encoded data removed]",
      "text/plain": [
       "<Figure size 1080x360 with 2 Axes>"
      ]
     },
     "metadata": {
      "needs_background": "light"
     },
     "output_type": "display_data"
    }
   ],
   "source": [
    "fig, axs = plt.subplots(1, 2, figsize=(15, 5))\n",
    "\n",
    "german_train.boxplot(\"duration\", \"default\", ax=axs[0])\n",
    "axs[0].set_ylabel(\"Duration (months)\")\n",
    "axs[0].set_xlabel(\"Default\")\n",
    "axs[0].set_title(\"\")\n",
    "\n",
    "german_train.boxplot(\"amount\", \"default\", ax=axs[1])\n",
    "axs[1].set_ylabel(\"Amount ($)\")\n",
    "axs[1].set_xlabel(\"Default\")\n",
    "axs[1].set_title(\"\")\n",
    "\n",
    "plt.suptitle(\"Distribution of Duration and Amount\");"
   ]
  },
  {
   "cell_type": "markdown",
   "metadata": {},
   "source": [
    "# Q1"
   ]
  },
  {
   "cell_type": "code",
   "execution_count": 28,
   "metadata": {},
   "outputs": [],
   "source": [
    "import statsmodels.api as sm"
   ]
  },
  {
   "cell_type": "code",
   "execution_count": 26,
   "metadata": {},
   "outputs": [],
   "source": [
    "german = pd.read_csv('german_credit.csv')\n",
    "\n",
    "columns = [\"default\", \"status\", \"duration\", \"history\", \"amount\", \"savings\", \"housing\", \"employment\", \"purpose\"]\n",
    "german_simplified = german.loc[:, columns].copy()\n",
    "\n",
    "german_simplified_with_dummies = pd.get_dummies(german_simplified, drop_first=True)\n",
    "\n",
    "train_indices, test_indices = train_test_split(german_simplified_with_dummies.index, test_size=0.2, random_state=0)"
   ]
  },
  {
   "cell_type": "code",
   "execution_count": 27,
   "metadata": {},
   "outputs": [],
   "source": [
    "german_train = german_simplified_with_dummies.loc[train_indices, :].copy()\n",
    "german_test = german_simplified_with_dummies.loc[test_indices, :].copy()"
   ]
  },
  {
   "cell_type": "code",
   "execution_count": 32,
   "metadata": {},
   "outputs": [],
   "source": [
    "x_train = german_train.drop(\"default\", axis=1)\n",
    "y_train = german_train.loc[:, \"default\"]\n",
    "\n",
    "x_test = german_test.drop(\"default\", axis=1)\n",
    "y_test = german_test.loc[:, \"default\"]\n",
    "\n",
    "\n",
    "x_train = sm.add_constant(x_train)\n",
    "x_test = sm.add_constant(x_test)"
   ]
  },
  {
   "cell_type": "code",
   "execution_count": 36,
   "metadata": {},
   "outputs": [
    {
     "name": "stdout",
     "output_type": "stream",
     "text": [
      "Optimization terminated successfully.\n",
      "         Current function value: 0.459229\n",
      "         Iterations 7\n"
     ]
    }
   ],
   "source": [
    "model = sm.Logit(y_train, x_train).fit()"
   ]
  },
  {
   "cell_type": "code",
   "execution_count": 38,
   "metadata": {
    "scrolled": true
   },
   "outputs": [],
   "source": [
    "# print(model.summary())"
   ]
  },
  {
   "cell_type": "markdown",
   "metadata": {},
   "source": [
    "# Q2"
   ]
  },
  {
   "cell_type": "code",
   "execution_count": 49,
   "metadata": {},
   "outputs": [],
   "source": [
    "german = pd.read_csv('german_credit.csv')\n",
    "\n",
    "columns = [\"default\", \"status\", \"duration\", \"history\", \"amount\", \"savings\", \"housing\", \"employment\", \"purpose\"]\n",
    "german_simplified = german.loc[:, columns].copy()"
   ]
  },
  {
   "cell_type": "code",
   "execution_count": 50,
   "metadata": {},
   "outputs": [
    {
     "data": {
      "text/html": [
       "<div>\n",
       "<style scoped>\n",
       "    .dataframe tbody tr th:only-of-type {\n",
       "        vertical-align: middle;\n",
       "    }\n",
       "\n",
       "    .dataframe tbody tr th {\n",
       "        vertical-align: top;\n",
       "    }\n",
       "\n",
       "    .dataframe thead th {\n",
       "        text-align: right;\n",
       "    }\n",
       "</style>\n",
       "<table border=\"1\" class=\"dataframe\">\n",
       "  <thead>\n",
       "    <tr style=\"text-align: right;\">\n",
       "      <th></th>\n",
       "      <th>default</th>\n",
       "      <th>status</th>\n",
       "      <th>duration</th>\n",
       "      <th>history</th>\n",
       "      <th>amount</th>\n",
       "      <th>savings</th>\n",
       "      <th>housing</th>\n",
       "      <th>employment</th>\n",
       "      <th>purpose</th>\n",
       "    </tr>\n",
       "  </thead>\n",
       "  <tbody>\n",
       "    <tr>\n",
       "      <th>0</th>\n",
       "      <td>0</td>\n",
       "      <td>A11</td>\n",
       "      <td>6</td>\n",
       "      <td>A34</td>\n",
       "      <td>1169</td>\n",
       "      <td>A65</td>\n",
       "      <td>A152</td>\n",
       "      <td>A75</td>\n",
       "      <td>A43</td>\n",
       "    </tr>\n",
       "    <tr>\n",
       "      <th>1</th>\n",
       "      <td>1</td>\n",
       "      <td>A12</td>\n",
       "      <td>48</td>\n",
       "      <td>A32</td>\n",
       "      <td>5951</td>\n",
       "      <td>A61</td>\n",
       "      <td>A152</td>\n",
       "      <td>A73</td>\n",
       "      <td>A43</td>\n",
       "    </tr>\n",
       "    <tr>\n",
       "      <th>2</th>\n",
       "      <td>0</td>\n",
       "      <td>A14</td>\n",
       "      <td>12</td>\n",
       "      <td>A34</td>\n",
       "      <td>2096</td>\n",
       "      <td>A61</td>\n",
       "      <td>A152</td>\n",
       "      <td>A74</td>\n",
       "      <td>A46</td>\n",
       "    </tr>\n",
       "    <tr>\n",
       "      <th>3</th>\n",
       "      <td>0</td>\n",
       "      <td>A11</td>\n",
       "      <td>42</td>\n",
       "      <td>A32</td>\n",
       "      <td>7882</td>\n",
       "      <td>A61</td>\n",
       "      <td>A153</td>\n",
       "      <td>A74</td>\n",
       "      <td>A42</td>\n",
       "    </tr>\n",
       "    <tr>\n",
       "      <th>4</th>\n",
       "      <td>1</td>\n",
       "      <td>A11</td>\n",
       "      <td>24</td>\n",
       "      <td>A33</td>\n",
       "      <td>4870</td>\n",
       "      <td>A61</td>\n",
       "      <td>A153</td>\n",
       "      <td>A73</td>\n",
       "      <td>A40</td>\n",
       "    </tr>\n",
       "  </tbody>\n",
       "</table>\n",
       "</div>"
      ],
      "text/plain": [
       "   default status  duration history  amount savings housing employment purpose\n",
       "0        0    A11         6     A34    1169     A65    A152        A75     A43\n",
       "1        1    A12        48     A32    5951     A61    A152        A73     A43\n",
       "2        0    A14        12     A34    2096     A61    A152        A74     A46\n",
       "3        0    A11        42     A32    7882     A61    A153        A74     A42\n",
       "4        1    A11        24     A33    4870     A61    A153        A73     A40"
      ]
     },
     "execution_count": 50,
     "metadata": {},
     "output_type": "execute_result"
    }
   ],
   "source": [
    "german_simplified.head()"
   ]
  },
  {
   "cell_type": "code",
   "execution_count": 65,
   "metadata": {
    "scrolled": true
   },
   "outputs": [],
   "source": [
    "german_simplified.replace(to_replace=[\"A32\", \"A33\"], value=\"A32/A33\", inplace=True)\n",
    "\n",
    "german_simplified.replace(to_replace=[\"A40\", \"A44\", \"A45\", \"A49\"], value=\"A40/A44/A45/A49\", inplace=True)\n",
    "\n",
    "german_simplified.replace(to_replace=['A41', 'A48'], value='A41/A48', inplace=True)\n",
    "\n",
    "german_simplified.replace(to_replace=['A46', 'A410'], value='A46/A410', inplace=True)\n",
    "\n",
    "german_simplified.replace(to_replace=['A61', 'A62', 'A63', 'A64', 'A65'], \n",
    "                          value=['A61/A62']*2 + ['A63/A64/A65']*3, inplace=True)\n",
    "\n",
    "german_simplified.replace(to_replace=['A74', 'A75'], value='A74/A75', inplace=True)\n",
    "\n",
    "german_simplified.replace(to_replace=['A151', 'A153'], value='A151/A153', inplace=True)"
   ]
  },
  {
   "cell_type": "code",
   "execution_count": 66,
   "metadata": {},
   "outputs": [
    {
     "data": {
      "text/html": [
       "<div>\n",
       "<style scoped>\n",
       "    .dataframe tbody tr th:only-of-type {\n",
       "        vertical-align: middle;\n",
       "    }\n",
       "\n",
       "    .dataframe tbody tr th {\n",
       "        vertical-align: top;\n",
       "    }\n",
       "\n",
       "    .dataframe thead th {\n",
       "        text-align: right;\n",
       "    }\n",
       "</style>\n",
       "<table border=\"1\" class=\"dataframe\">\n",
       "  <thead>\n",
       "    <tr style=\"text-align: right;\">\n",
       "      <th></th>\n",
       "      <th>default</th>\n",
       "      <th>status</th>\n",
       "      <th>duration</th>\n",
       "      <th>history</th>\n",
       "      <th>amount</th>\n",
       "      <th>savings</th>\n",
       "      <th>housing</th>\n",
       "      <th>employment</th>\n",
       "      <th>purpose</th>\n",
       "    </tr>\n",
       "  </thead>\n",
       "  <tbody>\n",
       "    <tr>\n",
       "      <th>0</th>\n",
       "      <td>0</td>\n",
       "      <td>A11</td>\n",
       "      <td>6</td>\n",
       "      <td>A34</td>\n",
       "      <td>1169</td>\n",
       "      <td>A63/A64/A65</td>\n",
       "      <td>A152</td>\n",
       "      <td>A74/A75</td>\n",
       "      <td>A43</td>\n",
       "    </tr>\n",
       "    <tr>\n",
       "      <th>1</th>\n",
       "      <td>1</td>\n",
       "      <td>A12</td>\n",
       "      <td>48</td>\n",
       "      <td>A32/A33</td>\n",
       "      <td>5951</td>\n",
       "      <td>A61/A62</td>\n",
       "      <td>A152</td>\n",
       "      <td>A73</td>\n",
       "      <td>A43</td>\n",
       "    </tr>\n",
       "    <tr>\n",
       "      <th>2</th>\n",
       "      <td>0</td>\n",
       "      <td>A14</td>\n",
       "      <td>12</td>\n",
       "      <td>A34</td>\n",
       "      <td>2096</td>\n",
       "      <td>A61/A62</td>\n",
       "      <td>A152</td>\n",
       "      <td>A74/A75</td>\n",
       "      <td>A46/A410</td>\n",
       "    </tr>\n",
       "    <tr>\n",
       "      <th>3</th>\n",
       "      <td>0</td>\n",
       "      <td>A11</td>\n",
       "      <td>42</td>\n",
       "      <td>A32/A33</td>\n",
       "      <td>7882</td>\n",
       "      <td>A61/A62</td>\n",
       "      <td>A151/A153</td>\n",
       "      <td>A74/A75</td>\n",
       "      <td>A42</td>\n",
       "    </tr>\n",
       "    <tr>\n",
       "      <th>4</th>\n",
       "      <td>1</td>\n",
       "      <td>A11</td>\n",
       "      <td>24</td>\n",
       "      <td>A32/A33</td>\n",
       "      <td>4870</td>\n",
       "      <td>A61/A62</td>\n",
       "      <td>A151/A153</td>\n",
       "      <td>A73</td>\n",
       "      <td>A40/A44/A45/A49</td>\n",
       "    </tr>\n",
       "  </tbody>\n",
       "</table>\n",
       "</div>"
      ],
      "text/plain": [
       "   default status  duration  history  amount      savings    housing  \\\n",
       "0        0    A11         6      A34    1169  A63/A64/A65       A152   \n",
       "1        1    A12        48  A32/A33    5951      A61/A62       A152   \n",
       "2        0    A14        12      A34    2096      A61/A62       A152   \n",
       "3        0    A11        42  A32/A33    7882      A61/A62  A151/A153   \n",
       "4        1    A11        24  A32/A33    4870      A61/A62  A151/A153   \n",
       "\n",
       "  employment          purpose  \n",
       "0    A74/A75              A43  \n",
       "1        A73              A43  \n",
       "2    A74/A75         A46/A410  \n",
       "3    A74/A75              A42  \n",
       "4        A73  A40/A44/A45/A49  "
      ]
     },
     "execution_count": 66,
     "metadata": {},
     "output_type": "execute_result"
    }
   ],
   "source": [
    "german_simplified.head()"
   ]
  },
  {
   "cell_type": "code",
   "execution_count": 58,
   "metadata": {
    "scrolled": true
   },
   "outputs": [
    {
     "data": {
      "text/plain": [
       "['A61/A62', 'A61/A62', 'A63/A64/A65', 'A63/A64/A65', 'A63/A64/A65']"
      ]
     },
     "execution_count": 58,
     "metadata": {},
     "output_type": "execute_result"
    }
   ],
   "source": [
    "['A61/A62']*2 + ['A63/A64/A65']*3"
   ]
  },
  {
   "cell_type": "code",
   "execution_count": 63,
   "metadata": {},
   "outputs": [
    {
     "data": {
      "text/plain": [
       "['A61', 'A62', 'A63', 'A64', 'A65']"
      ]
     },
     "execution_count": 63,
     "metadata": {},
     "output_type": "execute_result"
    }
   ],
   "source": [
    "['A61', 'A62', 'A63', 'A64', 'A65']"
   ]
  },
  {
   "cell_type": "code",
   "execution_count": 62,
   "metadata": {},
   "outputs": [
    {
     "data": {
      "text/plain": [
       "['A63/A64/A65', 'A63/A64/A65', 'A63/A64/A65']"
      ]
     },
     "execution_count": 62,
     "metadata": {},
     "output_type": "execute_result"
    }
   ],
   "source": [
    "['A63/A64/A65']*3"
   ]
  },
  {
   "cell_type": "code",
   "execution_count": 67,
   "metadata": {},
   "outputs": [
    {
     "data": {
      "text/html": [
       "<div>\n",
       "<style scoped>\n",
       "    .dataframe tbody tr th:only-of-type {\n",
       "        vertical-align: middle;\n",
       "    }\n",
       "\n",
       "    .dataframe tbody tr th {\n",
       "        vertical-align: top;\n",
       "    }\n",
       "\n",
       "    .dataframe thead th {\n",
       "        text-align: right;\n",
       "    }\n",
       "</style>\n",
       "<table border=\"1\" class=\"dataframe\">\n",
       "  <thead>\n",
       "    <tr style=\"text-align: right;\">\n",
       "      <th></th>\n",
       "      <th>default</th>\n",
       "      <th>status</th>\n",
       "      <th>duration</th>\n",
       "      <th>history</th>\n",
       "      <th>amount</th>\n",
       "      <th>savings</th>\n",
       "      <th>housing</th>\n",
       "      <th>employment</th>\n",
       "      <th>purpose</th>\n",
       "    </tr>\n",
       "  </thead>\n",
       "  <tbody>\n",
       "    <tr>\n",
       "      <th>0</th>\n",
       "      <td>0</td>\n",
       "      <td>A11</td>\n",
       "      <td>6</td>\n",
       "      <td>A34</td>\n",
       "      <td>1169</td>\n",
       "      <td>A63/A64/A65</td>\n",
       "      <td>A152</td>\n",
       "      <td>A74/A75</td>\n",
       "      <td>A43</td>\n",
       "    </tr>\n",
       "    <tr>\n",
       "      <th>1</th>\n",
       "      <td>1</td>\n",
       "      <td>A12</td>\n",
       "      <td>48</td>\n",
       "      <td>A32/A33</td>\n",
       "      <td>5951</td>\n",
       "      <td>A61/A62</td>\n",
       "      <td>A152</td>\n",
       "      <td>A73</td>\n",
       "      <td>A43</td>\n",
       "    </tr>\n",
       "    <tr>\n",
       "      <th>2</th>\n",
       "      <td>0</td>\n",
       "      <td>A14</td>\n",
       "      <td>12</td>\n",
       "      <td>A34</td>\n",
       "      <td>2096</td>\n",
       "      <td>A61/A62</td>\n",
       "      <td>A152</td>\n",
       "      <td>A74/A75</td>\n",
       "      <td>A46/A410</td>\n",
       "    </tr>\n",
       "    <tr>\n",
       "      <th>3</th>\n",
       "      <td>0</td>\n",
       "      <td>A11</td>\n",
       "      <td>42</td>\n",
       "      <td>A32/A33</td>\n",
       "      <td>7882</td>\n",
       "      <td>A61/A62</td>\n",
       "      <td>A151/A153</td>\n",
       "      <td>A74/A75</td>\n",
       "      <td>A42</td>\n",
       "    </tr>\n",
       "    <tr>\n",
       "      <th>4</th>\n",
       "      <td>1</td>\n",
       "      <td>A11</td>\n",
       "      <td>24</td>\n",
       "      <td>A32/A33</td>\n",
       "      <td>4870</td>\n",
       "      <td>A61/A62</td>\n",
       "      <td>A151/A153</td>\n",
       "      <td>A73</td>\n",
       "      <td>A40/A44/A45/A49</td>\n",
       "    </tr>\n",
       "  </tbody>\n",
       "</table>\n",
       "</div>"
      ],
      "text/plain": [
       "   default status  duration  history  amount      savings    housing  \\\n",
       "0        0    A11         6      A34    1169  A63/A64/A65       A152   \n",
       "1        1    A12        48  A32/A33    5951      A61/A62       A152   \n",
       "2        0    A14        12      A34    2096      A61/A62       A152   \n",
       "3        0    A11        42  A32/A33    7882      A61/A62  A151/A153   \n",
       "4        1    A11        24  A32/A33    4870      A61/A62  A151/A153   \n",
       "\n",
       "  employment          purpose  \n",
       "0    A74/A75              A43  \n",
       "1        A73              A43  \n",
       "2    A74/A75         A46/A410  \n",
       "3    A74/A75              A42  \n",
       "4        A73  A40/A44/A45/A49  "
      ]
     },
     "execution_count": 67,
     "metadata": {},
     "output_type": "execute_result"
    }
   ],
   "source": [
    "german_simplified.head()"
   ]
  },
  {
   "cell_type": "code",
   "execution_count": 68,
   "metadata": {},
   "outputs": [],
   "source": [
    "german_simplified_with_dummies = pd.get_dummies(german_simplified, drop_first=True)\n",
    "\n",
    "train_indices, test_indices = train_test_split(german_simplified_with_dummies.index, test_size=0.2, random_state=0)"
   ]
  },
  {
   "cell_type": "code",
   "execution_count": 72,
   "metadata": {},
   "outputs": [
    {
     "data": {
      "text/html": [
       "<div>\n",
       "<style scoped>\n",
       "    .dataframe tbody tr th:only-of-type {\n",
       "        vertical-align: middle;\n",
       "    }\n",
       "\n",
       "    .dataframe tbody tr th {\n",
       "        vertical-align: top;\n",
       "    }\n",
       "\n",
       "    .dataframe thead th {\n",
       "        text-align: right;\n",
       "    }\n",
       "</style>\n",
       "<table border=\"1\" class=\"dataframe\">\n",
       "  <thead>\n",
       "    <tr style=\"text-align: right;\">\n",
       "      <th></th>\n",
       "      <th>default</th>\n",
       "      <th>duration</th>\n",
       "      <th>amount</th>\n",
       "      <th>status_A12</th>\n",
       "      <th>status_A13</th>\n",
       "      <th>status_A14</th>\n",
       "      <th>history_A31</th>\n",
       "      <th>history_A32/A33</th>\n",
       "      <th>history_A34</th>\n",
       "      <th>savings_A63/A64/A65</th>\n",
       "      <th>housing_A152</th>\n",
       "      <th>employment_A72</th>\n",
       "      <th>employment_A73</th>\n",
       "      <th>employment_A74/A75</th>\n",
       "      <th>purpose_A41/A48</th>\n",
       "      <th>purpose_A42</th>\n",
       "      <th>purpose_A43</th>\n",
       "      <th>purpose_A46/A410</th>\n",
       "    </tr>\n",
       "  </thead>\n",
       "  <tbody>\n",
       "    <tr>\n",
       "      <th>0</th>\n",
       "      <td>0</td>\n",
       "      <td>6</td>\n",
       "      <td>1169</td>\n",
       "      <td>0</td>\n",
       "      <td>0</td>\n",
       "      <td>0</td>\n",
       "      <td>0</td>\n",
       "      <td>0</td>\n",
       "      <td>1</td>\n",
       "      <td>1</td>\n",
       "      <td>1</td>\n",
       "      <td>0</td>\n",
       "      <td>0</td>\n",
       "      <td>1</td>\n",
       "      <td>0</td>\n",
       "      <td>0</td>\n",
       "      <td>1</td>\n",
       "      <td>0</td>\n",
       "    </tr>\n",
       "    <tr>\n",
       "      <th>1</th>\n",
       "      <td>1</td>\n",
       "      <td>48</td>\n",
       "      <td>5951</td>\n",
       "      <td>1</td>\n",
       "      <td>0</td>\n",
       "      <td>0</td>\n",
       "      <td>0</td>\n",
       "      <td>1</td>\n",
       "      <td>0</td>\n",
       "      <td>0</td>\n",
       "      <td>1</td>\n",
       "      <td>0</td>\n",
       "      <td>1</td>\n",
       "      <td>0</td>\n",
       "      <td>0</td>\n",
       "      <td>0</td>\n",
       "      <td>1</td>\n",
       "      <td>0</td>\n",
       "    </tr>\n",
       "    <tr>\n",
       "      <th>2</th>\n",
       "      <td>0</td>\n",
       "      <td>12</td>\n",
       "      <td>2096</td>\n",
       "      <td>0</td>\n",
       "      <td>0</td>\n",
       "      <td>1</td>\n",
       "      <td>0</td>\n",
       "      <td>0</td>\n",
       "      <td>1</td>\n",
       "      <td>0</td>\n",
       "      <td>1</td>\n",
       "      <td>0</td>\n",
       "      <td>0</td>\n",
       "      <td>1</td>\n",
       "      <td>0</td>\n",
       "      <td>0</td>\n",
       "      <td>0</td>\n",
       "      <td>1</td>\n",
       "    </tr>\n",
       "    <tr>\n",
       "      <th>3</th>\n",
       "      <td>0</td>\n",
       "      <td>42</td>\n",
       "      <td>7882</td>\n",
       "      <td>0</td>\n",
       "      <td>0</td>\n",
       "      <td>0</td>\n",
       "      <td>0</td>\n",
       "      <td>1</td>\n",
       "      <td>0</td>\n",
       "      <td>0</td>\n",
       "      <td>0</td>\n",
       "      <td>0</td>\n",
       "      <td>0</td>\n",
       "      <td>1</td>\n",
       "      <td>0</td>\n",
       "      <td>1</td>\n",
       "      <td>0</td>\n",
       "      <td>0</td>\n",
       "    </tr>\n",
       "    <tr>\n",
       "      <th>4</th>\n",
       "      <td>1</td>\n",
       "      <td>24</td>\n",
       "      <td>4870</td>\n",
       "      <td>0</td>\n",
       "      <td>0</td>\n",
       "      <td>0</td>\n",
       "      <td>0</td>\n",
       "      <td>1</td>\n",
       "      <td>0</td>\n",
       "      <td>0</td>\n",
       "      <td>0</td>\n",
       "      <td>0</td>\n",
       "      <td>1</td>\n",
       "      <td>0</td>\n",
       "      <td>0</td>\n",
       "      <td>0</td>\n",
       "      <td>0</td>\n",
       "      <td>0</td>\n",
       "    </tr>\n",
       "  </tbody>\n",
       "</table>\n",
       "</div>"
      ],
      "text/plain": [
       "   default  duration  amount  status_A12  status_A13  status_A14  history_A31  \\\n",
       "0        0         6    1169           0           0           0            0   \n",
       "1        1        48    5951           1           0           0            0   \n",
       "2        0        12    2096           0           0           1            0   \n",
       "3        0        42    7882           0           0           0            0   \n",
       "4        1        24    4870           0           0           0            0   \n",
       "\n",
       "   history_A32/A33  history_A34  savings_A63/A64/A65  housing_A152  \\\n",
       "0                0            1                    1             1   \n",
       "1                1            0                    0             1   \n",
       "2                0            1                    0             1   \n",
       "3                1            0                    0             0   \n",
       "4                1            0                    0             0   \n",
       "\n",
       "   employment_A72  employment_A73  employment_A74/A75  purpose_A41/A48  \\\n",
       "0               0               0                   1                0   \n",
       "1               0               1                   0                0   \n",
       "2               0               0                   1                0   \n",
       "3               0               0                   1                0   \n",
       "4               0               1                   0                0   \n",
       "\n",
       "   purpose_A42  purpose_A43  purpose_A46/A410  \n",
       "0            0            1                 0  \n",
       "1            0            1                 0  \n",
       "2            0            0                 1  \n",
       "3            1            0                 0  \n",
       "4            0            0                 0  "
      ]
     },
     "execution_count": 72,
     "metadata": {},
     "output_type": "execute_result"
    }
   ],
   "source": [
    "german_simplified_with_dummies.head()"
   ]
  },
  {
   "cell_type": "code",
   "execution_count": 73,
   "metadata": {},
   "outputs": [],
   "source": [
    "german_train = german_simplified_with_dummies.loc[train_indices, :].copy()\n",
    "german_test = german_simplified_with_dummies.loc[test_indices, :].copy()"
   ]
  },
  {
   "cell_type": "code",
   "execution_count": 74,
   "metadata": {},
   "outputs": [],
   "source": [
    "x_train = german_train.drop(\"default\", axis=1)\n",
    "y_train = german_train.loc[:, \"default\"]\n",
    "\n",
    "x_test = german_test.drop(\"default\", axis=1)\n",
    "y_test = german_test.loc[:, \"default\"]\n",
    "\n",
    "\n",
    "x_train = sm.add_constant(x_train)\n",
    "x_test = sm.add_constant(x_test)"
   ]
  },
  {
   "cell_type": "code",
   "execution_count": 75,
   "metadata": {},
   "outputs": [
    {
     "name": "stdout",
     "output_type": "stream",
     "text": [
      "Optimization terminated successfully.\n",
      "         Current function value: 0.467684\n",
      "         Iterations 6\n"
     ]
    }
   ],
   "source": [
    "model = sm.Logit(y_train, x_train).fit()"
   ]
  },
  {
   "cell_type": "code",
   "execution_count": 81,
   "metadata": {},
   "outputs": [],
   "source": [
    "y_pred_probability = model.predict(x_test)\n",
    "# y_pred = np.around(y_pred_probability)\n",
    "y_pred = (y_pred_probability > 0.5).astype(int)"
   ]
  },
  {
   "cell_type": "code",
   "execution_count": 84,
   "metadata": {},
   "outputs": [
    {
     "data": {
      "text/plain": [
       "0.485981308411215"
      ]
     },
     "execution_count": 84,
     "metadata": {},
     "output_type": "execute_result"
    }
   ],
   "source": [
    "f1_score(y_test, y_pred)"
   ]
  },
  {
   "cell_type": "code",
   "execution_count": 92,
   "metadata": {},
   "outputs": [
    {
     "data": {
      "text/plain": [
       "0"
      ]
     },
     "execution_count": 92,
     "metadata": {},
     "output_type": "execute_result"
    }
   ],
   "source": [
    "round(0.5)"
   ]
  },
  {
   "cell_type": "code",
   "execution_count": 91,
   "metadata": {},
   "outputs": [
    {
     "data": {
      "text/plain": [
       "2"
      ]
     },
     "execution_count": 91,
     "metadata": {},
     "output_type": "execute_result"
    }
   ],
   "source": [
    "round(2.5)"
   ]
  },
  {
   "cell_type": "code",
   "execution_count": 87,
   "metadata": {},
   "outputs": [
    {
     "data": {
      "text/plain": [
       "4"
      ]
     },
     "execution_count": 87,
     "metadata": {},
     "output_type": "execute_result"
    }
   ],
   "source": [
    "round(3.5)"
   ]
  },
  {
   "cell_type": "code",
   "execution_count": 99,
   "metadata": {},
   "outputs": [
    {
     "data": {
      "image/png": "[encoded data removed]",
      "text/plain": [
       "<Figure size 1080x360 with 2 Axes>"
      ]
     },
     "metadata": {
      "needs_background": "light"
     },
     "output_type": "display_data"
    }
   ],
   "source": [
    "df = pd.read_csv('product_train.csv')\n",
    "\n",
    "plt.figure(figsize=(15, 5))\n",
    "\n",
    "ax = plt.subplot(1, 2, 1)\n",
    "df[\"Rating\"].value_counts().sort_index().plot.bar(ax=ax, rot=0)\n",
    "\n",
    "ax.set_title(\"Using Value Counts\")\n",
    "ax.set_xlabel('Rating')\n",
    "ax.set_ylabel('Occurances')\n",
    "\n",
    "\n",
    "plt.subplot(1, 2, 2)\n",
    "plt.hist(df['Rating'], bins=20)\n",
    "plt.xlabel('Rating')\n",
    "plt.ylabel('Occurances')\n",
    "plt.title(\"Using hist\");"
   ]
  },
  {
   "cell_type": "code",
   "execution_count": 112,
   "metadata": {},
   "outputs": [
    {
     "name": "stdout",
     "output_type": "stream",
     "text": [
      "Optimization terminated successfully.\n",
      "         Current function value: 0.467684\n",
      "         Iterations 6\n"
     ]
    }
   ],
   "source": [
    "german = pd.read_csv('german_credit.csv')\n",
    "\n",
    "columns = [\"default\", \"status\", \"duration\", \"history\", \"amount\", \"savings\", \"housing\", \"employment\", \"purpose\"]\n",
    "german_simplified = german.loc[:, columns].copy()\n",
    "\n",
    "german_simplified.replace(to_replace=[\"A32\", \"A33\"], value=\"A32/A33\", inplace=True)\n",
    "german_simplified.replace(to_replace=[\"A40\", \"A44\", \"A45\", \"A49\"], value=\"A40/A44/A45/A49\", inplace=True)\n",
    "german_simplified.replace(to_replace=['A41', 'A48'], value='A41/A48', inplace=True)\n",
    "german_simplified.replace(to_replace=['A46', 'A410'], value='A46/A410', inplace=True)\n",
    "german_simplified.replace(to_replace=['A61', 'A62', 'A63', 'A64', 'A65'], \n",
    "                          value=['A61/A62']*2 + ['A63/A64/A65']*3, inplace=True)\n",
    "german_simplified.replace(to_replace=['A74', 'A75'], value='A74/A75', inplace=True)\n",
    "german_simplified.replace(to_replace=['A151', 'A153'], value='A151/A153', inplace=True)\n",
    "\n",
    "german_simplified_with_dummies = pd.get_dummies(german_simplified, drop_first=True)\n",
    "\n",
    "train_indices, test_indices = train_test_split(german_simplified_with_dummies.index, test_size=0.2, random_state=0)\n",
    "\n",
    "german_train = german_simplified_with_dummies.loc[train_indices, :].copy()\n",
    "german_test = german_simplified_with_dummies.loc[test_indices, :].copy()\n",
    "\n",
    "x_train = german_train.drop(\"default\", axis=1)\n",
    "y_train = german_train.loc[:, \"default\"]\n",
    "\n",
    "x_test = german_test.drop(\"default\", axis=1)\n",
    "y_test = german_test.loc[:, \"default\"]\n",
    "\n",
    "\n",
    "x_train = sm.add_constant(x_train)\n",
    "x_test = sm.add_constant(x_test)\n",
    "\n",
    "model = sm.Logit(y_train, x_train).fit()\n",
    "\n",
    "y_pred_probability = model.predict(x_test)\n",
    "y_pred = (y_pred_probability > 1/6).astype(int)"
   ]
  },
  {
   "cell_type": "code",
   "execution_count": 113,
   "metadata": {},
   "outputs": [
    {
     "data": {
      "text/plain": [
       "0.5193370165745856"
      ]
     },
     "execution_count": 113,
     "metadata": {},
     "output_type": "execute_result"
    }
   ],
   "source": [
    "f1_score(y_test, y_pred)"
   ]
  },
  {
   "cell_type": "code",
   "execution_count": 116,
   "metadata": {},
   "outputs": [
    {
     "data": {
      "text/plain": [
       "0.655"
      ]
     },
     "execution_count": 116,
     "metadata": {},
     "output_type": "execute_result"
    }
   ],
   "source": [
    "tn, fp, fn, tp = confusion_matrix(y_test, y_pred).flatten()\n",
    "(fp + 5 * fn) / len(y_pred)"
   ]
  },
  {
   "cell_type": "code",
   "execution_count": null,
   "metadata": {},
   "outputs": [],
   "source": []
  }
 ],
 "metadata": {
  "kernelspec": {
   "display_name": "Python 3 (ipykernel)",
   "language": "python",
   "name": "python3"
  },
  "language_info": {
   "codemirror_mode": {
    "name": "ipython",
    "version": 3
   },
   "file_extension": ".py",
   "mimetype": "text/x-python",
   "name": "python",
   "nbconvert_exporter": "python",
   "pygments_lexer": "ipython3",
   "version": "3.8.12"
  }
 },
 "nbformat": 4,
 "nbformat_minor": 4
}
