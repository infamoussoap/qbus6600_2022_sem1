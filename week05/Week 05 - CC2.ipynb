{
 "cells": [
  {
   "cell_type": "code",
   "execution_count": 90,
   "id": "04c0b8fd",
   "metadata": {},
   "outputs": [],
   "source": [
    "import numpy as np\n",
    "import pandas as pd\n",
    "\n",
    "import matplotlib.pyplot as plt\n",
    "\n",
    "from sklearn.model_selection import train_test_split\n",
    "from sklearn.metrics import f1_score, confusion_matrix\n",
    "\n",
    "import statsmodels.api as sm"
   ]
  },
  {
   "cell_type": "code",
   "execution_count": 2,
   "id": "4dad3c15",
   "metadata": {},
   "outputs": [],
   "source": [
    "german = pd.read_csv('german_credit.csv')\n",
    "\n",
    "train_indices, test_indices = train_test_split(np.array(german.index), test_size=0.2, random_state=0)\n",
    "\n",
    "german_train = german.loc[train_indices].copy()\n",
    "german_test = german.loc[test_indices].copy() "
   ]
  },
  {
   "cell_type": "code",
   "execution_count": 10,
   "id": "05a18267",
   "metadata": {},
   "outputs": [
    {
     "data": {
      "image/png": "[encoded data removed]",
      "text/plain": [
       "<Figure size 1080x360 with 2 Axes>"
      ]
     },
     "metadata": {
      "needs_background": "light"
     },
     "output_type": "display_data"
    }
   ],
   "source": [
    "fig, axs = plt.subplots(1, 2, figsize=(15, 5))\n",
    "\n",
    "german_train.boxplot(\"duration\", \"default\", ax=axs[0])\n",
    "axs[0].set_xlabel(\"Default\")\n",
    "axs[0].set_ylabel(\"Duration (months)\")\n",
    "axs[0].set_title(\"\")\n",
    "\n",
    "german_train.boxplot(\"amount\", \"default\", ax=axs[1])\n",
    "axs[1].set_xlabel(\"Default\")\n",
    "axs[1].set_ylabel(\"Amount ($)\")\n",
    "axs[1].set_title(\"\")\n",
    "\n",
    "plt.suptitle(\"Distrubition of Duration and Amount\");"
   ]
  },
  {
   "cell_type": "code",
   "execution_count": 5,
   "id": "d0364300",
   "metadata": {},
   "outputs": [
    {
     "data": {
      "text/plain": [
       "array([<AxesSubplot:title={'center':'duration'}, xlabel='default'>,\n",
       "       <AxesSubplot:>], dtype=object)"
      ]
     },
     "execution_count": 5,
     "metadata": {},
     "output_type": "execute_result"
    }
   ],
   "source": [
    "axs"
   ]
  },
  {
   "cell_type": "code",
   "execution_count": 15,
   "id": "38d2fcc9",
   "metadata": {},
   "outputs": [],
   "source": [
    "german = pd.read_csv('german_credit.csv')\n",
    "\n",
    "columns = ['default', 'status', 'duration', 'history', 'amount', 'savings', 'housing', 'employment', 'purpose']\n",
    "german_simplified = german.loc[:, columns].copy()\n",
    "\n",
    "german_simplified_with_dummies = pd.get_dummies(german_simplified, drop_first=True)"
   ]
  },
  {
   "cell_type": "code",
   "execution_count": 16,
   "id": "80d0d7e3",
   "metadata": {},
   "outputs": [],
   "source": [
    "train_indices, test_indices = train_test_split(german_simplified_with_dummies.index, test_size=0.2, random_state=0)\n",
    "\n",
    "german_train = german_simplified_with_dummies.loc[train_indices].copy()\n",
    "german_test = german_simplified_with_dummies.loc[test_indices].copy() "
   ]
  },
  {
   "cell_type": "code",
   "execution_count": 22,
   "id": "60197fb9",
   "metadata": {},
   "outputs": [],
   "source": [
    "x_train = german_train.drop(\"default\", axis=1)\n",
    "y_train = german_train.loc[:, \"default\"]\n",
    "\n",
    "x_test = german_test.drop(\"default\", axis=1)\n",
    "y_test = german_test.loc[:, \"default\"]\n",
    "\n",
    "x_train = sm.add_constant(x_train)\n",
    "x_test = sm.add_constant(x_test)"
   ]
  },
  {
   "cell_type": "code",
   "execution_count": 24,
   "id": "2ab07c41",
   "metadata": {},
   "outputs": [
    {
     "name": "stdout",
     "output_type": "stream",
     "text": [
      "Optimization terminated successfully.\n",
      "         Current function value: 0.459229\n",
      "         Iterations 7\n"
     ]
    }
   ],
   "source": [
    "model = sm.Logit(y_train, x_train).fit()"
   ]
  },
  {
   "cell_type": "code",
   "execution_count": 27,
   "id": "89274573",
   "metadata": {},
   "outputs": [
    {
     "name": "stdout",
     "output_type": "stream",
     "text": [
      "                           Logit Regression Results                           \n",
      "==============================================================================\n",
      "Dep. Variable:                default   No. Observations:                  800\n",
      "Model:                          Logit   Df Residuals:                      771\n",
      "Method:                           MLE   Df Model:                           28\n",
      "Date:                Tue, 22 Mar 2022   Pseudo R-squ.:                  0.2508\n",
      "Time:                        15:27:26   Log-Likelihood:                -367.38\n",
      "converged:                       True   LL-Null:                       -490.37\n",
      "Covariance Type:            nonrobust   LLR p-value:                 1.018e-36\n",
      "==================================================================================\n",
      "                     coef    std err          z      P>|z|      [0.025      0.975]\n",
      "----------------------------------------------------------------------------------\n",
      "const              1.0562      0.672      1.572      0.116      -0.261       2.373\n",
      "duration           0.0469      0.010      4.668      0.000       0.027       0.067\n",
      "amount          6.997e-05    4.3e-05      1.626      0.104   -1.44e-05       0.000\n",
      "status_A12        -0.5512      0.234     -2.356      0.018      -1.010      -0.093\n",
      "status_A13        -1.2146      0.411     -2.955      0.003      -2.020      -0.409\n",
      "status_A14        -1.6847      0.252     -6.674      0.000      -2.179      -1.190\n",
      "history_A31        0.0893      0.592      0.151      0.880      -1.071       1.250\n",
      "history_A32       -1.2251      0.462     -2.650      0.008      -2.131      -0.319\n",
      "history_A33       -1.4015      0.529     -2.649      0.008      -2.438      -0.365\n",
      "history_A34       -1.8991      0.485     -3.914      0.000      -2.850      -0.948\n",
      "savings_A62       -0.1171      0.315     -0.372      0.710      -0.734       0.499\n",
      "savings_A63       -0.2263      0.411     -0.550      0.582      -1.032       0.580\n",
      "savings_A64       -0.7444      0.511     -1.457      0.145      -1.746       0.257\n",
      "savings_A65       -0.9617      0.292     -3.296      0.001      -1.533      -0.390\n",
      "housing_A152      -0.5295      0.239     -2.216      0.027      -0.998      -0.061\n",
      "housing_A153      -0.5002      0.367     -1.362      0.173      -1.220       0.220\n",
      "employment_A72     0.6425      0.439      1.465      0.143      -0.217       1.502\n",
      "employment_A73     0.1713      0.412      0.416      0.678      -0.636       0.979\n",
      "employment_A74    -0.4911      0.456     -1.076      0.282      -1.386       0.403\n",
      "employment_A75     0.1468      0.426      0.345      0.730      -0.688       0.982\n",
      "purpose_A41       -2.0085      0.419     -4.792      0.000      -2.830      -1.187\n",
      "purpose_A410      -1.2008      0.789     -1.521      0.128      -2.748       0.346\n",
      "purpose_A42       -0.7119      0.283     -2.511      0.012      -1.268      -0.156\n",
      "purpose_A43       -0.8415      0.267     -3.149      0.002      -1.365      -0.318\n",
      "purpose_A44       -0.0858      0.805     -0.107      0.915      -1.663       1.491\n",
      "purpose_A45       -0.1724      0.575     -0.300      0.764      -1.300       0.955\n",
      "purpose_A46        0.2519      0.417      0.603      0.546      -0.566       1.070\n",
      "purpose_A48       -1.8562      1.185     -1.566      0.117      -4.180       0.467\n",
      "purpose_A49       -0.6330      0.359     -1.761      0.078      -1.338       0.071\n",
      "==================================================================================\n"
     ]
    }
   ],
   "source": [
    "print(model.summary())"
   ]
  },
  {
   "cell_type": "markdown",
   "id": "2b5319a2",
   "metadata": {},
   "source": [
    "# Q2"
   ]
  },
  {
   "cell_type": "code",
   "execution_count": 36,
   "id": "6247e468",
   "metadata": {},
   "outputs": [
    {
     "data": {
      "text/html": [
       "<div>\n",
       "<style scoped>\n",
       "    .dataframe tbody tr th:only-of-type {\n",
       "        vertical-align: middle;\n",
       "    }\n",
       "\n",
       "    .dataframe tbody tr th {\n",
       "        vertical-align: top;\n",
       "    }\n",
       "\n",
       "    .dataframe thead th {\n",
       "        text-align: right;\n",
       "    }\n",
       "</style>\n",
       "<table border=\"1\" class=\"dataframe\">\n",
       "  <thead>\n",
       "    <tr style=\"text-align: right;\">\n",
       "      <th></th>\n",
       "      <th>default</th>\n",
       "      <th>status</th>\n",
       "      <th>duration</th>\n",
       "      <th>history</th>\n",
       "      <th>amount</th>\n",
       "      <th>savings</th>\n",
       "      <th>housing</th>\n",
       "      <th>employment</th>\n",
       "      <th>purpose</th>\n",
       "    </tr>\n",
       "  </thead>\n",
       "  <tbody>\n",
       "    <tr>\n",
       "      <th>0</th>\n",
       "      <td>0</td>\n",
       "      <td>A11</td>\n",
       "      <td>6</td>\n",
       "      <td>A34</td>\n",
       "      <td>1169</td>\n",
       "      <td>A65</td>\n",
       "      <td>A152</td>\n",
       "      <td>A75</td>\n",
       "      <td>A43</td>\n",
       "    </tr>\n",
       "    <tr>\n",
       "      <th>1</th>\n",
       "      <td>1</td>\n",
       "      <td>A12</td>\n",
       "      <td>48</td>\n",
       "      <td>A32</td>\n",
       "      <td>5951</td>\n",
       "      <td>A61</td>\n",
       "      <td>A152</td>\n",
       "      <td>A73</td>\n",
       "      <td>A43</td>\n",
       "    </tr>\n",
       "    <tr>\n",
       "      <th>2</th>\n",
       "      <td>0</td>\n",
       "      <td>A14</td>\n",
       "      <td>12</td>\n",
       "      <td>A34</td>\n",
       "      <td>2096</td>\n",
       "      <td>A61</td>\n",
       "      <td>A152</td>\n",
       "      <td>A74</td>\n",
       "      <td>A46</td>\n",
       "    </tr>\n",
       "    <tr>\n",
       "      <th>3</th>\n",
       "      <td>0</td>\n",
       "      <td>A11</td>\n",
       "      <td>42</td>\n",
       "      <td>A32</td>\n",
       "      <td>7882</td>\n",
       "      <td>A61</td>\n",
       "      <td>A153</td>\n",
       "      <td>A74</td>\n",
       "      <td>A42</td>\n",
       "    </tr>\n",
       "    <tr>\n",
       "      <th>4</th>\n",
       "      <td>1</td>\n",
       "      <td>A11</td>\n",
       "      <td>24</td>\n",
       "      <td>A33</td>\n",
       "      <td>4870</td>\n",
       "      <td>A61</td>\n",
       "      <td>A153</td>\n",
       "      <td>A73</td>\n",
       "      <td>A40</td>\n",
       "    </tr>\n",
       "  </tbody>\n",
       "</table>\n",
       "</div>"
      ],
      "text/plain": [
       "   default status  duration history  amount savings housing employment purpose\n",
       "0        0    A11         6     A34    1169     A65    A152        A75     A43\n",
       "1        1    A12        48     A32    5951     A61    A152        A73     A43\n",
       "2        0    A14        12     A34    2096     A61    A152        A74     A46\n",
       "3        0    A11        42     A32    7882     A61    A153        A74     A42\n",
       "4        1    A11        24     A33    4870     A61    A153        A73     A40"
      ]
     },
     "execution_count": 36,
     "metadata": {},
     "output_type": "execute_result"
    }
   ],
   "source": [
    "german = pd.read_csv('german_credit.csv')\n",
    "\n",
    "columns = ['default', 'status', 'duration', 'history', 'amount', 'savings', 'housing', 'employment', 'purpose']\n",
    "german_simplified = german.loc[:, columns].copy()\n",
    "\n",
    "german_simplified.head()"
   ]
  },
  {
   "cell_type": "code",
   "execution_count": 44,
   "id": "bc9082c4",
   "metadata": {},
   "outputs": [],
   "source": [
    "german_simplified.replace(to_replace=['A32', 'A33'], value='A32/A33', inplace=True)\n",
    "german_simplified.replace(to_replace=['A40', 'A44', 'A45', 'A49'], value='A40/A44/A45/A49', inplace=True)\n",
    "german_simplified.replace(to_replace=['A41', 'A48'], value='A41/A48', inplace=True)\n",
    "german_simplified.replace(to_replace=['A46', 'A410'], value='A46/A410', inplace=True)\n",
    "german_simplified.replace(to_replace=['A61', 'A62', 'A63', 'A64', 'A65'], \n",
    "                          value=['A61/A62']*2 + ['A63/A64/A65']*3, inplace=True)\n",
    "german_simplified.replace(to_replace=['A74', 'A75'], value='A74/A75', inplace=True)\n",
    "german_simplified.replace(to_replace=['A151', 'A153'], value='A151/A153', inplace=True)"
   ]
  },
  {
   "cell_type": "code",
   "execution_count": 45,
   "id": "14283524",
   "metadata": {},
   "outputs": [
    {
     "data": {
      "text/plain": [
       "['A61/A62', 'A61/A62', 'A63/A64/A65', 'A63/A64/A65', 'A63/A64/A65']"
      ]
     },
     "execution_count": 45,
     "metadata": {},
     "output_type": "execute_result"
    }
   ],
   "source": [
    "['A61/A62']*2 + ['A63/A64/A65']*3 "
   ]
  },
  {
   "cell_type": "code",
   "execution_count": 51,
   "id": "ecf2f453",
   "metadata": {},
   "outputs": [
    {
     "data": {
      "text/plain": [
       "['A61', 'A62', 'A63', 'A64', 'A65']"
      ]
     },
     "execution_count": 51,
     "metadata": {},
     "output_type": "execute_result"
    }
   ],
   "source": [
    "['A61', 'A62', 'A63', 'A64', 'A65']"
   ]
  },
  {
   "cell_type": "code",
   "execution_count": 53,
   "id": "c71b39c4",
   "metadata": {},
   "outputs": [
    {
     "data": {
      "text/plain": [
       "{'A61': 'A61/A62',\n",
       " 'A62': 'A61/A62',\n",
       " 'A63': 'A63/A64/A65',\n",
       " 'A64': 'A63/A64/A65',\n",
       " 'A65': 'A63/A64/A65'}"
      ]
     },
     "execution_count": 53,
     "metadata": {},
     "output_type": "execute_result"
    }
   ],
   "source": [
    "dict(zip(['A61', 'A62', 'A63', 'A64', 'A65'], ['A61/A62']*2 + ['A63/A64/A65']*3))"
   ]
  },
  {
   "cell_type": "code",
   "execution_count": null,
   "id": "71aacf6b",
   "metadata": {},
   "outputs": [],
   "source": []
  },
  {
   "cell_type": "code",
   "execution_count": null,
   "id": "148504c0",
   "metadata": {},
   "outputs": [],
   "source": []
  },
  {
   "cell_type": "code",
   "execution_count": 54,
   "id": "757cae5e",
   "metadata": {},
   "outputs": [],
   "source": [
    "german = pd.read_csv('german_credit.csv')\n",
    "\n",
    "columns = ['default', 'status', 'duration', 'history', 'amount', 'savings', 'housing', 'employment', 'purpose']\n",
    "german_simplified = german.loc[:, columns].copy()\n",
    "\n",
    "\n",
    "german_simplified.replace(to_replace=['A32', 'A33'], value='A32/A33', inplace=True)\n",
    "german_simplified.replace(to_replace=['A40', 'A44', 'A45', 'A49'], value='A40/A44/A45/A49', inplace=True)\n",
    "german_simplified.replace(to_replace=['A41', 'A48'], value='A41/A48', inplace=True)\n",
    "german_simplified.replace(to_replace=['A46', 'A410'], value='A46/A410', inplace=True)\n",
    "german_simplified.replace(to_replace=['A61', 'A62', 'A63', 'A64', 'A65'], \n",
    "                          value=['A61/A62']*2 + ['A63/A64/A65']*3, inplace=True)\n",
    "german_simplified.replace(to_replace=['A74', 'A75'], value='A74/A75', inplace=True)\n",
    "german_simplified.replace(to_replace=['A151', 'A153'], value='A151/A153', inplace=True)"
   ]
  },
  {
   "cell_type": "code",
   "execution_count": 55,
   "id": "6af0d916",
   "metadata": {},
   "outputs": [],
   "source": [
    "german_simplified_with_dummies = pd.get_dummies(german_simplified, drop_first=True)"
   ]
  },
  {
   "cell_type": "code",
   "execution_count": 56,
   "id": "0aaf3feb",
   "metadata": {},
   "outputs": [],
   "source": [
    "train_indices, test_indices = train_test_split(german_simplified_with_dummies.index, test_size=0.2, random_state=0)\n",
    "\n",
    "german_train = german_simplified_with_dummies.loc[train_indices].copy()\n",
    "german_test = german_simplified_with_dummies.loc[test_indices].copy() "
   ]
  },
  {
   "cell_type": "code",
   "execution_count": 57,
   "id": "f6fe6416",
   "metadata": {},
   "outputs": [],
   "source": [
    "x_train = german_train.drop(\"default\", axis=1)\n",
    "y_train = german_train.loc[:, \"default\"]\n",
    "\n",
    "x_test = german_test.drop(\"default\", axis=1)\n",
    "y_test = german_test.loc[:, \"default\"]\n",
    "\n",
    "x_train = sm.add_constant(x_train)\n",
    "x_test = sm.add_constant(x_test)"
   ]
  },
  {
   "cell_type": "code",
   "execution_count": 58,
   "id": "17ed96e8",
   "metadata": {},
   "outputs": [
    {
     "name": "stdout",
     "output_type": "stream",
     "text": [
      "Optimization terminated successfully.\n",
      "         Current function value: 0.467684\n",
      "         Iterations 6\n"
     ]
    }
   ],
   "source": [
    "model = sm.Logit(y_train, x_train).fit()"
   ]
  },
  {
   "cell_type": "code",
   "execution_count": 65,
   "id": "636b7110",
   "metadata": {},
   "outputs": [],
   "source": [
    "y_pred_probability = model.predict(x_test)\n",
    "y_pred = (y_pred_probability > 0.5).astype(int)"
   ]
  },
  {
   "cell_type": "code",
   "execution_count": 68,
   "id": "c3ed5711",
   "metadata": {},
   "outputs": [
    {
     "data": {
      "text/plain": [
       "0.485981308411215"
      ]
     },
     "execution_count": 68,
     "metadata": {},
     "output_type": "execute_result"
    }
   ],
   "source": [
    "f1_score(y_test, y_pred)"
   ]
  },
  {
   "cell_type": "code",
   "execution_count": 69,
   "id": "f29ce5dc",
   "metadata": {},
   "outputs": [],
   "source": [
    "y_pred_probability = model.predict(x_test)\n",
    "y_pred = np.around(y_pred_probability)"
   ]
  },
  {
   "cell_type": "code",
   "execution_count": 72,
   "id": "8714db40",
   "metadata": {},
   "outputs": [
    {
     "name": "stdout",
     "output_type": "stream",
     "text": [
      "round(1.5) = 2\n",
      "round(2.5) = 2\n",
      "round(3.5) = 4\n",
      "round(4.5) = 4\n"
     ]
    }
   ],
   "source": [
    "print(\"round(1.5) =\", round(1.5))\n",
    "print(\"round(2.5) =\", round(2.5))\n",
    "print(\"round(3.5) =\", round(3.5))\n",
    "print(\"round(4.5) =\", round(4.5))"
   ]
  },
  {
   "cell_type": "code",
   "execution_count": 76,
   "id": "31d23553",
   "metadata": {},
   "outputs": [
    {
     "data": {
      "text/plain": [
       "0"
      ]
     },
     "execution_count": 76,
     "metadata": {},
     "output_type": "execute_result"
    }
   ],
   "source": [
    "round(0.5)"
   ]
  },
  {
   "cell_type": "code",
   "execution_count": 82,
   "id": "a0cddc15",
   "metadata": {},
   "outputs": [
    {
     "data": {
      "image/png": "[encoded data removed]",
      "text/plain": [
       "<Figure size 1080x360 with 2 Axes>"
      ]
     },
     "metadata": {
      "needs_background": "light"
     },
     "output_type": "display_data"
    }
   ],
   "source": [
    "df = pd.read_csv('product_train.csv')\n",
    "\n",
    "plt.figure(figsize=(15, 5))\n",
    "\n",
    "ax = plt.subplot(1, 2, 1)\n",
    "df[\"Rating\"].value_counts().sort_index().plot.bar(ax=ax, rot=0)\n",
    "\n",
    "ax.set_title(\"Using Value Counts\")\n",
    "ax.set_xlabel('Rating')\n",
    "ax.set_ylabel('Occurances')\n",
    "\n",
    "\n",
    "plt.subplot(1, 2, 2)\n",
    "plt.hist(df['Rating'], bins=20)\n",
    "plt.xlabel('Rating')\n",
    "plt.ylabel('Occurances')\n",
    "plt.title(\"Using hist\");"
   ]
  },
  {
   "cell_type": "code",
   "execution_count": null,
   "id": "49d6381d",
   "metadata": {},
   "outputs": [],
   "source": []
  },
  {
   "cell_type": "code",
   "execution_count": null,
   "id": "c3d282d3",
   "metadata": {},
   "outputs": [],
   "source": []
  },
  {
   "cell_type": "code",
   "execution_count": null,
   "id": "4f54a883",
   "metadata": {},
   "outputs": [],
   "source": []
  },
  {
   "cell_type": "code",
   "execution_count": 83,
   "id": "8225fefa",
   "metadata": {},
   "outputs": [],
   "source": [
    "german = pd.read_csv('german_credit.csv')\n",
    "\n",
    "columns = ['default', 'status', 'duration', 'history', 'amount', 'savings', 'housing', 'employment', 'purpose']\n",
    "german_simplified = german.loc[:, columns].copy()\n",
    "\n",
    "\n",
    "german_simplified.replace(to_replace=['A32', 'A33'], value='A32/A33', inplace=True)\n",
    "german_simplified.replace(to_replace=['A40', 'A44', 'A45', 'A49'], value='A40/A44/A45/A49', inplace=True)\n",
    "german_simplified.replace(to_replace=['A41', 'A48'], value='A41/A48', inplace=True)\n",
    "german_simplified.replace(to_replace=['A46', 'A410'], value='A46/A410', inplace=True)\n",
    "german_simplified.replace(to_replace=['A61', 'A62', 'A63', 'A64', 'A65'], \n",
    "                          value=['A61/A62']*2 + ['A63/A64/A65']*3, inplace=True)\n",
    "german_simplified.replace(to_replace=['A74', 'A75'], value='A74/A75', inplace=True)\n",
    "german_simplified.replace(to_replace=['A151', 'A153'], value='A151/A153', inplace=True)"
   ]
  },
  {
   "cell_type": "code",
   "execution_count": 84,
   "id": "e78ffa99",
   "metadata": {},
   "outputs": [],
   "source": [
    "german_simplified_with_dummies = pd.get_dummies(german_simplified, drop_first=True)"
   ]
  },
  {
   "cell_type": "code",
   "execution_count": 85,
   "id": "af169cd6",
   "metadata": {},
   "outputs": [],
   "source": [
    "train_indices, test_indices = train_test_split(german_simplified_with_dummies.index, test_size=0.2, random_state=0)\n",
    "\n",
    "german_train = german_simplified_with_dummies.loc[train_indices].copy()\n",
    "german_test = german_simplified_with_dummies.loc[test_indices].copy() "
   ]
  },
  {
   "cell_type": "code",
   "execution_count": 86,
   "id": "c9e9e06f",
   "metadata": {},
   "outputs": [],
   "source": [
    "x_train = german_train.drop(\"default\", axis=1)\n",
    "y_train = german_train.loc[:, \"default\"]\n",
    "\n",
    "x_test = german_test.drop(\"default\", axis=1)\n",
    "y_test = german_test.loc[:, \"default\"]\n",
    "\n",
    "x_train = sm.add_constant(x_train)\n",
    "x_test = sm.add_constant(x_test)"
   ]
  },
  {
   "cell_type": "code",
   "execution_count": 87,
   "id": "e238fddd",
   "metadata": {},
   "outputs": [
    {
     "name": "stdout",
     "output_type": "stream",
     "text": [
      "Optimization terminated successfully.\n",
      "         Current function value: 0.467684\n",
      "         Iterations 6\n"
     ]
    }
   ],
   "source": [
    "model = sm.Logit(y_train, x_train).fit()"
   ]
  },
  {
   "cell_type": "code",
   "execution_count": 88,
   "id": "7eeb9ed4",
   "metadata": {},
   "outputs": [],
   "source": [
    "y_pred_probability = model.predict(x_test)\n",
    "y_pred = (y_pred_probability > 1/(1 + 5)).astype(int)"
   ]
  },
  {
   "cell_type": "code",
   "execution_count": 89,
   "id": "8ddd2815",
   "metadata": {},
   "outputs": [
    {
     "data": {
      "text/plain": [
       "0.5193370165745856"
      ]
     },
     "execution_count": 89,
     "metadata": {},
     "output_type": "execute_result"
    }
   ],
   "source": [
    "f1_score(y_test, y_pred)"
   ]
  },
  {
   "cell_type": "code",
   "execution_count": 93,
   "id": "9dbec692",
   "metadata": {},
   "outputs": [],
   "source": [
    "tn, fp, fn, tp = confusion_matrix(y_test, y_pred).flatten()"
   ]
  },
  {
   "cell_type": "code",
   "execution_count": 96,
   "id": "adf3d054",
   "metadata": {},
   "outputs": [
    {
     "data": {
      "text/plain": [
       "0.655"
      ]
     },
     "execution_count": 96,
     "metadata": {},
     "output_type": "execute_result"
    }
   ],
   "source": [
    "loss = (1 * fp + 5 * fn) / len(y_pred)\n",
    "loss"
   ]
  },
  {
   "cell_type": "code",
   "execution_count": null,
   "id": "ba1a80a9",
   "metadata": {},
   "outputs": [],
   "source": []
  }
 ],
 "metadata": {
  "kernelspec": {
   "display_name": "Python 3 (ipykernel)",
   "language": "python",
   "name": "python3"
  },
  "language_info": {
   "codemirror_mode": {
    "name": "ipython",
    "version": 3
   },
   "file_extension": ".py",
   "mimetype": "text/x-python",
   "name": "python",
   "nbconvert_exporter": "python",
   "pygments_lexer": "ipython3",
   "version": "3.8.12"
  }
 },
 "nbformat": 4,
 "nbformat_minor": 5
}
