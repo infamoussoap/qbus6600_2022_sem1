{
 "cells": [
  {
   "cell_type": "code",
   "execution_count": 76,
   "metadata": {},
   "outputs": [],
   "source": [
    "import numpy as np\n",
    "import pandas as pd\n",
    "\n",
    "import matplotlib.pyplot as plt\n",
    "\n",
    "from sklearn.preprocessing import StandardScaler\n",
    "\n",
    "from sklearn.linear_model import LinearRegression"
   ]
  },
  {
   "cell_type": "code",
   "execution_count": 3,
   "metadata": {},
   "outputs": [],
   "source": [
    "features = ['floor_area', 'latitude', 'bedrooms', 'garage', 'bathrooms', 'nearest_stn_dist', 'build_year', 'longitude', 'nearest_sch_rank', 'nearest_sch_dist', 'cbd_dist', 'land_area']\n",
    "\n",
    "claremont = pd.read_csv('claremont.csv')\n",
    "\n",
    "X = claremont[features].to_numpy()\n",
    "y = claremont['price'].to_numpy()"
   ]
  },
  {
   "cell_type": "code",
   "execution_count": 6,
   "metadata": {},
   "outputs": [],
   "source": [
    "scaler = StandardScaler()\n",
    "scaler.fit(X)\n",
    "\n",
    "x_scaled = scaler.transform(X)"
   ]
  },
  {
   "cell_type": "code",
   "execution_count": null,
   "metadata": {},
   "outputs": [],
   "source": []
  },
  {
   "cell_type": "markdown",
   "metadata": {},
   "source": [
    "# Null Model"
   ]
  },
  {
   "cell_type": "code",
   "execution_count": 10,
   "metadata": {},
   "outputs": [],
   "source": [
    "average_house_price = np.mean(y)"
   ]
  },
  {
   "cell_type": "code",
   "execution_count": 11,
   "metadata": {},
   "outputs": [
    {
     "data": {
      "text/plain": [
       "1273417.5111111111"
      ]
     },
     "execution_count": 11,
     "metadata": {},
     "output_type": "execute_result"
    }
   ],
   "source": [
    "average_house_price"
   ]
  },
  {
   "cell_type": "code",
   "execution_count": 12,
   "metadata": {},
   "outputs": [
    {
     "name": "stdout",
     "output_type": "stream",
     "text": [
      "$1,273,417.51\n"
     ]
    }
   ],
   "source": [
    "print('${:,.2f}'.format(average_house_price))"
   ]
  },
  {
   "cell_type": "code",
   "execution_count": 15,
   "metadata": {},
   "outputs": [
    {
     "name": "stdout",
     "output_type": "stream",
     "text": [
      "$1,273,417.51\n"
     ]
    }
   ],
   "source": [
    "print(\"$\" + format(average_house_price, \",.2f\"))"
   ]
  },
  {
   "cell_type": "code",
   "execution_count": null,
   "metadata": {},
   "outputs": [],
   "source": []
  },
  {
   "cell_type": "markdown",
   "metadata": {},
   "source": [
    "# First Feature"
   ]
  },
  {
   "cell_type": "code",
   "execution_count": 31,
   "metadata": {},
   "outputs": [],
   "source": [
    "features = ['floor_area', 'latitude', 'bedrooms', 'garage', 'bathrooms', 'nearest_stn_dist', 'build_year', 'longitude', 'nearest_sch_rank', 'nearest_sch_dist', 'cbd_dist', 'land_area']\n",
    "\n",
    "claremont = pd.read_csv('claremont.csv')\n",
    "\n",
    "X = claremont[features]\n",
    "y = claremont['price']\n",
    "\n",
    "scaler = StandardScaler()\n",
    "scaler.fit(X)\n",
    "\n",
    "x_scaled = (X - X.mean()) / X.std()"
   ]
  },
  {
   "cell_type": "code",
   "execution_count": 33,
   "metadata": {},
   "outputs": [
    {
     "data": {
      "text/html": [
       "<div>\n",
       "<style scoped>\n",
       "    .dataframe tbody tr th:only-of-type {\n",
       "        vertical-align: middle;\n",
       "    }\n",
       "\n",
       "    .dataframe tbody tr th {\n",
       "        vertical-align: top;\n",
       "    }\n",
       "\n",
       "    .dataframe thead th {\n",
       "        text-align: right;\n",
       "    }\n",
       "</style>\n",
       "<table border=\"1\" class=\"dataframe\">\n",
       "  <thead>\n",
       "    <tr style=\"text-align: right;\">\n",
       "      <th></th>\n",
       "      <th>floor_area</th>\n",
       "      <th>latitude</th>\n",
       "      <th>bedrooms</th>\n",
       "      <th>garage</th>\n",
       "      <th>bathrooms</th>\n",
       "      <th>nearest_stn_dist</th>\n",
       "      <th>build_year</th>\n",
       "      <th>longitude</th>\n",
       "      <th>nearest_sch_rank</th>\n",
       "      <th>nearest_sch_dist</th>\n",
       "      <th>cbd_dist</th>\n",
       "      <th>land_area</th>\n",
       "    </tr>\n",
       "  </thead>\n",
       "  <tbody>\n",
       "    <tr>\n",
       "      <th>0</th>\n",
       "      <td>-0.286135</td>\n",
       "      <td>-0.752412</td>\n",
       "      <td>0.832531</td>\n",
       "      <td>-0.134562</td>\n",
       "      <td>-1.414214</td>\n",
       "      <td>0.070092</td>\n",
       "      <td>-2.042878</td>\n",
       "      <td>-0.759631</td>\n",
       "      <td>-0.622852</td>\n",
       "      <td>-1.901748</td>\n",
       "      <td>0.800261</td>\n",
       "      <td>1.290511</td>\n",
       "    </tr>\n",
       "    <tr>\n",
       "      <th>1</th>\n",
       "      <td>0.204742</td>\n",
       "      <td>-0.510420</td>\n",
       "      <td>-0.505465</td>\n",
       "      <td>-0.134562</td>\n",
       "      <td>0.000000</td>\n",
       "      <td>-1.693943</td>\n",
       "      <td>0.623378</td>\n",
       "      <td>-1.688380</td>\n",
       "      <td>2.880689</td>\n",
       "      <td>-1.663718</td>\n",
       "      <td>1.406519</td>\n",
       "      <td>-0.595803</td>\n",
       "    </tr>\n",
       "    <tr>\n",
       "      <th>2</th>\n",
       "      <td>2.684300</td>\n",
       "      <td>0.480809</td>\n",
       "      <td>0.832531</td>\n",
       "      <td>1.883871</td>\n",
       "      <td>2.828427</td>\n",
       "      <td>-0.389208</td>\n",
       "      <td>1.111566</td>\n",
       "      <td>0.945421</td>\n",
       "      <td>-0.622852</td>\n",
       "      <td>1.429388</td>\n",
       "      <td>-0.897262</td>\n",
       "      <td>-0.137581</td>\n",
       "    </tr>\n",
       "    <tr>\n",
       "      <th>3</th>\n",
       "      <td>0.871831</td>\n",
       "      <td>0.468507</td>\n",
       "      <td>0.832531</td>\n",
       "      <td>-0.134562</td>\n",
       "      <td>0.000000</td>\n",
       "      <td>-0.389208</td>\n",
       "      <td>1.111566</td>\n",
       "      <td>0.945436</td>\n",
       "      <td>-0.622852</td>\n",
       "      <td>1.414955</td>\n",
       "      <td>-0.897262</td>\n",
       "      <td>-0.137581</td>\n",
       "    </tr>\n",
       "    <tr>\n",
       "      <th>4</th>\n",
       "      <td>-0.349068</td>\n",
       "      <td>0.994415</td>\n",
       "      <td>0.832531</td>\n",
       "      <td>-0.134562</td>\n",
       "      <td>0.000000</td>\n",
       "      <td>-1.616716</td>\n",
       "      <td>0.811143</td>\n",
       "      <td>0.793814</td>\n",
       "      <td>0.211325</td>\n",
       "      <td>1.054344</td>\n",
       "      <td>-1.018513</td>\n",
       "      <td>-0.277308</td>\n",
       "    </tr>\n",
       "  </tbody>\n",
       "</table>\n",
       "</div>"
      ],
      "text/plain": [
       "   floor_area  latitude  bedrooms    garage  bathrooms  nearest_stn_dist  \\\n",
       "0   -0.286135 -0.752412  0.832531 -0.134562  -1.414214          0.070092   \n",
       "1    0.204742 -0.510420 -0.505465 -0.134562   0.000000         -1.693943   \n",
       "2    2.684300  0.480809  0.832531  1.883871   2.828427         -0.389208   \n",
       "3    0.871831  0.468507  0.832531 -0.134562   0.000000         -0.389208   \n",
       "4   -0.349068  0.994415  0.832531 -0.134562   0.000000         -1.616716   \n",
       "\n",
       "   build_year  longitude  nearest_sch_rank  nearest_sch_dist  cbd_dist  \\\n",
       "0   -2.042878  -0.759631         -0.622852         -1.901748  0.800261   \n",
       "1    0.623378  -1.688380          2.880689         -1.663718  1.406519   \n",
       "2    1.111566   0.945421         -0.622852          1.429388 -0.897262   \n",
       "3    1.111566   0.945436         -0.622852          1.414955 -0.897262   \n",
       "4    0.811143   0.793814          0.211325          1.054344 -1.018513   \n",
       "\n",
       "   land_area  \n",
       "0   1.290511  \n",
       "1  -0.595803  \n",
       "2  -0.137581  \n",
       "3  -0.137581  \n",
       "4  -0.277308  "
      ]
     },
     "execution_count": 33,
     "metadata": {},
     "output_type": "execute_result"
    }
   ],
   "source": [
    "x_scaled.head()"
   ]
  },
  {
   "cell_type": "code",
   "execution_count": 49,
   "metadata": {},
   "outputs": [],
   "source": [
    "scores = []\n",
    "\n",
    "for predictor in x_scaled.columns:\n",
    "    X_train = x_scaled.loc[:, [predictor]]\n",
    "\n",
    "    model = LinearRegression()\n",
    "    model.fit(X_train, y)\n",
    "\n",
    "    y_pred = model.predict(X_train)\n",
    "    mse = np.mean((y_pred - y) ** 2)\n",
    "\n",
    "    scores.append((mse, predictor))\n",
    "    \n",
    "best_mse, best_predictor = sorted(scores)[0]"
   ]
  },
  {
   "cell_type": "code",
   "execution_count": 52,
   "metadata": {},
   "outputs": [
    {
     "data": {
      "text/plain": [
       "(95814894534.16367, 'floor_area')"
      ]
     },
     "execution_count": 52,
     "metadata": {},
     "output_type": "execute_result"
    }
   ],
   "source": [
    "best_mse, best_predictor"
   ]
  },
  {
   "cell_type": "code",
   "execution_count": 53,
   "metadata": {},
   "outputs": [
    {
     "data": {
      "text/plain": [
       "(309539.81090348243, 'floor_area')"
      ]
     },
     "execution_count": 53,
     "metadata": {},
     "output_type": "execute_result"
    }
   ],
   "source": [
    "np.sqrt(best_mse), best_predictor"
   ]
  },
  {
   "cell_type": "code",
   "execution_count": null,
   "metadata": {},
   "outputs": [],
   "source": []
  },
  {
   "cell_type": "markdown",
   "metadata": {},
   "source": [
    "# Forward Selection"
   ]
  },
  {
   "cell_type": "code",
   "execution_count": 80,
   "metadata": {},
   "outputs": [],
   "source": [
    "remaining_predictors = list(x_scaled.columns)\n",
    "n = len(remaining_predictors)\n",
    "\n",
    "forward_selected_predictors = []\n",
    "forward_selected_mse = []\n",
    "\n",
    "for i in range(n):\n",
    "    scores = []\n",
    "    # print(forward_selected_predictors)\n",
    "    \n",
    "    for predictor in remaining_predictors:\n",
    "        X_train = x_scaled.loc[:, forward_selected_predictors + [predictor]]\n",
    "\n",
    "        model = LinearRegression()\n",
    "        model.fit(X_train, y)\n",
    "\n",
    "        y_pred = model.predict(X_train)\n",
    "        mse = np.mean((y_pred - y) ** 2)\n",
    "\n",
    "        scores.append((mse, predictor))\n",
    "\n",
    "    best_mse, best_predictor = sorted(scores)[0]\n",
    "    remaining_predictors.remove(best_predictor)\n",
    "    \n",
    "    forward_selected_predictors.append(best_predictor)\n",
    "    forward_selected_mse.append(best_mse)"
   ]
  },
  {
   "cell_type": "code",
   "execution_count": 81,
   "metadata": {},
   "outputs": [
    {
     "data": {
      "text/plain": [
       "['floor_area',\n",
       " 'latitude',\n",
       " 'bedrooms',\n",
       " 'garage',\n",
       " 'bathrooms',\n",
       " 'nearest_stn_dist',\n",
       " 'build_year',\n",
       " 'longitude',\n",
       " 'nearest_sch_rank',\n",
       " 'nearest_sch_dist',\n",
       " 'cbd_dist',\n",
       " 'land_area']"
      ]
     },
     "execution_count": 81,
     "metadata": {},
     "output_type": "execute_result"
    }
   ],
   "source": [
    "forward_selected_predictors"
   ]
  },
  {
   "cell_type": "code",
   "execution_count": 82,
   "metadata": {},
   "outputs": [
    {
     "data": {
      "text/plain": [
       "[95814894534.16367,\n",
       " 74763675042.73782,\n",
       " 53552475763.74594,\n",
       " 49973535729.713844,\n",
       " 46211197096.21529,\n",
       " 43154341861.47287,\n",
       " 41997749767.47327,\n",
       " 40892588193.640274,\n",
       " 38431971779.52686,\n",
       " 36236081122.07857,\n",
       " 35995279344.359985,\n",
       " 35988017954.89374]"
      ]
     },
     "execution_count": 82,
     "metadata": {},
     "output_type": "execute_result"
    }
   ],
   "source": [
    "forward_selected_mse"
   ]
  },
  {
   "cell_type": "code",
   "execution_count": 87,
   "metadata": {},
   "outputs": [
    {
     "data": {
      "image/png": "[encoded data removed]",
      "text/plain": [
       "<Figure size 720x360 with 1 Axes>"
      ]
     },
     "metadata": {
      "needs_background": "light"
     },
     "output_type": "display_data"
    }
   ],
   "source": [
    "plt.figure(figsize=(10, 5))\n",
    "plt.plot(forward_selected_mse)\n",
    "\n",
    "x_pos = np.arange(len(forward_selected_predictors))\n",
    "plt.xticks(x_pos, forward_selected_predictors, rotation=90);"
   ]
  },
  {
   "cell_type": "code",
   "execution_count": null,
   "metadata": {},
   "outputs": [],
   "source": []
  },
  {
   "cell_type": "markdown",
   "metadata": {},
   "source": [
    "# Forward Selection via CV"
   ]
  },
  {
   "cell_type": "code",
   "execution_count": 88,
   "metadata": {},
   "outputs": [],
   "source": [
    "from sklearn.model_selection import cross_val_score"
   ]
  },
  {
   "cell_type": "code",
   "execution_count": 91,
   "metadata": {},
   "outputs": [],
   "source": [
    "remaining_predictors = list(x_scaled.columns)\n",
    "n = len(remaining_predictors)\n",
    "\n",
    "forward_selected_predictors = []\n",
    "forward_selected_cv = []\n",
    "\n",
    "for i in range(n):\n",
    "    scores = []\n",
    "    # print(forward_selected_predictors)\n",
    "    \n",
    "    for predictor in remaining_predictors:\n",
    "        X_train = x_scaled.loc[:, forward_selected_predictors + [predictor]]\n",
    "\n",
    "        model = LinearRegression()\n",
    "        \n",
    "        neg_mse = cross_val_score(model, X_train, y, cv=5, scoring=\"neg_mean_squared_error\")\n",
    "        \n",
    "        average_mse = -np.mean(neg_mse)\n",
    "        scores.append((average_mse, predictor))\n",
    "\n",
    "    best_cv, best_predictor = sorted(scores)[0]\n",
    "    remaining_predictors.remove(best_predictor)\n",
    "    \n",
    "    forward_selected_predictors.append(best_predictor)\n",
    "    forward_selected_cv.append(best_cv)"
   ]
  },
  {
   "cell_type": "code",
   "execution_count": 98,
   "metadata": {},
   "outputs": [
    {
     "data": {
      "image/png": "[encoded data removed]",
      "text/plain": [
       "<Figure size 720x360 with 1 Axes>"
      ]
     },
     "metadata": {
      "needs_background": "light"
     },
     "output_type": "display_data"
    }
   ],
   "source": [
    "plt.figure(figsize=(10, 5))\n",
    "plt.plot(forward_selected_cv)\n",
    "\n",
    "x_pos = np.arange(len(forward_selected_predictors))\n",
    "plt.xticks(x_pos, forward_selected_predictors, rotation=90)\n",
    "\n",
    "plt.ylabel(\"Average MSE\", fontsize=15);"
   ]
  },
  {
   "cell_type": "code",
   "execution_count": 102,
   "metadata": {},
   "outputs": [
    {
     "data": {
      "text/plain": [
       "7"
      ]
     },
     "execution_count": 102,
     "metadata": {},
     "output_type": "execute_result"
    }
   ],
   "source": [
    "np.argmin(forward_selected_cv)"
   ]
  },
  {
   "cell_type": "code",
   "execution_count": 103,
   "metadata": {},
   "outputs": [
    {
     "data": {
      "text/plain": [
       "'nearest_sch_rank'"
      ]
     },
     "execution_count": 103,
     "metadata": {},
     "output_type": "execute_result"
    }
   ],
   "source": [
    "forward_selected_predictors[np.argmin(forward_selected_cv)]"
   ]
  },
  {
   "cell_type": "code",
   "execution_count": null,
   "metadata": {},
   "outputs": [],
   "source": []
  },
  {
   "cell_type": "code",
   "execution_count": null,
   "metadata": {},
   "outputs": [],
   "source": []
  },
  {
   "cell_type": "code",
   "execution_count": 105,
   "metadata": {},
   "outputs": [],
   "source": [
    "import matplotlib\n",
    "import folium\n",
    "import branca"
   ]
  },
  {
   "cell_type": "code",
   "execution_count": 107,
   "metadata": {},
   "outputs": [
    {
     "data": {
      "text/html": [
       "<div style=\"width:100%;\"><div style=\"position:relative;width:100%;height:0;padding-bottom:60%;\"><span style=\"color:#565656\">Make this Notebook Trusted to load map: File -> Trust Notebook</span><iframe src=\"about:blank\" style=\"position:absolute;width:100%;height:100%;left:0;top:0;border:none !important;\" data-html=%3C%21DOCTYPE%20html%3E%0A%3Chead%3E%20%20%20%20%0A%20%20%20%20%3Cmeta%20http-equiv%3D%22content-type%22%20content%3D%22text/html%3B%20charset%3DUTF-8%22%20/%3E%0A%20%20%20%20%0A%20%20%20%20%20%20%20%20%3Cscript%3E%0A%20%20%20%20%20%20%20%20%20%20%20%20L_NO_TOUCH%20%3D%20false%3B%0A%20%20%20%20%20%20%20%20%20%20%20%20L_DISABLE_3D%20%3D%20false%3B%0A%20%20%20%20%20%20%20%20%3C/script%3E%0A%20%20%20%20%0A%20%20%20%20%3Cstyle%3Ehtml%2C%20body%20%7Bwidth%3A%20100%25%3Bheight%3A%20100%25%3Bmargin%3A%200%3Bpadding%3A%200%3B%7D%3C/style%3E%0A%20%20%20%20%3Cstyle%3E%23map%20%7Bposition%3Aabsolute%3Btop%3A0%3Bbottom%3A0%3Bright%3A0%3Bleft%3A0%3B%7D%3C/style%3E%0A%20%20%20%20%3Cscript%20src%3D%22https%3A//cdn.jsdelivr.net/npm/leaflet%401.6.0/dist/leaflet.js%22%3E%3C/script%3E%0A%20%20%20%20%3Cscript%20src%3D%22https%3A//code.jquery.com/jquery-1.12.4.min.js%22%3E%3C/script%3E%0A%20%20%20%20%3Cscript%20src%3D%22https%3A//maxcdn.bootstrapcdn.com/bootstrap/3.2.0/js/bootstrap.min.js%22%3E%3C/script%3E%0A%20%20%20%20%3Cscript%20src%3D%22https%3A//cdnjs.cloudflare.com/ajax/libs/Leaflet.awesome-markers/2.0.2/leaflet.awesome-markers.js%22%3E%3C/script%3E%0A%20%20%20%20%3Clink%20rel%3D%22stylesheet%22%20href%3D%22https%3A//cdn.jsdelivr.net/npm/leaflet%401.6.0/dist/leaflet.css%22/%3E%0A%20%20%20%20%3Clink%20rel%3D%22stylesheet%22%20href%3D%22https%3A//maxcdn.bootstrapcdn.com/bootstrap/3.2.0/css/bootstrap.min.css%22/%3E%0A%20%20%20%20%3Clink%20rel%3D%22stylesheet%22%20href%3D%22https%3A//maxcdn.bootstrapcdn.com/bootstrap/3.2.0/css/bootstrap-theme.min.css%22/%3E%0A%20%20%20%20%3Clink%20rel%3D%22stylesheet%22%20href%3D%22https%3A//maxcdn.bootstrapcdn.com/font-awesome/4.6.3/css/font-awesome.min.css%22/%3E%0A%20%20%20%20%3Clink%20rel%3D%22stylesheet%22%20href%3D%22https%3A//cdnjs.cloudflare.com/ajax/libs/Leaflet.awesome-markers/2.0.2/leaflet.awesome-markers.css%22/%3E%0A%20%20%20%20%3Clink%20rel%3D%22stylesheet%22%20href%3D%22https%3A//cdn.jsdelivr.net/gh/python-visualization/folium/folium/templates/leaflet.awesome.rotate.min.css%22/%3E%0A%20%20%20%20%0A%20%20%20%20%20%20%20%20%20%20%20%20%3Cmeta%20name%3D%22viewport%22%20content%3D%22width%3Ddevice-width%2C%0A%20%20%20%20%20%20%20%20%20%20%20%20%20%20%20%20initial-scale%3D1.0%2C%20maximum-scale%3D1.0%2C%20user-scalable%3Dno%22%20/%3E%0A%20%20%20%20%20%20%20%20%20%20%20%20%3Cstyle%3E%0A%20%20%20%20%20%20%20%20%20%20%20%20%20%20%20%20%23map_992d1cf9793f4bd88d7ffe76212b2b64%20%7B%0A%20%20%20%20%20%20%20%20%20%20%20%20%20%20%20%20%20%20%20%20position%3A%20relative%3B%0A%20%20%20%20%20%20%20%20%20%20%20%20%20%20%20%20%20%20%20%20width%3A%20100.0%25%3B%0A%20%20%20%20%20%20%20%20%20%20%20%20%20%20%20%20%20%20%20%20height%3A%20100.0%25%3B%0A%20%20%20%20%20%20%20%20%20%20%20%20%20%20%20%20%20%20%20%20left%3A%200.0%25%3B%0A%20%20%20%20%20%20%20%20%20%20%20%20%20%20%20%20%20%20%20%20top%3A%200.0%25%3B%0A%20%20%20%20%20%20%20%20%20%20%20%20%20%20%20%20%7D%0A%20%20%20%20%20%20%20%20%20%20%20%20%3C/style%3E%0A%20%20%20%20%20%20%20%20%0A%20%20%20%20%3Cscript%20src%3D%22https%3A//cdnjs.cloudflare.com/ajax/libs/d3/3.5.5/d3.min.js%22%3E%3C/script%3E%0A%3C/head%3E%0A%3Cbody%3E%20%20%20%20%0A%20%20%20%20%0A%20%20%20%20%20%20%20%20%20%20%20%20%3Cdiv%20class%3D%22folium-map%22%20id%3D%22map_992d1cf9793f4bd88d7ffe76212b2b64%22%20%3E%3C/div%3E%0A%20%20%20%20%20%20%20%20%0A%3C/body%3E%0A%3Cscript%3E%20%20%20%20%0A%20%20%20%20%0A%20%20%20%20%20%20%20%20%20%20%20%20var%20map_992d1cf9793f4bd88d7ffe76212b2b64%20%3D%20L.map%28%0A%20%20%20%20%20%20%20%20%20%20%20%20%20%20%20%20%22map_992d1cf9793f4bd88d7ffe76212b2b64%22%2C%0A%20%20%20%20%20%20%20%20%20%20%20%20%20%20%20%20%7B%0A%20%20%20%20%20%20%20%20%20%20%20%20%20%20%20%20%20%20%20%20center%3A%20%5B-31.98%2C%20115.78%5D%2C%0A%20%20%20%20%20%20%20%20%20%20%20%20%20%20%20%20%20%20%20%20crs%3A%20L.CRS.EPSG3857%2C%0A%20%20%20%20%20%20%20%20%20%20%20%20%20%20%20%20%20%20%20%20zoom%3A%2015%2C%0A%20%20%20%20%20%20%20%20%20%20%20%20%20%20%20%20%20%20%20%20zoomControl%3A%20true%2C%0A%20%20%20%20%20%20%20%20%20%20%20%20%20%20%20%20%20%20%20%20preferCanvas%3A%20false%2C%0A%20%20%20%20%20%20%20%20%20%20%20%20%20%20%20%20%7D%0A%20%20%20%20%20%20%20%20%20%20%20%20%29%3B%0A%0A%20%20%20%20%20%20%20%20%20%20%20%20%0A%0A%20%20%20%20%20%20%20%20%0A%20%20%20%20%0A%20%20%20%20%20%20%20%20%20%20%20%20var%20tile_layer_68eda805cc8c4e968568ac07c31deea5%20%3D%20L.tileLayer%28%0A%20%20%20%20%20%20%20%20%20%20%20%20%20%20%20%20%22https%3A//%7Bs%7D.tile.openstreetmap.org/%7Bz%7D/%7Bx%7D/%7By%7D.png%22%2C%0A%20%20%20%20%20%20%20%20%20%20%20%20%20%20%20%20%7B%22attribution%22%3A%20%22Data%20by%20%5Cu0026copy%3B%20%5Cu003ca%20href%3D%5C%22http%3A//openstreetmap.org%5C%22%5Cu003eOpenStreetMap%5Cu003c/a%5Cu003e%2C%20under%20%5Cu003ca%20href%3D%5C%22http%3A//www.openstreetmap.org/copyright%5C%22%5Cu003eODbL%5Cu003c/a%5Cu003e.%22%2C%20%22detectRetina%22%3A%20false%2C%20%22maxNativeZoom%22%3A%2018%2C%20%22maxZoom%22%3A%2018%2C%20%22minZoom%22%3A%200%2C%20%22noWrap%22%3A%20false%2C%20%22opacity%22%3A%201%2C%20%22subdomains%22%3A%20%22abc%22%2C%20%22tms%22%3A%20false%7D%0A%20%20%20%20%20%20%20%20%20%20%20%20%29.addTo%28map_992d1cf9793f4bd88d7ffe76212b2b64%29%3B%0A%20%20%20%20%20%20%20%20%0A%20%20%20%20%0A%20%20%20%20%20%20%20%20%20%20%20%20var%20circle_marker_5309533d06044749a3f5700aac5e1e11%20%3D%20L.circleMarker%28%0A%20%20%20%20%20%20%20%20%20%20%20%20%20%20%20%20%5B-31.98538479%2C%20115.7788635%5D%2C%0A%20%20%20%20%20%20%20%20%20%20%20%20%20%20%20%20%7B%22bubblingMouseEvents%22%3A%20true%2C%20%22color%22%3A%20%22%23c90723ff%22%2C%20%22dashArray%22%3A%20null%2C%20%22dashOffset%22%3A%20null%2C%20%22fill%22%3A%20true%2C%20%22fillColor%22%3A%20%22%23c90723ff%22%2C%20%22fillOpacity%22%3A%200.7%2C%20%22fillRule%22%3A%20%22evenodd%22%2C%20%22lineCap%22%3A%20%22round%22%2C%20%22lineJoin%22%3A%20%22round%22%2C%20%22opacity%22%3A%201.0%2C%20%22radius%22%3A%203%2C%20%22stroke%22%3A%20true%2C%20%22weight%22%3A%203%7D%0A%20%20%20%20%20%20%20%20%20%20%20%20%29.addTo%28map_992d1cf9793f4bd88d7ffe76212b2b64%29%3B%0A%20%20%20%20%20%20%20%20%0A%20%20%20%20%0A%20%20%20%20%20%20%20%20%20%20%20%20var%20circle_marker_3b7e8a7d7bd4401394f50c95eed19eda%20%3D%20L.circleMarker%28%0A%20%20%20%20%20%20%20%20%20%20%20%20%20%20%20%20%5B-31.9836%2C%20115.77255%5D%2C%0A%20%20%20%20%20%20%20%20%20%20%20%20%20%20%20%20%7B%22bubblingMouseEvents%22%3A%20true%2C%20%22color%22%3A%20%22%23fd6d32ff%22%2C%20%22dashArray%22%3A%20null%2C%20%22dashOffset%22%3A%20null%2C%20%22fill%22%3A%20true%2C%20%22fillColor%22%3A%20%22%23fd6d32ff%22%2C%20%22fillOpacity%22%3A%200.7%2C%20%22fillRule%22%3A%20%22evenodd%22%2C%20%22lineCap%22%3A%20%22round%22%2C%20%22lineJoin%22%3A%20%22round%22%2C%20%22opacity%22%3A%201.0%2C%20%22radius%22%3A%203%2C%20%22stroke%22%3A%20true%2C%20%22weight%22%3A%203%7D%0A%20%20%20%20%20%20%20%20%20%20%20%20%29.addTo%28map_992d1cf9793f4bd88d7ffe76212b2b64%29%3B%0A%20%20%20%20%20%20%20%20%0A%20%20%20%20%0A%20%20%20%20%20%20%20%20%20%20%20%20var%20circle_marker_2f6151bfb9654da687d535b34bbb937e%20%3D%20L.circleMarker%28%0A%20%20%20%20%20%20%20%20%20%20%20%20%20%20%20%20%5B-31.97628928%2C%20115.7904542%5D%2C%0A%20%20%20%20%20%20%20%20%20%20%20%20%20%20%20%20%7B%22bubblingMouseEvents%22%3A%20true%2C%20%22color%22%3A%20%22%23fc4e2aff%22%2C%20%22dashArray%22%3A%20null%2C%20%22dashOffset%22%3A%20null%2C%20%22fill%22%3A%20true%2C%20%22fillColor%22%3A%20%22%23fc4e2aff%22%2C%20%22fillOpacity%22%3A%200.7%2C%20%22fillRule%22%3A%20%22evenodd%22%2C%20%22lineCap%22%3A%20%22round%22%2C%20%22lineJoin%22%3A%20%22round%22%2C%20%22opacity%22%3A%201.0%2C%20%22radius%22%3A%203%2C%20%22stroke%22%3A%20true%2C%20%22weight%22%3A%203%7D%0A%20%20%20%20%20%20%20%20%20%20%20%20%29.addTo%28map_992d1cf9793f4bd88d7ffe76212b2b64%29%3B%0A%20%20%20%20%20%20%20%20%0A%20%20%20%20%0A%20%20%20%20%20%20%20%20%20%20%20%20var%20circle_marker_fda8b2ce00174f3fa516e5940020911b%20%3D%20L.circleMarker%28%0A%20%20%20%20%20%20%20%20%20%20%20%20%20%20%20%20%5B-31.97638001%2C%20115.7904543%5D%2C%0A%20%20%20%20%20%20%20%20%20%20%20%20%20%20%20%20%7B%22bubblingMouseEvents%22%3A%20true%2C%20%22color%22%3A%20%22%23ec2c21ff%22%2C%20%22dashArray%22%3A%20null%2C%20%22dashOffset%22%3A%20null%2C%20%22fill%22%3A%20true%2C%20%22fillColor%22%3A%20%22%23ec2c21ff%22%2C%20%22fillOpacity%22%3A%200.7%2C%20%22fillRule%22%3A%20%22evenodd%22%2C%20%22lineCap%22%3A%20%22round%22%2C%20%22lineJoin%22%3A%20%22round%22%2C%20%22opacity%22%3A%201.0%2C%20%22radius%22%3A%203%2C%20%22stroke%22%3A%20true%2C%20%22weight%22%3A%203%7D%0A%20%20%20%20%20%20%20%20%20%20%20%20%29.addTo%28map_992d1cf9793f4bd88d7ffe76212b2b64%29%3B%0A%20%20%20%20%20%20%20%20%0A%20%20%20%20%0A%20%20%20%20%20%20%20%20%20%20%20%20var%20circle_marker_e5dd9d8934bc41429dc7de49b94a20f7%20%3D%20L.circleMarker%28%0A%20%20%20%20%20%20%20%20%20%20%20%20%20%20%20%20%5B-31.97250122%2C%20115.7894236%5D%2C%0A%20%20%20%20%20%20%20%20%20%20%20%20%20%20%20%20%7B%22bubblingMouseEvents%22%3A%20true%2C%20%22color%22%3A%20%22%23fed470ff%22%2C%20%22dashArray%22%3A%20null%2C%20%22dashOffset%22%3A%20null%2C%20%22fill%22%3A%20true%2C%20%22fillColor%22%3A%20%22%23fed470ff%22%2C%20%22fillOpacity%22%3A%200.7%2C%20%22fillRule%22%3A%20%22evenodd%22%2C%20%22lineCap%22%3A%20%22round%22%2C%20%22lineJoin%22%3A%20%22round%22%2C%20%22opacity%22%3A%201.0%2C%20%22radius%22%3A%203%2C%20%22stroke%22%3A%20true%2C%20%22weight%22%3A%203%7D%0A%20%20%20%20%20%20%20%20%20%20%20%20%29.addTo%28map_992d1cf9793f4bd88d7ffe76212b2b64%29%3B%0A%20%20%20%20%20%20%20%20%0A%20%20%20%20%0A%20%20%20%20%20%20%20%20%20%20%20%20var%20circle_marker_fda87a9ac6d04e2da7fbbcf1eca5340c%20%3D%20L.circleMarker%28%0A%20%20%20%20%20%20%20%20%20%20%20%20%20%20%20%20%5B-31.99138%2C%20115.77041%5D%2C%0A%20%20%20%20%20%20%20%20%20%20%20%20%20%20%20%20%7B%22bubblingMouseEvents%22%3A%20true%2C%20%22color%22%3A%20%22%23fff4b0ff%22%2C%20%22dashArray%22%3A%20null%2C%20%22dashOffset%22%3A%20null%2C%20%22fill%22%3A%20true%2C%20%22fillColor%22%3A%20%22%23fff4b0ff%22%2C%20%22fillOpacity%22%3A%200.7%2C%20%22fillRule%22%3A%20%22evenodd%22%2C%20%22lineCap%22%3A%20%22round%22%2C%20%22lineJoin%22%3A%20%22round%22%2C%20%22opacity%22%3A%201.0%2C%20%22radius%22%3A%203%2C%20%22stroke%22%3A%20true%2C%20%22weight%22%3A%203%7D%0A%20%20%20%20%20%20%20%20%20%20%20%20%29.addTo%28map_992d1cf9793f4bd88d7ffe76212b2b64%29%3B%0A%20%20%20%20%20%20%20%20%0A%20%20%20%20%0A%20%20%20%20%20%20%20%20%20%20%20%20var%20circle_marker_09541e444f274bddb9ac4bf95a6525ed%20%3D%20L.circleMarker%28%0A%20%20%20%20%20%20%20%20%20%20%20%20%20%20%20%20%5B-31.98289872%2C%20115.7901334%5D%2C%0A%20%20%20%20%20%20%20%20%20%20%20%20%20%20%20%20%7B%22bubblingMouseEvents%22%3A%20true%2C%20%22color%22%3A%20%22%23e8241eff%22%2C%20%22dashArray%22%3A%20null%2C%20%22dashOffset%22%3A%20null%2C%20%22fill%22%3A%20true%2C%20%22fillColor%22%3A%20%22%23e8241eff%22%2C%20%22fillOpacity%22%3A%200.7%2C%20%22fillRule%22%3A%20%22evenodd%22%2C%20%22lineCap%22%3A%20%22round%22%2C%20%22lineJoin%22%3A%20%22round%22%2C%20%22opacity%22%3A%201.0%2C%20%22radius%22%3A%203%2C%20%22stroke%22%3A%20true%2C%20%22weight%22%3A%203%7D%0A%20%20%20%20%20%20%20%20%20%20%20%20%29.addTo%28map_992d1cf9793f4bd88d7ffe76212b2b64%29%3B%0A%20%20%20%20%20%20%20%20%0A%20%20%20%20%0A%20%20%20%20%20%20%20%20%20%20%20%20var%20circle_marker_39801ede984f4d0194e32c2bf25e35c9%20%3D%20L.circleMarker%28%0A%20%20%20%20%20%20%20%20%20%20%20%20%20%20%20%20%5B-31.9875693%2C%20115.7827669%5D%2C%0A%20%20%20%20%20%20%20%20%20%20%20%20%20%20%20%20%7B%22bubblingMouseEvents%22%3A%20true%2C%20%22color%22%3A%20%22%23feb650ff%22%2C%20%22dashArray%22%3A%20null%2C%20%22dashOffset%22%3A%20null%2C%20%22fill%22%3A%20true%2C%20%22fillColor%22%3A%20%22%23feb650ff%22%2C%20%22fillOpacity%22%3A%200.7%2C%20%22fillRule%22%3A%20%22evenodd%22%2C%20%22lineCap%22%3A%20%22round%22%2C%20%22lineJoin%22%3A%20%22round%22%2C%20%22opacity%22%3A%201.0%2C%20%22radius%22%3A%203%2C%20%22stroke%22%3A%20true%2C%20%22weight%22%3A%203%7D%0A%20%20%20%20%20%20%20%20%20%20%20%20%29.addTo%28map_992d1cf9793f4bd88d7ffe76212b2b64%29%3B%0A%20%20%20%20%20%20%20%20%0A%20%20%20%20%0A%20%20%20%20%20%20%20%20%20%20%20%20var%20circle_marker_e797f643721a48bdb156a1dcae48ca79%20%3D%20L.circleMarker%28%0A%20%20%20%20%20%20%20%20%20%20%20%20%20%20%20%20%5B-31.97595538%2C%20115.7910931%5D%2C%0A%20%20%20%20%20%20%20%20%20%20%20%20%20%20%20%20%7B%22bubblingMouseEvents%22%3A%20true%2C%20%22color%22%3A%20%22%23feb650ff%22%2C%20%22dashArray%22%3A%20null%2C%20%22dashOffset%22%3A%20null%2C%20%22fill%22%3A%20true%2C%20%22fillColor%22%3A%20%22%23feb650ff%22%2C%20%22fillOpacity%22%3A%200.7%2C%20%22fillRule%22%3A%20%22evenodd%22%2C%20%22lineCap%22%3A%20%22round%22%2C%20%22lineJoin%22%3A%20%22round%22%2C%20%22opacity%22%3A%201.0%2C%20%22radius%22%3A%203%2C%20%22stroke%22%3A%20true%2C%20%22weight%22%3A%203%7D%0A%20%20%20%20%20%20%20%20%20%20%20%20%29.addTo%28map_992d1cf9793f4bd88d7ffe76212b2b64%29%3B%0A%20%20%20%20%20%20%20%20%0A%20%20%20%20%0A%20%20%20%20%20%20%20%20%20%20%20%20var%20circle_marker_4778f1dfb0fd425293247e9b16dabe0f%20%3D%20L.circleMarker%28%0A%20%20%20%20%20%20%20%20%20%20%20%20%20%20%20%20%5B-31.9827362%2C%20115.776622%5D%2C%0A%20%20%20%20%20%20%20%20%20%20%20%20%20%20%20%20%7B%22bubblingMouseEvents%22%3A%20true%2C%20%22color%22%3A%20%22%23ffdf82ff%22%2C%20%22dashArray%22%3A%20null%2C%20%22dashOffset%22%3A%20null%2C%20%22fill%22%3A%20true%2C%20%22fillColor%22%3A%20%22%23ffdf82ff%22%2C%20%22fillOpacity%22%3A%200.7%2C%20%22fillRule%22%3A%20%22evenodd%22%2C%20%22lineCap%22%3A%20%22round%22%2C%20%22lineJoin%22%3A%20%22round%22%2C%20%22opacity%22%3A%201.0%2C%20%22radius%22%3A%203%2C%20%22stroke%22%3A%20true%2C%20%22weight%22%3A%203%7D%0A%20%20%20%20%20%20%20%20%20%20%20%20%29.addTo%28map_992d1cf9793f4bd88d7ffe76212b2b64%29%3B%0A%20%20%20%20%20%20%20%20%0A%20%20%20%20%0A%20%20%20%20%20%20%20%20%20%20%20%20var%20circle_marker_f49bae054508474e929db2bab9f0ad5f%20%3D%20L.circleMarker%28%0A%20%20%20%20%20%20%20%20%20%20%20%20%20%20%20%20%5B-31.98862%2C%20115.78415%5D%2C%0A%20%20%20%20%20%20%20%20%20%20%20%20%20%20%20%20%7B%22bubblingMouseEvents%22%3A%20true%2C%20%22color%22%3A%20%22%23830026ff%22%2C%20%22dashArray%22%3A%20null%2C%20%22dashOffset%22%3A%20null%2C%20%22fill%22%3A%20true%2C%20%22fillColor%22%3A%20%22%23830026ff%22%2C%20%22fillOpacity%22%3A%200.7%2C%20%22fillRule%22%3A%20%22evenodd%22%2C%20%22lineCap%22%3A%20%22round%22%2C%20%22lineJoin%22%3A%20%22round%22%2C%20%22opacity%22%3A%201.0%2C%20%22radius%22%3A%203%2C%20%22stroke%22%3A%20true%2C%20%22weight%22%3A%203%7D%0A%20%20%20%20%20%20%20%20%20%20%20%20%29.addTo%28map_992d1cf9793f4bd88d7ffe76212b2b64%29%3B%0A%20%20%20%20%20%20%20%20%0A%20%20%20%20%0A%20%20%20%20%20%20%20%20%20%20%20%20var%20circle_marker_2480af596e2a4f7e98f7ddc5f9d0629b%20%3D%20L.circleMarker%28%0A%20%20%20%20%20%20%20%20%20%20%20%20%20%20%20%20%5B-31.98185215%2C%20115.7844917%5D%2C%0A%20%20%20%20%20%20%20%20%20%20%20%20%20%20%20%20%7B%22bubblingMouseEvents%22%3A%20true%2C%20%22color%22%3A%20%22%23fd7134ff%22%2C%20%22dashArray%22%3A%20null%2C%20%22dashOffset%22%3A%20null%2C%20%22fill%22%3A%20true%2C%20%22fillColor%22%3A%20%22%23fd7134ff%22%2C%20%22fillOpacity%22%3A%200.7%2C%20%22fillRule%22%3A%20%22evenodd%22%2C%20%22lineCap%22%3A%20%22round%22%2C%20%22lineJoin%22%3A%20%22round%22%2C%20%22opacity%22%3A%201.0%2C%20%22radius%22%3A%203%2C%20%22stroke%22%3A%20true%2C%20%22weight%22%3A%203%7D%0A%20%20%20%20%20%20%20%20%20%20%20%20%29.addTo%28map_992d1cf9793f4bd88d7ffe76212b2b64%29%3B%0A%20%20%20%20%20%20%20%20%0A%20%20%20%20%0A%20%20%20%20%20%20%20%20%20%20%20%20var%20circle_marker_6011b1fe78864208becf7dba4d75229d%20%3D%20L.circleMarker%28%0A%20%20%20%20%20%20%20%20%20%20%20%20%20%20%20%20%5B-31.98028%2C%20115.78931%5D%2C%0A%20%20%20%20%20%20%20%20%20%20%20%20%20%20%20%20%7B%22bubblingMouseEvents%22%3A%20true%2C%20%22color%22%3A%20%22%23fd612fff%22%2C%20%22dashArray%22%3A%20null%2C%20%22dashOffset%22%3A%20null%2C%20%22fill%22%3A%20true%2C%20%22fillColor%22%3A%20%22%23fd612fff%22%2C%20%22fillOpacity%22%3A%200.7%2C%20%22fillRule%22%3A%20%22evenodd%22%2C%20%22lineCap%22%3A%20%22round%22%2C%20%22lineJoin%22%3A%20%22round%22%2C%20%22opacity%22%3A%201.0%2C%20%22radius%22%3A%203%2C%20%22stroke%22%3A%20true%2C%20%22weight%22%3A%203%7D%0A%20%20%20%20%20%20%20%20%20%20%20%20%29.addTo%28map_992d1cf9793f4bd88d7ffe76212b2b64%29%3B%0A%20%20%20%20%20%20%20%20%0A%20%20%20%20%0A%20%20%20%20%20%20%20%20%20%20%20%20var%20circle_marker_f41bdd09fda3472e862a40b5686048d0%20%3D%20L.circleMarker%28%0A%20%20%20%20%20%20%20%20%20%20%20%20%20%20%20%20%5B-31.98390488%2C%20115.790817%5D%2C%0A%20%20%20%20%20%20%20%20%20%20%20%20%20%20%20%20%7B%22bubblingMouseEvents%22%3A%20true%2C%20%22color%22%3A%20%22%23fd532bff%22%2C%20%22dashArray%22%3A%20null%2C%20%22dashOffset%22%3A%20null%2C%20%22fill%22%3A%20true%2C%20%22fillColor%22%3A%20%22%23fd532bff%22%2C%20%22fillOpacity%22%3A%200.7%2C%20%22fillRule%22%3A%20%22evenodd%22%2C%20%22lineCap%22%3A%20%22round%22%2C%20%22lineJoin%22%3A%20%22round%22%2C%20%22opacity%22%3A%201.0%2C%20%22radius%22%3A%203%2C%20%22stroke%22%3A%20true%2C%20%22weight%22%3A%203%7D%0A%20%20%20%20%20%20%20%20%20%20%20%20%29.addTo%28map_992d1cf9793f4bd88d7ffe76212b2b64%29%3B%0A%20%20%20%20%20%20%20%20%0A%20%20%20%20%0A%20%20%20%20%20%20%20%20%20%20%20%20var%20circle_marker_ca4186ed43f54d7982c7896b9d198fc0%20%3D%20L.circleMarker%28%0A%20%20%20%20%20%20%20%20%20%20%20%20%20%20%20%20%5B-31.98676384%2C%20115.7853749%5D%2C%0A%20%20%20%20%20%20%20%20%20%20%20%20%20%20%20%20%7B%22bubblingMouseEvents%22%3A%20true%2C%20%22color%22%3A%20%22%23feb650ff%22%2C%20%22dashArray%22%3A%20null%2C%20%22dashOffset%22%3A%20null%2C%20%22fill%22%3A%20true%2C%20%22fillColor%22%3A%20%22%23feb650ff%22%2C%20%22fillOpacity%22%3A%200.7%2C%20%22fillRule%22%3A%20%22evenodd%22%2C%20%22lineCap%22%3A%20%22round%22%2C%20%22lineJoin%22%3A%20%22round%22%2C%20%22opacity%22%3A%201.0%2C%20%22radius%22%3A%203%2C%20%22stroke%22%3A%20true%2C%20%22weight%22%3A%203%7D%0A%20%20%20%20%20%20%20%20%20%20%20%20%29.addTo%28map_992d1cf9793f4bd88d7ffe76212b2b64%29%3B%0A%20%20%20%20%20%20%20%20%0A%20%20%20%20%0A%20%20%20%20%20%20%20%20%20%20%20%20var%20circle_marker_34f62bca1019462bbca32cbb9975c614%20%3D%20L.circleMarker%28%0A%20%20%20%20%20%20%20%20%20%20%20%20%20%20%20%20%5B-31.97018988%2C%20115.7882522%5D%2C%0A%20%20%20%20%20%20%20%20%20%20%20%20%20%20%20%20%7B%22bubblingMouseEvents%22%3A%20true%2C%20%22color%22%3A%20%22%23ffdf83ff%22%2C%20%22dashArray%22%3A%20null%2C%20%22dashOffset%22%3A%20null%2C%20%22fill%22%3A%20true%2C%20%22fillColor%22%3A%20%22%23ffdf83ff%22%2C%20%22fillOpacity%22%3A%200.7%2C%20%22fillRule%22%3A%20%22evenodd%22%2C%20%22lineCap%22%3A%20%22round%22%2C%20%22lineJoin%22%3A%20%22round%22%2C%20%22opacity%22%3A%201.0%2C%20%22radius%22%3A%203%2C%20%22stroke%22%3A%20true%2C%20%22weight%22%3A%203%7D%0A%20%20%20%20%20%20%20%20%20%20%20%20%29.addTo%28map_992d1cf9793f4bd88d7ffe76212b2b64%29%3B%0A%20%20%20%20%20%20%20%20%0A%20%20%20%20%0A%20%20%20%20%20%20%20%20%20%20%20%20var%20circle_marker_bd764fa9da88479cbf2139ef9599b776%20%3D%20L.circleMarker%28%0A%20%20%20%20%20%20%20%20%20%20%20%20%20%20%20%20%5B-31.99016%2C%20115.77137%5D%2C%0A%20%20%20%20%20%20%20%20%20%20%20%20%20%20%20%20%7B%22bubblingMouseEvents%22%3A%20true%2C%20%22color%22%3A%20%22%23ee3022ff%22%2C%20%22dashArray%22%3A%20null%2C%20%22dashOffset%22%3A%20null%2C%20%22fill%22%3A%20true%2C%20%22fillColor%22%3A%20%22%23ee3022ff%22%2C%20%22fillOpacity%22%3A%200.7%2C%20%22fillRule%22%3A%20%22evenodd%22%2C%20%22lineCap%22%3A%20%22round%22%2C%20%22lineJoin%22%3A%20%22round%22%2C%20%22opacity%22%3A%201.0%2C%20%22radius%22%3A%203%2C%20%22stroke%22%3A%20true%2C%20%22weight%22%3A%203%7D%0A%20%20%20%20%20%20%20%20%20%20%20%20%29.addTo%28map_992d1cf9793f4bd88d7ffe76212b2b64%29%3B%0A%20%20%20%20%20%20%20%20%0A%20%20%20%20%0A%20%20%20%20%20%20%20%20%20%20%20%20var%20circle_marker_951f7d591621443c84eed3036d4b210a%20%3D%20L.circleMarker%28%0A%20%20%20%20%20%20%20%20%20%20%20%20%20%20%20%20%5B-31.98803%2C%20115.78218%5D%2C%0A%20%20%20%20%20%20%20%20%20%20%20%20%20%20%20%20%7B%22bubblingMouseEvents%22%3A%20true%2C%20%22color%22%3A%20%22%23fe9e43ff%22%2C%20%22dashArray%22%3A%20null%2C%20%22dashOffset%22%3A%20null%2C%20%22fill%22%3A%20true%2C%20%22fillColor%22%3A%20%22%23fe9e43ff%22%2C%20%22fillOpacity%22%3A%200.7%2C%20%22fillRule%22%3A%20%22evenodd%22%2C%20%22lineCap%22%3A%20%22round%22%2C%20%22lineJoin%22%3A%20%22round%22%2C%20%22opacity%22%3A%201.0%2C%20%22radius%22%3A%203%2C%20%22stroke%22%3A%20true%2C%20%22weight%22%3A%203%7D%0A%20%20%20%20%20%20%20%20%20%20%20%20%29.addTo%28map_992d1cf9793f4bd88d7ffe76212b2b64%29%3B%0A%20%20%20%20%20%20%20%20%0A%20%20%20%20%0A%20%20%20%20%20%20%20%20%20%20%20%20var%20circle_marker_9979bda900134255983208a2664fac00%20%3D%20L.circleMarker%28%0A%20%20%20%20%20%20%20%20%20%20%20%20%20%20%20%20%5B-31.97121033%2C%20115.7895319%5D%2C%0A%20%20%20%20%20%20%20%20%20%20%20%20%20%20%20%20%7B%22bubblingMouseEvents%22%3A%20true%2C%20%22color%22%3A%20%22%23febc56ff%22%2C%20%22dashArray%22%3A%20null%2C%20%22dashOffset%22%3A%20null%2C%20%22fill%22%3A%20true%2C%20%22fillColor%22%3A%20%22%23febc56ff%22%2C%20%22fillOpacity%22%3A%200.7%2C%20%22fillRule%22%3A%20%22evenodd%22%2C%20%22lineCap%22%3A%20%22round%22%2C%20%22lineJoin%22%3A%20%22round%22%2C%20%22opacity%22%3A%201.0%2C%20%22radius%22%3A%203%2C%20%22stroke%22%3A%20true%2C%20%22weight%22%3A%203%7D%0A%20%20%20%20%20%20%20%20%20%20%20%20%29.addTo%28map_992d1cf9793f4bd88d7ffe76212b2b64%29%3B%0A%20%20%20%20%20%20%20%20%0A%20%20%20%20%0A%20%20%20%20%20%20%20%20%20%20%20%20var%20circle_marker_efef9dd7cab340a1be5b8166c5198611%20%3D%20L.circleMarker%28%0A%20%20%20%20%20%20%20%20%20%20%20%20%20%20%20%20%5B-31.97689773%2C%20115.7911047%5D%2C%0A%20%20%20%20%20%20%20%20%20%20%20%20%20%20%20%20%7B%22bubblingMouseEvents%22%3A%20true%2C%20%22color%22%3A%20%22%23ffe084ff%22%2C%20%22dashArray%22%3A%20null%2C%20%22dashOffset%22%3A%20null%2C%20%22fill%22%3A%20true%2C%20%22fillColor%22%3A%20%22%23ffe084ff%22%2C%20%22fillOpacity%22%3A%200.7%2C%20%22fillRule%22%3A%20%22evenodd%22%2C%20%22lineCap%22%3A%20%22round%22%2C%20%22lineJoin%22%3A%20%22round%22%2C%20%22opacity%22%3A%201.0%2C%20%22radius%22%3A%203%2C%20%22stroke%22%3A%20true%2C%20%22weight%22%3A%203%7D%0A%20%20%20%20%20%20%20%20%20%20%20%20%29.addTo%28map_992d1cf9793f4bd88d7ffe76212b2b64%29%3B%0A%20%20%20%20%20%20%20%20%0A%20%20%20%20%0A%20%20%20%20%20%20%20%20%20%20%20%20var%20circle_marker_b52930ea69a040f6aa4335929551568c%20%3D%20L.circleMarker%28%0A%20%20%20%20%20%20%20%20%20%20%20%20%20%20%20%20%5B-31.98698%2C%20115.77892%5D%2C%0A%20%20%20%20%20%20%20%20%20%20%20%20%20%20%20%20%7B%22bubblingMouseEvents%22%3A%20true%2C%20%22color%22%3A%20%22%23fd612fff%22%2C%20%22dashArray%22%3A%20null%2C%20%22dashOffset%22%3A%20null%2C%20%22fill%22%3A%20true%2C%20%22fillColor%22%3A%20%22%23fd612fff%22%2C%20%22fillOpacity%22%3A%200.7%2C%20%22fillRule%22%3A%20%22evenodd%22%2C%20%22lineCap%22%3A%20%22round%22%2C%20%22lineJoin%22%3A%20%22round%22%2C%20%22opacity%22%3A%201.0%2C%20%22radius%22%3A%203%2C%20%22stroke%22%3A%20true%2C%20%22weight%22%3A%203%7D%0A%20%20%20%20%20%20%20%20%20%20%20%20%29.addTo%28map_992d1cf9793f4bd88d7ffe76212b2b64%29%3B%0A%20%20%20%20%20%20%20%20%0A%20%20%20%20%0A%20%20%20%20%20%20%20%20%20%20%20%20var%20circle_marker_92ca747607764ae7b90506cccb9f51a2%20%3D%20L.circleMarker%28%0A%20%20%20%20%20%20%20%20%20%20%20%20%20%20%20%20%5B-31.97112%2C%20115.7890862%5D%2C%0A%20%20%20%20%20%20%20%20%20%20%20%20%20%20%20%20%7B%22bubblingMouseEvents%22%3A%20true%2C%20%22color%22%3A%20%22%23ffdb7aff%22%2C%20%22dashArray%22%3A%20null%2C%20%22dashOffset%22%3A%20null%2C%20%22fill%22%3A%20true%2C%20%22fillColor%22%3A%20%22%23ffdb7aff%22%2C%20%22fillOpacity%22%3A%200.7%2C%20%22fillRule%22%3A%20%22evenodd%22%2C%20%22lineCap%22%3A%20%22round%22%2C%20%22lineJoin%22%3A%20%22round%22%2C%20%22opacity%22%3A%201.0%2C%20%22radius%22%3A%203%2C%20%22stroke%22%3A%20true%2C%20%22weight%22%3A%203%7D%0A%20%20%20%20%20%20%20%20%20%20%20%20%29.addTo%28map_992d1cf9793f4bd88d7ffe76212b2b64%29%3B%0A%20%20%20%20%20%20%20%20%0A%20%20%20%20%0A%20%20%20%20%20%20%20%20%20%20%20%20var%20circle_marker_09900c55f7f74a519eb485d59a5061e5%20%3D%20L.circleMarker%28%0A%20%20%20%20%20%20%20%20%20%20%20%20%20%20%20%20%5B-31.97222511%2C%20115.7825355%5D%2C%0A%20%20%20%20%20%20%20%20%20%20%20%20%20%20%20%20%7B%22bubblingMouseEvents%22%3A%20true%2C%20%22color%22%3A%20%22%23ffe186ff%22%2C%20%22dashArray%22%3A%20null%2C%20%22dashOffset%22%3A%20null%2C%20%22fill%22%3A%20true%2C%20%22fillColor%22%3A%20%22%23ffe186ff%22%2C%20%22fillOpacity%22%3A%200.7%2C%20%22fillRule%22%3A%20%22evenodd%22%2C%20%22lineCap%22%3A%20%22round%22%2C%20%22lineJoin%22%3A%20%22round%22%2C%20%22opacity%22%3A%201.0%2C%20%22radius%22%3A%203%2C%20%22stroke%22%3A%20true%2C%20%22weight%22%3A%203%7D%0A%20%20%20%20%20%20%20%20%20%20%20%20%29.addTo%28map_992d1cf9793f4bd88d7ffe76212b2b64%29%3B%0A%20%20%20%20%20%20%20%20%0A%20%20%20%20%0A%20%20%20%20%20%20%20%20%20%20%20%20var%20circle_marker_77c3fd4bdcab42c2902fd660e2795bd6%20%3D%20L.circleMarker%28%0A%20%20%20%20%20%20%20%20%20%20%20%20%20%20%20%20%5B-31.98660166%2C%20115.7729324%5D%2C%0A%20%20%20%20%20%20%20%20%20%20%20%20%20%20%20%20%7B%22bubblingMouseEvents%22%3A%20true%2C%20%22color%22%3A%20%22%23ffe084ff%22%2C%20%22dashArray%22%3A%20null%2C%20%22dashOffset%22%3A%20null%2C%20%22fill%22%3A%20true%2C%20%22fillColor%22%3A%20%22%23ffe084ff%22%2C%20%22fillOpacity%22%3A%200.7%2C%20%22fillRule%22%3A%20%22evenodd%22%2C%20%22lineCap%22%3A%20%22round%22%2C%20%22lineJoin%22%3A%20%22round%22%2C%20%22opacity%22%3A%201.0%2C%20%22radius%22%3A%203%2C%20%22stroke%22%3A%20true%2C%20%22weight%22%3A%203%7D%0A%20%20%20%20%20%20%20%20%20%20%20%20%29.addTo%28map_992d1cf9793f4bd88d7ffe76212b2b64%29%3B%0A%20%20%20%20%20%20%20%20%0A%20%20%20%20%0A%20%20%20%20%20%20%20%20%20%20%20%20var%20circle_marker_4fb6ad0601374445b7e8e8757ada3681%20%3D%20L.circleMarker%28%0A%20%20%20%20%20%20%20%20%20%20%20%20%20%20%20%20%5B-31.97862226%2C%20115.7899342%5D%2C%0A%20%20%20%20%20%20%20%20%20%20%20%20%20%20%20%20%7B%22bubblingMouseEvents%22%3A%20true%2C%20%22color%22%3A%20%22%23feb650ff%22%2C%20%22dashArray%22%3A%20null%2C%20%22dashOffset%22%3A%20null%2C%20%22fill%22%3A%20true%2C%20%22fillColor%22%3A%20%22%23feb650ff%22%2C%20%22fillOpacity%22%3A%200.7%2C%20%22fillRule%22%3A%20%22evenodd%22%2C%20%22lineCap%22%3A%20%22round%22%2C%20%22lineJoin%22%3A%20%22round%22%2C%20%22opacity%22%3A%201.0%2C%20%22radius%22%3A%203%2C%20%22stroke%22%3A%20true%2C%20%22weight%22%3A%203%7D%0A%20%20%20%20%20%20%20%20%20%20%20%20%29.addTo%28map_992d1cf9793f4bd88d7ffe76212b2b64%29%3B%0A%20%20%20%20%20%20%20%20%0A%20%20%20%20%0A%20%20%20%20%20%20%20%20%20%20%20%20var%20circle_marker_d160b833c04c422e8be229d1556d81ff%20%3D%20L.circleMarker%28%0A%20%20%20%20%20%20%20%20%20%20%20%20%20%20%20%20%5B-31.98098751%2C%20115.7861297%5D%2C%0A%20%20%20%20%20%20%20%20%20%20%20%20%20%20%20%20%7B%22bubblingMouseEvents%22%3A%20true%2C%20%22color%22%3A%20%22%23ffffccff%22%2C%20%22dashArray%22%3A%20null%2C%20%22dashOffset%22%3A%20null%2C%20%22fill%22%3A%20true%2C%20%22fillColor%22%3A%20%22%23ffffccff%22%2C%20%22fillOpacity%22%3A%200.7%2C%20%22fillRule%22%3A%20%22evenodd%22%2C%20%22lineCap%22%3A%20%22round%22%2C%20%22lineJoin%22%3A%20%22round%22%2C%20%22opacity%22%3A%201.0%2C%20%22radius%22%3A%203%2C%20%22stroke%22%3A%20true%2C%20%22weight%22%3A%203%7D%0A%20%20%20%20%20%20%20%20%20%20%20%20%29.addTo%28map_992d1cf9793f4bd88d7ffe76212b2b64%29%3B%0A%20%20%20%20%20%20%20%20%0A%20%20%20%20%0A%20%20%20%20%20%20%20%20%20%20%20%20var%20circle_marker_bf2d438085c14f9d8733590e2413700d%20%3D%20L.circleMarker%28%0A%20%20%20%20%20%20%20%20%20%20%20%20%20%20%20%20%5B-31.98566%2C%20115.79026%5D%2C%0A%20%20%20%20%20%20%20%20%20%20%20%20%20%20%20%20%7B%22bubblingMouseEvents%22%3A%20true%2C%20%22color%22%3A%20%22%23c90723ff%22%2C%20%22dashArray%22%3A%20null%2C%20%22dashOffset%22%3A%20null%2C%20%22fill%22%3A%20true%2C%20%22fillColor%22%3A%20%22%23c90723ff%22%2C%20%22fillOpacity%22%3A%200.7%2C%20%22fillRule%22%3A%20%22evenodd%22%2C%20%22lineCap%22%3A%20%22round%22%2C%20%22lineJoin%22%3A%20%22round%22%2C%20%22opacity%22%3A%201.0%2C%20%22radius%22%3A%203%2C%20%22stroke%22%3A%20true%2C%20%22weight%22%3A%203%7D%0A%20%20%20%20%20%20%20%20%20%20%20%20%29.addTo%28map_992d1cf9793f4bd88d7ffe76212b2b64%29%3B%0A%20%20%20%20%20%20%20%20%0A%20%20%20%20%0A%20%20%20%20%20%20%20%20%20%20%20%20var%20circle_marker_505ae779cfab4eb89cc66c7872745f0a%20%3D%20L.circleMarker%28%0A%20%20%20%20%20%20%20%20%20%20%20%20%20%20%20%20%5B-31.98612859%2C%20115.7908073%5D%2C%0A%20%20%20%20%20%20%20%20%20%20%20%20%20%20%20%20%7B%22bubblingMouseEvents%22%3A%20true%2C%20%22color%22%3A%20%22%23ee3022ff%22%2C%20%22dashArray%22%3A%20null%2C%20%22dashOffset%22%3A%20null%2C%20%22fill%22%3A%20true%2C%20%22fillColor%22%3A%20%22%23ee3022ff%22%2C%20%22fillOpacity%22%3A%200.7%2C%20%22fillRule%22%3A%20%22evenodd%22%2C%20%22lineCap%22%3A%20%22round%22%2C%20%22lineJoin%22%3A%20%22round%22%2C%20%22opacity%22%3A%201.0%2C%20%22radius%22%3A%203%2C%20%22stroke%22%3A%20true%2C%20%22weight%22%3A%203%7D%0A%20%20%20%20%20%20%20%20%20%20%20%20%29.addTo%28map_992d1cf9793f4bd88d7ffe76212b2b64%29%3B%0A%20%20%20%20%20%20%20%20%0A%20%20%20%20%0A%20%20%20%20%20%20%20%20%20%20%20%20var%20circle_marker_d489d6ca017241ad90f7d7249f6437d6%20%3D%20L.circleMarker%28%0A%20%20%20%20%20%20%20%20%20%20%20%20%20%20%20%20%5B-31.97247906%2C%20115.7885408%5D%2C%0A%20%20%20%20%20%20%20%20%20%20%20%20%20%20%20%20%7B%22bubblingMouseEvents%22%3A%20true%2C%20%22color%22%3A%20%22%23fd8c3bff%22%2C%20%22dashArray%22%3A%20null%2C%20%22dashOffset%22%3A%20null%2C%20%22fill%22%3A%20true%2C%20%22fillColor%22%3A%20%22%23fd8c3bff%22%2C%20%22fillOpacity%22%3A%200.7%2C%20%22fillRule%22%3A%20%22evenodd%22%2C%20%22lineCap%22%3A%20%22round%22%2C%20%22lineJoin%22%3A%20%22round%22%2C%20%22opacity%22%3A%201.0%2C%20%22radius%22%3A%203%2C%20%22stroke%22%3A%20true%2C%20%22weight%22%3A%203%7D%0A%20%20%20%20%20%20%20%20%20%20%20%20%29.addTo%28map_992d1cf9793f4bd88d7ffe76212b2b64%29%3B%0A%20%20%20%20%20%20%20%20%0A%20%20%20%20%0A%20%20%20%20%20%20%20%20%20%20%20%20var%20circle_marker_2fed55b2e3e9409a916ac7d98f4c780c%20%3D%20L.circleMarker%28%0A%20%20%20%20%20%20%20%20%20%20%20%20%20%20%20%20%5B-31.97816731%2C%20115.7872005%5D%2C%0A%20%20%20%20%20%20%20%20%20%20%20%20%20%20%20%20%7B%22bubblingMouseEvents%22%3A%20true%2C%20%22color%22%3A%20%22%23800026ff%22%2C%20%22dashArray%22%3A%20null%2C%20%22dashOffset%22%3A%20null%2C%20%22fill%22%3A%20true%2C%20%22fillColor%22%3A%20%22%23800026ff%22%2C%20%22fillOpacity%22%3A%200.7%2C%20%22fillRule%22%3A%20%22evenodd%22%2C%20%22lineCap%22%3A%20%22round%22%2C%20%22lineJoin%22%3A%20%22round%22%2C%20%22opacity%22%3A%201.0%2C%20%22radius%22%3A%203%2C%20%22stroke%22%3A%20true%2C%20%22weight%22%3A%203%7D%0A%20%20%20%20%20%20%20%20%20%20%20%20%29.addTo%28map_992d1cf9793f4bd88d7ffe76212b2b64%29%3B%0A%20%20%20%20%20%20%20%20%0A%20%20%20%20%0A%20%20%20%20%20%20%20%20%20%20%20%20var%20circle_marker_b005ee8be8a147bd8acec3be26ea14c0%20%3D%20L.circleMarker%28%0A%20%20%20%20%20%20%20%20%20%20%20%20%20%20%20%20%5B-31.97007%2C%20115.78634%5D%2C%0A%20%20%20%20%20%20%20%20%20%20%20%20%20%20%20%20%7B%22bubblingMouseEvents%22%3A%20true%2C%20%22color%22%3A%20%22%23fed26eff%22%2C%20%22dashArray%22%3A%20null%2C%20%22dashOffset%22%3A%20null%2C%20%22fill%22%3A%20true%2C%20%22fillColor%22%3A%20%22%23fed26eff%22%2C%20%22fillOpacity%22%3A%200.7%2C%20%22fillRule%22%3A%20%22evenodd%22%2C%20%22lineCap%22%3A%20%22round%22%2C%20%22lineJoin%22%3A%20%22round%22%2C%20%22opacity%22%3A%201.0%2C%20%22radius%22%3A%203%2C%20%22stroke%22%3A%20true%2C%20%22weight%22%3A%203%7D%0A%20%20%20%20%20%20%20%20%20%20%20%20%29.addTo%28map_992d1cf9793f4bd88d7ffe76212b2b64%29%3B%0A%20%20%20%20%20%20%20%20%0A%20%20%20%20%0A%20%20%20%20%20%20%20%20%20%20%20%20var%20circle_marker_5019a2e4c242473c912ff8c92bf6fe21%20%3D%20L.circleMarker%28%0A%20%20%20%20%20%20%20%20%20%20%20%20%20%20%20%20%5B-31.96946542%2C%20115.7861885%5D%2C%0A%20%20%20%20%20%20%20%20%20%20%20%20%20%20%20%20%7B%22bubblingMouseEvents%22%3A%20true%2C%20%22color%22%3A%20%22%23fea948ff%22%2C%20%22dashArray%22%3A%20null%2C%20%22dashOffset%22%3A%20null%2C%20%22fill%22%3A%20true%2C%20%22fillColor%22%3A%20%22%23fea948ff%22%2C%20%22fillOpacity%22%3A%200.7%2C%20%22fillRule%22%3A%20%22evenodd%22%2C%20%22lineCap%22%3A%20%22round%22%2C%20%22lineJoin%22%3A%20%22round%22%2C%20%22opacity%22%3A%201.0%2C%20%22radius%22%3A%203%2C%20%22stroke%22%3A%20true%2C%20%22weight%22%3A%203%7D%0A%20%20%20%20%20%20%20%20%20%20%20%20%29.addTo%28map_992d1cf9793f4bd88d7ffe76212b2b64%29%3B%0A%20%20%20%20%20%20%20%20%0A%20%20%20%20%0A%20%20%20%20%20%20%20%20%20%20%20%20var%20circle_marker_69ca3b658d3d4e30bd91eb6bfe1853f1%20%3D%20L.circleMarker%28%0A%20%20%20%20%20%20%20%20%20%20%20%20%20%20%20%20%5B-31.98572%2C%20115.78453%5D%2C%0A%20%20%20%20%20%20%20%20%20%20%20%20%20%20%20%20%7B%22bubblingMouseEvents%22%3A%20true%2C%20%22color%22%3A%20%22%23fd873aff%22%2C%20%22dashArray%22%3A%20null%2C%20%22dashOffset%22%3A%20null%2C%20%22fill%22%3A%20true%2C%20%22fillColor%22%3A%20%22%23fd873aff%22%2C%20%22fillOpacity%22%3A%200.7%2C%20%22fillRule%22%3A%20%22evenodd%22%2C%20%22lineCap%22%3A%20%22round%22%2C%20%22lineJoin%22%3A%20%22round%22%2C%20%22opacity%22%3A%201.0%2C%20%22radius%22%3A%203%2C%20%22stroke%22%3A%20true%2C%20%22weight%22%3A%203%7D%0A%20%20%20%20%20%20%20%20%20%20%20%20%29.addTo%28map_992d1cf9793f4bd88d7ffe76212b2b64%29%3B%0A%20%20%20%20%20%20%20%20%0A%20%20%20%20%0A%20%20%20%20%20%20%20%20%20%20%20%20var%20circle_marker_d7c3c8eb3509459ba1d5d77e915e83fd%20%3D%20L.circleMarker%28%0A%20%20%20%20%20%20%20%20%20%20%20%20%20%20%20%20%5B-31.97119132%2C%20115.7858889%5D%2C%0A%20%20%20%20%20%20%20%20%20%20%20%20%20%20%20%20%7B%22bubblingMouseEvents%22%3A%20true%2C%20%22color%22%3A%20%22%23ffda77ff%22%2C%20%22dashArray%22%3A%20null%2C%20%22dashOffset%22%3A%20null%2C%20%22fill%22%3A%20true%2C%20%22fillColor%22%3A%20%22%23ffda77ff%22%2C%20%22fillOpacity%22%3A%200.7%2C%20%22fillRule%22%3A%20%22evenodd%22%2C%20%22lineCap%22%3A%20%22round%22%2C%20%22lineJoin%22%3A%20%22round%22%2C%20%22opacity%22%3A%201.0%2C%20%22radius%22%3A%203%2C%20%22stroke%22%3A%20true%2C%20%22weight%22%3A%203%7D%0A%20%20%20%20%20%20%20%20%20%20%20%20%29.addTo%28map_992d1cf9793f4bd88d7ffe76212b2b64%29%3B%0A%20%20%20%20%20%20%20%20%0A%20%20%20%20%0A%20%20%20%20%20%20%20%20%20%20%20%20var%20circle_marker_33c11c14a1ec41c8aac3c9d8804b907f%20%3D%20L.circleMarker%28%0A%20%20%20%20%20%20%20%20%20%20%20%20%20%20%20%20%5B-31.9692292%2C%20115.7884236%5D%2C%0A%20%20%20%20%20%20%20%20%20%20%20%20%20%20%20%20%7B%22bubblingMouseEvents%22%3A%20true%2C%20%22color%22%3A%20%22%23ffe58fff%22%2C%20%22dashArray%22%3A%20null%2C%20%22dashOffset%22%3A%20null%2C%20%22fill%22%3A%20true%2C%20%22fillColor%22%3A%20%22%23ffe58fff%22%2C%20%22fillOpacity%22%3A%200.7%2C%20%22fillRule%22%3A%20%22evenodd%22%2C%20%22lineCap%22%3A%20%22round%22%2C%20%22lineJoin%22%3A%20%22round%22%2C%20%22opacity%22%3A%201.0%2C%20%22radius%22%3A%203%2C%20%22stroke%22%3A%20true%2C%20%22weight%22%3A%203%7D%0A%20%20%20%20%20%20%20%20%20%20%20%20%29.addTo%28map_992d1cf9793f4bd88d7ffe76212b2b64%29%3B%0A%20%20%20%20%20%20%20%20%0A%20%20%20%20%0A%20%20%20%20%20%20%20%20%20%20%20%20var%20circle_marker_6fd3a70e2fb84559a729d5025e4ccbbd%20%3D%20L.circleMarker%28%0A%20%20%20%20%20%20%20%20%20%20%20%20%20%20%20%20%5B-31.97140878%2C%20115.7808691%5D%2C%0A%20%20%20%20%20%20%20%20%20%20%20%20%20%20%20%20%7B%22bubblingMouseEvents%22%3A%20true%2C%20%22color%22%3A%20%22%23ffe690ff%22%2C%20%22dashArray%22%3A%20null%2C%20%22dashOffset%22%3A%20null%2C%20%22fill%22%3A%20true%2C%20%22fillColor%22%3A%20%22%23ffe690ff%22%2C%20%22fillOpacity%22%3A%200.7%2C%20%22fillRule%22%3A%20%22evenodd%22%2C%20%22lineCap%22%3A%20%22round%22%2C%20%22lineJoin%22%3A%20%22round%22%2C%20%22opacity%22%3A%201.0%2C%20%22radius%22%3A%203%2C%20%22stroke%22%3A%20true%2C%20%22weight%22%3A%203%7D%0A%20%20%20%20%20%20%20%20%20%20%20%20%29.addTo%28map_992d1cf9793f4bd88d7ffe76212b2b64%29%3B%0A%20%20%20%20%20%20%20%20%0A%20%20%20%20%0A%20%20%20%20%20%20%20%20%20%20%20%20var%20circle_marker_407e59d1d47749619389b884c7588938%20%3D%20L.circleMarker%28%0A%20%20%20%20%20%20%20%20%20%20%20%20%20%20%20%20%5B-31.96925%2C%20115.78719%5D%2C%0A%20%20%20%20%20%20%20%20%20%20%20%20%20%20%20%20%7B%22bubblingMouseEvents%22%3A%20true%2C%20%22color%22%3A%20%22%23ffe288ff%22%2C%20%22dashArray%22%3A%20null%2C%20%22dashOffset%22%3A%20null%2C%20%22fill%22%3A%20true%2C%20%22fillColor%22%3A%20%22%23ffe288ff%22%2C%20%22fillOpacity%22%3A%200.7%2C%20%22fillRule%22%3A%20%22evenodd%22%2C%20%22lineCap%22%3A%20%22round%22%2C%20%22lineJoin%22%3A%20%22round%22%2C%20%22opacity%22%3A%201.0%2C%20%22radius%22%3A%203%2C%20%22stroke%22%3A%20true%2C%20%22weight%22%3A%203%7D%0A%20%20%20%20%20%20%20%20%20%20%20%20%29.addTo%28map_992d1cf9793f4bd88d7ffe76212b2b64%29%3B%0A%20%20%20%20%20%20%20%20%0A%20%20%20%20%0A%20%20%20%20%20%20%20%20%20%20%20%20var%20circle_marker_eec0db5dcdf04583acbc47ffa0577452%20%3D%20L.circleMarker%28%0A%20%20%20%20%20%20%20%20%20%20%20%20%20%20%20%20%5B-31.96997%2C%20115.78347%5D%2C%0A%20%20%20%20%20%20%20%20%20%20%20%20%20%20%20%20%7B%22bubblingMouseEvents%22%3A%20true%2C%20%22color%22%3A%20%22%23fecc67ff%22%2C%20%22dashArray%22%3A%20null%2C%20%22dashOffset%22%3A%20null%2C%20%22fill%22%3A%20true%2C%20%22fillColor%22%3A%20%22%23fecc67ff%22%2C%20%22fillOpacity%22%3A%200.7%2C%20%22fillRule%22%3A%20%22evenodd%22%2C%20%22lineCap%22%3A%20%22round%22%2C%20%22lineJoin%22%3A%20%22round%22%2C%20%22opacity%22%3A%201.0%2C%20%22radius%22%3A%203%2C%20%22stroke%22%3A%20true%2C%20%22weight%22%3A%203%7D%0A%20%20%20%20%20%20%20%20%20%20%20%20%29.addTo%28map_992d1cf9793f4bd88d7ffe76212b2b64%29%3B%0A%20%20%20%20%20%20%20%20%0A%20%20%20%20%0A%20%20%20%20%20%20%20%20%20%20%20%20var%20circle_marker_a8b5c35bf1fe4785987d92a5f6f04c8b%20%3D%20L.circleMarker%28%0A%20%20%20%20%20%20%20%20%20%20%20%20%20%20%20%20%5B-31.98966068%2C%20115.7698594%5D%2C%0A%20%20%20%20%20%20%20%20%20%20%20%20%20%20%20%20%7B%22bubblingMouseEvents%22%3A%20true%2C%20%22color%22%3A%20%22%23fb4b29ff%22%2C%20%22dashArray%22%3A%20null%2C%20%22dashOffset%22%3A%20null%2C%20%22fill%22%3A%20true%2C%20%22fillColor%22%3A%20%22%23fb4b29ff%22%2C%20%22fillOpacity%22%3A%200.7%2C%20%22fillRule%22%3A%20%22evenodd%22%2C%20%22lineCap%22%3A%20%22round%22%2C%20%22lineJoin%22%3A%20%22round%22%2C%20%22opacity%22%3A%201.0%2C%20%22radius%22%3A%203%2C%20%22stroke%22%3A%20true%2C%20%22weight%22%3A%203%7D%0A%20%20%20%20%20%20%20%20%20%20%20%20%29.addTo%28map_992d1cf9793f4bd88d7ffe76212b2b64%29%3B%0A%20%20%20%20%20%20%20%20%0A%20%20%20%20%0A%20%20%20%20%20%20%20%20%20%20%20%20var%20circle_marker_1494ad2f48044db39c38194ec3245083%20%3D%20L.circleMarker%28%0A%20%20%20%20%20%20%20%20%20%20%20%20%20%20%20%20%5B-31.97665234%2C%20115.7898608%5D%2C%0A%20%20%20%20%20%20%20%20%20%20%20%20%20%20%20%20%7B%22bubblingMouseEvents%22%3A%20true%2C%20%22color%22%3A%20%22%23fd592dff%22%2C%20%22dashArray%22%3A%20null%2C%20%22dashOffset%22%3A%20null%2C%20%22fill%22%3A%20true%2C%20%22fillColor%22%3A%20%22%23fd592dff%22%2C%20%22fillOpacity%22%3A%200.7%2C%20%22fillRule%22%3A%20%22evenodd%22%2C%20%22lineCap%22%3A%20%22round%22%2C%20%22lineJoin%22%3A%20%22round%22%2C%20%22opacity%22%3A%201.0%2C%20%22radius%22%3A%203%2C%20%22stroke%22%3A%20true%2C%20%22weight%22%3A%203%7D%0A%20%20%20%20%20%20%20%20%20%20%20%20%29.addTo%28map_992d1cf9793f4bd88d7ffe76212b2b64%29%3B%0A%20%20%20%20%20%20%20%20%0A%20%20%20%20%0A%20%20%20%20%20%20%20%20%20%20%20%20var%20circle_marker_8d5c76eb9b7a410194ce4ba788f43934%20%3D%20L.circleMarker%28%0A%20%20%20%20%20%20%20%20%20%20%20%20%20%20%20%20%5B-31.97937%2C%20115.779%5D%2C%0A%20%20%20%20%20%20%20%20%20%20%20%20%20%20%20%20%7B%22bubblingMouseEvents%22%3A%20true%2C%20%22color%22%3A%20%22%23c90723ff%22%2C%20%22dashArray%22%3A%20null%2C%20%22dashOffset%22%3A%20null%2C%20%22fill%22%3A%20true%2C%20%22fillColor%22%3A%20%22%23c90723ff%22%2C%20%22fillOpacity%22%3A%200.7%2C%20%22fillRule%22%3A%20%22evenodd%22%2C%20%22lineCap%22%3A%20%22round%22%2C%20%22lineJoin%22%3A%20%22round%22%2C%20%22opacity%22%3A%201.0%2C%20%22radius%22%3A%203%2C%20%22stroke%22%3A%20true%2C%20%22weight%22%3A%203%7D%0A%20%20%20%20%20%20%20%20%20%20%20%20%29.addTo%28map_992d1cf9793f4bd88d7ffe76212b2b64%29%3B%0A%20%20%20%20%20%20%20%20%0A%20%20%20%20%0A%20%20%20%20%20%20%20%20%20%20%20%20var%20circle_marker_6aa804f0015a42afbfbd40436dd7393e%20%3D%20L.circleMarker%28%0A%20%20%20%20%20%20%20%20%20%20%20%20%20%20%20%20%5B-31.98744%2C%20115.78361%5D%2C%0A%20%20%20%20%20%20%20%20%20%20%20%20%20%20%20%20%7B%22bubblingMouseEvents%22%3A%20true%2C%20%22color%22%3A%20%22%23fd7033ff%22%2C%20%22dashArray%22%3A%20null%2C%20%22dashOffset%22%3A%20null%2C%20%22fill%22%3A%20true%2C%20%22fillColor%22%3A%20%22%23fd7033ff%22%2C%20%22fillOpacity%22%3A%200.7%2C%20%22fillRule%22%3A%20%22evenodd%22%2C%20%22lineCap%22%3A%20%22round%22%2C%20%22lineJoin%22%3A%20%22round%22%2C%20%22opacity%22%3A%201.0%2C%20%22radius%22%3A%203%2C%20%22stroke%22%3A%20true%2C%20%22weight%22%3A%203%7D%0A%20%20%20%20%20%20%20%20%20%20%20%20%29.addTo%28map_992d1cf9793f4bd88d7ffe76212b2b64%29%3B%0A%20%20%20%20%20%20%20%20%0A%20%20%20%20%0A%20%20%20%20%20%20%20%20%20%20%20%20var%20circle_marker_4d8d2f65a9134f01835cf24a2c5f4016%20%3D%20L.circleMarker%28%0A%20%20%20%20%20%20%20%20%20%20%20%20%20%20%20%20%5B-31.97058649%2C%20115.7907387%5D%2C%0A%20%20%20%20%20%20%20%20%20%20%20%20%20%20%20%20%7B%22bubblingMouseEvents%22%3A%20true%2C%20%22color%22%3A%20%22%23ffde7fff%22%2C%20%22dashArray%22%3A%20null%2C%20%22dashOffset%22%3A%20null%2C%20%22fill%22%3A%20true%2C%20%22fillColor%22%3A%20%22%23ffde7fff%22%2C%20%22fillOpacity%22%3A%200.7%2C%20%22fillRule%22%3A%20%22evenodd%22%2C%20%22lineCap%22%3A%20%22round%22%2C%20%22lineJoin%22%3A%20%22round%22%2C%20%22opacity%22%3A%201.0%2C%20%22radius%22%3A%203%2C%20%22stroke%22%3A%20true%2C%20%22weight%22%3A%203%7D%0A%20%20%20%20%20%20%20%20%20%20%20%20%29.addTo%28map_992d1cf9793f4bd88d7ffe76212b2b64%29%3B%0A%20%20%20%20%20%20%20%20%0A%20%20%20%20%0A%20%20%20%20%20%20%20%20%20%20%20%20var%20circle_marker_b01979f8b98d4bf5a77b96a5c1823adb%20%3D%20L.circleMarker%28%0A%20%20%20%20%20%20%20%20%20%20%20%20%20%20%20%20%5B-31.98962555%2C%20115.7700043%5D%2C%0A%20%20%20%20%20%20%20%20%20%20%20%20%20%20%20%20%7B%22bubblingMouseEvents%22%3A%20true%2C%20%22color%22%3A%20%22%23e51e1dff%22%2C%20%22dashArray%22%3A%20null%2C%20%22dashOffset%22%3A%20null%2C%20%22fill%22%3A%20true%2C%20%22fillColor%22%3A%20%22%23e51e1dff%22%2C%20%22fillOpacity%22%3A%200.7%2C%20%22fillRule%22%3A%20%22evenodd%22%2C%20%22lineCap%22%3A%20%22round%22%2C%20%22lineJoin%22%3A%20%22round%22%2C%20%22opacity%22%3A%201.0%2C%20%22radius%22%3A%203%2C%20%22stroke%22%3A%20true%2C%20%22weight%22%3A%203%7D%0A%20%20%20%20%20%20%20%20%20%20%20%20%29.addTo%28map_992d1cf9793f4bd88d7ffe76212b2b64%29%3B%0A%20%20%20%20%20%20%20%20%0A%20%20%20%20%0A%20%20%20%20%20%20%20%20%20%20%20%20var%20circle_marker_66d4123687584d13b64299f93ab682e5%20%3D%20L.circleMarker%28%0A%20%20%20%20%20%20%20%20%20%20%20%20%20%20%20%20%5B-31.99137991%2C%20115.7695581%5D%2C%0A%20%20%20%20%20%20%20%20%20%20%20%20%20%20%20%20%7B%22bubblingMouseEvents%22%3A%20true%2C%20%22color%22%3A%20%22%23fea144ff%22%2C%20%22dashArray%22%3A%20null%2C%20%22dashOffset%22%3A%20null%2C%20%22fill%22%3A%20true%2C%20%22fillColor%22%3A%20%22%23fea144ff%22%2C%20%22fillOpacity%22%3A%200.7%2C%20%22fillRule%22%3A%20%22evenodd%22%2C%20%22lineCap%22%3A%20%22round%22%2C%20%22lineJoin%22%3A%20%22round%22%2C%20%22opacity%22%3A%201.0%2C%20%22radius%22%3A%203%2C%20%22stroke%22%3A%20true%2C%20%22weight%22%3A%203%7D%0A%20%20%20%20%20%20%20%20%20%20%20%20%29.addTo%28map_992d1cf9793f4bd88d7ffe76212b2b64%29%3B%0A%20%20%20%20%20%20%20%20%0A%20%20%20%20%0A%20%20%20%20var%20color_map_366d653ccc964ca6be87584e5321c650%20%3D%20%7B%7D%3B%0A%0A%20%20%20%20%0A%20%20%20%20color_map_366d653ccc964ca6be87584e5321c650.color%20%3D%20d3.scale.threshold%28%29%0A%20%20%20%20%20%20%20%20%20%20%20%20%20%20.domain%28%5B450000.0%2C%20453587.1743486974%2C%20457174.3486973948%2C%20460761.5230460922%2C%20464348.6973947896%2C%20467935.87174348696%2C%20471523.0460921844%2C%20475110.2204408818%2C%20478697.39478957915%2C%20482284.56913827657%2C%20485871.7434869739%2C%20489458.91783567134%2C%20493046.09218436875%2C%20496633.2665330661%2C%20500220.4408817635%2C%20503807.61523046094%2C%20507394.7895791583%2C%20510981.9639278557%2C%20514569.13827655313%2C%20518156.3126252505%2C%20521743.4869739479%2C%20525330.6613226453%2C%20528917.8356713427%2C%20532505.0100200401%2C%20536092.1843687375%2C%20539679.3587174348%2C%20543266.5330661322%2C%20546853.7074148296%2C%20550440.881763527%2C%20554028.0561122245%2C%20557615.2304609219%2C%20561202.4048096193%2C%20564789.5791583166%2C%20568376.753507014%2C%20571963.9278557114%2C%20575551.1022044088%2C%20579138.2765531063%2C%20582725.4509018036%2C%20586312.625250501%2C%20589899.7995991984%2C%20593486.9739478958%2C%20597074.1482965932%2C%20600661.3226452905%2C%20604248.4969939879%2C%20607835.6713426854%2C%20611422.8456913828%2C%20615010.0200400802%2C%20618597.1943887775%2C%20622184.368737475%2C%20625771.5430861723%2C%20629358.7174348697%2C%20632945.8917835671%2C%20636533.0661322646%2C%20640120.240480962%2C%20643707.4148296593%2C%20647294.5891783567%2C%20650881.7635270541%2C%20654468.9378757515%2C%20658056.1122244489%2C%20661643.2865731462%2C%20665230.4609218437%2C%20668817.6352705411%2C%20672404.8096192385%2C%20675991.9839679359%2C%20679579.1583166332%2C%20683166.3326653307%2C%20686753.507014028%2C%20690340.6813627254%2C%20693927.8557114229%2C%20697515.0300601203%2C%20701102.2044088177%2C%20704689.378757515%2C%20708276.5531062124%2C%20711863.7274549098%2C%20715450.9018036072%2C%20719038.0761523047%2C%20722625.250501002%2C%20726212.4248496995%2C%20729799.5991983968%2C%20733386.7735470942%2C%20736973.9478957916%2C%20740561.1222444889%2C%20744148.2965931864%2C%20747735.4709418837%2C%20751322.6452905812%2C%20754909.8196392786%2C%20758496.9939879759%2C%20762084.1683366734%2C%20765671.3426853707%2C%20769258.5170340681%2C%20772845.6913827655%2C%20776432.865731463%2C%20780020.0400801604%2C%20783607.2144288577%2C%20787194.3887775551%2C%20790781.5631262525%2C%20794368.7374749499%2C%20797955.9118236473%2C%20801543.0861723446%2C%20805130.2605210422%2C%20808717.4348697395%2C%20812304.6092184369%2C%20815891.7835671343%2C%20819478.9579158316%2C%20823066.1322645291%2C%20826653.3066132264%2C%20830240.4809619238%2C%20833827.6553106213%2C%20837414.8296593186%2C%20841002.0040080161%2C%20844589.1783567134%2C%20848176.3527054108%2C%20851763.5270541082%2C%20855350.7014028056%2C%20858937.875751503%2C%20862525.0501002003%2C%20866112.2244488979%2C%20869699.3987975952%2C%20873286.5731462926%2C%20876873.74749499%2C%20880460.9218436873%2C%20884048.0961923848%2C%20887635.2705410821%2C%20891222.4448897796%2C%20894809.619238477%2C%20898396.7935871743%2C%20901983.9679358718%2C%20905571.1422845691%2C%20909158.3166332665%2C%20912745.4909819639%2C%20916332.6653306613%2C%20919919.8396793588%2C%20923507.0140280561%2C%20927094.1883767536%2C%20930681.3627254509%2C%20934268.5370741483%2C%20937855.7114228457%2C%20941442.885771543%2C%20945030.0601202406%2C%20948617.2344689379%2C%20952204.4088176353%2C%20955791.5831663327%2C%20959378.75751503%2C%20962965.9318637275%2C%20966553.1062124248%2C%20970140.2805611222%2C%20973727.4549098196%2C%20977314.6292585171%2C%20980901.8036072145%2C%20984488.9779559118%2C%20988076.1523046092%2C%20991663.3266533066%2C%20995250.501002004%2C%20998837.6753507014%2C%201002424.8496993989%2C%201006012.0240480962%2C%201009599.1983967936%2C%201013186.372745491%2C%201016773.5470941884%2C%201020360.7214428858%2C%201023947.8957915831%2C%201027535.0701402805%2C%201031122.244488978%2C%201034709.4188376754%2C%201038296.5931863728%2C%201041883.7675350702%2C%201045470.9418837675%2C%201049058.116232465%2C%201052645.2905811623%2C%201056232.4649298596%2C%201059819.6392785572%2C%201063406.8136272547%2C%201066993.9879759517%2C%201070581.1623246493%2C%201074168.3366733468%2C%201077755.511022044%2C%201081342.6853707414%2C%201084929.859719439%2C%201088517.0340681362%2C%201092104.2084168335%2C%201095691.382765531%2C%201099278.5571142286%2C%201102865.731462926%2C%201106452.9058116232%2C%201110040.0801603207%2C%201113627.254509018%2C%201117214.4288577153%2C%201120801.6032064129%2C%201124388.7775551102%2C%201127975.9519038075%2C%201131563.126252505%2C%201135150.3006012025%2C%201138737.4749498998%2C%201142324.6492985971%2C%201145911.8236472947%2C%201149498.997995992%2C%201153086.1723446893%2C%201156673.3466933868%2C%201160260.5210420843%2C%201163847.6953907816%2C%201167434.869739479%2C%201171022.0440881765%2C%201174609.2184368738%2C%201178196.392785571%2C%201181783.5671342686%2C%201185370.7414829659%2C%201188957.9158316632%2C%201192545.0901803607%2C%201196132.2645290582%2C%201199719.4388777555%2C%201203306.6132264528%2C%201206893.7875751504%2C%201210480.9619238477%2C%201214068.136272545%2C%201217655.3106212425%2C%201221242.48496994%2C%201224829.659318637%2C%201228416.8336673346%2C%201232004.0080160322%2C%201235591.1823647295%2C%201239178.3567134268%2C%201242765.5310621243%2C%201246352.7054108216%2C%201249939.879759519%2C%201253527.0541082164%2C%201257114.228456914%2C%201260701.4028056113%2C%201264288.5771543086%2C%201267875.751503006%2C%201271462.9258517034%2C%201275050.1002004007%2C%201278637.2745490982%2C%201282224.4488977958%2C%201285811.6232464928%2C%201289398.7975951903%2C%201292985.9719438879%2C%201296573.1462925852%2C%201300160.3206412825%2C%201303747.49498998%2C%201307334.6693386773%2C%201310921.8436873746%2C%201314509.0180360721%2C%201318096.1923847697%2C%201321683.366733467%2C%201325270.5410821643%2C%201328857.7154308618%2C%201332444.889779559%2C%201336032.0641282564%2C%201339619.238476954%2C%201343206.4128256515%2C%201346793.5871743485%2C%201350380.761523046%2C%201353967.9358717436%2C%201357555.110220441%2C%201361142.2845691382%2C%201364729.4589178357%2C%201368316.633266533%2C%201371903.8076152303%2C%201375490.9819639279%2C%201379078.1563126254%2C%201382665.3306613227%2C%201386252.50501002%2C%201389839.6793587175%2C%201393426.8537074148%2C%201397014.0280561121%2C%201400601.2024048097%2C%201404188.3767535072%2C%201407775.5511022042%2C%201411362.7254509018%2C%201414949.8997995993%2C%201418537.0741482966%2C%201422124.248496994%2C%201425711.4228456914%2C%201429298.5971943887%2C%201432885.771543086%2C%201436472.9458917836%2C%201440060.120240481%2C%201443647.2945891784%2C%201447234.4689378757%2C%201450821.6432865732%2C%201454408.8176352705%2C%201457995.9919839678%2C%201461583.1663326654%2C%201465170.340681363%2C%201468757.51503006%2C%201472344.6893787575%2C%201475931.863727455%2C%201479519.0380761523%2C%201483106.2124248496%2C%201486693.3867735472%2C%201490280.5611222445%2C%201493867.7354709418%2C%201497454.9098196393%2C%201501042.0841683366%2C%201504629.2585170341%2C%201508216.4328657314%2C%201511803.607214429%2C%201515390.7815631262%2C%201518977.9559118235%2C%201522565.130260521%2C%201526152.3046092184%2C%201529739.478957916%2C%201533326.6533066132%2C%201536913.8276553105%2C%201540501.002004008%2C%201544088.1763527053%2C%201547675.3507014029%2C%201551262.5250501002%2C%201554849.6993987977%2C%201558436.873747495%2C%201562024.0480961923%2C%201565611.2224448898%2C%201569198.3967935871%2C%201572785.5711422847%2C%201576372.745490982%2C%201579959.9198396793%2C%201583547.0941883768%2C%201587134.268537074%2C%201590721.4428857716%2C%201594308.617234469%2C%201597895.7915831662%2C%201601482.9659318638%2C%201605070.140280561%2C%201608657.3146292586%2C%201612244.488977956%2C%201615831.6633266534%2C%201619418.8376753507%2C%201623006.012024048%2C%201626593.1863727455%2C%201630180.3607214428%2C%201633767.5350701404%2C%201637354.7094188377%2C%201640941.883767535%2C%201644529.0581162325%2C%201648116.2324649298%2C%201651703.4068136273%2C%201655290.5811623246%2C%201658877.755511022%2C%201662464.9298597195%2C%201666052.1042084168%2C%201669639.2785571143%2C%201673226.4529058116%2C%201676813.6272545091%2C%201680400.8016032064%2C%201683987.9759519037%2C%201687575.1503006013%2C%201691162.3246492986%2C%201694749.498997996%2C%201698336.6733466934%2C%201701923.8476953907%2C%201705511.0220440882%2C%201709098.1963927855%2C%201712685.370741483%2C%201716272.5450901804%2C%201719859.7194388777%2C%201723446.8937875752%2C%201727034.0681362725%2C%201730621.24248497%2C%201734208.4168336673%2C%201737795.5911823646%2C%201741382.7655310621%2C%201744969.9398797594%2C%201748557.114228457%2C%201752144.2885771543%2C%201755731.4629258518%2C%201759318.637274549%2C%201762905.8116232464%2C%201766492.985971944%2C%201770080.1603206412%2C%201773667.3346693388%2C%201777254.509018036%2C%201780841.6833667334%2C%201784428.857715431%2C%201788016.0320641282%2C%201791603.2064128257%2C%201795190.380761523%2C%201798777.5551102203%2C%201802364.7294589179%2C%201805951.9038076152%2C%201809539.0781563127%2C%201813126.25250501%2C%201816713.4268537075%2C%201820300.6012024048%2C%201823887.7755511021%2C%201827474.9498997997%2C%201831062.124248497%2C%201834649.2985971945%2C%201838236.4729458918%2C%201841823.647294589%2C%201845410.8216432866%2C%201848997.995991984%2C%201852585.1703406814%2C%201856172.3446893787%2C%201859759.519038076%2C%201863346.6933867736%2C%201866933.8677354709%2C%201870521.0420841684%2C%201874108.2164328657%2C%201877695.3907815632%2C%201881282.5651302605%2C%201884869.7394789578%2C%201888456.9138276554%2C%201892044.0881763527%2C%201895631.2625250502%2C%201899218.4368737475%2C%201902805.6112224448%2C%201906392.7855711423%2C%201909979.9599198396%2C%201913567.1342685372%2C%201917154.3086172345%2C%201920741.4829659318%2C%201924328.6573146293%2C%201927915.8316633266%2C%201931503.0060120241%2C%201935090.1803607214%2C%201938677.3547094187%2C%201942264.5290581163%2C%201945851.7034068136%2C%201949438.877755511%2C%201953026.0521042084%2C%201956613.226452906%2C%201960200.4008016032%2C%201963787.5751503005%2C%201967374.749498998%2C%201970961.9238476953%2C%201974549.0981963929%2C%201978136.2725450902%2C%201981723.4468937875%2C%201985310.621242485%2C%201988897.7955911823%2C%201992484.9699398798%2C%201996072.1442885771%2C%201999659.3186372744%2C%202003246.492985972%2C%202006833.6673346693%2C%202010420.8416833668%2C%202014008.016032064%2C%202017595.1903807616%2C%202021182.364729459%2C%202024769.5390781562%2C%202028356.7134268538%2C%202031943.887775551%2C%202035531.0621242486%2C%202039118.236472946%2C%202042705.4108216432%2C%202046292.5851703407%2C%202049879.759519038%2C%202053466.9338677356%2C%202057054.1082164329%2C%202060641.2825651302%2C%202064228.4569138277%2C%202067815.631262525%2C%202071402.8056112225%2C%202074989.9799599198%2C%202078577.1543086173%2C%202082164.3286573146%2C%202085751.503006012%2C%202089338.6773547095%2C%202092925.8517034068%2C%202096513.0260521043%2C%202100100.2004008014%2C%202103687.374749499%2C%202107274.5490981964%2C%202110861.7234468935%2C%202114448.8977955915%2C%202118036.0721442886%2C%202121623.2464929856%2C%202125210.4208416836%2C%202128797.5951903807%2C%202132384.769539078%2C%202135971.9438877758%2C%202139559.118236473%2C%202143146.2925851704%2C%202146733.466933868%2C%202150320.641282565%2C%202153907.8156312625%2C%202157494.98997996%2C%202161082.164328657%2C%202164669.3386773546%2C%202168256.513026052%2C%202171843.687374749%2C%202175430.861723447%2C%202179018.0360721443%2C%202182605.2104208414%2C%202186192.3847695393%2C%202189779.5591182364%2C%202193366.733466934%2C%202196953.9078156315%2C%202200541.0821643285%2C%202204128.256513026%2C%202207715.4308617236%2C%202211302.6052104207%2C%202214889.779559118%2C%202218476.9539078157%2C%202222064.128256513%2C%202225651.3026052103%2C%202229238.476953908%2C%202232825.651302605%2C%202236412.825651303%2C%202240000.0%5D%29%0A%20%20%20%20%20%20%20%20%20%20%20%20%20%20.range%28%5B%27%23ffffccff%27%2C%20%27%23ffffccff%27%2C%20%27%23ffffcbff%27%2C%20%27%23ffffcaff%27%2C%20%27%23fffec9ff%27%2C%20%27%23fffec9ff%27%2C%20%27%23fffec8ff%27%2C%20%27%23fffdc7ff%27%2C%20%27%23fffdc7ff%27%2C%20%27%23fffdc6ff%27%2C%20%27%23fffdc5ff%27%2C%20%27%23fffcc5ff%27%2C%20%27%23fffcc4ff%27%2C%20%27%23fffcc3ff%27%2C%20%27%23fffbc2ff%27%2C%20%27%23fffbc2ff%27%2C%20%27%23fffbc1ff%27%2C%20%27%23fffbc0ff%27%2C%20%27%23fffac0ff%27%2C%20%27%23fffabfff%27%2C%20%27%23fffabeff%27%2C%20%27%23fff9bdff%27%2C%20%27%23fff9bdff%27%2C%20%27%23fff9bcff%27%2C%20%27%23fff9bbff%27%2C%20%27%23fff8bbff%27%2C%20%27%23fff8baff%27%2C%20%27%23fff8b9ff%27%2C%20%27%23fff7b8ff%27%2C%20%27%23fff7b8ff%27%2C%20%27%23fff7b7ff%27%2C%20%27%23fff7b6ff%27%2C%20%27%23fff6b6ff%27%2C%20%27%23fff6b5ff%27%2C%20%27%23fff6b4ff%27%2C%20%27%23fff5b4ff%27%2C%20%27%23fff5b3ff%27%2C%20%27%23fff5b2ff%27%2C%20%27%23fff4b1ff%27%2C%20%27%23fff4b1ff%27%2C%20%27%23fff4b0ff%27%2C%20%27%23fff4afff%27%2C%20%27%23fff3afff%27%2C%20%27%23fff3aeff%27%2C%20%27%23fff3adff%27%2C%20%27%23fff2acff%27%2C%20%27%23fff2acff%27%2C%20%27%23fff2abff%27%2C%20%27%23fff2aaff%27%2C%20%27%23fff1aaff%27%2C%20%27%23fff1a9ff%27%2C%20%27%23fff1a8ff%27%2C%20%27%23fff0a7ff%27%2C%20%27%23fff0a7ff%27%2C%20%27%23fff0a6ff%27%2C%20%27%23fff0a5ff%27%2C%20%27%23ffefa5ff%27%2C%20%27%23ffefa4ff%27%2C%20%27%23ffefa3ff%27%2C%20%27%23ffeea3ff%27%2C%20%27%23ffeea2ff%27%2C%20%27%23ffeea1ff%27%2C%20%27%23ffeea0ff%27%2C%20%27%23ffeda0ff%27%2C%20%27%23ffed9fff%27%2C%20%27%23ffed9eff%27%2C%20%27%23ffec9eff%27%2C%20%27%23ffec9dff%27%2C%20%27%23ffec9cff%27%2C%20%27%23ffeb9cff%27%2C%20%27%23ffeb9bff%27%2C%20%27%23ffeb9aff%27%2C%20%27%23ffea9aff%27%2C%20%27%23ffea99ff%27%2C%20%27%23ffea98ff%27%2C%20%27%23ffe998ff%27%2C%20%27%23ffe997ff%27%2C%20%27%23ffe996ff%27%2C%20%27%23ffe896ff%27%2C%20%27%23ffe895ff%27%2C%20%27%23ffe894ff%27%2C%20%27%23ffe794ff%27%2C%20%27%23ffe793ff%27%2C%20%27%23ffe792ff%27%2C%20%27%23ffe692ff%27%2C%20%27%23ffe691ff%27%2C%20%27%23ffe690ff%27%2C%20%27%23ffe68fff%27%2C%20%27%23ffe58fff%27%2C%20%27%23ffe58eff%27%2C%20%27%23ffe58dff%27%2C%20%27%23ffe48dff%27%2C%20%27%23ffe48cff%27%2C%20%27%23ffe48bff%27%2C%20%27%23ffe38bff%27%2C%20%27%23ffe38aff%27%2C%20%27%23ffe389ff%27%2C%20%27%23ffe289ff%27%2C%20%27%23ffe288ff%27%2C%20%27%23ffe287ff%27%2C%20%27%23ffe187ff%27%2C%20%27%23ffe186ff%27%2C%20%27%23ffe185ff%27%2C%20%27%23ffe085ff%27%2C%20%27%23ffe084ff%27%2C%20%27%23ffe083ff%27%2C%20%27%23ffdf83ff%27%2C%20%27%23ffdf82ff%27%2C%20%27%23ffdf81ff%27%2C%20%27%23ffde81ff%27%2C%20%27%23ffde80ff%27%2C%20%27%23ffde7fff%27%2C%20%27%23ffdd7fff%27%2C%20%27%23ffdd7eff%27%2C%20%27%23ffdd7dff%27%2C%20%27%23ffdc7dff%27%2C%20%27%23ffdc7cff%27%2C%20%27%23ffdc7bff%27%2C%20%27%23ffdc7bff%27%2C%20%27%23ffdb7aff%27%2C%20%27%23ffdb79ff%27%2C%20%27%23ffdb78ff%27%2C%20%27%23ffda78ff%27%2C%20%27%23ffda77ff%27%2C%20%27%23ffda76ff%27%2C%20%27%23fed976ff%27%2C%20%27%23fed975ff%27%2C%20%27%23fed874ff%27%2C%20%27%23fed774ff%27%2C%20%27%23fed773ff%27%2C%20%27%23fed672ff%27%2C%20%27%23fed572ff%27%2C%20%27%23fed571ff%27%2C%20%27%23fed470ff%27%2C%20%27%23fed470ff%27%2C%20%27%23fed36fff%27%2C%20%27%23fed26eff%27%2C%20%27%23fed26eff%27%2C%20%27%23fed16dff%27%2C%20%27%23fed06cff%27%2C%20%27%23fed06cff%27%2C%20%27%23fecf6bff%27%2C%20%27%23fecf6aff%27%2C%20%27%23fece6aff%27%2C%20%27%23fecd69ff%27%2C%20%27%23fecd68ff%27%2C%20%27%23fecc68ff%27%2C%20%27%23fecb67ff%27%2C%20%27%23fecb66ff%27%2C%20%27%23feca66ff%27%2C%20%27%23feca65ff%27%2C%20%27%23fec964ff%27%2C%20%27%23fec864ff%27%2C%20%27%23fec863ff%27%2C%20%27%23fec762ff%27%2C%20%27%23fec662ff%27%2C%20%27%23fec661ff%27%2C%20%27%23fec560ff%27%2C%20%27%23fec45fff%27%2C%20%27%23fec45fff%27%2C%20%27%23fec35eff%27%2C%20%27%23fec35dff%27%2C%20%27%23fec25dff%27%2C%20%27%23fec15cff%27%2C%20%27%23fec15bff%27%2C%20%27%23fec05bff%27%2C%20%27%23febf5aff%27%2C%20%27%23febf59ff%27%2C%20%27%23febe59ff%27%2C%20%27%23febe58ff%27%2C%20%27%23febd57ff%27%2C%20%27%23febc57ff%27%2C%20%27%23febc56ff%27%2C%20%27%23febb55ff%27%2C%20%27%23feba55ff%27%2C%20%27%23feba54ff%27%2C%20%27%23feb953ff%27%2C%20%27%23feb953ff%27%2C%20%27%23feb852ff%27%2C%20%27%23feb751ff%27%2C%20%27%23feb751ff%27%2C%20%27%23feb650ff%27%2C%20%27%23feb54fff%27%2C%20%27%23feb54fff%27%2C%20%27%23feb44eff%27%2C%20%27%23feb44dff%27%2C%20%27%23feb34dff%27%2C%20%27%23feb24cff%27%2C%20%27%23feb24cff%27%2C%20%27%23feb14bff%27%2C%20%27%23feb04bff%27%2C%20%27%23feb04bff%27%2C%20%27%23feaf4bff%27%2C%20%27%23feaf4aff%27%2C%20%27%23feae4aff%27%2C%20%27%23feae4aff%27%2C%20%27%23fead4aff%27%2C%20%27%23feac49ff%27%2C%20%27%23feac49ff%27%2C%20%27%23feab49ff%27%2C%20%27%23feab48ff%27%2C%20%27%23feaa48ff%27%2C%20%27%23fea948ff%27%2C%20%27%23fea948ff%27%2C%20%27%23fea847ff%27%2C%20%27%23fea847ff%27%2C%20%27%23fea747ff%27%2C%20%27%23fea647ff%27%2C%20%27%23fea646ff%27%2C%20%27%23fea546ff%27%2C%20%27%23fea546ff%27%2C%20%27%23fea446ff%27%2C%20%27%23fea345ff%27%2C%20%27%23fea345ff%27%2C%20%27%23fea245ff%27%2C%20%27%23fea245ff%27%2C%20%27%23fea144ff%27%2C%20%27%23fea044ff%27%2C%20%27%23fea044ff%27%2C%20%27%23fe9f44ff%27%2C%20%27%23fe9f43ff%27%2C%20%27%23fe9e43ff%27%2C%20%27%23fe9d43ff%27%2C%20%27%23fe9d43ff%27%2C%20%27%23fe9c42ff%27%2C%20%27%23fe9c42ff%27%2C%20%27%23fe9b42ff%27%2C%20%27%23fe9a42ff%27%2C%20%27%23fe9a41ff%27%2C%20%27%23fe9941ff%27%2C%20%27%23fe9941ff%27%2C%20%27%23fe9840ff%27%2C%20%27%23fe9740ff%27%2C%20%27%23fe9740ff%27%2C%20%27%23fe9640ff%27%2C%20%27%23fe963fff%27%2C%20%27%23fe953fff%27%2C%20%27%23fe943fff%27%2C%20%27%23fe943fff%27%2C%20%27%23fe933eff%27%2C%20%27%23fe933eff%27%2C%20%27%23fe923eff%27%2C%20%27%23fe923eff%27%2C%20%27%23fe913dff%27%2C%20%27%23fe903dff%27%2C%20%27%23fe903dff%27%2C%20%27%23fe8f3dff%27%2C%20%27%23fe8f3cff%27%2C%20%27%23fe8e3cff%27%2C%20%27%23fe8d3cff%27%2C%20%27%23fd8d3cff%27%2C%20%27%23fd8c3bff%27%2C%20%27%23fd8b3bff%27%2C%20%27%23fd8a3bff%27%2C%20%27%23fd883aff%27%2C%20%27%23fd873aff%27%2C%20%27%23fd863aff%27%2C%20%27%23fd853aff%27%2C%20%27%23fd8439ff%27%2C%20%27%23fd8339ff%27%2C%20%27%23fd8239ff%27%2C%20%27%23fd8138ff%27%2C%20%27%23fd8038ff%27%2C%20%27%23fd7f38ff%27%2C%20%27%23fd7e38ff%27%2C%20%27%23fd7d37ff%27%2C%20%27%23fd7c37ff%27%2C%20%27%23fd7b37ff%27%2C%20%27%23fd7a36ff%27%2C%20%27%23fd7936ff%27%2C%20%27%23fd7836ff%27%2C%20%27%23fd7736ff%27%2C%20%27%23fd7635ff%27%2C%20%27%23fd7535ff%27%2C%20%27%23fd7435ff%27%2C%20%27%23fd7334ff%27%2C%20%27%23fd7234ff%27%2C%20%27%23fd7134ff%27%2C%20%27%23fd7033ff%27%2C%20%27%23fd6f33ff%27%2C%20%27%23fd6e33ff%27%2C%20%27%23fd6d33ff%27%2C%20%27%23fd6c32ff%27%2C%20%27%23fd6b32ff%27%2C%20%27%23fd6a32ff%27%2C%20%27%23fd6931ff%27%2C%20%27%23fd6831ff%27%2C%20%27%23fd6731ff%27%2C%20%27%23fd6631ff%27%2C%20%27%23fd6530ff%27%2C%20%27%23fd6430ff%27%2C%20%27%23fd6330ff%27%2C%20%27%23fd622fff%27%2C%20%27%23fd612fff%27%2C%20%27%23fd602fff%27%2C%20%27%23fd5f2fff%27%2C%20%27%23fd5e2eff%27%2C%20%27%23fd5d2eff%27%2C%20%27%23fd5c2eff%27%2C%20%27%23fd5b2dff%27%2C%20%27%23fd5a2dff%27%2C%20%27%23fd592dff%27%2C%20%27%23fd582dff%27%2C%20%27%23fd572cff%27%2C%20%27%23fd562cff%27%2C%20%27%23fd552cff%27%2C%20%27%23fd542bff%27%2C%20%27%23fd532bff%27%2C%20%27%23fd522bff%27%2C%20%27%23fd512aff%27%2C%20%27%23fd502aff%27%2C%20%27%23fd4f2aff%27%2C%20%27%23fc4e2aff%27%2C%20%27%23fc4d29ff%27%2C%20%27%23fc4c29ff%27%2C%20%27%23fb4b29ff%27%2C%20%27%23fb4a29ff%27%2C%20%27%23fa4a29ff%27%2C%20%27%23fa4928ff%27%2C%20%27%23fa4828ff%27%2C%20%27%23f94728ff%27%2C%20%27%23f94628ff%27%2C%20%27%23f84527ff%27%2C%20%27%23f84427ff%27%2C%20%27%23f84427ff%27%2C%20%27%23f74327ff%27%2C%20%27%23f74226ff%27%2C%20%27%23f64126ff%27%2C%20%27%23f64026ff%27%2C%20%27%23f63f26ff%27%2C%20%27%23f53f26ff%27%2C%20%27%23f53e25ff%27%2C%20%27%23f43d25ff%27%2C%20%27%23f43c25ff%27%2C%20%27%23f43b25ff%27%2C%20%27%23f33a24ff%27%2C%20%27%23f33a24ff%27%2C%20%27%23f23924ff%27%2C%20%27%23f23824ff%27%2C%20%27%23f23724ff%27%2C%20%27%23f13623ff%27%2C%20%27%23f13523ff%27%2C%20%27%23f03523ff%27%2C%20%27%23f03423ff%27%2C%20%27%23f03322ff%27%2C%20%27%23ef3222ff%27%2C%20%27%23ef3122ff%27%2C%20%27%23ee3022ff%27%2C%20%27%23ee3022ff%27%2C%20%27%23ee2f21ff%27%2C%20%27%23ed2e21ff%27%2C%20%27%23ed2d21ff%27%2C%20%27%23ec2c21ff%27%2C%20%27%23ec2b20ff%27%2C%20%27%23ec2b20ff%27%2C%20%27%23eb2a20ff%27%2C%20%27%23eb2920ff%27%2C%20%27%23ea281fff%27%2C%20%27%23ea271fff%27%2C%20%27%23ea261fff%27%2C%20%27%23e9261fff%27%2C%20%27%23e9251fff%27%2C%20%27%23e8241eff%27%2C%20%27%23e8231eff%27%2C%20%27%23e8221eff%27%2C%20%27%23e7211eff%27%2C%20%27%23e7211dff%27%2C%20%27%23e6201dff%27%2C%20%27%23e61f1dff%27%2C%20%27%23e61e1dff%27%2C%20%27%23e51d1dff%27%2C%20%27%23e51c1cff%27%2C%20%27%23e41b1cff%27%2C%20%27%23e41b1cff%27%2C%20%27%23e31a1cff%27%2C%20%27%23e3191cff%27%2C%20%27%23e2191cff%27%2C%20%27%23e2181cff%27%2C%20%27%23e1181cff%27%2C%20%27%23e0181cff%27%2C%20%27%23e0171dff%27%2C%20%27%23df171dff%27%2C%20%27%23df161dff%27%2C%20%27%23de161dff%27%2C%20%27%23dd161dff%27%2C%20%27%23dd151dff%27%2C%20%27%23dc151eff%27%2C%20%27%23dc141eff%27%2C%20%27%23db141eff%27%2C%20%27%23da131eff%27%2C%20%27%23da131eff%27%2C%20%27%23d9131eff%27%2C%20%27%23d9121eff%27%2C%20%27%23d8121fff%27%2C%20%27%23d7111fff%27%2C%20%27%23d7111fff%27%2C%20%27%23d6111fff%27%2C%20%27%23d5101fff%27%2C%20%27%23d5101fff%27%2C%20%27%23d40f20ff%27%2C%20%27%23d40f20ff%27%2C%20%27%23d30e20ff%27%2C%20%27%23d20e20ff%27%2C%20%27%23d20e20ff%27%2C%20%27%23d10d20ff%27%2C%20%27%23d10d21ff%27%2C%20%27%23d00c21ff%27%2C%20%27%23cf0c21ff%27%2C%20%27%23cf0b21ff%27%2C%20%27%23ce0b21ff%27%2C%20%27%23ce0b21ff%27%2C%20%27%23cd0a22ff%27%2C%20%27%23cc0a22ff%27%2C%20%27%23cc0922ff%27%2C%20%27%23cb0922ff%27%2C%20%27%23ca0922ff%27%2C%20%27%23ca0822ff%27%2C%20%27%23c90822ff%27%2C%20%27%23c90723ff%27%2C%20%27%23c80723ff%27%2C%20%27%23c70623ff%27%2C%20%27%23c70623ff%27%2C%20%27%23c60623ff%27%2C%20%27%23c60523ff%27%2C%20%27%23c50524ff%27%2C%20%27%23c40424ff%27%2C%20%27%23c40424ff%27%2C%20%27%23c30424ff%27%2C%20%27%23c30324ff%27%2C%20%27%23c20324ff%27%2C%20%27%23c10225ff%27%2C%20%27%23c10225ff%27%2C%20%27%23c00125ff%27%2C%20%27%23bf0125ff%27%2C%20%27%23bf0125ff%27%2C%20%27%23be0025ff%27%2C%20%27%23be0026ff%27%2C%20%27%23bd0026ff%27%2C%20%27%23bc0026ff%27%2C%20%27%23bb0026ff%27%2C%20%27%23ba0026ff%27%2C%20%27%23b90026ff%27%2C%20%27%23b80026ff%27%2C%20%27%23b70026ff%27%2C%20%27%23b60026ff%27%2C%20%27%23b50026ff%27%2C%20%27%23b40026ff%27%2C%20%27%23b30026ff%27%2C%20%27%23b20026ff%27%2C%20%27%23b10026ff%27%2C%20%27%23b00026ff%27%2C%20%27%23af0026ff%27%2C%20%27%23ae0026ff%27%2C%20%27%23ad0026ff%27%2C%20%27%23ac0026ff%27%2C%20%27%23ab0026ff%27%2C%20%27%23aa0026ff%27%2C%20%27%23a90026ff%27%2C%20%27%23a80026ff%27%2C%20%27%23a70026ff%27%2C%20%27%23a60026ff%27%2C%20%27%23a50026ff%27%2C%20%27%23a40026ff%27%2C%20%27%23a30026ff%27%2C%20%27%23a20026ff%27%2C%20%27%23a10026ff%27%2C%20%27%23a00026ff%27%2C%20%27%239f0026ff%27%2C%20%27%239e0026ff%27%2C%20%27%239d0026ff%27%2C%20%27%239c0026ff%27%2C%20%27%239b0026ff%27%2C%20%27%239b0026ff%27%2C%20%27%239a0026ff%27%2C%20%27%23990026ff%27%2C%20%27%23980026ff%27%2C%20%27%23970026ff%27%2C%20%27%23960026ff%27%2C%20%27%23950026ff%27%2C%20%27%23940026ff%27%2C%20%27%23930026ff%27%2C%20%27%23920026ff%27%2C%20%27%23910026ff%27%2C%20%27%23900026ff%27%2C%20%27%238f0026ff%27%2C%20%27%238e0026ff%27%2C%20%27%238d0026ff%27%2C%20%27%238c0026ff%27%2C%20%27%238b0026ff%27%2C%20%27%238a0026ff%27%2C%20%27%23890026ff%27%2C%20%27%23880026ff%27%2C%20%27%23870026ff%27%2C%20%27%23860026ff%27%2C%20%27%23850026ff%27%2C%20%27%23840026ff%27%2C%20%27%23830026ff%27%2C%20%27%23820026ff%27%2C%20%27%23810026ff%27%2C%20%27%23800026ff%27%5D%29%3B%0A%20%20%20%20%0A%0A%20%20%20%20color_map_366d653ccc964ca6be87584e5321c650.x%20%3D%20d3.scale.linear%28%29%0A%20%20%20%20%20%20%20%20%20%20%20%20%20%20.domain%28%5B450000.0%2C%202240000.0%5D%29%0A%20%20%20%20%20%20%20%20%20%20%20%20%20%20.range%28%5B0%2C%20400%5D%29%3B%0A%0A%20%20%20%20color_map_366d653ccc964ca6be87584e5321c650.legend%20%3D%20L.control%28%7Bposition%3A%20%27topright%27%7D%29%3B%0A%20%20%20%20color_map_366d653ccc964ca6be87584e5321c650.legend.onAdd%20%3D%20function%20%28map%29%20%7Bvar%20div%20%3D%20L.DomUtil.create%28%27div%27%2C%20%27legend%27%29%3B%20return%20div%7D%3B%0A%20%20%20%20color_map_366d653ccc964ca6be87584e5321c650.legend.addTo%28map_992d1cf9793f4bd88d7ffe76212b2b64%29%3B%0A%0A%20%20%20%20color_map_366d653ccc964ca6be87584e5321c650.xAxis%20%3D%20d3.svg.axis%28%29%0A%20%20%20%20%20%20%20%20.scale%28color_map_366d653ccc964ca6be87584e5321c650.x%29%0A%20%20%20%20%20%20%20%20.orient%28%22top%22%29%0A%20%20%20%20%20%20%20%20.tickSize%281%29%0A%20%20%20%20%20%20%20%20.tickValues%28%5B450000.0%2C%20673750.0%2C%20897500.0%2C%201121250.0%2C%201345000.0%2C%201568750.0%2C%201792500.0%2C%202016250.0%2C%202240000.0%5D%29%3B%0A%0A%20%20%20%20color_map_366d653ccc964ca6be87584e5321c650.svg%20%3D%20d3.select%28%22.legend.leaflet-control%22%29.append%28%22svg%22%29%0A%20%20%20%20%20%20%20%20.attr%28%22id%22%2C%20%27legend%27%29%0A%20%20%20%20%20%20%20%20.attr%28%22width%22%2C%20450%29%0A%20%20%20%20%20%20%20%20.attr%28%22height%22%2C%2040%29%3B%0A%0A%20%20%20%20color_map_366d653ccc964ca6be87584e5321c650.g%20%3D%20color_map_366d653ccc964ca6be87584e5321c650.svg.append%28%22g%22%29%0A%20%20%20%20%20%20%20%20.attr%28%22class%22%2C%20%22key%22%29%0A%20%20%20%20%20%20%20%20.attr%28%22transform%22%2C%20%22translate%2825%2C16%29%22%29%3B%0A%0A%20%20%20%20color_map_366d653ccc964ca6be87584e5321c650.g.selectAll%28%22rect%22%29%0A%20%20%20%20%20%20%20%20.data%28color_map_366d653ccc964ca6be87584e5321c650.color.range%28%29.map%28function%28d%2C%20i%29%20%7B%0A%20%20%20%20%20%20%20%20%20%20return%20%7B%0A%20%20%20%20%20%20%20%20%20%20%20%20x0%3A%20i%20%3F%20color_map_366d653ccc964ca6be87584e5321c650.x%28color_map_366d653ccc964ca6be87584e5321c650.color.domain%28%29%5Bi%20-%201%5D%29%20%3A%20color_map_366d653ccc964ca6be87584e5321c650.x.range%28%29%5B0%5D%2C%0A%20%20%20%20%20%20%20%20%20%20%20%20x1%3A%20i%20%3C%20color_map_366d653ccc964ca6be87584e5321c650.color.domain%28%29.length%20%3F%20color_map_366d653ccc964ca6be87584e5321c650.x%28color_map_366d653ccc964ca6be87584e5321c650.color.domain%28%29%5Bi%5D%29%20%3A%20color_map_366d653ccc964ca6be87584e5321c650.x.range%28%29%5B1%5D%2C%0A%20%20%20%20%20%20%20%20%20%20%20%20z%3A%20d%0A%20%20%20%20%20%20%20%20%20%20%7D%3B%0A%20%20%20%20%20%20%20%20%7D%29%29%0A%20%20%20%20%20%20.enter%28%29.append%28%22rect%22%29%0A%20%20%20%20%20%20%20%20.attr%28%22height%22%2C%2010%29%0A%20%20%20%20%20%20%20%20.attr%28%22x%22%2C%20function%28d%29%20%7B%20return%20d.x0%3B%20%7D%29%0A%20%20%20%20%20%20%20%20.attr%28%22width%22%2C%20function%28d%29%20%7B%20return%20d.x1%20-%20d.x0%3B%20%7D%29%0A%20%20%20%20%20%20%20%20.style%28%22fill%22%2C%20function%28d%29%20%7B%20return%20d.z%3B%20%7D%29%3B%0A%0A%20%20%20%20color_map_366d653ccc964ca6be87584e5321c650.g.call%28color_map_366d653ccc964ca6be87584e5321c650.xAxis%29.append%28%22text%22%29%0A%20%20%20%20%20%20%20%20.attr%28%22class%22%2C%20%22caption%22%29%0A%20%20%20%20%20%20%20%20.attr%28%22y%22%2C%2021%29%0A%20%20%20%20%20%20%20%20.text%28%27%27%29%3B%0A%3C/script%3E onload=\"this.contentDocument.open();this.contentDocument.write(    decodeURIComponent(this.getAttribute('data-html')));this.contentDocument.close();\" allowfullscreen webkitallowfullscreen mozallowfullscreen></iframe></div></div>"
      ],
      "text/plain": [
       "<folium.folium.Map at 0x7fc9b55dc550>"
      ]
     },
     "execution_count": 107,
     "metadata": {},
     "output_type": "execute_result"
    }
   ],
   "source": [
    "price = claremont['price']\n",
    "colormap = branca.colormap.linear.YlOrRd_09.scale(min(price), max(price))\n",
    "\n",
    "folium_map = folium.Map(location=(-31.98, 115.78), zoom_start=15)\n",
    "\n",
    "for i in range(len(claremont)):\n",
    "    values = claremont.iloc[i, :]\n",
    "    lat = values[\"latitude\"]\n",
    "    lon = values[\"longitude\"]\n",
    "    price = values[\"price\"]\n",
    "\n",
    "    color = colormap(price)\n",
    "    folium.CircleMarker([lat, lon], radius=3, color=color,\n",
    "                        fill=True, fill_opacity=0.7).add_to(folium_map)\n",
    "    \n",
    "folium_map.add_child(colormap)\n",
    "folium_map"
   ]
  },
  {
   "cell_type": "code",
   "execution_count": null,
   "metadata": {},
   "outputs": [],
   "source": []
  }
 ],
 "metadata": {
  "kernelspec": {
   "display_name": "Python 3",
   "language": "python",
   "name": "python3"
  },
  "language_info": {
   "codemirror_mode": {
    "name": "ipython",
    "version": 3
   },
   "file_extension": ".py",
   "mimetype": "text/x-python",
   "name": "python",
   "nbconvert_exporter": "python",
   "pygments_lexer": "ipython3",
   "version": "3.7.6"
  }
 },
 "nbformat": 4,
 "nbformat_minor": 4
}
