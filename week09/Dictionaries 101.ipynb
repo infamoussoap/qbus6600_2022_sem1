{
 "cells": [
  {
   "cell_type": "markdown",
   "metadata": {},
   "source": [
    "# Dictionaries\n",
    "\n",
    "Dictionaries are one of the most important datatypes in Python, and is always being used even though we don't know it. \n",
    "\n",
    "Dictionaries can be thought of as the differences between numpy arrays and pandas dataframes. The benefits of dataframes over numpy arrays is that each column is actually given names rather than numbers. Specifically, dictionaries are a key-value pair, meaning that they link a key with a value. So consider we have a list of phone numbers"
   ]
  },
  {
   "cell_type": "code",
   "execution_count": 1,
   "metadata": {},
   "outputs": [],
   "source": [
    "# These numbers are randomly generated\n",
    "# Question for you, why are these numbers stored as strings not integers?\n",
    "phone_numbers_list = [\"0944 995 040\", \"0385 093 346\", \"0771 930 844\", \"0298 188 800\"]"
   ]
  },
  {
   "cell_type": "code",
   "execution_count": 2,
   "metadata": {},
   "outputs": [
    {
     "data": {
      "text/plain": [
       "'0944 995 040'"
      ]
     },
     "execution_count": 2,
     "metadata": {},
     "output_type": "execute_result"
    }
   ],
   "source": [
    "phone_numbers_list[0]"
   ]
  },
  {
   "cell_type": "markdown",
   "metadata": {},
   "source": [
    "As with numpy arrays the problem with storing them as a list is that we don't know what the 0-index, or 1-index or any other index is ment to represent. Instead we can attach names to each number via a dictionary"
   ]
  },
  {
   "cell_type": "code",
   "execution_count": 3,
   "metadata": {},
   "outputs": [],
   "source": [
    "phone_numbers_dict = {\"Andrei\": \"0944 995 040\", \"Pierre\": \"0385 093 346\", \n",
    "                      \"Natasha\": \"0771 930 844\", \"Maria\": \"0298 188 800\"}"
   ]
  },
  {
   "cell_type": "markdown",
   "metadata": {},
   "source": [
    "So rather than calling the 3-index person, we can instead call Maria"
   ]
  },
  {
   "cell_type": "code",
   "execution_count": 21,
   "metadata": {},
   "outputs": [
    {
     "data": {
      "text/plain": [
       "'0298 188 800'"
      ]
     },
     "execution_count": 21,
     "metadata": {},
     "output_type": "execute_result"
    }
   ],
   "source": [
    "phone_numbers_list[3]"
   ]
  },
  {
   "cell_type": "code",
   "execution_count": 22,
   "metadata": {},
   "outputs": [
    {
     "data": {
      "text/plain": [
       "'0298 188 800'"
      ]
     },
     "execution_count": 22,
     "metadata": {},
     "output_type": "execute_result"
    }
   ],
   "source": [
    "phone_numbers_dict[\"Maria\"]"
   ]
  },
  {
   "cell_type": "markdown",
   "metadata": {},
   "source": [
    "Essentially it is a generalised array, since in an array the key must be an integer but in a dictionary the key can be 'anything' (so long is it is hashable).\n",
    "\n",
    "Now lets say that Andrei changed his number to `'0488 989 246'`. We can do this two ways"
   ]
  },
  {
   "cell_type": "code",
   "execution_count": 26,
   "metadata": {},
   "outputs": [
    {
     "name": "stdout",
     "output_type": "stream",
     "text": [
      "Before Change: 0944 995 040\n",
      "After Change: 0488 989 246\n"
     ]
    }
   ],
   "source": [
    "phone_numbers_dict = {\"Andrei\": \"0944 995 040\", \"Pierre\": \"0385 093 346\", \n",
    "                      \"Natasha\": \"0771 930 844\", \"Maria\": \"0298 188 800\"}\n",
    "\n",
    "print(\"Before Change:\", phone_numbers_dict[\"Andrei\"])\n",
    "\n",
    "phone_numbers_dict[\"Andrei\"] = \"0488 989 246\"\n",
    "print(\"After Change:\", phone_numbers_dict[\"Andrei\"])"
   ]
  },
  {
   "cell_type": "code",
   "execution_count": 27,
   "metadata": {},
   "outputs": [
    {
     "name": "stdout",
     "output_type": "stream",
     "text": [
      "Before Change: 0944 995 040\n",
      "After Change: 0488 989 246\n"
     ]
    }
   ],
   "source": [
    "phone_numbers_dict = {\"Andrei\": \"0944 995 040\", \"Pierre\": \"0385 093 346\", \n",
    "                      \"Natasha\": \"0771 930 844\", \"Maria\": \"0298 188 800\"}\n",
    "\n",
    "print(\"Before Change:\", phone_numbers_dict[\"Andrei\"])\n",
    "\n",
    "# Create a dictionary that contains the new values\n",
    "update_dict = {\"Andrei\": \"0488 989 246\"}\n",
    "phone_numbers_dict.update(update_dict)\n",
    "print(\"After Change:\", phone_numbers_dict[\"Andrei\"])"
   ]
  },
  {
   "cell_type": "markdown",
   "metadata": {},
   "source": [
    "### Couple of More Things\n",
    "\n",
    "Lets say that you only want the keys, or only the values, or both. How do you do this?"
   ]
  },
  {
   "cell_type": "code",
   "execution_count": 28,
   "metadata": {},
   "outputs": [],
   "source": [
    "phone_numbers_dict = {\"Andrei\": \"0944 995 040\", \"Pierre\": \"0385 093 346\", \n",
    "                      \"Natasha\": \"0771 930 844\", \"Maria\": \"0298 188 800\"}"
   ]
  },
  {
   "cell_type": "code",
   "execution_count": 29,
   "metadata": {},
   "outputs": [
    {
     "name": "stdout",
     "output_type": "stream",
     "text": [
      "Andrei\n",
      "Pierre\n",
      "Natasha\n",
      "Maria\n"
     ]
    }
   ],
   "source": [
    "for key in phone_numbers_dict.keys():\n",
    "    print(key)"
   ]
  },
  {
   "cell_type": "code",
   "execution_count": 30,
   "metadata": {},
   "outputs": [
    {
     "name": "stdout",
     "output_type": "stream",
     "text": [
      "0944 995 040\n",
      "0385 093 346\n",
      "0771 930 844\n",
      "0298 188 800\n"
     ]
    }
   ],
   "source": [
    "for val in phone_numbers_dict.values():\n",
    "    print(val)"
   ]
  },
  {
   "cell_type": "code",
   "execution_count": 31,
   "metadata": {},
   "outputs": [
    {
     "name": "stdout",
     "output_type": "stream",
     "text": [
      "Andrei 0944 995 040\n",
      "Pierre 0385 093 346\n",
      "Natasha 0771 930 844\n",
      "Maria 0298 188 800\n"
     ]
    }
   ],
   "source": [
    "for key, val in phone_numbers_dict.items():\n",
    "    print(key, val)"
   ]
  },
  {
   "cell_type": "markdown",
   "metadata": {},
   "source": [
    "# Application of Dictionaries\n",
    "\n",
    "The most important use, for us, of dictionaries is their use as keyword arguments because dictionaires ARE keyword arguments! Pay attention because this becomes very important when we automate co-ordinate descent"
   ]
  },
  {
   "cell_type": "code",
   "execution_count": 40,
   "metadata": {},
   "outputs": [],
   "source": [
    "import pandas as pd\n",
    "\n",
    "from sklearn.tree import DecisionTreeRegressor\n",
    "from sklearn.model_selection import train_test_split"
   ]
  },
  {
   "cell_type": "code",
   "execution_count": 41,
   "metadata": {},
   "outputs": [],
   "source": [
    "perth = pd.read_csv('perth_clean.csv', index_col=0)\n",
    "simplified_perth = perth.loc[:, [\"latitude\", \"longitude\", \"nearest_sch_rank\", \"log10_price\"]].copy()\n",
    "\n",
    "train_indices, test_indices = train_test_split(simplified_perth.index, test_size=0.2, random_state=0)\n",
    "\n",
    "train_data = simplified_perth.loc[train_indices, :]\n",
    "test_data = simplified_perth.loc[test_indices, :]\n",
    "\n",
    "x_train = train_data.drop(\"log10_price\", axis=1)\n",
    "y_train = train_data[\"log10_price\"]\n",
    "\n",
    "x_test = test_data.drop(\"log10_price\", axis=1)\n",
    "y_test = test_data[\"log10_price\"]"
   ]
  },
  {
   "cell_type": "code",
   "execution_count": 44,
   "metadata": {},
   "outputs": [
    {
     "data": {
      "text/plain": [
       "0.4692533744369717"
      ]
     },
     "execution_count": 44,
     "metadata": {},
     "output_type": "execute_result"
    }
   ],
   "source": [
    "model = DecisionTreeRegressor(max_depth=7, min_samples_leaf=9, random_state=0)\n",
    "model.fit(x_train, y_train)\n",
    "\n",
    "model.score(x_test, y_test)"
   ]
  },
  {
   "cell_type": "code",
   "execution_count": 45,
   "metadata": {},
   "outputs": [
    {
     "data": {
      "text/plain": [
       "0.4692533744369717"
      ]
     },
     "execution_count": 45,
     "metadata": {},
     "output_type": "execute_result"
    }
   ],
   "source": [
    "# kwargs - key word arguments\n",
    "kwargs = {\"max_depth\": 7, \"min_samples_leaf\": 9, \"random_state\": 0}\n",
    "\n",
    "# Notice the double star (**)\n",
    "model = DecisionTreeRegressor(**kwargs)\n",
    "model.fit(x_train, y_train)\n",
    "\n",
    "model.score(x_test, y_test)"
   ]
  },
  {
   "cell_type": "code",
   "execution_count": null,
   "metadata": {},
   "outputs": [],
   "source": []
  }
 ],
 "metadata": {
  "kernelspec": {
   "display_name": "Python 3",
   "language": "python",
   "name": "python3"
  },
  "language_info": {
   "codemirror_mode": {
    "name": "ipython",
    "version": 3
   },
   "file_extension": ".py",
   "mimetype": "text/x-python",
   "name": "python",
   "nbconvert_exporter": "python",
   "pygments_lexer": "ipython3",
   "version": "3.7.6"
  }
 },
 "nbformat": 4,
 "nbformat_minor": 4
}
