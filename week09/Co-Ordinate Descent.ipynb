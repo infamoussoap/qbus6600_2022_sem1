{
 "cells": [
  {
   "cell_type": "code",
   "execution_count": 1,
   "metadata": {},
   "outputs": [],
   "source": [
    "import pandas as pd\n",
    "import numpy as np\n",
    "\n",
    "from xgboost import XGBRegressor\n",
    "\n",
    "from sklearn.model_selection import train_test_split, RandomizedSearchCV, GridSearchCV\n",
    "from sklearn.metrics import mean_squared_log_error"
   ]
  },
  {
   "cell_type": "code",
   "execution_count": 2,
   "metadata": {},
   "outputs": [
    {
     "data": {
      "text/plain": [
       "'1.5.2'"
      ]
     },
     "execution_count": 2,
     "metadata": {},
     "output_type": "execute_result"
    }
   ],
   "source": [
    "import xgboost\n",
    "xgboost.__version__"
   ]
  },
  {
   "cell_type": "code",
   "execution_count": 3,
   "metadata": {},
   "outputs": [],
   "source": [
    "perth = pd.read_csv('perth_clean.csv')\n",
    "\n",
    "perth = pd.get_dummies(perth, columns=['suburb'])\n",
    "\n",
    "train_indices, test_indices = train_test_split(np.array(perth.index), test_size=0.2, random_state=0)\n",
    "\n",
    "perth_train = perth.loc[train_indices].copy()\n",
    "perth_test = perth.loc[test_indices].copy()"
   ]
  },
  {
   "cell_type": "code",
   "execution_count": 4,
   "metadata": {},
   "outputs": [
    {
     "data": {
      "text/plain": [
       "{'n_estimators': 80,\n",
       " 'learning_rate': 0.09999999999999999,\n",
       " 'max_depth': 56,\n",
       " 'subsample': 0.6}"
      ]
     },
     "execution_count": 4,
     "metadata": {},
     "output_type": "execute_result"
    }
   ],
   "source": [
    "parameter_grid = {'n_estimators': np.arange(50, 100 + 1, 10),\n",
    "                  'learning_rate': np.linspace(0.05, 0.15, 11),\n",
    "                  'max_depth': np.arange(50, 60),\n",
    "                  'subsample': np.linspace(0.5, 1.0, 6)}\n",
    "\n",
    "base_parameters = {key: np.random.choice(val) for key, val in parameter_grid.items()}\n",
    "base_parameters"
   ]
  },
  {
   "cell_type": "code",
   "execution_count": 5,
   "metadata": {},
   "outputs": [
    {
     "data": {
      "text/plain": [
       "3960"
      ]
     },
     "execution_count": 5,
     "metadata": {},
     "output_type": "execute_result"
    }
   ],
   "source": [
    "np.prod([len(val) for val in parameter_grid.values()])"
   ]
  },
  {
   "cell_type": "code",
   "execution_count": 6,
   "metadata": {},
   "outputs": [
    {
     "data": {
      "text/plain": [
       "33"
      ]
     },
     "execution_count": 6,
     "metadata": {},
     "output_type": "execute_result"
    }
   ],
   "source": [
    "np.sum([len(val) for val in parameter_grid.values()])"
   ]
  },
  {
   "cell_type": "code",
   "execution_count": 16,
   "metadata": {},
   "outputs": [],
   "source": [
    "train_indices, valid_indices = train_test_split(np.arange(len(perth_train)), test_size=0.2, random_state=0)"
   ]
  },
  {
   "cell_type": "code",
   "execution_count": 17,
   "metadata": {},
   "outputs": [],
   "source": [
    "x_train = perth_train.drop(columns='log10_price').values\n",
    "y_train = perth_train['log10_price'].values"
   ]
  },
  {
   "cell_type": "code",
   "execution_count": null,
   "metadata": {},
   "outputs": [],
   "source": [
    "print(base_parameters)\n",
    "for parameter, grid in parameter_grid.items():\n",
    "    base_model = XGBRegressor(objective='reg:squarederror', random_state=0, **base_parameters)\n",
    "    \n",
    "    parameter_sub_grid = {parameter: grid}\n",
    "    search = GridSearchCV(base_model, parameter_sub_grid, cv=[(train_indices, valid_indices)], \n",
    "                          scoring=\"neg_mean_squared_error\")\n",
    "    \n",
    "    search.fit(x_train, y_train)\n",
    "    \n",
    "    base_parameters.update(search.best_params_)\n",
    "    print(base_parameters)"
   ]
  },
  {
   "cell_type": "code",
   "execution_count": null,
   "metadata": {},
   "outputs": [],
   "source": []
  },
  {
   "cell_type": "code",
   "execution_count": null,
   "metadata": {},
   "outputs": [],
   "source": [
    "final_model = XGBRegressor(objective='reg:squarederror', random_state=0, **base_parameters)\n",
    "final_model.fit(x_train, y_train)"
   ]
  }
 ],
 "metadata": {
  "kernelspec": {
   "display_name": "Python 3",
   "language": "python",
   "name": "python3"
  },
  "language_info": {
   "codemirror_mode": {
    "name": "ipython",
    "version": 3
   },
   "file_extension": ".py",
   "mimetype": "text/x-python",
   "name": "python",
   "nbconvert_exporter": "python",
   "pygments_lexer": "ipython3",
   "version": "3.7.6"
  }
 },
 "nbformat": 4,
 "nbformat_minor": 4
}
