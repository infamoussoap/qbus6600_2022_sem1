{
 "cells": [
  {
   "cell_type": "code",
   "execution_count": 2,
   "metadata": {},
   "outputs": [],
   "source": [
    "import numpy as np\n",
    "import pandas as pd\n",
    "\n",
    "from sklearn.model_selection import train_test_split\n",
    "from sklearn.tree import DecisionTreeClassifier\n",
    "from sklearn.metrics import f1_score"
   ]
  },
  {
   "cell_type": "code",
   "execution_count": 3,
   "metadata": {},
   "outputs": [],
   "source": [
    "hr = pd.read_csv('HR.csv')\n",
    "hr_dummies = pd.get_dummies(hr)\n",
    "\n",
    "train_indices, test_indices = train_test_split(np.array(hr_dummies.index), test_size=0.2, random_state=0)\n",
    "\n",
    "hr_train = hr_dummies.loc[train_indices].copy()\n",
    "hr_test = hr_dummies.loc[test_indices].copy() "
   ]
  },
  {
   "cell_type": "code",
   "execution_count": 4,
   "metadata": {},
   "outputs": [],
   "source": [
    "x_train = hr_train.drop('left', axis=1)\n",
    "y_train = hr_train['left']\n",
    "\n",
    "x_test = hr_test.drop('left', axis=1)\n",
    "y_test = hr_test['left']"
   ]
  },
  {
   "cell_type": "code",
   "execution_count": 5,
   "metadata": {},
   "outputs": [
    {
     "data": {
      "text/plain": [
       "DecisionTreeClassifier(criterion='entropy', max_depth=2, min_samples_leaf=5,\n",
       "                       random_state=0)"
      ]
     },
     "execution_count": 5,
     "metadata": {},
     "output_type": "execute_result"
    }
   ],
   "source": [
    "tree = DecisionTreeClassifier(criterion='entropy', max_depth=2, min_samples_leaf=5, random_state=0)\n",
    "tree.fit(x_train, y_train)"
   ]
  },
  {
   "cell_type": "code",
   "execution_count": 8,
   "metadata": {},
   "outputs": [
    {
     "data": {
      "text/plain": [
       "0.6493506493506493"
      ]
     },
     "execution_count": 8,
     "metadata": {},
     "output_type": "execute_result"
    }
   ],
   "source": [
    "y_pred = tree.predict(x_test)\n",
    "f1_score(y_test, y_pred)"
   ]
  },
  {
   "cell_type": "markdown",
   "metadata": {},
   "source": [
    "# Random Search"
   ]
  },
  {
   "cell_type": "code",
   "execution_count": 9,
   "metadata": {},
   "outputs": [],
   "source": [
    "from sklearn.model_selection import GridSearchCV, RandomizedSearchCV"
   ]
  },
  {
   "cell_type": "code",
   "execution_count": 10,
   "metadata": {},
   "outputs": [],
   "source": [
    "parameters = {'min_samples_leaf': np.arange(1, 100),\n",
    "              'max_depth': np.arange(1, 20)}\n",
    "\n",
    "random_search = RandomizedSearchCV(DecisionTreeClassifier(criterion='entropy'), parameters, \n",
    "                                   n_iter=25, cv=5, scoring=\"f1\", random_state=0)\n",
    "model = random_search.fit(x_train, y_train)"
   ]
  },
  {
   "cell_type": "code",
   "execution_count": 11,
   "metadata": {},
   "outputs": [
    {
     "data": {
      "text/plain": [
       "0.9427067093673112"
      ]
     },
     "execution_count": 11,
     "metadata": {},
     "output_type": "execute_result"
    }
   ],
   "source": [
    "model.best_score_"
   ]
  },
  {
   "cell_type": "code",
   "execution_count": 12,
   "metadata": {},
   "outputs": [
    {
     "data": {
      "text/plain": [
       "{'min_samples_leaf': 9, 'max_depth': 7}"
      ]
     },
     "execution_count": 12,
     "metadata": {},
     "output_type": "execute_result"
    }
   ],
   "source": [
    "model.best_params_"
   ]
  },
  {
   "cell_type": "markdown",
   "metadata": {},
   "source": [
    "# Co-Ordinate Descent"
   ]
  },
  {
   "cell_type": "code",
   "execution_count": 13,
   "metadata": {},
   "outputs": [],
   "source": [
    "base_model = DecisionTreeClassifier(criterion='entropy', min_samples_leaf=9)\n",
    "parameters = {'max_depth': np.arange(1, 20)}\n",
    "\n",
    "search = GridSearchCV(base_model, parameters, cv=5, scoring=\"f1\")\n",
    "search.fit(x_train, y_train);"
   ]
  },
  {
   "cell_type": "code",
   "execution_count": 14,
   "metadata": {},
   "outputs": [
    {
     "data": {
      "text/plain": [
       "{'max_depth': 8}"
      ]
     },
     "execution_count": 14,
     "metadata": {},
     "output_type": "execute_result"
    }
   ],
   "source": [
    "search.best_params_"
   ]
  },
  {
   "cell_type": "code",
   "execution_count": 15,
   "metadata": {},
   "outputs": [],
   "source": [
    "base_model = DecisionTreeClassifier(criterion='entropy', max_depth=8)\n",
    "parameters = {'min_samples_leaf': np.arange(1, 100)}\n",
    "\n",
    "search = GridSearchCV(base_model, parameters, cv=5, scoring=\"f1\")\n",
    "search.fit(x_train, y_train);"
   ]
  },
  {
   "cell_type": "code",
   "execution_count": 16,
   "metadata": {},
   "outputs": [
    {
     "data": {
      "text/plain": [
       "{'min_samples_leaf': 2}"
      ]
     },
     "execution_count": 16,
     "metadata": {},
     "output_type": "execute_result"
    }
   ],
   "source": [
    "search.best_params_"
   ]
  },
  {
   "cell_type": "code",
   "execution_count": 17,
   "metadata": {},
   "outputs": [],
   "source": [
    "base_model = DecisionTreeClassifier(criterion='entropy', min_samples_leaf=2)\n",
    "parameters = {'max_depth': np.arange(1, 20)}\n",
    "\n",
    "search = GridSearchCV(base_model, parameters, cv=5, scoring=\"f1\")\n",
    "search.fit(x_train, y_train);"
   ]
  },
  {
   "cell_type": "code",
   "execution_count": 18,
   "metadata": {},
   "outputs": [
    {
     "data": {
      "text/plain": [
       "{'max_depth': 9}"
      ]
     },
     "execution_count": 18,
     "metadata": {},
     "output_type": "execute_result"
    }
   ],
   "source": [
    "search.best_params_"
   ]
  },
  {
   "cell_type": "code",
   "execution_count": 20,
   "metadata": {},
   "outputs": [],
   "source": [
    "base_model = DecisionTreeClassifier(criterion='entropy', max_depth=9)\n",
    "parameters = {'min_samples_leaf': np.arange(1, 100)}\n",
    "\n",
    "search = GridSearchCV(base_model, parameters, cv=5, scoring=\"f1\")\n",
    "search.fit(x_train, y_train);"
   ]
  },
  {
   "cell_type": "code",
   "execution_count": 21,
   "metadata": {},
   "outputs": [
    {
     "data": {
      "text/plain": [
       "{'min_samples_leaf': 1}"
      ]
     },
     "execution_count": 21,
     "metadata": {},
     "output_type": "execute_result"
    }
   ],
   "source": [
    "search.best_params_"
   ]
  },
  {
   "cell_type": "code",
   "execution_count": 22,
   "metadata": {},
   "outputs": [
    {
     "data": {
      "text/plain": [
       "{'max_depth': 9}"
      ]
     },
     "execution_count": 22,
     "metadata": {},
     "output_type": "execute_result"
    }
   ],
   "source": [
    "base_model = DecisionTreeClassifier(criterion='entropy', min_samples_leaf=1)\n",
    "parameters = {'max_depth': np.arange(1, 20)}\n",
    "\n",
    "search = GridSearchCV(base_model, parameters, cv=5, scoring=\"f1\")\n",
    "search.fit(x_train, y_train);\n",
    "\n",
    "search.best_params_"
   ]
  },
  {
   "cell_type": "code",
   "execution_count": 24,
   "metadata": {},
   "outputs": [
    {
     "data": {
      "text/plain": [
       "0.9554346389374981"
      ]
     },
     "execution_count": 24,
     "metadata": {},
     "output_type": "execute_result"
    }
   ],
   "source": [
    "search.best_score_"
   ]
  },
  {
   "cell_type": "markdown",
   "metadata": {},
   "source": [
    "# Visualize Tree"
   ]
  },
  {
   "cell_type": "code",
   "execution_count": 25,
   "metadata": {},
   "outputs": [],
   "source": [
    "from sklearn.tree import export_graphviz\n",
    "import graphviz"
   ]
  },
  {
   "cell_type": "code",
   "execution_count": 26,
   "metadata": {},
   "outputs": [
    {
     "data": {
      "text/plain": [
       "DecisionTreeClassifier(criterion='entropy', max_depth=7, min_samples_leaf=9,\n",
       "                       random_state=0)"
      ]
     },
     "execution_count": 26,
     "metadata": {},
     "output_type": "execute_result"
    }
   ],
   "source": [
    "tree = DecisionTreeClassifier(criterion='entropy', max_depth=7, min_samples_leaf=9, random_state=0)\n",
    "tree.fit(hr_train.drop(columns='left'), hr_train['left'])"
   ]
  },
  {
   "cell_type": "code",
   "execution_count": 28,
   "metadata": {},
   "outputs": [
    {
     "data": {
      "text/plain": [
       "Index(['satisfaction_level', 'last_evaluation', 'number_project',\n",
       "       'average_montly_hours', 'time_spend_company', 'Work_accident',\n",
       "       'promotion_last_5years', 'sales_IT', 'sales_RandD', 'sales_accounting',\n",
       "       'sales_hr', 'sales_management', 'sales_marketing', 'sales_product_mng',\n",
       "       'sales_sales', 'sales_support', 'sales_technical', 'salary_high',\n",
       "       'salary_low', 'salary_medium'],\n",
       "      dtype='object')"
      ]
     },
     "execution_count": 28,
     "metadata": {},
     "output_type": "execute_result"
    }
   ],
   "source": [
    "x_train.columns"
   ]
  },
  {
   "cell_type": "code",
   "execution_count": 27,
   "metadata": {},
   "outputs": [
    {
     "data": {
      "text/plain": [
       "'Tree.pdf'"
      ]
     },
     "execution_count": 27,
     "metadata": {},
     "output_type": "execute_result"
    }
   ],
   "source": [
    "feature_names = ['Satisfaction Level', 'Last Evaluation Score', 'Number of Projects',\n",
    "                 'Average Monthly Hours', 'Time Spent at the Company', 'Work Accident',\n",
    "                 'Promotion in the Last 5 Years', 'Department: IT', 'Department: R&D', \n",
    "                 'Department: Accounting', 'Department: HR', 'Department: Management', \n",
    "                 'Department: Marketing', 'Department: Product Management', 'Department: Sales', \n",
    "                 'Department: Support', 'Department: Technical', 'Salary: High', \n",
    "                 'Salary: Low', 'Salary: Medium']\n",
    "\n",
    "dot_data = export_graphviz(tree, max_depth=3, impurity=False, feature_names=feature_names,\n",
    "                           class_names=['Stayed', 'Left'], rounded=True, filled=True) \n",
    "graph = graphviz.Source(dot_data)\n",
    "graph.render('Tree')"
   ]
  },
  {
   "cell_type": "markdown",
   "metadata": {},
   "source": [
    "# Perth Housing"
   ]
  },
  {
   "cell_type": "code",
   "execution_count": 29,
   "metadata": {},
   "outputs": [],
   "source": [
    "from sklearn.metrics import mean_squared_log_error\n",
    "from sklearn.tree import DecisionTreeRegressor"
   ]
  },
  {
   "cell_type": "code",
   "execution_count": 30,
   "metadata": {},
   "outputs": [],
   "source": [
    "perth = pd.read_csv('PerthHousing.csv', parse_dates=['date_sold'], infer_datetime_format=True)\n",
    "\n",
    "# We only really care about the year in which the house was sold\n",
    "perth['date_sold'] = pd.DatetimeIndex(perth['date_sold']).year\n",
    "\n",
    "perth['log10_price'] = np.log10(perth['price'])\n",
    "perth.drop(columns=['price', 'address', 'nearest_sch', 'nearest_stn'], inplace=True)\n",
    "perth = pd.get_dummies(perth, columns=['suburb'])\n",
    "\n",
    "train_indices, test_indices = train_test_split(np.array(perth.index), test_size=0.2, random_state=0)\n",
    "\n",
    "perth_train = perth.loc[train_indices].copy()\n",
    "perth_test = perth.loc[test_indices].copy()"
   ]
  },
  {
   "cell_type": "code",
   "execution_count": 32,
   "metadata": {},
   "outputs": [],
   "source": [
    "# Null values in the garage column are houses that have 0 garage spaces\n",
    "perth_test.fillna({'garage': 0, 'build_year': perth_train['build_year'].mean(), 'nearest_sch_rank': 150}, \n",
    "                  inplace=True)\n",
    "perth_train.fillna({'garage': 0, 'build_year': perth_train['build_year'].mean(), 'nearest_sch_rank': 150}, \n",
    "                   inplace=True)"
   ]
  },
  {
   "cell_type": "markdown",
   "metadata": {},
   "source": [
    "## Co-Ordinate Descent"
   ]
  },
  {
   "cell_type": "code",
   "execution_count": 33,
   "metadata": {},
   "outputs": [
    {
     "data": {
      "text/plain": [
       "{'min_samples_leaf': 29, 'max_depth': 16}"
      ]
     },
     "execution_count": 33,
     "metadata": {},
     "output_type": "execute_result"
    }
   ],
   "source": [
    "parameters = {'max_depth': np.arange(1, 25),\n",
    "              'min_samples_leaf': np.arange(1, 50)}\n",
    "\n",
    "random_search = RandomizedSearchCV(DecisionTreeRegressor(criterion='squared_error', random_state=0), \n",
    "                                   parameters, n_iter=5, cv=5, \n",
    "                                   scoring='neg_mean_squared_error', random_state=0)\n",
    "                                   \n",
    "random_search.fit(perth_train.drop(columns='log10_price'), perth_train['log10_price'])\n",
    "random_search.best_params_"
   ]
  },
  {
   "cell_type": "code",
   "execution_count": 34,
   "metadata": {},
   "outputs": [],
   "source": [
    "base_model = DecisionTreeRegressor(criterion='squared_error', max_depth=16)\n",
    "parameters = {'min_samples_leaf': np.arange(1, 50)}\n",
    "\n",
    "model = GridSearchCV(base_model, parameters, cv=5, scoring='neg_mean_squared_error')\n",
    "model.fit(perth_train.drop(columns='log10_price'), perth_train['log10_price']);"
   ]
  },
  {
   "cell_type": "code",
   "execution_count": 35,
   "metadata": {},
   "outputs": [
    {
     "data": {
      "text/plain": [
       "{'min_samples_leaf': 13}"
      ]
     },
     "execution_count": 35,
     "metadata": {},
     "output_type": "execute_result"
    }
   ],
   "source": [
    "model.best_params_"
   ]
  },
  {
   "cell_type": "code",
   "execution_count": 36,
   "metadata": {},
   "outputs": [
    {
     "data": {
      "text/plain": [
       "GridSearchCV(cv=5, estimator=DecisionTreeRegressor(min_samples_leaf=13),\n",
       "             param_grid={'max_depth': array([ 1,  2,  3,  4,  5,  6,  7,  8,  9, 10, 11, 12, 13, 14, 15, 16, 17,\n",
       "       18, 19, 20, 21, 22, 23, 24])},\n",
       "             scoring='neg_mean_squared_error')"
      ]
     },
     "execution_count": 36,
     "metadata": {},
     "output_type": "execute_result"
    }
   ],
   "source": [
    "base_model = DecisionTreeRegressor(criterion='squared_error', min_samples_leaf=13)\n",
    "parameters = {'max_depth': np.arange(1, 25)}\n",
    "\n",
    "model = GridSearchCV(base_model, parameters, cv=5, scoring='neg_mean_squared_error')\n",
    "model.fit(perth_train.drop(columns='log10_price'), perth_train['log10_price']);"
   ]
  },
  {
   "cell_type": "code",
   "execution_count": 37,
   "metadata": {},
   "outputs": [
    {
     "data": {
      "text/plain": [
       "{'max_depth': 18}"
      ]
     },
     "execution_count": 37,
     "metadata": {},
     "output_type": "execute_result"
    }
   ],
   "source": [
    "model.best_params_"
   ]
  },
  {
   "cell_type": "code",
   "execution_count": 40,
   "metadata": {},
   "outputs": [
    {
     "data": {
      "text/plain": [
       "-0.011334684940916516"
      ]
     },
     "execution_count": 40,
     "metadata": {},
     "output_type": "execute_result"
    }
   ],
   "source": [
    "model.best_score_"
   ]
  },
  {
   "cell_type": "code",
   "execution_count": 38,
   "metadata": {},
   "outputs": [
    {
     "data": {
      "text/plain": [
       "DecisionTreeRegressor(max_depth=18, min_samples_leaf=13)"
      ]
     },
     "execution_count": 38,
     "metadata": {},
     "output_type": "execute_result"
    }
   ],
   "source": [
    "final_model = DecisionTreeRegressor(criterion='squared_error', min_samples_leaf=13, max_depth=18)\n",
    "final_model.fit(perth_train.drop(columns='log10_price'), perth_train['log10_price'])"
   ]
  },
  {
   "cell_type": "code",
   "execution_count": 39,
   "metadata": {},
   "outputs": [
    {
     "data": {
      "text/plain": [
       "0.2435026391081913"
      ]
     },
     "execution_count": 39,
     "metadata": {},
     "output_type": "execute_result"
    }
   ],
   "source": [
    "predictions = 10**final_model.predict(perth_test.drop(columns='log10_price'))\n",
    "mean_squared_log_error(10**perth_test['log10_price'], predictions, squared=False)"
   ]
  },
  {
   "cell_type": "code",
   "execution_count": null,
   "metadata": {},
   "outputs": [],
   "source": []
  },
  {
   "cell_type": "code",
   "execution_count": null,
   "metadata": {},
   "outputs": [],
   "source": []
  },
  {
   "cell_type": "code",
   "execution_count": 41,
   "metadata": {},
   "outputs": [
    {
     "name": "stdout",
     "output_type": "stream",
     "text": [
      "{'min_samples_leaf': 17, 'max_depth': 23}\n"
     ]
    },
    {
     "data": {
      "text/plain": [
       "0.24383778611380308"
      ]
     },
     "execution_count": 41,
     "metadata": {},
     "output_type": "execute_result"
    }
   ],
   "source": [
    "parameters = {'max_depth': np.arange(1, 25),\n",
    "              'min_samples_leaf': np.arange(1, 50)}\n",
    "\n",
    "random_search = RandomizedSearchCV(DecisionTreeRegressor(criterion='squared_error', random_state=0), \n",
    "                                   parameters, n_iter=10, cv=5, \n",
    "                                   scoring='neg_mean_squared_error', random_state=0)\n",
    "                                   \n",
    "model = random_search.fit(perth_train.drop(columns='log10_price'), perth_train['log10_price'])\n",
    "\n",
    "print(random_search.best_params_)\n",
    "\n",
    "predictions = 10**model.predict(perth_test.drop(columns='log10_price'))\n",
    "mean_squared_log_error(10**perth_test['log10_price'], predictions, squared=False)"
   ]
  },
  {
   "cell_type": "code",
   "execution_count": 42,
   "metadata": {},
   "outputs": [
    {
     "data": {
      "text/plain": [
       "-0.011414564024239708"
      ]
     },
     "execution_count": 42,
     "metadata": {},
     "output_type": "execute_result"
    }
   ],
   "source": [
    "model.best_score_"
   ]
  },
  {
   "cell_type": "markdown",
   "metadata": {},
   "source": [
    "# Visualize Tree"
   ]
  },
  {
   "cell_type": "code",
   "execution_count": 49,
   "metadata": {},
   "outputs": [
    {
     "data": {
      "text/plain": [
       "'Tree.pdf'"
      ]
     },
     "execution_count": 49,
     "metadata": {},
     "output_type": "execute_result"
    }
   ],
   "source": [
    "tree = DecisionTreeRegressor(criterion = 'squared_error', max_depth=23, min_samples_leaf=17, random_state=0)\n",
    "tree.fit(perth_train.drop(columns='log10_price'), perth_train['log10_price'])\n",
    "\n",
    "feature_names = perth_train.drop(columns='log10_price').columns\n",
    "\n",
    "dot_data = export_graphviz(tree, max_depth=3, impurity=False, feature_names=feature_names, rounded=True, \n",
    "                           filled=True) \n",
    "graph = graphviz.Source(dot_data)\n",
    "graph.render('Tree')"
   ]
  },
  {
   "cell_type": "code",
   "execution_count": 50,
   "metadata": {},
   "outputs": [
    {
     "data": {
      "text/plain": [
       "5.747511815001846"
      ]
     },
     "execution_count": 50,
     "metadata": {},
     "output_type": "execute_result"
    }
   ],
   "source": [
    "perth_train['log10_price'].mean()"
   ]
  },
  {
   "cell_type": "code",
   "execution_count": 52,
   "metadata": {},
   "outputs": [
    {
     "data": {
      "text/plain": [
       "5.705587956874365"
      ]
     },
     "execution_count": 52,
     "metadata": {},
     "output_type": "execute_result"
    }
   ],
   "source": [
    "split = perth_train.loc[perth_train[\"nearest_sch_rank\"] > 34.5, \"log10_price\"]\n",
    "split.mean()"
   ]
  },
  {
   "cell_type": "code",
   "execution_count": null,
   "metadata": {},
   "outputs": [],
   "source": []
  }
 ],
 "metadata": {
  "kernelspec": {
   "display_name": "Python 3",
   "language": "python",
   "name": "python3"
  },
  "language_info": {
   "codemirror_mode": {
    "name": "ipython",
    "version": 3
   },
   "file_extension": ".py",
   "mimetype": "text/x-python",
   "name": "python",
   "nbconvert_exporter": "python",
   "pygments_lexer": "ipython3",
   "version": "3.7.6"
  }
 },
 "nbformat": 4,
 "nbformat_minor": 4
}
