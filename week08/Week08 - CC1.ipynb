{
 "cells": [
  {
   "cell_type": "code",
   "execution_count": 1,
   "metadata": {},
   "outputs": [],
   "source": [
    "import pandas as pd\n",
    "import numpy as np\n",
    "\n",
    "from sklearn.model_selection import train_test_split\n",
    "from sklearn.tree import DecisionTreeClassifier\n",
    "from sklearn.metrics import f1_score"
   ]
  },
  {
   "cell_type": "code",
   "execution_count": 85,
   "metadata": {},
   "outputs": [],
   "source": [
    "hr = pd.read_csv('HR.csv')\n",
    "hr_dummies = pd.get_dummies(hr)\n",
    "\n",
    "train_indices, test_indices = train_test_split(np.array(hr_dummies.index), test_size=0.2, random_state=0)\n",
    "\n",
    "hr_train = hr_dummies.loc[train_indices].copy()\n",
    "hr_test = hr_dummies.loc[test_indices].copy() "
   ]
  },
  {
   "cell_type": "code",
   "execution_count": 86,
   "metadata": {},
   "outputs": [],
   "source": [
    "x_train = hr_train.drop('left', axis=1)\n",
    "y_train = hr_train['left']\n",
    "\n",
    "x_test = hr_test.drop('left', axis=1)\n",
    "y_test = hr_test['left']"
   ]
  },
  {
   "cell_type": "code",
   "execution_count": 87,
   "metadata": {},
   "outputs": [
    {
     "data": {
      "text/plain": [
       "DecisionTreeClassifier(criterion='entropy', max_depth=2, min_samples_leaf=5,\n",
       "                       random_state=0)"
      ]
     },
     "execution_count": 87,
     "metadata": {},
     "output_type": "execute_result"
    }
   ],
   "source": [
    "tree = DecisionTreeClassifier(criterion=\"entropy\", max_depth=2, min_samples_leaf=5, random_state=0)\n",
    "tree.fit(x_train, y_train)"
   ]
  },
  {
   "cell_type": "code",
   "execution_count": 88,
   "metadata": {},
   "outputs": [
    {
     "data": {
      "text/plain": [
       "0.6493506493506493"
      ]
     },
     "execution_count": 88,
     "metadata": {},
     "output_type": "execute_result"
    }
   ],
   "source": [
    "y_pred = tree.predict(x_test)\n",
    "\n",
    "f1_score(hr_test['left'], y_pred)"
   ]
  },
  {
   "cell_type": "markdown",
   "metadata": {},
   "source": [
    "# Random Search"
   ]
  },
  {
   "cell_type": "code",
   "execution_count": 89,
   "metadata": {},
   "outputs": [],
   "source": [
    "from sklearn.model_selection import GridSearchCV, RandomizedSearchCV"
   ]
  },
  {
   "cell_type": "code",
   "execution_count": 90,
   "metadata": {},
   "outputs": [],
   "source": [
    "parameters = {'min_samples_leaf': np.arange(1, 100),\n",
    "              'max_depth': np.arange(1, 20)}\n",
    "\n",
    "random_search = RandomizedSearchCV(DecisionTreeClassifier(criterion='entropy'), parameters, \n",
    "                                   n_iter=25, cv=5, scoring=\"f1\", random_state=0)\n",
    "model = random_search.fit(x_train, y_train)"
   ]
  },
  {
   "cell_type": "code",
   "execution_count": 91,
   "metadata": {},
   "outputs": [
    {
     "data": {
      "text/plain": [
       "0.9427067093673112"
      ]
     },
     "execution_count": 91,
     "metadata": {},
     "output_type": "execute_result"
    }
   ],
   "source": [
    "model.best_score_"
   ]
  },
  {
   "cell_type": "code",
   "execution_count": 92,
   "metadata": {},
   "outputs": [
    {
     "name": "stdout",
     "output_type": "stream",
     "text": [
      "{'min_samples_leaf': 9, 'max_depth': 7}\n",
      "F1 score: 0.95\n"
     ]
    }
   ],
   "source": [
    "print(random_search.best_params_)\n",
    "\n",
    "predictions = model.predict(hr_test.drop(columns='left'))\n",
    "print('F1 score: {:.2f}'.format(f1_score(hr_test['left'], predictions)))"
   ]
  },
  {
   "cell_type": "markdown",
   "metadata": {},
   "source": [
    "# Co-Ordinate Descent"
   ]
  },
  {
   "cell_type": "code",
   "execution_count": 93,
   "metadata": {},
   "outputs": [],
   "source": [
    "base_model = DecisionTreeClassifier(criterion='entropy', min_samples_leaf=10)\n",
    "parameters = {'max_depth': np.arange(1, 20)}\n",
    "\n",
    "random_search = GridSearchCV(base_model, parameters, cv=5, scoring=\"f1\")\n",
    "model = random_search.fit(x_train, y_train)"
   ]
  },
  {
   "cell_type": "code",
   "execution_count": 94,
   "metadata": {},
   "outputs": [
    {
     "data": {
      "text/plain": [
       "{'max_depth': 8}"
      ]
     },
     "execution_count": 94,
     "metadata": {},
     "output_type": "execute_result"
    }
   ],
   "source": [
    "model.best_params_"
   ]
  },
  {
   "cell_type": "code",
   "execution_count": 95,
   "metadata": {},
   "outputs": [],
   "source": [
    "base_model = DecisionTreeClassifier(criterion='entropy', max_depth=8)\n",
    "parameters = {'min_samples_leaf': np.arange(1, 100)}\n",
    "\n",
    "random_search = GridSearchCV(base_model, parameters, cv=5, scoring=\"f1\")\n",
    "model = random_search.fit(x_train, y_train)"
   ]
  },
  {
   "cell_type": "code",
   "execution_count": 96,
   "metadata": {},
   "outputs": [
    {
     "data": {
      "text/plain": [
       "{'min_samples_leaf': 1}"
      ]
     },
     "execution_count": 96,
     "metadata": {},
     "output_type": "execute_result"
    }
   ],
   "source": [
    "model.best_params_"
   ]
  },
  {
   "cell_type": "code",
   "execution_count": 97,
   "metadata": {},
   "outputs": [],
   "source": [
    "base_model = DecisionTreeClassifier(criterion='entropy', min_samples_leaf=2)\n",
    "parameters = {'max_depth': np.arange(1, 20)}\n",
    "\n",
    "random_search = GridSearchCV(base_model, parameters, cv=5, scoring=\"f1\")\n",
    "model = random_search.fit(x_train, y_train)"
   ]
  },
  {
   "cell_type": "code",
   "execution_count": 98,
   "metadata": {},
   "outputs": [
    {
     "data": {
      "text/plain": [
       "{'max_depth': 9}"
      ]
     },
     "execution_count": 98,
     "metadata": {},
     "output_type": "execute_result"
    }
   ],
   "source": [
    "model.best_params_"
   ]
  },
  {
   "cell_type": "code",
   "execution_count": 101,
   "metadata": {},
   "outputs": [
    {
     "data": {
      "text/plain": [
       "0.9555342172579179"
      ]
     },
     "execution_count": 101,
     "metadata": {},
     "output_type": "execute_result"
    }
   ],
   "source": [
    "model.best_score_"
   ]
  },
  {
   "cell_type": "code",
   "execution_count": 99,
   "metadata": {},
   "outputs": [
    {
     "data": {
      "text/plain": [
       "DecisionTreeClassifier(criterion='entropy', max_depth=8, min_samples_leaf=2)"
      ]
     },
     "execution_count": 99,
     "metadata": {},
     "output_type": "execute_result"
    }
   ],
   "source": [
    "final_model = DecisionTreeClassifier(criterion='entropy', min_samples_leaf=2, max_depth=8)\n",
    "final_model.fit(x_train, y_train)"
   ]
  },
  {
   "cell_type": "code",
   "execution_count": 100,
   "metadata": {},
   "outputs": [
    {
     "name": "stdout",
     "output_type": "stream",
     "text": [
      "F1 score: 0.96\n"
     ]
    }
   ],
   "source": [
    "predictions = final_model.predict(hr_test.drop(columns='left'))\n",
    "print('F1 score: {:.2f}'.format(f1_score(hr_test['left'], predictions)))"
   ]
  },
  {
   "cell_type": "markdown",
   "metadata": {},
   "source": [
    "# Visualize Tree"
   ]
  },
  {
   "cell_type": "code",
   "execution_count": 26,
   "metadata": {},
   "outputs": [],
   "source": [
    "from sklearn.tree import export_graphviz\n",
    "import graphviz"
   ]
  },
  {
   "cell_type": "code",
   "execution_count": 27,
   "metadata": {},
   "outputs": [
    {
     "data": {
      "text/plain": [
       "DecisionTreeClassifier(criterion='entropy', max_depth=7, min_samples_leaf=9,\n",
       "                       random_state=0)"
      ]
     },
     "execution_count": 27,
     "metadata": {},
     "output_type": "execute_result"
    }
   ],
   "source": [
    "tree = DecisionTreeClassifier(criterion = 'entropy', max_depth=7, min_samples_leaf=9, random_state=0)\n",
    "tree.fit(hr_train.drop(columns='left'), hr_train['left'])"
   ]
  },
  {
   "cell_type": "code",
   "execution_count": 28,
   "metadata": {},
   "outputs": [
    {
     "data": {
      "text/plain": [
       "Index(['satisfaction_level', 'last_evaluation', 'number_project',\n",
       "       'average_montly_hours', 'time_spend_company', 'Work_accident',\n",
       "       'promotion_last_5years', 'sales_IT', 'sales_RandD', 'sales_accounting',\n",
       "       'sales_hr', 'sales_management', 'sales_marketing', 'sales_product_mng',\n",
       "       'sales_sales', 'sales_support', 'sales_technical', 'salary_high',\n",
       "       'salary_low', 'salary_medium'],\n",
       "      dtype='object')"
      ]
     },
     "execution_count": 28,
     "metadata": {},
     "output_type": "execute_result"
    }
   ],
   "source": [
    "x_train.columns"
   ]
  },
  {
   "cell_type": "code",
   "execution_count": 29,
   "metadata": {},
   "outputs": [
    {
     "data": {
      "text/plain": [
       "'Tree.pdf'"
      ]
     },
     "execution_count": 29,
     "metadata": {},
     "output_type": "execute_result"
    }
   ],
   "source": [
    "feature_names = ['Satisfaction Level', 'Last Evaluation Score', 'Number of Projects',\n",
    "                 'Average Monthly Hours', 'Time Spent at the Company', 'Work Accident',\n",
    "                 'Promotion in the Last 5 Years', 'Department: IT', 'Department: R&D', \n",
    "                 'Department: Accounting', 'Department: HR', 'Department: Management', \n",
    "                 'Department: Marketing', 'Department: Product Management', 'Department: Sales', \n",
    "                 'Department: Support', 'Department: Technical', 'Salary: High', \n",
    "                 'Salary: Low', 'Salary: Medium']\n",
    "\n",
    "dot_data = export_graphviz(tree, max_depth=3, impurity=False, feature_names=feature_names,\n",
    "                           class_names=['Stayed', 'Left'], rounded=True, filled=True) \n",
    "graph = graphviz.Source(dot_data)\n",
    "graph.render('Tree')"
   ]
  },
  {
   "cell_type": "markdown",
   "metadata": {},
   "source": [
    "# Perth Housing"
   ]
  },
  {
   "cell_type": "code",
   "execution_count": 30,
   "metadata": {},
   "outputs": [],
   "source": [
    "import matplotlib.pyplot as plt"
   ]
  },
  {
   "cell_type": "code",
   "execution_count": 31,
   "metadata": {},
   "outputs": [],
   "source": [
    "from sklearn.metrics import mean_squared_log_error\n",
    "from sklearn.tree import DecisionTreeRegressor"
   ]
  },
  {
   "cell_type": "code",
   "execution_count": 32,
   "metadata": {},
   "outputs": [],
   "source": [
    "perth = pd.read_csv('PerthHousing.csv', parse_dates=['date_sold'], infer_datetime_format=True)\n",
    "\n",
    "# We only really care about the year in which the house was sold\n",
    "perth['date_sold'] = pd.DatetimeIndex(perth['date_sold']).year\n",
    "\n",
    "perth['log10_price'] = np.log10(perth['price'])\n",
    "perth.drop(columns=['price', 'address', 'nearest_sch', 'nearest_stn'], inplace=True)\n",
    "perth = pd.get_dummies(perth, columns=['suburb'])\n",
    "\n",
    "train_indices, test_indices = train_test_split(np.array(perth.index), test_size=0.2, random_state=0)\n",
    "\n",
    "perth_train = perth.loc[train_indices].copy()\n",
    "perth_test = perth.loc[test_indices].copy()"
   ]
  },
  {
   "cell_type": "code",
   "execution_count": 34,
   "metadata": {},
   "outputs": [
    {
     "data": {
      "text/plain": [
       "<matplotlib.axes._subplots.AxesSubplot at 0x7fa062c0a990>"
      ]
     },
     "execution_count": 34,
     "metadata": {},
     "output_type": "execute_result"
    },
    {
     "data": {
      "image/png": "[encoded data removed]",
      "text/plain": [
       "<Figure size 720x360 with 1 Axes>"
      ]
     },
     "metadata": {
      "needs_background": "light"
     },
     "output_type": "display_data"
    }
   ],
   "source": [
    "plt.figure(figsize=(10, 5))\n",
    "perth_train[\"build_year\"].plot.hist(bins=20)"
   ]
  },
  {
   "cell_type": "code",
   "execution_count": 35,
   "metadata": {},
   "outputs": [
    {
     "data": {
      "text/plain": [
       "1989.6874026080538"
      ]
     },
     "execution_count": 35,
     "metadata": {},
     "output_type": "execute_result"
    }
   ],
   "source": [
    "perth_train[\"build_year\"].mean()"
   ]
  },
  {
   "cell_type": "code",
   "execution_count": 68,
   "metadata": {},
   "outputs": [
    {
     "data": {
      "text/plain": [
       "1995.0"
      ]
     },
     "execution_count": 68,
     "metadata": {},
     "output_type": "execute_result"
    }
   ],
   "source": [
    "perth_train[\"build_year\"].median()"
   ]
  },
  {
   "cell_type": "code",
   "execution_count": 36,
   "metadata": {},
   "outputs": [
    {
     "data": {
      "image/png": "[encoded data removed]",
      "text/plain": [
       "<Figure size 720x360 with 1 Axes>"
      ]
     },
     "metadata": {
      "needs_background": "light"
     },
     "output_type": "display_data"
    }
   ],
   "source": [
    "plt.figure(figsize=(10, 5))\n",
    "perth_train[\"garage\"].value_counts(normalize=True).sort_index().plot.bar();"
   ]
  },
  {
   "cell_type": "code",
   "execution_count": 37,
   "metadata": {},
   "outputs": [
    {
     "data": {
      "image/png": "[encoded data removed]",
      "text/plain": [
       "<Figure size 720x360 with 1 Axes>"
      ]
     },
     "metadata": {
      "needs_background": "light"
     },
     "output_type": "display_data"
    }
   ],
   "source": [
    "cleaned_garage = perth_train[\"garage\"].copy()\n",
    "cleaned_garage[cleaned_garage > 10] = 10\n",
    "\n",
    "plt.figure(figsize=(10, 5))\n",
    "cleaned_garage.value_counts(normalize=True).sort_index().plot.bar();"
   ]
  },
  {
   "cell_type": "code",
   "execution_count": 71,
   "metadata": {},
   "outputs": [
    {
     "data": {
      "text/plain": [
       "0    2.0\n",
       "dtype: float64"
      ]
     },
     "execution_count": 71,
     "metadata": {},
     "output_type": "execute_result"
    }
   ],
   "source": [
    "cleaned_garage.mode()"
   ]
  },
  {
   "cell_type": "code",
   "execution_count": 39,
   "metadata": {},
   "outputs": [
    {
     "data": {
      "text/plain": [
       "1.0     0.170203\n",
       "2.0     0.663284\n",
       "3.0     0.065867\n",
       "4.0     0.062818\n",
       "5.0     0.011753\n",
       "6.0     0.014962\n",
       "7.0     0.003169\n",
       "8.0     0.004212\n",
       "9.0     0.000602\n",
       "10.0    0.003129\n",
       "Name: garage, dtype: float64"
      ]
     },
     "execution_count": 39,
     "metadata": {},
     "output_type": "execute_result"
    }
   ],
   "source": [
    "p = cleaned_garage.value_counts(normalize=True).sort_index()\n",
    "p"
   ]
  },
  {
   "cell_type": "code",
   "execution_count": 40,
   "metadata": {},
   "outputs": [],
   "source": [
    "def generate_new_garage_sample():\n",
    "    return np.random.choice(p.index, p=p.values)"
   ]
  },
  {
   "cell_type": "code",
   "execution_count": 67,
   "metadata": {},
   "outputs": [
    {
     "data": {
      "text/plain": [
       "2.0"
      ]
     },
     "execution_count": 67,
     "metadata": {},
     "output_type": "execute_result"
    }
   ],
   "source": [
    "generate_new_garage_sample()"
   ]
  },
  {
   "cell_type": "code",
   "execution_count": 69,
   "metadata": {},
   "outputs": [
    {
     "data": {
      "image/png": "[encoded data removed]",
      "text/plain": [
       "<Figure size 432x288 with 1 Axes>"
      ]
     },
     "metadata": {
      "needs_background": "light"
     },
     "output_type": "display_data"
    }
   ],
   "source": [
    "plt.hist(perth['log10_price'], bins=100, density=True);"
   ]
  },
  {
   "cell_type": "code",
   "execution_count": 70,
   "metadata": {},
   "outputs": [
    {
     "data": {
      "text/plain": [
       "5.747606369756005"
      ]
     },
     "execution_count": 70,
     "metadata": {},
     "output_type": "execute_result"
    }
   ],
   "source": [
    "perth['log10_price'].mean()"
   ]
  },
  {
   "cell_type": "code",
   "execution_count": 72,
   "metadata": {},
   "outputs": [],
   "source": [
    "# Null values in the garage column are houses that have 0 garage spaces\n",
    "perth_test.fillna({'garage': 0, 'build_year': perth_train['build_year'].mean(), 'nearest_sch_rank': 150}, \n",
    "                  inplace=True)\n",
    "perth_train.fillna({'garage': 0, 'build_year': perth_train['build_year'].mean(), 'nearest_sch_rank': 150}, \n",
    "                   inplace=True)"
   ]
  },
  {
   "cell_type": "code",
   "execution_count": 83,
   "metadata": {},
   "outputs": [
    {
     "name": "stdout",
     "output_type": "stream",
     "text": [
      "{'min_samples_leaf': 17, 'max_depth': 23}\n"
     ]
    },
    {
     "data": {
      "text/plain": [
       "0.24383778611380308"
      ]
     },
     "execution_count": 83,
     "metadata": {},
     "output_type": "execute_result"
    }
   ],
   "source": [
    "parameters = {'max_depth': np.arange(1, 25),\n",
    "              'min_samples_leaf': np.arange(1, 50)}\n",
    "\n",
    "random_search = RandomizedSearchCV(DecisionTreeRegressor(criterion='squared_error', random_state=0), \n",
    "                                   parameters, n_iter=10, cv=5, \n",
    "                                   scoring='neg_mean_squared_error', random_state=0)\n",
    "                                   \n",
    "model = random_search.fit(perth_train.drop(columns='log10_price'), perth_train['log10_price'])\n",
    "\n",
    "print(random_search.best_params_)\n",
    "\n",
    "predictions = 10**model.predict(perth_test.drop(columns='log10_price'))\n",
    "mean_squared_log_error(10**perth_test['log10_price'], predictions, squared=False)"
   ]
  },
  {
   "cell_type": "code",
   "execution_count": null,
   "metadata": {},
   "outputs": [],
   "source": []
  },
  {
   "cell_type": "code",
   "execution_count": 75,
   "metadata": {},
   "outputs": [
    {
     "data": {
      "text/plain": [
       "GridSearchCV(cv=5, estimator=DecisionTreeRegressor(max_depth=23),\n",
       "             param_grid={'min_samples_leaf': array([ 1,  2,  3,  4,  5,  6,  7,  8,  9, 10, 11, 12, 13, 14, 15, 16, 17,\n",
       "       18, 19, 20, 21, 22, 23, 24, 25, 26, 27, 28, 29, 30, 31, 32, 33, 34,\n",
       "       35, 36, 37, 38, 39, 40, 41, 42, 43, 44, 45, 46, 47, 48, 49])},\n",
       "             scoring='neg_mean_squared_error')"
      ]
     },
     "execution_count": 75,
     "metadata": {},
     "output_type": "execute_result"
    }
   ],
   "source": [
    "base_model = DecisionTreeRegressor(criterion='squared_error', max_depth=23)\n",
    "parameters = {'min_samples_leaf': np.arange(1, 50)}\n",
    "\n",
    "model = GridSearchCV(base_model, parameters, cv=5, scoring='neg_mean_squared_error')\n",
    "model.fit(perth_train.drop(columns='log10_price'), perth_train['log10_price'])"
   ]
  },
  {
   "cell_type": "code",
   "execution_count": 77,
   "metadata": {},
   "outputs": [
    {
     "data": {
      "text/plain": [
       "{'min_samples_leaf': 19}"
      ]
     },
     "execution_count": 77,
     "metadata": {},
     "output_type": "execute_result"
    }
   ],
   "source": [
    "model.best_params_"
   ]
  },
  {
   "cell_type": "code",
   "execution_count": 78,
   "metadata": {},
   "outputs": [
    {
     "data": {
      "text/plain": [
       "GridSearchCV(cv=5, estimator=DecisionTreeRegressor(min_samples_leaf=19),\n",
       "             param_grid={'max_depth': array([ 1,  2,  3,  4,  5,  6,  7,  8,  9, 10, 11, 12, 13, 14, 15, 16, 17,\n",
       "       18, 19, 20, 21, 22, 23, 24])},\n",
       "             scoring='neg_mean_squared_error')"
      ]
     },
     "execution_count": 78,
     "metadata": {},
     "output_type": "execute_result"
    }
   ],
   "source": [
    "base_model = DecisionTreeRegressor(criterion='squared_error', min_samples_leaf=19)\n",
    "parameters = {'max_depth': np.arange(1, 25)}\n",
    "\n",
    "model = GridSearchCV(base_model, parameters, cv=5, scoring='neg_mean_squared_error')\n",
    "model.fit(perth_train.drop(columns='log10_price'), perth_train['log10_price'])"
   ]
  },
  {
   "cell_type": "code",
   "execution_count": 79,
   "metadata": {},
   "outputs": [
    {
     "data": {
      "text/plain": [
       "{'max_depth': 19}"
      ]
     },
     "execution_count": 79,
     "metadata": {},
     "output_type": "execute_result"
    }
   ],
   "source": [
    "model.best_params_"
   ]
  },
  {
   "cell_type": "code",
   "execution_count": 80,
   "metadata": {},
   "outputs": [
    {
     "data": {
      "text/plain": [
       "DecisionTreeRegressor(max_depth=19, min_samples_leaf=19)"
      ]
     },
     "execution_count": 80,
     "metadata": {},
     "output_type": "execute_result"
    }
   ],
   "source": [
    "final_model = DecisionTreeRegressor(criterion='squared_error', min_samples_leaf=19, max_depth=19)\n",
    "final_model.fit(perth_train.drop(columns='log10_price'), perth_train['log10_price'])"
   ]
  },
  {
   "cell_type": "code",
   "execution_count": 82,
   "metadata": {},
   "outputs": [
    {
     "data": {
      "text/plain": [
       "0.24443345170358263"
      ]
     },
     "execution_count": 82,
     "metadata": {},
     "output_type": "execute_result"
    }
   ],
   "source": [
    "predictions = 10**final_model.predict(perth_test.drop(columns='log10_price'))\n",
    "mean_squared_log_error(10**perth_test['log10_price'], predictions, squared=False)"
   ]
  },
  {
   "cell_type": "code",
   "execution_count": null,
   "metadata": {},
   "outputs": [],
   "source": []
  }
 ],
 "metadata": {
  "kernelspec": {
   "display_name": "Python 3",
   "language": "python",
   "name": "python3"
  },
  "language_info": {
   "codemirror_mode": {
    "name": "ipython",
    "version": 3
   },
   "file_extension": ".py",
   "mimetype": "text/x-python",
   "name": "python",
   "nbconvert_exporter": "python",
   "pygments_lexer": "ipython3",
   "version": "3.7.6"
  }
 },
 "nbformat": 4,
 "nbformat_minor": 4
}
